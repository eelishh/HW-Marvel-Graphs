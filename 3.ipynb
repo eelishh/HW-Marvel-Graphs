{
 "cells": [
  {
   "cell_type": "code",
   "execution_count": 1,
   "id": "f9753d1d",
   "metadata": {},
   "outputs": [],
   "source": [
    "import pandas as pd\n",
    "import matplotlib.pyplot as plt\n",
    "import networkx as nx\n",
    "import numpy as np"
   ]
  },
  {
   "cell_type": "code",
   "execution_count": 2,
   "id": "9923f12d",
   "metadata": {},
   "outputs": [
    {
     "name": "stdout",
     "output_type": "stream",
     "text": [
      "Requirement already satisfied: scipy in c:\\users\\auror\\anaconda3\\lib\\site-packages (1.7.3)\n",
      "Collecting scipy\n",
      "  Downloading scipy-1.9.3-cp39-cp39-win_amd64.whl (40.2 MB)\n",
      "Requirement already satisfied: networkx in c:\\users\\auror\\anaconda3\\lib\\site-packages (2.7.1)\n",
      "Collecting networkx\n",
      "  Downloading networkx-2.8.8-py3-none-any.whl (2.0 MB)\n",
      "Requirement already satisfied: numpy<1.26.0,>=1.18.5 in c:\\users\\auror\\anaconda3\\lib\\site-packages (from scipy) (1.21.5)\n",
      "Installing collected packages: scipy, networkx\n",
      "  Attempting uninstall: scipy\n",
      "    Found existing installation: scipy 1.7.3\n",
      "    Uninstalling scipy-1.7.3:\n",
      "      Successfully uninstalled scipy-1.7.3\n",
      "  Attempting uninstall: networkx\n",
      "    Found existing installation: networkx 2.7.1\n",
      "    Uninstalling networkx-2.7.1:\n",
      "      Successfully uninstalled networkx-2.7.1\n",
      "Successfully installed networkx-2.8.8 scipy-1.9.3\n",
      "Note: you may need to restart the kernel to use updated packages.\n"
     ]
    }
   ],
   "source": [
    "pip install --upgrade scipy networkx"
   ]
  },
  {
   "cell_type": "markdown",
   "id": "23e0c101",
   "metadata": {},
   "source": [
    "# 1. Data"
   ]
  },
  {
   "cell_type": "code",
   "execution_count": 2,
   "id": "210259fd",
   "metadata": {},
   "outputs": [],
   "source": [
    "df_hero_net = pd.read_csv(r\"C:/Users/auror/Desktop/data_science/ADM/HM/5/hero-network.csv\")\n",
    "df_edges = pd.read_csv(r\"C:/Users/auror/Desktop/data_science/ADM/HM/5/edges.csv\")\n",
    "df_nodes = pd.read_csv(r\"C:/Users/auror/Desktop/data_science/ADM/HM/5/nodes.csv\")"
   ]
  },
  {
   "cell_type": "code",
   "execution_count": 3,
   "id": "f5fdad2e",
   "metadata": {},
   "outputs": [
    {
     "data": {
      "text/html": [
       "<div>\n",
       "<style scoped>\n",
       "    .dataframe tbody tr th:only-of-type {\n",
       "        vertical-align: middle;\n",
       "    }\n",
       "\n",
       "    .dataframe tbody tr th {\n",
       "        vertical-align: top;\n",
       "    }\n",
       "\n",
       "    .dataframe thead th {\n",
       "        text-align: right;\n",
       "    }\n",
       "</style>\n",
       "<table border=\"1\" class=\"dataframe\">\n",
       "  <thead>\n",
       "    <tr style=\"text-align: right;\">\n",
       "      <th></th>\n",
       "      <th>node</th>\n",
       "      <th>type</th>\n",
       "    </tr>\n",
       "  </thead>\n",
       "  <tbody>\n",
       "    <tr>\n",
       "      <th>14618</th>\n",
       "      <td>SPIDER-MAN/PETER PARKERKER</td>\n",
       "      <td>hero</td>\n",
       "    </tr>\n",
       "  </tbody>\n",
       "</table>\n",
       "</div>"
      ],
      "text/plain": [
       "                             node  type\n",
       "14618  SPIDER-MAN/PETER PARKERKER  hero"
      ]
     },
     "execution_count": 3,
     "metadata": {},
     "output_type": "execute_result"
    }
   ],
   "source": [
    "df_nodes.loc[df_nodes['node']=='SPIDER-MAN/PETER PARKERKER']"
   ]
  },
  {
   "cell_type": "code",
   "execution_count": 4,
   "id": "9544a60e",
   "metadata": {},
   "outputs": [
    {
     "name": "stdout",
     "output_type": "stream",
     "text": [
      "node    12651\n",
      "type    12651\n",
      "dtype: int64 node    6439\n",
      "type    6439\n",
      "dtype: int64\n"
     ]
    }
   ],
   "source": [
    "n_comics = df_nodes[df_nodes.type == 'comic'].count()\n",
    "n_heros = df_nodes[df_nodes.type == 'hero'].count()\n",
    "print(n_comics, n_heros)"
   ]
  },
  {
   "cell_type": "markdown",
   "id": "6dc6c667",
   "metadata": {},
   "source": [
    "# NEW pre-processing"
   ]
  },
  {
   "cell_type": "code",
   "execution_count": 5,
   "id": "918eda6e",
   "metadata": {},
   "outputs": [
    {
     "data": {
      "text/html": [
       "<div>\n",
       "<style scoped>\n",
       "    .dataframe tbody tr th:only-of-type {\n",
       "        vertical-align: middle;\n",
       "    }\n",
       "\n",
       "    .dataframe tbody tr th {\n",
       "        vertical-align: top;\n",
       "    }\n",
       "\n",
       "    .dataframe thead th {\n",
       "        text-align: right;\n",
       "    }\n",
       "</style>\n",
       "<table border=\"1\" class=\"dataframe\">\n",
       "  <thead>\n",
       "    <tr style=\"text-align: right;\">\n",
       "      <th></th>\n",
       "      <th>hero1</th>\n",
       "      <th>hero2</th>\n",
       "    </tr>\n",
       "  </thead>\n",
       "  <tbody>\n",
       "    <tr>\n",
       "      <th>0</th>\n",
       "      <td>LITTLE, ABNER</td>\n",
       "      <td>PRINCESS ZANDA</td>\n",
       "    </tr>\n",
       "  </tbody>\n",
       "</table>\n",
       "</div>"
      ],
      "text/plain": [
       "           hero1           hero2\n",
       "0  LITTLE, ABNER  PRINCESS ZANDA"
      ]
     },
     "execution_count": 5,
     "metadata": {},
     "output_type": "execute_result"
    }
   ],
   "source": [
    "df_hero_net.head(1)"
   ]
  },
  {
   "cell_type": "code",
   "execution_count": 6,
   "id": "64777374",
   "metadata": {},
   "outputs": [
    {
     "data": {
      "text/html": [
       "<div>\n",
       "<style scoped>\n",
       "    .dataframe tbody tr th:only-of-type {\n",
       "        vertical-align: middle;\n",
       "    }\n",
       "\n",
       "    .dataframe tbody tr th {\n",
       "        vertical-align: top;\n",
       "    }\n",
       "\n",
       "    .dataframe thead th {\n",
       "        text-align: right;\n",
       "    }\n",
       "</style>\n",
       "<table border=\"1\" class=\"dataframe\">\n",
       "  <thead>\n",
       "    <tr style=\"text-align: right;\">\n",
       "      <th></th>\n",
       "      <th>hero</th>\n",
       "      <th>comic</th>\n",
       "    </tr>\n",
       "  </thead>\n",
       "  <tbody>\n",
       "    <tr>\n",
       "      <th>0</th>\n",
       "      <td>24-HOUR MAN/EMMANUEL</td>\n",
       "      <td>AA2 35</td>\n",
       "    </tr>\n",
       "  </tbody>\n",
       "</table>\n",
       "</div>"
      ],
      "text/plain": [
       "                   hero   comic\n",
       "0  24-HOUR MAN/EMMANUEL  AA2 35"
      ]
     },
     "execution_count": 6,
     "metadata": {},
     "output_type": "execute_result"
    }
   ],
   "source": [
    "df_edges.head(1)"
   ]
  },
  {
   "cell_type": "code",
   "execution_count": 8,
   "id": "80f06de2",
   "metadata": {},
   "outputs": [
    {
     "data": {
      "text/html": [
       "<div>\n",
       "<style scoped>\n",
       "    .dataframe tbody tr th:only-of-type {\n",
       "        vertical-align: middle;\n",
       "    }\n",
       "\n",
       "    .dataframe tbody tr th {\n",
       "        vertical-align: top;\n",
       "    }\n",
       "\n",
       "    .dataframe thead th {\n",
       "        text-align: right;\n",
       "    }\n",
       "</style>\n",
       "<table border=\"1\" class=\"dataframe\">\n",
       "  <thead>\n",
       "    <tr style=\"text-align: right;\">\n",
       "      <th></th>\n",
       "      <th>node</th>\n",
       "      <th>type</th>\n",
       "    </tr>\n",
       "  </thead>\n",
       "  <tbody>\n",
       "    <tr>\n",
       "      <th>0</th>\n",
       "      <td>2001 10</td>\n",
       "      <td>comic</td>\n",
       "    </tr>\n",
       "  </tbody>\n",
       "</table>\n",
       "</div>"
      ],
      "text/plain": [
       "      node   type\n",
       "0  2001 10  comic"
      ]
     },
     "execution_count": 8,
     "metadata": {},
     "output_type": "execute_result"
    }
   ],
   "source": [
    "df_nodes.head(1)"
   ]
  },
  {
   "cell_type": "markdown",
   "id": "e54f48d0",
   "metadata": {},
   "source": [
    "### delete space and '/'"
   ]
  },
  {
   "cell_type": "code",
   "execution_count": 5,
   "id": "757ab0c7",
   "metadata": {},
   "outputs": [],
   "source": [
    "df_hero_net[\"hero1\"] = df_hero_net[\"hero1\"].apply(lambda x: x[0:-1] if list(x)[-1] in [' ', '/'] else x)\n",
    "df_hero_net[\"hero2\"] = df_hero_net[\"hero2\"].apply(lambda x: x[0:-1] if list(x)[-1] in [' ', '/'] else x)"
   ]
  },
  {
   "cell_type": "code",
   "execution_count": 6,
   "id": "495b3019",
   "metadata": {},
   "outputs": [],
   "source": [
    "df_edges[\"hero\"] = df_edges[\"hero\"].apply(lambda x: x[0:-1] if list(x)[-1] in [' ', '/'] else x)\n",
    "df_edges[\"comic\"] = df_edges[\"comic\"].apply(lambda x: x[0:-1] if list(x)[-1] in [' ', '/'] else x)"
   ]
  },
  {
   "cell_type": "code",
   "execution_count": 7,
   "id": "a97de003",
   "metadata": {},
   "outputs": [],
   "source": [
    "df_nodes[\"node\"] = df_nodes[\"node\"].apply(lambda x: x[0:-1] if list(x)[-1] in [' ', '/'] else x)"
   ]
  },
  {
   "cell_type": "markdown",
   "id": "7119cd79",
   "metadata": {},
   "source": [
    "### fixing 'spider-man/peter parker'"
   ]
  },
  {
   "cell_type": "code",
   "execution_count": 8,
   "id": "3320f7eb",
   "metadata": {},
   "outputs": [],
   "source": [
    "df_hero_net = df_hero_net.replace('SPIDER-MAN/PETER PAR','SPIDER-MAN/PETER PARKER', regex=True)"
   ]
  },
  {
   "cell_type": "code",
   "execution_count": 9,
   "id": "37e2df3e",
   "metadata": {},
   "outputs": [],
   "source": [
    "df_nodes.node = df_nodes.node.replace('SPIDER-MAN/PETER PARKERKER','SPIDER-MAN/PETER PARKER', regex=True)"
   ]
  },
  {
   "cell_type": "markdown",
   "id": "5e1c53cf",
   "metadata": {},
   "source": [
    "### checking hero names"
   ]
  },
  {
   "cell_type": "code",
   "execution_count": 10,
   "id": "29b2785b",
   "metadata": {},
   "outputs": [],
   "source": [
    "hero_edges = set(df_edges.hero)\n",
    "hero_heronet = set(df_hero_net.hero1).union(set(df_hero_net.hero2))\n",
    "hero_nodes = set(df_nodes.loc[df_nodes.type=='hero']['node'])"
   ]
  },
  {
   "cell_type": "code",
   "execution_count": 11,
   "id": "2cdd0867",
   "metadata": {},
   "outputs": [
    {
     "name": "stdout",
     "output_type": "stream",
     "text": [
      "{'SHARKSKIN', 'MARVEL BOY II/MARTIN', 'FENRIS', 'KULL', 'CLUMSY FOULUP', 'SEA LEOPARD', 'BLARE', 'LUNATIK II', 'BERSERKER II', 'ZANTOR', 'DEATHCHARGE', 'CALLAHAN, DANNY', 'RANDAK', 'GERVASE, LADY ALYSSA', 'JOHNSON, LYNDON BAIN', 'RUNE', 'RED WOLF II', 'GIURESCU, RADU'}\n",
      "set()\n"
     ]
    }
   ],
   "source": [
    "print(hero_edges - hero_heronet)\n",
    "print(hero_heronet - hero_edges)"
   ]
  },
  {
   "cell_type": "code",
   "execution_count": 12,
   "id": "434f548a",
   "metadata": {},
   "outputs": [
    {
     "name": "stdout",
     "output_type": "stream",
     "text": [
      "set()\n",
      "set()\n"
     ]
    }
   ],
   "source": [
    "print(hero_edges - hero_nodes)\n",
    "print(hero_nodes - hero_edges)"
   ]
  },
  {
   "cell_type": "code",
   "execution_count": 13,
   "id": "01f98cf2",
   "metadata": {},
   "outputs": [
    {
     "name": "stdout",
     "output_type": "stream",
     "text": [
      "{'SHARKSKIN', 'MARVEL BOY II/MARTIN', 'FENRIS', 'KULL', 'CLUMSY FOULUP', 'SEA LEOPARD', 'BLARE', 'LUNATIK II', 'BERSERKER II', 'ZANTOR', 'DEATHCHARGE', 'CALLAHAN, DANNY', 'RANDAK', 'GERVASE, LADY ALYSSA', 'JOHNSON, LYNDON BAIN', 'RUNE', 'RED WOLF II', 'GIURESCU, RADU'}\n",
      "set()\n"
     ]
    }
   ],
   "source": [
    "print(hero_nodes - hero_heronet)\n",
    "print(hero_heronet - hero_nodes)"
   ]
  },
  {
   "cell_type": "markdown",
   "id": "6e0626c1",
   "metadata": {},
   "source": [
    "### checking comic names"
   ]
  },
  {
   "cell_type": "code",
   "execution_count": 14,
   "id": "0e0e0432",
   "metadata": {},
   "outputs": [],
   "source": [
    "comic_edges = set(df_edges.comic)\n",
    "comic_nodes = set(df_nodes.loc[df_nodes.type=='comic']['node'])"
   ]
  },
  {
   "cell_type": "code",
   "execution_count": 15,
   "id": "f7f63c8f",
   "metadata": {},
   "outputs": [
    {
     "name": "stdout",
     "output_type": "stream",
     "text": [
      "set()\n",
      "set()\n"
     ]
    }
   ],
   "source": [
    "print(comic_edges-comic_nodes)\n",
    "print(comic_nodes-comic_edges)"
   ]
  },
  {
   "cell_type": "markdown",
   "id": "42245fc8",
   "metadata": {},
   "source": [
    "### hero names = comic names"
   ]
  },
  {
   "cell_type": "code",
   "execution_count": 16,
   "id": "c660584e",
   "metadata": {},
   "outputs": [
    {
     "data": {
      "text/plain": [
       "{'BLADE', 'REBEL', 'SABRE'}"
      ]
     },
     "execution_count": 16,
     "metadata": {},
     "output_type": "execute_result"
    }
   ],
   "source": [
    "equals = hero_edges.intersection(comic_edges)\n",
    "equals"
   ]
  },
  {
   "cell_type": "code",
   "execution_count": 17,
   "id": "29dbcdff",
   "metadata": {},
   "outputs": [
    {
     "data": {
      "text/plain": [
       "{'BLADE', 'REBEL', 'SABRE'}"
      ]
     },
     "execution_count": 17,
     "metadata": {},
     "output_type": "execute_result"
    }
   ],
   "source": [
    "hero_nodes.intersection(comic_nodes)"
   ]
  },
  {
   "cell_type": "code",
   "execution_count": 18,
   "id": "0010c87e",
   "metadata": {},
   "outputs": [],
   "source": [
    "for i in equals:\n",
    "    df_edges.comic = df_edges.comic.replace(i, i+' ', regex=True)"
   ]
  },
  {
   "cell_type": "markdown",
   "id": "341d6a17",
   "metadata": {},
   "source": [
    "# Second graph"
   ]
  },
  {
   "cell_type": "code",
   "execution_count": 19,
   "id": "dc6adb2c",
   "metadata": {},
   "outputs": [],
   "source": [
    "attributes = {}\n",
    "for elem in df_edges['hero']:\n",
    "    attributes[elem] = {'type' : 'hero' } \n",
    "for elem in df_edges['comic']:\n",
    "    attributes[elem] = {'type' : 'comic' } "
   ]
  },
  {
   "cell_type": "code",
   "execution_count": 20,
   "id": "d8167788",
   "metadata": {},
   "outputs": [
    {
     "data": {
      "text/plain": [
       "19090"
      ]
     },
     "execution_count": 20,
     "metadata": {},
     "output_type": "execute_result"
    }
   ],
   "source": [
    "len(attributes)"
   ]
  },
  {
   "cell_type": "code",
   "execution_count": 21,
   "id": "57e47288",
   "metadata": {},
   "outputs": [],
   "source": [
    "G2 = nx.from_pandas_edgelist(df_edges, 'hero', 'comic')\n",
    "nx.set_node_attributes(G2, attributes)"
   ]
  },
  {
   "cell_type": "code",
   "execution_count": 22,
   "id": "5049b9bb",
   "metadata": {},
   "outputs": [
    {
     "data": {
      "text/plain": [
       "19090"
      ]
     },
     "execution_count": 22,
     "metadata": {},
     "output_type": "execute_result"
    }
   ],
   "source": [
    "len(G2.nodes)"
   ]
  },
  {
   "cell_type": "code",
   "execution_count": 23,
   "id": "babd9c8f",
   "metadata": {},
   "outputs": [
    {
     "data": {
      "text/plain": [
       "96104"
      ]
     },
     "execution_count": 23,
     "metadata": {},
     "output_type": "execute_result"
    }
   ],
   "source": [
    "len(G2.edges)"
   ]
  },
  {
   "cell_type": "code",
   "execution_count": 24,
   "id": "d3f17dcc",
   "metadata": {},
   "outputs": [
    {
     "data": {
      "text/plain": [
       "(96104, 2)"
      ]
     },
     "execution_count": 24,
     "metadata": {},
     "output_type": "execute_result"
    }
   ],
   "source": [
    "df_edges.shape"
   ]
  },
  {
   "cell_type": "markdown",
   "id": "da623bdc",
   "metadata": {},
   "source": [
    "# 2. Backend Implementation"
   ]
  },
  {
   "cell_type": "markdown",
   "id": "ba27c115",
   "metadata": {},
   "source": [
    "# Functionality 3 - Shortest ordered Route"
   ]
  },
  {
   "cell_type": "markdown",
   "id": "b5685ec2",
   "metadata": {},
   "source": [
    "Input:\n",
    "\n",
    "- The graph data\n",
    "- A sequence of superheroes h = [h_2, ..., h_n-1]\n",
    "- Initial node h_1 and an end node h_n\n",
    "- N: denoting the top N heroes that their data should be considered\n",
    "\n",
    "Output:\n",
    "\n",
    "- The shortest walk of comics that you need to read to get from hero_1 to hero_n\n",
    "Considerations: For this functionality, you need to implement an algorithm that returns the shortest walk that goes from node h_j to h_n, which visits in order the nodes in h. The choice of h_j and h_n can be made randomly (or if it improves the performance of the algorithm, you can also define it in any other way)\n",
    "\n",
    "Important Notes:\n",
    "\n",
    "- This algorithm should be run only on the second graph (G2).\n",
    "- The algorithm needs to handle the case that the graph is not connected. Thus, only some of the nodes in h are reachable from h_1. In such a scenario, it is enough to let the program give in the output the string \"There is no such path\".\n",
    "- Since we are dealing with walks, you can pass on the same node h_i more than once, but you have to preserve order. E.g., if you start from Spiderman to reach deadpool, and your path requires you to visit iron-man and colossus, you can go back to any comics any time you want, assuming that the order in which you visit the heroes is still the same."
   ]
  },
  {
   "cell_type": "code",
   "execution_count": 25,
   "id": "a18e3072",
   "metadata": {},
   "outputs": [],
   "source": [
    "att = nx.get_node_attributes(G2, \"type\")"
   ]
  },
  {
   "cell_type": "code",
   "execution_count": 182,
   "id": "a938e0cd",
   "metadata": {},
   "outputs": [
    {
     "data": {
      "text/plain": [
       "19090"
      ]
     },
     "execution_count": 182,
     "metadata": {},
     "output_type": "execute_result"
    }
   ],
   "source": [
    "len(att)"
   ]
  },
  {
   "cell_type": "code",
   "execution_count": 183,
   "id": "76f1e8a3",
   "metadata": {},
   "outputs": [
    {
     "data": {
      "text/plain": [
       "19090"
      ]
     },
     "execution_count": 183,
     "metadata": {},
     "output_type": "execute_result"
    }
   ],
   "source": [
    "len(G2.nodes)"
   ]
  },
  {
   "cell_type": "code",
   "execution_count": 184,
   "id": "251bbc34",
   "metadata": {},
   "outputs": [
    {
     "data": {
      "text/plain": [
       "'hero'"
      ]
     },
     "execution_count": 184,
     "metadata": {},
     "output_type": "execute_result"
    }
   ],
   "source": [
    "att['SPIDER-MAN/PETER PARKER']"
   ]
  },
  {
   "cell_type": "code",
   "execution_count": 185,
   "id": "b4980346",
   "metadata": {},
   "outputs": [
    {
     "name": "stdout",
     "output_type": "stream",
     "text": [
      "hero comic\n"
     ]
    }
   ],
   "source": [
    "print(att['BLADE'],att['BLADE '])"
   ]
  },
  {
   "cell_type": "markdown",
   "id": "a6a4f2e7",
   "metadata": {},
   "source": [
    "## new code"
   ]
  },
  {
   "cell_type": "code",
   "execution_count": 26,
   "id": "017362f4",
   "metadata": {},
   "outputs": [],
   "source": [
    "def top_N(df,N,G):\n",
    "    df_new = df.groupby(['hero'])['hero'].count().reset_index(name=\"count\")\n",
    "    df_new= df_new.sort_values(by = 'count',ascending=False)\n",
    "    df_new = df_new.head(N)\n",
    "    nodes=[df_new['hero'][i] for i in df_new.index]\n",
    "    \n",
    "    new_nodes = set(nodes)\n",
    "    for i in nodes:\n",
    "        app = list(df_edges.loc[df_edges['hero']==i]['comic'])\n",
    "        new_nodes.update(app)\n",
    "        \n",
    "    G_top_N = G.subgraph(new_nodes)\n",
    "    return G_top_N"
   ]
  },
  {
   "cell_type": "code",
   "execution_count": 34,
   "id": "bc7571da",
   "metadata": {},
   "outputs": [],
   "source": [
    "def functionality_3(G2, N, h_1, h_n, h):\n",
    "    if N:\n",
    "        N = int(N)\n",
    "        G2 = top_N(df_edges,N,G2)\n",
    "    att = nx.get_node_attributes(G2, \"type\")\n",
    "    if not nx.is_connected(G2):\n",
    "        result = 'There is not such path because the graph is not connected'\n",
    "        return result\n",
    "    if h_1  not in list(G2.nodes) or h_n not in list(G2.nodes):\n",
    "        result = 'There is not such path'\n",
    "        return result\n",
    "    \n",
    "    shortest_path = np.array([h_1])\n",
    "    s = h_1\n",
    "    for t in h:\n",
    "        app = list(nx.shortest_path(G2, source=s, target=t, weight=None))\n",
    "        s = t\n",
    "        app = np.array(app)\n",
    "        shortest_path = np.concatenate((shortest_path,app[1:]),axis=None)\n",
    "    app = list(nx.shortest_path(G2, source=t, target=h_n, weight=None))\n",
    "    app = np.array(app)\n",
    "    shortest_path = np.concatenate((shortest_path,app[1:]),axis=None)\n",
    "    \n",
    "    return shortest_path, G2"
   ]
  },
  {
   "cell_type": "markdown",
   "id": "41d681b6",
   "metadata": {},
   "source": [
    "## Visualization 3 - Visualize the shortest-ordered route"
   ]
  },
  {
   "cell_type": "markdown",
   "id": "0ee82019",
   "metadata": {},
   "source": [
    "We anticipate seeing the Functionality 3 report in Visualization 3. To be more specific, we expect you to have the following report format:\n",
    "\n",
    "- Print the comics in the shortest walk in order\n",
    "- Plot the graph and identify the nodes and edges that appear in the shortest walk (please put an identifier on each edge in the shortest walk to determine the order that we should have the walk)"
   ]
  },
  {
   "cell_type": "code",
   "execution_count": 48,
   "id": "b29f3891",
   "metadata": {},
   "outputs": [
    {
     "name": "stdout",
     "output_type": "stream",
     "text": [
      "5\n"
     ]
    }
   ],
   "source": [
    "N = input()"
   ]
  },
  {
   "cell_type": "code",
   "execution_count": 49,
   "id": "506be79b",
   "metadata": {},
   "outputs": [],
   "source": [
    "shortest_path, G2_top_N= functionality_3(G2,N,'SPIDER-MAN/PETER PARKER','THOR/DR. DONALD BLAK',['CAPTAIN AMERICA', 'IRON MAN/TONY STARK', 'THING/BENJAMIN J. GR'])"
   ]
  },
  {
   "cell_type": "code",
   "execution_count": 50,
   "id": "eb492636",
   "metadata": {},
   "outputs": [
    {
     "data": {
      "text/plain": [
       "array(['SPIDER-MAN/PETER PARKER', 'A 11', 'CAPTAIN AMERICA', \"A '00\",\n",
       "       'IRON MAN/TONY STARK', 'A 1', 'THING/BENJAMIN J. GR', 'A 1',\n",
       "       'THOR/DR. DONALD BLAK'], dtype='<U23')"
      ]
     },
     "execution_count": 50,
     "metadata": {},
     "output_type": "execute_result"
    }
   ],
   "source": [
    "shortest_path"
   ]
  },
  {
   "cell_type": "markdown",
   "id": "5e742a05",
   "metadata": {},
   "source": [
    "### graph"
   ]
  },
  {
   "cell_type": "code",
   "execution_count": 68,
   "id": "6a25f995",
   "metadata": {},
   "outputs": [],
   "source": [
    "edge_labels = {}\n",
    "edge_color = {}\n",
    "for i in range(len(shortest_path)-1):\n",
    "    node_1 = shortest_path[i]\n",
    "    node_2 = shortest_path[i+1]\n",
    "    edge_labels[(node_1,node_2)] = str(i+1)\n",
    "    edge_color[(node_1,node_2)] = 'g'\n",
    "node_1 = shortest_path[i]\n",
    "node_2 = shortest_path[i+1]\n",
    "edge_labels[(node_1,node_2)] = str(i+1)\n",
    "edge_color[(node_1,node_2)] = 'g'\n",
    "for i in G2_top_N.edges:\n",
    "    if i not in edge_color.keys():\n",
    "        edge_color[i] = 'b'"
   ]
  },
  {
   "cell_type": "code",
   "execution_count": 65,
   "id": "92f641e3",
   "metadata": {},
   "outputs": [
    {
     "data": {
      "text/plain": [
       "{('SPIDER-MAN/PETER PARKER', 'A 11'): 'green',\n",
       " ('A 11', 'CAPTAIN AMERICA'): 'green',\n",
       " ('CAPTAIN AMERICA', \"A '00\"): 'green',\n",
       " (\"A '00\", 'IRON MAN/TONY STARK'): 'green',\n",
       " ('IRON MAN/TONY STARK', 'A 1'): 'green',\n",
       " ('A 1', 'THING/BENJAMIN J. GR'): 'green',\n",
       " ('THING/BENJAMIN J. GR', 'A 1'): 'green',\n",
       " ('A 1', 'THOR/DR. DONALD BLAK'): 'green',\n",
       " ('WOSM 53', 'SPIDER-MAN/PETER PARKER'): 'black',\n",
       " ('TB 12', 'CAPTAIN AMERICA'): 'black',\n",
       " ('TB 12', 'IRON MAN/TONY STARK'): 'black',\n",
       " ('TB 12', 'THING/BENJAMIN J. GR'): 'black',\n",
       " ('TB 12', 'THOR/DR. DONALD BLAK'): 'black',\n",
       " ('S-M 62', 'SPIDER-MAN/PETER PARKER'): 'black',\n",
       " ('M/TU 111', 'SPIDER-MAN/PETER PARKER'): 'black',\n",
       " ('A 167', 'CAPTAIN AMERICA'): 'black',\n",
       " ('A 167', 'IRON MAN/TONY STARK'): 'black',\n",
       " ('A 167', 'THOR/DR. DONALD BLAK'): 'black',\n",
       " ('A 303', 'CAPTAIN AMERICA'): 'black',\n",
       " ('A 303', 'THING/BENJAMIN J. GR'): 'black',\n",
       " ('A 303', 'THOR/DR. DONALD BLAK'): 'black',\n",
       " ('ASM 259', 'SPIDER-MAN/PETER PARKER'): 'black',\n",
       " ('IM 154', 'IRON MAN/TONY STARK'): 'black',\n",
       " ('IM3 17', 'IRON MAN/TONY STARK'): 'black',\n",
       " ('M/TU 26', 'THOR/DR. DONALD BLAK'): 'black',\n",
       " (\"CA '00\", 'CAPTAIN AMERICA'): 'black',\n",
       " ('FW 17', 'IRON MAN/TONY STARK'): 'black',\n",
       " ('FW 12', 'IRON MAN/TONY STARK'): 'black',\n",
       " ('FF3 40', 'SPIDER-MAN/PETER PARKER'): 'black',\n",
       " ('FF3 40', 'THING/BENJAMIN J. GR'): 'black',\n",
       " ('HR:R 4', 'CAPTAIN AMERICA'): 'black',\n",
       " ('HR:R 4', 'IRON MAN/TONY STARK'): 'black',\n",
       " ('HR:R 4', 'SPIDER-MAN/PETER PARKER'): 'black',\n",
       " ('HR:R 4', 'THING/BENJAMIN J. GR'): 'black',\n",
       " ('HR:R 4', 'THOR/DR. DONALD BLAK'): 'black',\n",
       " (\"ASM '97\", 'SPIDER-MAN/PETER PARKER'): 'black',\n",
       " ('TOS2', 'CAPTAIN AMERICA'): 'black',\n",
       " ('TOS2', 'IRON MAN/TONY STARK'): 'black',\n",
       " ('A 194', 'CAPTAIN AMERICA'): 'black',\n",
       " ('A 194', 'IRON MAN/TONY STARK'): 'black',\n",
       " ('CA3 32', 'CAPTAIN AMERICA'): 'black',\n",
       " ('ASM 153', 'SPIDER-MAN/PETER PARKER'): 'black',\n",
       " ('IM 36', 'IRON MAN/TONY STARK'): 'black',\n",
       " ('M/TIO 86/2', 'THING/BENJAMIN J. GR'): 'black',\n",
       " ('CA 249', 'CAPTAIN AMERICA'): 'black',\n",
       " ('TG 19', 'THING/BENJAMIN J. GR'): 'black',\n",
       " ('CA 280', 'CAPTAIN AMERICA'): 'black',\n",
       " ('IM 320', 'IRON MAN/TONY STARK'): 'black',\n",
       " ('UTSM 20', 'SPIDER-MAN/PETER PARKER'): 'black',\n",
       " ('FF 144', 'THING/BENJAMIN J. GR'): 'black',\n",
       " ('T 485', 'THING/BENJAMIN J. GR'): 'black',\n",
       " ('T 485', 'THOR/DR. DONALD BLAK'): 'black',\n",
       " ('IM 186', 'IRON MAN/TONY STARK'): 'black',\n",
       " ('JIM 505', 'SPIDER-MAN/PETER PARKER'): 'black',\n",
       " ('A 66', 'IRON MAN/TONY STARK'): 'black',\n",
       " ('A 66', 'THOR/DR. DONALD BLAK'): 'black',\n",
       " ('ASM 147', 'SPIDER-MAN/PETER PARKER'): 'black',\n",
       " ('ASM 368', 'SPIDER-MAN/PETER PARKER'): 'black',\n",
       " ('M/CP 49', 'SPIDER-MAN/PETER PARKER'): 'black',\n",
       " ('CA 289', 'CAPTAIN AMERICA'): 'black',\n",
       " ('CA 289', 'THOR/DR. DONALD BLAK'): 'black',\n",
       " ('T 188', 'THOR/DR. DONALD BLAK'): 'black',\n",
       " ('M/TIO 8', 'THING/BENJAMIN J. GR'): 'black',\n",
       " ('BG 4', 'IRON MAN/TONY STARK'): 'black',\n",
       " ('M/TU 72', 'IRON MAN/TONY STARK'): 'black',\n",
       " ('M/TU 72', 'SPIDER-MAN/PETER PARKER'): 'black',\n",
       " ('T 165', 'THOR/DR. DONALD BLAK'): 'black',\n",
       " ('AWC 53', 'IRON MAN/TONY STARK'): 'black',\n",
       " ('HR:R 2', 'SPIDER-MAN/PETER PARKER'): 'black',\n",
       " ('HR:R 2', 'THING/BENJAMIN J. GR'): 'black',\n",
       " ('HR:R 2', 'THOR/DR. DONALD BLAK'): 'black',\n",
       " ('AWC 5/4', 'IRON MAN/TONY STARK'): 'black',\n",
       " ('XCAL 125', 'CAPTAIN AMERICA'): 'black',\n",
       " ('XCAL 125', 'SPIDER-MAN/PETER PARKER'): 'black',\n",
       " ('IM3 32', 'IRON MAN/TONY STARK'): 'black',\n",
       " ('FF 266', 'THING/BENJAMIN J. GR'): 'black',\n",
       " ('WOSM 3', 'SPIDER-MAN/PETER PARKER'): 'black',\n",
       " ('ASM 236', 'SPIDER-MAN/PETER PARKER'): 'black',\n",
       " ('MEPHV. 4', 'CAPTAIN AMERICA'): 'black',\n",
       " ('MEPHV. 4', 'IRON MAN/TONY STARK'): 'black',\n",
       " ('MEPHV. 4', 'THOR/DR. DONALD BLAK'): 'black',\n",
       " ('PPTSS 255', 'SPIDER-MAN/PETER PARKER'): 'black',\n",
       " ('PPTSS 50', 'SPIDER-MAN/PETER PARKER'): 'black',\n",
       " ('ASM 270', 'CAPTAIN AMERICA'): 'black',\n",
       " ('ASM 270', 'SPIDER-MAN/PETER PARKER'): 'black',\n",
       " ('S-M 28', 'SPIDER-MAN/PETER PARKER'): 'black',\n",
       " ('IM 166', 'IRON MAN/TONY STARK'): 'black',\n",
       " ('ASM 242', 'SPIDER-MAN/PETER PARKER'): 'black',\n",
       " ('IM 236', 'IRON MAN/TONY STARK'): 'black',\n",
       " ('M/CP 94/4', 'THING/BENJAMIN J. GR'): 'black',\n",
       " ('T 433', 'CAPTAIN AMERICA'): 'black',\n",
       " ('ASM 101', 'SPIDER-MAN/PETER PARKER'): 'black',\n",
       " ('FF 235', 'THING/BENJAMIN J. GR'): 'black',\n",
       " ('PPSM2 1/2', 'SPIDER-MAN/PETER PARKER'): 'black',\n",
       " ('SUB-M 8', 'THING/BENJAMIN J. GR'): 'black',\n",
       " ('IM 13/3', 'IRON MAN/TONY STARK'): 'black',\n",
       " ('T2 11', 'THOR/DR. DONALD BLAK'): 'black',\n",
       " ('IM 314', 'CAPTAIN AMERICA'): 'black',\n",
       " ('IM 314', 'IRON MAN/TONY STARK'): 'black',\n",
       " ('A 174', 'CAPTAIN AMERICA'): 'black',\n",
       " ('A 174', 'IRON MAN/TONY STARK'): 'black',\n",
       " ('A 174', 'THOR/DR. DONALD BLAK'): 'black',\n",
       " ('WOSM 28', 'SPIDER-MAN/PETER PARKER'): 'black',\n",
       " ('CA 128', 'CAPTAIN AMERICA'): 'black',\n",
       " ('NO 4', 'THOR/DR. DONALD BLAK'): 'black',\n",
       " ('CA 121', 'CAPTAIN AMERICA'): 'black',\n",
       " ('UX 9', 'CAPTAIN AMERICA'): 'black',\n",
       " ('UX 9', 'IRON MAN/TONY STARK'): 'black',\n",
       " ('UX 9', 'THOR/DR. DONALD BLAK'): 'black',\n",
       " (\"T '00/2\", 'THOR/DR. DONALD BLAK'): 'black',\n",
       " ('ASM 292', 'SPIDER-MAN/PETER PARKER'): 'black',\n",
       " ('S-M 19/2', 'SPIDER-MAN/PETER PARKER'): 'black',\n",
       " ('ASM 271', 'SPIDER-MAN/PETER PARKER'): 'black',\n",
       " ('CA 126', 'CAPTAIN AMERICA'): 'black',\n",
       " ('TOS 81/2', 'CAPTAIN AMERICA'): 'black',\n",
       " ('TOS 52', 'IRON MAN/TONY STARK'): 'black',\n",
       " ('T 367', 'THOR/DR. DONALD BLAK'): 'black',\n",
       " ('PPTSS 39', 'SPIDER-MAN/PETER PARKER'): 'black',\n",
       " ('M/FEA 10', 'CAPTAIN AMERICA'): 'black',\n",
       " ('M/FEA 10', 'IRON MAN/TONY STARK'): 'black',\n",
       " ('WCA2 10', 'IRON MAN/TONY STARK'): 'black',\n",
       " ('WCA2 10', 'THING/BENJAMIN J. GR'): 'black',\n",
       " ('WOSM 33', 'SPIDER-MAN/PETER PARKER'): 'black',\n",
       " ('A 15', 'CAPTAIN AMERICA'): 'black',\n",
       " ('A 15', 'IRON MAN/TONY STARK'): 'black',\n",
       " ('A 15', 'THOR/DR. DONALD BLAK'): 'black',\n",
       " ('A 265', 'CAPTAIN AMERICA'): 'black',\n",
       " ('CA 300', 'CAPTAIN AMERICA'): 'black',\n",
       " ('M/TU 45', 'SPIDER-MAN/PETER PARKER'): 'black',\n",
       " ('TOS 85/2', 'CAPTAIN AMERICA'): 'black',\n",
       " ('TOS 60/2', 'CAPTAIN AMERICA'): 'black',\n",
       " ('DEF 20', 'THING/BENJAMIN J. GR'): 'black',\n",
       " ('FF 363', 'THING/BENJAMIN J. GR'): 'black',\n",
       " ('CA 11', 'CAPTAIN AMERICA'): 'black',\n",
       " ('FF 409', 'THING/BENJAMIN J. GR'): 'black',\n",
       " ('FF 93', 'THING/BENJAMIN J. GR'): 'black',\n",
       " ('FFUP 3', 'THING/BENJAMIN J. GR'): 'black',\n",
       " ('CA3 22', 'CAPTAIN AMERICA'): 'black',\n",
       " ('CA3 22', 'IRON MAN/TONY STARK'): 'black',\n",
       " ('ASM 127', 'SPIDER-MAN/PETER PARKER'): 'black',\n",
       " ('FF 15', 'THING/BENJAMIN J. GR'): 'black',\n",
       " ('M/TU 76', 'SPIDER-MAN/PETER PARKER'): 'black',\n",
       " ('CA:SL2 9', 'CAPTAIN AMERICA'): 'black',\n",
       " ('IM 85', 'IRON MAN/TONY STARK'): 'black',\n",
       " ('FF 115', 'THING/BENJAMIN J. GR'): 'black',\n",
       " ('IM3 34', 'IRON MAN/TONY STARK'): 'black',\n",
       " ('MK3 2', 'SPIDER-MAN/PETER PARKER'): 'black',\n",
       " ('ASM 72', 'SPIDER-MAN/PETER PARKER'): 'black',\n",
       " ('CA 160', 'CAPTAIN AMERICA'): 'black',\n",
       " ('DD 54', 'SPIDER-MAN/PETER PARKER'): 'black',\n",
       " ('M/TU2 5', 'SPIDER-MAN/PETER PARKER'): 'black',\n",
       " ('CA 372', 'CAPTAIN AMERICA'): 'black',\n",
       " ('WCA2 31', 'IRON MAN/TONY STARK'): 'black',\n",
       " ('ASM 286', 'SPIDER-MAN/PETER PARKER'): 'black',\n",
       " ('A3 32', 'IRON MAN/TONY STARK'): 'black',\n",
       " ('FF 133', 'CAPTAIN AMERICA'): 'black',\n",
       " ('FF 133', 'IRON MAN/TONY STARK'): 'black',\n",
       " ('FF 133', 'SPIDER-MAN/PETER PARKER'): 'black',\n",
       " ('FF 133', 'THING/BENJAMIN J. GR'): 'black',\n",
       " ('FF 133', 'THOR/DR. DONALD BLAK'): 'black',\n",
       " ('SS3 1', 'THING/BENJAMIN J. GR'): 'black',\n",
       " ('A 46', 'CAPTAIN AMERICA'): 'black',\n",
       " ('WOSM 81', 'SPIDER-MAN/PETER PARKER'): 'black',\n",
       " ('IM 47', 'IRON MAN/TONY STARK'): 'black',\n",
       " ('IM 7', 'IRON MAN/TONY STARK'): 'black',\n",
       " ('T 302', 'THOR/DR. DONALD BLAK'): 'black',\n",
       " ('ASM 125', 'SPIDER-MAN/PETER PARKER'): 'black',\n",
       " ('T 183', 'THOR/DR. DONALD BLAK'): 'black',\n",
       " ('T 156', 'THOR/DR. DONALD BLAK'): 'black',\n",
       " ('T 139/2', 'THOR/DR. DONALD BLAK'): 'black',\n",
       " ('T 128', 'THOR/DR. DONALD BLAK'): 'black',\n",
       " ('IM 260', 'IRON MAN/TONY STARK'): 'black',\n",
       " ('O:MU', 'CAPTAIN AMERICA'): 'black',\n",
       " ('O:MU', 'THING/BENJAMIN J. GR'): 'black',\n",
       " ('O:MU', 'THOR/DR. DONALD BLAK'): 'black',\n",
       " ('DEF 98', 'CAPTAIN AMERICA'): 'black',\n",
       " ('DEF 98', 'IRON MAN/TONY STARK'): 'black',\n",
       " ('XM 46', 'CAPTAIN AMERICA'): 'black',\n",
       " ('XM 46', 'THOR/DR. DONALD BLAK'): 'black',\n",
       " ('FF3 16', 'THING/BENJAMIN J. GR'): 'black',\n",
       " ('PPSM2 1', 'SPIDER-MAN/PETER PARKER'): 'black',\n",
       " ('CA3 36', 'CAPTAIN AMERICA'): 'black',\n",
       " ('M/TU 43', 'SPIDER-MAN/PETER PARKER'): 'black',\n",
       " ('SS 17', 'IRON MAN/TONY STARK'): 'black',\n",
       " ('SS 17', 'THING/BENJAMIN J. GR'): 'black',\n",
       " ('WOSM 5', 'SPIDER-MAN/PETER PARKER'): 'black',\n",
       " ('WOSM 5', 'THING/BENJAMIN J. GR'): 'black',\n",
       " ('ASM 218', 'SPIDER-MAN/PETER PARKER'): 'black',\n",
       " ('A 206', 'CAPTAIN AMERICA'): 'black',\n",
       " ('A 206', 'IRON MAN/TONY STARK'): 'black',\n",
       " ('TG 2', 'THING/BENJAMIN J. GR'): 'black',\n",
       " ('ASM 410', 'SPIDER-MAN/PETER PARKER'): 'black',\n",
       " ('IM 228', 'CAPTAIN AMERICA'): 'black',\n",
       " ('IM 228', 'IRON MAN/TONY STARK'): 'black',\n",
       " ('ASM 228', 'SPIDER-MAN/PETER PARKER'): 'black',\n",
       " ('MORBIUS 3', 'SPIDER-MAN/PETER PARKER'): 'black',\n",
       " ('PPTSS 180', 'SPIDER-MAN/PETER PARKER'): 'black',\n",
       " ('A 333', 'CAPTAIN AMERICA'): 'black',\n",
       " ('A 333', 'SPIDER-MAN/PETER PARKER'): 'black',\n",
       " ('A 333', 'THING/BENJAMIN J. GR'): 'black',\n",
       " ('CA 276', 'CAPTAIN AMERICA'): 'black',\n",
       " ('PPTSS 120', 'SPIDER-MAN/PETER PARKER'): 'black',\n",
       " ('M/SHSW 9', 'CAPTAIN AMERICA'): 'black',\n",
       " ('M/SHSW 9', 'SPIDER-MAN/PETER PARKER'): 'black',\n",
       " ('M/SHSW 9', 'THING/BENJAMIN J. GR'): 'black',\n",
       " ('M/SHSW 9', 'THOR/DR. DONALD BLAK'): 'black',\n",
       " ('SM:L 2', 'SPIDER-MAN/PETER PARKER'): 'black',\n",
       " ('CX 20', 'CAPTAIN AMERICA'): 'black',\n",
       " ('X 56', 'CAPTAIN AMERICA'): 'black',\n",
       " ('ASM 240', 'SPIDER-MAN/PETER PARKER'): 'black',\n",
       " ('FF 100', 'THING/BENJAMIN J. GR'): 'black',\n",
       " ('FF 29', 'THING/BENJAMIN J. GR'): 'black',\n",
       " ('FF 413', 'THING/BENJAMIN J. GR'): 'black',\n",
       " ('A 110', 'CAPTAIN AMERICA'): 'black',\n",
       " ('A 110', 'IRON MAN/TONY STARK'): 'black',\n",
       " ('A 110', 'THOR/DR. DONALD BLAK'): 'black',\n",
       " ('CA 352', 'CAPTAIN AMERICA'): 'black',\n",
       " ('PPTSS 84', 'SPIDER-MAN/PETER PARKER'): 'black',\n",
       " ('CB 18', 'CAPTAIN AMERICA'): 'black',\n",
       " ('CA 360', 'CAPTAIN AMERICA'): 'black',\n",
       " ('NO2 10', 'THING/BENJAMIN J. GR'): 'black',\n",
       " ('GAL 4', 'CAPTAIN AMERICA'): 'black',\n",
       " ('GAL 4', 'SPIDER-MAN/PETER PARKER'): 'black',\n",
       " ('GAL 4', 'THING/BENJAMIN J. GR'): 'black',\n",
       " ('GAL 4', 'THOR/DR. DONALD BLAK'): 'black',\n",
       " ('XF 5', 'THING/BENJAMIN J. GR'): 'black',\n",
       " ('SM/M', 'SPIDER-MAN/PETER PARKER'): 'black',\n",
       " ('ASM 115', 'SPIDER-MAN/PETER PARKER'): 'black',\n",
       " ('A 18/2', 'CAPTAIN AMERICA'): 'black',\n",
       " ('A 18/2', 'THING/BENJAMIN J. GR'): 'black',\n",
       " ('A 18/2', 'THOR/DR. DONALD BLAK'): 'black',\n",
       " ('SENSM 12', 'SPIDER-MAN/PETER PARKER'): 'black',\n",
       " ('A 187', 'CAPTAIN AMERICA'): 'black',\n",
       " ('INV 32', 'CAPTAIN AMERICA'): 'black',\n",
       " ('INV 32', 'THOR/DR. DONALD BLAK'): 'black',\n",
       " ('PPTSS 147', 'SPIDER-MAN/PETER PARKER'): 'black',\n",
       " ('WCA2 8', 'IRON MAN/TONY STARK'): 'black',\n",
       " ('WCA2 8', 'THING/BENJAMIN J. GR'): 'black',\n",
       " ('WOSM 65', 'SPIDER-MAN/PETER PARKER'): 'black',\n",
       " ('IM 238', 'CAPTAIN AMERICA'): 'black',\n",
       " ('IM 238', 'IRON MAN/TONY STARK'): 'black',\n",
       " ('TG 22', 'THING/BENJAMIN J. GR'): 'black',\n",
       " ('IM 143', 'IRON MAN/TONY STARK'): 'black',\n",
       " ('ASM 425', 'SPIDER-MAN/PETER PARKER'): 'black',\n",
       " ('FF 257', 'THING/BENJAMIN J. GR'): 'black',\n",
       " ('CM 32', 'CAPTAIN AMERICA'): 'black',\n",
       " ('CM 32', 'IRON MAN/TONY STARK'): 'black',\n",
       " ('CM 32', 'THOR/DR. DONALD BLAK'): 'black',\n",
       " ('S-M 29', 'SPIDER-MAN/PETER PARKER'): 'black',\n",
       " ('IM 2', 'IRON MAN/TONY STARK'): 'black',\n",
       " ('WOSM 12', 'SPIDER-MAN/PETER PARKER'): 'black',\n",
       " ('ASM 335', 'CAPTAIN AMERICA'): 'black',\n",
       " ('ASM 335', 'SPIDER-MAN/PETER PARKER'): 'black',\n",
       " ('DD 27', 'SPIDER-MAN/PETER PARKER'): 'black',\n",
       " ('M/TU 107', 'SPIDER-MAN/PETER PARKER'): 'black',\n",
       " ('A 1', 'CAPTAIN AMERICA'): 'black',\n",
       " ('A 1', 'IRON MAN/TONY STARK'): 'black',\n",
       " ('ASM:FO 2', 'SPIDER-MAN/PETER PARKER'): 'black',\n",
       " ('IM3 14', 'IRON MAN/TONY STARK'): 'black',\n",
       " ('IM3 14', 'THING/BENJAMIN J. GR'): 'black',\n",
       " ('CA 264', 'CAPTAIN AMERICA'): 'black',\n",
       " ('FF3 7', 'SPIDER-MAN/PETER PARKER'): 'black',\n",
       " ('FF3 7', 'THING/BENJAMIN J. GR'): 'black',\n",
       " ('A 218', 'CAPTAIN AMERICA'): 'black',\n",
       " ('A 218', 'IRON MAN/TONY STARK'): 'black',\n",
       " ('A 218', 'THOR/DR. DONALD BLAK'): 'black',\n",
       " ('T 141', 'THOR/DR. DONALD BLAK'): 'black',\n",
       " ('ASM 370/2', 'SPIDER-MAN/PETER PARKER'): 'black',\n",
       " ('ASM 128', 'SPIDER-MAN/PETER PARKER'): 'black',\n",
       " ('AWC 89', 'IRON MAN/TONY STARK'): 'black',\n",
       " ('CA 440', 'CAPTAIN AMERICA'): 'black',\n",
       " ('M/PRM 49', 'CAPTAIN AMERICA'): 'black',\n",
       " ('PPTSS 107', 'SPIDER-MAN/PETER PARKER'): 'black',\n",
       " ('FF 298', 'THING/BENJAMIN J. GR'): 'black',\n",
       " ('WOSM 42', 'SPIDER-MAN/PETER PARKER'): 'black',\n",
       " ('FF3 26', 'CAPTAIN AMERICA'): 'black',\n",
       " ('FF3 26', 'IRON MAN/TONY STARK'): 'black',\n",
       " ('FF3 26', 'THING/BENJAMIN J. GR'): 'black',\n",
       " ('H2 153', 'CAPTAIN AMERICA'): 'black',\n",
       " ('H2 153', 'IRON MAN/TONY STARK'): 'black',\n",
       " ('H2 153', 'SPIDER-MAN/PETER PARKER'): 'black',\n",
       " ('H2 153', 'THING/BENJAMIN J. GR'): 'black',\n",
       " ('H2 153', 'THOR/DR. DONALD BLAK'): 'black',\n",
       " ('X 55', 'CAPTAIN AMERICA'): 'black',\n",
       " ('X 55', 'THING/BENJAMIN J. GR'): 'black',\n",
       " ('X 55', 'THOR/DR. DONALD BLAK'): 'black',\n",
       " ('IM 134', 'IRON MAN/TONY STARK'): 'black',\n",
       " ('M/CP 4/4', 'THOR/DR. DONALD BLAK'): 'black',\n",
       " ('SM:MM 1', 'SPIDER-MAN/PETER PARKER'): 'black',\n",
       " ('T 332', 'THOR/DR. DONALD BLAK'): 'black',\n",
       " ('FF 302', 'THING/BENJAMIN J. GR'): 'black',\n",
       " ('THOR/DR. DONALD BLAK', 'A 10'): 'black',\n",
       " ('THOR/DR. DONALD BLAK', 'A 100'): 'black',\n",
       " ('THOR/DR. DONALD BLAK', 'A 101'): 'black',\n",
       " ('THOR/DR. DONALD BLAK', 'A 102'): 'black',\n",
       " ('THOR/DR. DONALD BLAK', 'A 103'): 'black',\n",
       " ('THOR/DR. DONALD BLAK', 'A 104'): 'black',\n",
       " ('THOR/DR. DONALD BLAK', 'A 105'): 'black',\n",
       " ('THOR/DR. DONALD BLAK', 'A 108'): 'black',\n",
       " ('THOR/DR. DONALD BLAK', 'A 109'): 'black',\n",
       " ('THOR/DR. DONALD BLAK', 'A 11'): 'black',\n",
       " ('THOR/DR. DONALD BLAK', 'A 111'): 'black',\n",
       " ('THOR/DR. DONALD BLAK', 'A 112'): 'black',\n",
       " ('THOR/DR. DONALD BLAK', 'A 113'): 'black',\n",
       " ('THOR/DR. DONALD BLAK', 'A 114'): 'black',\n",
       " ('THOR/DR. DONALD BLAK', 'A 115'): 'black',\n",
       " ('THOR/DR. DONALD BLAK', 'A 116'): 'black',\n",
       " ('THOR/DR. DONALD BLAK', 'A 118'): 'black',\n",
       " ('THOR/DR. DONALD BLAK', 'A 119'): 'black',\n",
       " ('THOR/DR. DONALD BLAK', 'A 12'): 'black',\n",
       " ('THOR/DR. DONALD BLAK', 'A 120'): 'black',\n",
       " ('THOR/DR. DONALD BLAK', 'A 121'): 'black',\n",
       " ('THOR/DR. DONALD BLAK', 'A 122'): 'black',\n",
       " ('THOR/DR. DONALD BLAK', 'A 123'): 'black',\n",
       " ('THOR/DR. DONALD BLAK', 'A 124'): 'black',\n",
       " ('THOR/DR. DONALD BLAK', 'A 125'): 'black',\n",
       " ('THOR/DR. DONALD BLAK', 'A 126'): 'black',\n",
       " ('THOR/DR. DONALD BLAK', 'A 127'): 'black',\n",
       " ('THOR/DR. DONALD BLAK', 'A 128'): 'black',\n",
       " ('THOR/DR. DONALD BLAK', 'A 129'): 'black',\n",
       " ('THOR/DR. DONALD BLAK', 'A 13'): 'black',\n",
       " ('THOR/DR. DONALD BLAK', 'A 130'): 'black',\n",
       " ('THOR/DR. DONALD BLAK', 'A 131'): 'black',\n",
       " ('THOR/DR. DONALD BLAK', 'A 132'): 'black',\n",
       " ('THOR/DR. DONALD BLAK', 'A 133'): 'black',\n",
       " ('THOR/DR. DONALD BLAK', 'A 134'): 'black',\n",
       " ('THOR/DR. DONALD BLAK', 'A 135'): 'black',\n",
       " ('THOR/DR. DONALD BLAK', 'A 137'): 'black',\n",
       " ('THOR/DR. DONALD BLAK', 'A 138'): 'black',\n",
       " ('THOR/DR. DONALD BLAK', 'A 139'): 'black',\n",
       " ('THOR/DR. DONALD BLAK', 'A 14'): 'black',\n",
       " ('THOR/DR. DONALD BLAK', 'A 140'): 'black',\n",
       " ('THOR/DR. DONALD BLAK', 'A 141'): 'black',\n",
       " ('THOR/DR. DONALD BLAK', 'A 142'): 'black',\n",
       " ('THOR/DR. DONALD BLAK', 'A 143'): 'black',\n",
       " ('THOR/DR. DONALD BLAK', 'A 144'): 'black',\n",
       " ('THOR/DR. DONALD BLAK', 'A 145'): 'black',\n",
       " ('THOR/DR. DONALD BLAK', 'A 146'): 'black',\n",
       " ('THOR/DR. DONALD BLAK', 'A 147'): 'black',\n",
       " ('THOR/DR. DONALD BLAK', 'A 148'): 'black',\n",
       " ('THOR/DR. DONALD BLAK', 'A 149'): 'black',\n",
       " ('THOR/DR. DONALD BLAK', 'A 1.5'): 'black',\n",
       " ('THOR/DR. DONALD BLAK', 'A 150'): 'black',\n",
       " ('THOR/DR. DONALD BLAK', 'A 151'): 'black',\n",
       " ('THOR/DR. DONALD BLAK', 'A 159'): 'black',\n",
       " ('THOR/DR. DONALD BLAK', 'A 16'): 'black',\n",
       " ('THOR/DR. DONALD BLAK', 'A 160'): 'black',\n",
       " ('THOR/DR. DONALD BLAK', 'A 162'): 'black',\n",
       " ('THOR/DR. DONALD BLAK', 'A 165'): 'black',\n",
       " ('THOR/DR. DONALD BLAK', 'A 166'): 'black',\n",
       " ('THOR/DR. DONALD BLAK', 'A 168'): 'black',\n",
       " ('THOR/DR. DONALD BLAK', 'A 170'): 'black',\n",
       " ('THOR/DR. DONALD BLAK', 'A 171'): 'black',\n",
       " ('THOR/DR. DONALD BLAK', 'A 172'): 'black',\n",
       " ('THOR/DR. DONALD BLAK', 'A 173'): 'black',\n",
       " ('THOR/DR. DONALD BLAK', 'A 175'): 'black',\n",
       " ('THOR/DR. DONALD BLAK', 'A 176'): 'black',\n",
       " ('THOR/DR. DONALD BLAK', 'A 177'): 'black',\n",
       " ('THOR/DR. DONALD BLAK', 'A 179'): 'black',\n",
       " ('THOR/DR. DONALD BLAK', 'A 18'): 'black',\n",
       " ('THOR/DR. DONALD BLAK', 'A 180'): 'black',\n",
       " ('THOR/DR. DONALD BLAK', 'A 181'): 'black',\n",
       " ('THOR/DR. DONALD BLAK', 'A 182'): 'black',\n",
       " ('THOR/DR. DONALD BLAK', 'A 189'): 'black',\n",
       " ('THOR/DR. DONALD BLAK', 'A 19'): 'black',\n",
       " ('THOR/DR. DONALD BLAK', 'A 19/3'): 'black',\n",
       " ('THOR/DR. DONALD BLAK', 'A 199'): 'black',\n",
       " ('THOR/DR. DONALD BLAK', 'A 2'): 'black',\n",
       " ('THOR/DR. DONALD BLAK', 'A 200'): 'black',\n",
       " ('THOR/DR. DONALD BLAK', 'A 201'): 'black',\n",
       " ('THOR/DR. DONALD BLAK', 'A 202'): 'black',\n",
       " ('THOR/DR. DONALD BLAK', 'A 20/4'): 'black',\n",
       " ('THOR/DR. DONALD BLAK', 'A 210'): 'black',\n",
       " ('THOR/DR. DONALD BLAK', 'A2 10'): 'black',\n",
       " ('THOR/DR. DONALD BLAK', 'A 211'): 'black',\n",
       " ('THOR/DR. DONALD BLAK', 'A2 11'): 'black',\n",
       " ('THOR/DR. DONALD BLAK', 'A 212'): 'black',\n",
       " ('THOR/DR. DONALD BLAK', 'A2 12'): 'black',\n",
       " ('THOR/DR. DONALD BLAK', 'A 213'): 'black',\n",
       " ('THOR/DR. DONALD BLAK', 'A 214'): 'black',\n",
       " ('THOR/DR. DONALD BLAK', 'A 215'): 'black',\n",
       " ('THOR/DR. DONALD BLAK', 'A 216'): 'black',\n",
       " ('THOR/DR. DONALD BLAK', 'A 217'): 'black',\n",
       " ('THOR/DR. DONALD BLAK', 'A 219'): 'black',\n",
       " ('THOR/DR. DONALD BLAK', 'A 220'): 'black',\n",
       " ('THOR/DR. DONALD BLAK', 'A 221'): 'black',\n",
       " ('THOR/DR. DONALD BLAK', 'A 222'): 'black',\n",
       " ('THOR/DR. DONALD BLAK', 'A 224'): 'black',\n",
       " ('THOR/DR. DONALD BLAK', 'A 225'): 'black',\n",
       " ('THOR/DR. DONALD BLAK', 'A 226'): 'black',\n",
       " ('THOR/DR. DONALD BLAK', 'A 227'): 'black',\n",
       " ('THOR/DR. DONALD BLAK', 'A 228'): 'black',\n",
       " ('THOR/DR. DONALD BLAK', 'A 229'): 'black',\n",
       " ('THOR/DR. DONALD BLAK', 'A 230'): 'black',\n",
       " ('THOR/DR. DONALD BLAK', 'A 231'): 'black',\n",
       " ('THOR/DR. DONALD BLAK', 'A 232'): 'black',\n",
       " ('THOR/DR. DONALD BLAK', 'A 233'): 'black',\n",
       " ('THOR/DR. DONALD BLAK', 'A 234'): 'black',\n",
       " ('THOR/DR. DONALD BLAK', 'A 240'): 'black',\n",
       " ('THOR/DR. DONALD BLAK', 'A 242'): 'black',\n",
       " ('THOR/DR. DONALD BLAK', 'A 243'): 'black',\n",
       " ('THOR/DR. DONALD BLAK', 'A 249'): 'black',\n",
       " ('THOR/DR. DONALD BLAK', 'A 276'): 'black',\n",
       " ('THOR/DR. DONALD BLAK', 'A 277'): 'black',\n",
       " ('THOR/DR. DONALD BLAK', 'A 278'): 'black',\n",
       " ('THOR/DR. DONALD BLAK', 'A 279'): 'black',\n",
       " ('THOR/DR. DONALD BLAK', 'A 280'): 'black',\n",
       " ('THOR/DR. DONALD BLAK', 'A 281'): 'black',\n",
       " ('THOR/DR. DONALD BLAK', 'A 282'): 'black',\n",
       " ('THOR/DR. DONALD BLAK', 'A 283'): 'black',\n",
       " ('THOR/DR. DONALD BLAK', 'A 284'): 'black',\n",
       " ('THOR/DR. DONALD BLAK', 'A 285'): 'black',\n",
       " ('THOR/DR. DONALD BLAK', 'A2 9'): 'black',\n",
       " ('THOR/DR. DONALD BLAK', 'A 291'): 'black',\n",
       " ('THOR/DR. DONALD BLAK', 'A 292'): 'black',\n",
       " ('THOR/DR. DONALD BLAK', 'A 293'): 'black',\n",
       " ('THOR/DR. DONALD BLAK', 'A 294'): 'black',\n",
       " ('THOR/DR. DONALD BLAK', 'A 295'): 'black',\n",
       " ('THOR/DR. DONALD BLAK', 'A 296'): 'black',\n",
       " ('THOR/DR. DONALD BLAK', 'A 297'): 'black',\n",
       " ('THOR/DR. DONALD BLAK', 'A 3'): 'black',\n",
       " ('THOR/DR. DONALD BLAK', 'A 300'): 'black',\n",
       " ('THOR/DR. DONALD BLAK', 'A 301'): 'black',\n",
       " ('THOR/DR. DONALD BLAK', 'A 302'): 'black',\n",
       " ('THOR/DR. DONALD BLAK', 'A 304'): 'black',\n",
       " ('THOR/DR. DONALD BLAK', 'A 305'): 'black',\n",
       " ('THOR/DR. DONALD BLAK', 'A 306'): 'black',\n",
       " ('THOR/DR. DONALD BLAK', 'A 307'): 'black',\n",
       " ('THOR/DR. DONALD BLAK', 'A 308'): 'black',\n",
       " ('THOR/DR. DONALD BLAK', 'A 309'): 'black',\n",
       " ('THOR/DR. DONALD BLAK', 'A3 1'): 'black',\n",
       " ('THOR/DR. DONALD BLAK', 'A 310'): 'black',\n",
       " ('THOR/DR. DONALD BLAK', 'A3 10'): 'black',\n",
       " ('THOR/DR. DONALD BLAK', 'A3 11'): 'black',\n",
       " ('THOR/DR. DONALD BLAK', 'A 313'): 'black',\n",
       " ('THOR/DR. DONALD BLAK', 'A3 13'): 'black',\n",
       " ('THOR/DR. DONALD BLAK', 'A 314'): 'black',\n",
       " ('THOR/DR. DONALD BLAK', 'A3 14'): 'black',\n",
       " ('THOR/DR. DONALD BLAK', 'A 315'): 'black',\n",
       " ('THOR/DR. DONALD BLAK', 'A3 15'): 'black',\n",
       " ('THOR/DR. DONALD BLAK', 'A 316'): 'black',\n",
       " ('THOR/DR. DONALD BLAK', 'A3 16'): 'black',\n",
       " ('THOR/DR. DONALD BLAK', 'A 317'): 'black',\n",
       " ('THOR/DR. DONALD BLAK', 'A3 17'): 'black',\n",
       " ('THOR/DR. DONALD BLAK', 'A 318'): 'black',\n",
       " ('THOR/DR. DONALD BLAK', 'A3 18'): 'black',\n",
       " ('THOR/DR. DONALD BLAK', 'A3 19'): 'black',\n",
       " ('THOR/DR. DONALD BLAK', 'A3 2'): 'black',\n",
       " ('THOR/DR. DONALD BLAK', 'A3 20'): 'black',\n",
       " ('THOR/DR. DONALD BLAK', 'A3 21'): 'black',\n",
       " ('THOR/DR. DONALD BLAK', 'A3 22'): 'black',\n",
       " ('THOR/DR. DONALD BLAK', 'A3 23'): 'black',\n",
       " ('THOR/DR. DONALD BLAK', 'A3 24'): 'black',\n",
       " ('THOR/DR. DONALD BLAK', 'A3 25'): 'black',\n",
       " ('THOR/DR. DONALD BLAK', 'A 326'): 'black',\n",
       " ('THOR/DR. DONALD BLAK', 'A 327'): 'black',\n",
       " ('THOR/DR. DONALD BLAK', 'A3 27'): 'black',\n",
       " ('THOR/DR. DONALD BLAK', 'A 328'): 'black',\n",
       " ('THOR/DR. DONALD BLAK', 'A 329'): 'black',\n",
       " ('THOR/DR. DONALD BLAK', 'A3 3'): 'black',\n",
       " ('THOR/DR. DONALD BLAK', 'A 330'): 'black',\n",
       " ('THOR/DR. DONALD BLAK', 'A 331'): 'black',\n",
       " ('THOR/DR. DONALD BLAK', 'A3 35'): 'black',\n",
       " ('THOR/DR. DONALD BLAK', 'A3 38'): 'black',\n",
       " ('THOR/DR. DONALD BLAK', 'A3 39'): 'black',\n",
       " ('THOR/DR. DONALD BLAK', 'A3 4'): 'black',\n",
       " ('THOR/DR. DONALD BLAK', 'A3 40'): 'black',\n",
       " ('THOR/DR. DONALD BLAK', 'A3 41'): 'black',\n",
       " ('THOR/DR. DONALD BLAK', 'A3 42'): 'black',\n",
       " ('THOR/DR. DONALD BLAK', 'A3 43'): 'black',\n",
       " ('THOR/DR. DONALD BLAK', 'A3 5'): 'black',\n",
       " ('THOR/DR. DONALD BLAK', 'A3 6'): 'black',\n",
       " ('THOR/DR. DONALD BLAK', 'A3 7'): 'black',\n",
       " ('THOR/DR. DONALD BLAK', 'A3 8'): 'black',\n",
       " ('THOR/DR. DONALD BLAK', 'A 396'): 'black',\n",
       " ('THOR/DR. DONALD BLAK', 'A 397'): 'black',\n",
       " ('THOR/DR. DONALD BLAK', 'A 398'): 'black',\n",
       " ('THOR/DR. DONALD BLAK', 'A 399'): 'black',\n",
       " ('THOR/DR. DONALD BLAK', 'A 4'): 'black',\n",
       " ('THOR/DR. DONALD BLAK', 'A 400'): 'black',\n",
       " ('THOR/DR. DONALD BLAK', 'A 401'): 'black',\n",
       " ('THOR/DR. DONALD BLAK', 'A 402'): 'black',\n",
       " ('THOR/DR. DONALD BLAK', 'A 45'): 'black',\n",
       " ('THOR/DR. DONALD BLAK', 'A 5'): 'black',\n",
       " ('THOR/DR. DONALD BLAK', 'A 51'): 'black',\n",
       " ('THOR/DR. DONALD BLAK', 'A 52'): 'black',\n",
       " ('THOR/DR. DONALD BLAK', 'A 58'): 'black',\n",
       " ('THOR/DR. DONALD BLAK', 'A 6'): 'black',\n",
       " ('THOR/DR. DONALD BLAK', 'A 67'): 'black',\n",
       " ('THOR/DR. DONALD BLAK', 'A 68'): 'black',\n",
       " ('THOR/DR. DONALD BLAK', 'A 69'): 'black',\n",
       " ('THOR/DR. DONALD BLAK', 'A 7'): 'black',\n",
       " ('THOR/DR. DONALD BLAK', 'A 70'): 'black',\n",
       " ('THOR/DR. DONALD BLAK', 'A 71'): 'black',\n",
       " ('THOR/DR. DONALD BLAK', 'A 76'): 'black',\n",
       " ('THOR/DR. DONALD BLAK', 'A 79'): 'black',\n",
       " ('THOR/DR. DONALD BLAK', 'A 8'): 'black',\n",
       " ('THOR/DR. DONALD BLAK', 'A 80'): 'black',\n",
       " ('THOR/DR. DONALD BLAK', 'A 81'): 'black',\n",
       " ('THOR/DR. DONALD BLAK', 'A 82'): 'black',\n",
       " ('THOR/DR. DONALD BLAK', 'A 84'): 'black',\n",
       " ('THOR/DR. DONALD BLAK', 'A 85'): 'black',\n",
       " ('THOR/DR. DONALD BLAK', 'A 86'): 'black',\n",
       " ('THOR/DR. DONALD BLAK', 'A 87'): 'black',\n",
       " ('THOR/DR. DONALD BLAK', 'A 88'): 'black',\n",
       " ('THOR/DR. DONALD BLAK', 'A 9'): 'black',\n",
       " ('THOR/DR. DONALD BLAK', 'A 93'): 'black',\n",
       " ('THOR/DR. DONALD BLAK', 'A 94'): 'black',\n",
       " ('THOR/DR. DONALD BLAK', 'A 95'): 'black',\n",
       " ('THOR/DR. DONALD BLAK', 'A 96'): 'black',\n",
       " ('THOR/DR. DONALD BLAK', 'A 97'): 'black',\n",
       " ('THOR/DR. DONALD BLAK', \"A '98\"): 'black',\n",
       " ('THOR/DR. DONALD BLAK', 'A 98'): 'black',\n",
       " ('THOR/DR. DONALD BLAK', \"A '99\"): 'black',\n",
       " ('THOR/DR. DONALD BLAK', 'A 99'): 'black',\n",
       " ('THOR/DR. DONALD BLAK', 'AA2 8'): 'black',\n",
       " ('THOR/DR. DONALD BLAK', 'AF 61'): 'black',\n",
       " ('THOR/DR. DONALD BLAK', 'AI 1'): 'black',\n",
       " ('THOR/DR. DONALD BLAK', 'AI 2'): 'black',\n",
       " ('THOR/DR. DONALD BLAK', 'AI 3'): 'black',\n",
       " ('THOR/DR. DONALD BLAK', 'AI 4'): 'black',\n",
       " ('THOR/DR. DONALD BLAK', 'AOI'): 'black',\n",
       " ('THOR/DR. DONALD BLAK', 'AR 1'): 'black',\n",
       " ('THOR/DR. DONALD BLAK', 'AR 2'): 'black',\n",
       " ('THOR/DR. DONALD BLAK', 'ASM 1'): 'black',\n",
       " ('THOR/DR. DONALD BLAK', 'ASM 16'): 'black',\n",
       " ('THOR/DR. DONALD BLAK', 'ASM 18'): 'black',\n",
       " ('THOR/DR. DONALD BLAK', 'ASM2 1'): 'black',\n",
       " ('THOR/DR. DONALD BLAK', 'ASM 252'): 'black',\n",
       " ('THOR/DR. DONALD BLAK', 'ASM 3'): 'black',\n",
       " ('THOR/DR. DONALD BLAK', 'ASM 339'): 'black',\n",
       " ('THOR/DR. DONALD BLAK', 'ASM 348'): 'black',\n",
       " ('THOR/DR. DONALD BLAK', 'ASPOT 29/2'): 'black',\n",
       " ('THOR/DR. DONALD BLAK', 'A:T'): 'black',\n",
       " ('THOR/DR. DONALD BLAK', 'AWC 4'): 'black',\n",
       " ('THOR/DR. DONALD BLAK', 'AWC 55'): 'black',\n",
       " ('THOR/DR. DONALD BLAK', 'AWC 69'): 'black',\n",
       " ('THOR/DR. DONALD BLAK', 'BIZADV 32'): 'black',\n",
       " ('THOR/DR. DONALD BLAK', 'BP3 7'): 'black',\n",
       " ('THOR/DR. DONALD BLAK', 'BP3 8'): 'black',\n",
       " ('THOR/DR. DONALD BLAK', 'BP3 9'): 'black',\n",
       " ('THOR/DR. DONALD BLAK', 'C2 67'): 'black',\n",
       " ('THOR/DR. DONALD BLAK', 'C2 68'): 'black',\n",
       " ('THOR/DR. DONALD BLAK', 'CA 113'): 'black',\n",
       " ('THOR/DR. DONALD BLAK', 'CA 176'): 'black',\n",
       " ('THOR/DR. DONALD BLAK', 'CA2 12'): 'black',\n",
       " ('THOR/DR. DONALD BLAK', 'CA 221/2'): 'black',\n",
       " ('THOR/DR. DONALD BLAK', 'CA 224'): 'black',\n",
       " ('THOR/DR. DONALD BLAK', 'CA 228'): 'black',\n",
       " ('THOR/DR. DONALD BLAK', 'CA 229'): 'black',\n",
       " ('THOR/DR. DONALD BLAK', 'CA 292'): 'black',\n",
       " ('THOR/DR. DONALD BLAK', 'CA3 16'): 'black',\n",
       " ('THOR/DR. DONALD BLAK', 'CA3 28'): 'black',\n",
       " ('THOR/DR. DONALD BLAK', 'CA3 3'): 'black',\n",
       " ('THOR/DR. DONALD BLAK', 'CA3 34'): 'black',\n",
       " ('THOR/DR. DONALD BLAK', 'CA3 5'): 'black',\n",
       " ('THOR/DR. DONALD BLAK', 'CA3 6'): 'black',\n",
       " ('THOR/DR. DONALD BLAK', 'CA3 7'): 'black',\n",
       " ('THOR/DR. DONALD BLAK', 'CA 383'): 'black',\n",
       " ('THOR/DR. DONALD BLAK', 'CA 384'): 'black',\n",
       " ('THOR/DR. DONALD BLAK', 'CA 449'): 'black',\n",
       " ('THOR/DR. DONALD BLAK', 'C&D3 9'): 'black',\n",
       " ('THOR/DR. DONALD BLAK', 'CM 31'): 'black',\n",
       " ('THOR/DR. DONALD BLAK', 'CM 33'): 'black',\n",
       " ('THOR/DR. DONALD BLAK', 'CM5 17'): 'black',\n",
       " ('THOR/DR. DONALD BLAK', 'CM5 18'): 'black',\n",
       " ('THOR/DR. DONALD BLAK', 'CM5 19'): 'black',\n",
       " ('THOR/DR. DONALD BLAK', 'CM 57'): 'black',\n",
       " ('THOR/DR. DONALD BLAK', 'COC 1'): 'black',\n",
       " ('THOR/DR. DONALD BLAK', 'COC 3'): 'black',\n",
       " ('THOR/DR. DONALD BLAK', 'COH 3'): 'black',\n",
       " ('THOR/DR. DONALD BLAK', 'DAMCON2 1'): 'black',\n",
       " ('THOR/DR. DONALD BLAK', 'DAMCON2 4'): 'black',\n",
       " ('THOR/DR. DONALD BLAK', 'DAZZ 21'): 'black',\n",
       " ('THOR/DR. DONALD BLAK', 'DD 164'): 'black',\n",
       " ('THOR/DR. DONALD BLAK', 'DD2 16'): 'black',\n",
       " ('THOR/DR. DONALD BLAK', 'DD 233'): 'black',\n",
       " ('THOR/DR. DONALD BLAK', 'DD 30'): 'black',\n",
       " ('THOR/DR. DONALD BLAK', 'DD 99'): 'black',\n",
       " ('THOR/DR. DONALD BLAK', 'DEF 10'): 'black',\n",
       " ('THOR/DR. DONALD BLAK', 'DEF 107'): 'black',\n",
       " ('THOR/DR. DONALD BLAK', 'DEF 11'): 'black',\n",
       " ('THOR/DR. DONALD BLAK', 'DEF 15'): 'black',\n",
       " ('THOR/DR. DONALD BLAK', 'DEF 9'): 'black',\n",
       " ('THOR/DR. DONALD BLAK', 'DF 1.2'): 'black',\n",
       " ('THOR/DR. DONALD BLAK', 'DF 2.4'): 'black',\n",
       " ('THOR/DR. DONALD BLAK', 'DF 3.6'): 'black',\n",
       " ('THOR/DR. DONALD BLAK', 'DPOOL3 37'): 'black',\n",
       " ('THOR/DR. DONALD BLAK', 'E2 12'): 'black',\n",
       " ('THOR/DR. DONALD BLAK', 'FF 150'): 'black',\n",
       " ('THOR/DR. DONALD BLAK', 'FF2 12'): 'black',\n",
       " ('THOR/DR. DONALD BLAK', 'FF 22'): 'black',\n",
       " ('THOR/DR. DONALD BLAK', 'FF 225'): 'black',\n",
       " ('THOR/DR. DONALD BLAK', 'FF 230'): 'black',\n",
       " ('THOR/DR. DONALD BLAK', 'FF 242'): 'black',\n",
       " ('THOR/DR. DONALD BLAK', 'FF 243'): 'black',\n",
       " ('THOR/DR. DONALD BLAK', 'FF 244'): 'black',\n",
       " ('THOR/DR. DONALD BLAK', 'FF 25'): 'black',\n",
       " ('THOR/DR. DONALD BLAK', 'FF 256'): 'black',\n",
       " ('THOR/DR. DONALD BLAK', 'FF 26'): 'black',\n",
       " ('THOR/DR. DONALD BLAK', 'FF 3'): 'black',\n",
       " ('THOR/DR. DONALD BLAK', 'FF 31'): 'black',\n",
       " ('THOR/DR. DONALD BLAK', 'FF3 23'): 'black',\n",
       " ('THOR/DR. DONALD BLAK', 'FF3 27'): 'black',\n",
       " ('THOR/DR. DONALD BLAK', 'FF3 28'): 'black',\n",
       " ('THOR/DR. DONALD BLAK', 'FF 333'): 'black',\n",
       " ('THOR/DR. DONALD BLAK', 'FF 334'): 'black',\n",
       " ('THOR/DR. DONALD BLAK', 'FF 337'): 'black',\n",
       " ('THOR/DR. DONALD BLAK', 'FF 338'): 'black',\n",
       " ('THOR/DR. DONALD BLAK', 'FF 339'): 'black',\n",
       " ('THOR/DR. DONALD BLAK', 'FF3 39'): 'black',\n",
       " ('THOR/DR. DONALD BLAK', 'FF 340'): 'black',\n",
       " ('THOR/DR. DONALD BLAK', 'FF 341'): 'black',\n",
       " ('THOR/DR. DONALD BLAK', 'FF 36'): 'black',\n",
       " ('THOR/DR. DONALD BLAK', 'FF 400/2'): 'black',\n",
       " ('THOR/DR. DONALD BLAK', 'FF 401'): 'black',\n",
       " ('THOR/DR. DONALD BLAK', 'FF 402'): 'black',\n",
       " ('THOR/DR. DONALD BLAK', 'FF 416'): 'black',\n",
       " ('THOR/DR. DONALD BLAK', 'FF 73'): 'black',\n",
       " ('THOR/DR. DONALD BLAK', 'FFOR 9'): 'black',\n",
       " ('THOR/DR. DONALD BLAK', 'FFU 9'): 'black',\n",
       " ('THOR/DR. DONALD BLAK', 'FW 10/2'): 'black',\n",
       " ('THOR/DR. DONALD BLAK', 'GAL 1'): 'black',\n",
       " ('THOR/DR. DONALD BLAK', 'GAL 2'): 'black',\n",
       " ('THOR/DR. DONALD BLAK', 'GAL 3'): 'black',\n",
       " ('THOR/DR. DONALD BLAK', 'GAL 5'): 'black',\n",
       " ('THOR/DR. DONALD BLAK', 'GAL 6'): 'black',\n",
       " ('THOR/DR. DONALD BLAK', 'GENX 59'): 'black',\n",
       " ('THOR/DR. DONALD BLAK', 'GSA 1'): 'black',\n",
       " ('THOR/DR. DONALD BLAK', 'GSA 2'): 'black',\n",
       " ('THOR/DR. DONALD BLAK', 'GSA 3'): 'black',\n",
       " ('THOR/DR. DONALD BLAK', 'GSA 4'): 'black',\n",
       " ('THOR/DR. DONALD BLAK', 'GZILL 23'): 'black',\n",
       " ('THOR/DR. DONALD BLAK', 'GZILL 24'): 'black',\n",
       " ('THOR/DR. DONALD BLAK', 'H 11'): 'black',\n",
       " ('THOR/DR. DONALD BLAK', 'H2 255'): 'black',\n",
       " ('THOR/DR. DONALD BLAK', 'H2 277'): 'black',\n",
       " ('THOR/DR. DONALD BLAK', 'H2 278'): 'black',\n",
       " ('THOR/DR. DONALD BLAK', 'H2 279'): 'black',\n",
       " ('THOR/DR. DONALD BLAK', 'H2 281'): 'black',\n",
       " ('THOR/DR. DONALD BLAK', 'H2 282'): 'black',\n",
       " ('THOR/DR. DONALD BLAK', 'H2 283'): 'black',\n",
       " ('THOR/DR. DONALD BLAK', 'H2 284'): 'black',\n",
       " ('THOR/DR. DONALD BLAK', 'H2 300'): 'black',\n",
       " ('THOR/DR. DONALD BLAK', 'H2 439'): 'black',\n",
       " ('THOR/DR. DONALD BLAK', 'H2 440'): 'black',\n",
       " ('THOR/DR. DONALD BLAK', 'H2 445'): 'black',\n",
       " ('THOR/DR. DONALD BLAK', 'H2 467'): 'black',\n",
       " ('THOR/DR. DONALD BLAK', 'HR:R 1'): 'black',\n",
       " ('THOR/DR. DONALD BLAK', 'HR:R 3'): 'black',\n",
       " ('THOR/DR. DONALD BLAK', 'IM 182'): 'black',\n",
       " ('THOR/DR. DONALD BLAK', 'IM2 12'): 'black',\n",
       " ('THOR/DR. DONALD BLAK', 'IM3 22'): 'black',\n",
       " ('THOR/DR. DONALD BLAK', 'IM 326'): 'black',\n",
       " ('THOR/DR. DONALD BLAK', 'IM 39'): 'black',\n",
       " ('THOR/DR. DONALD BLAK', 'IM 65'): 'black',\n",
       " ('THOR/DR. DONALD BLAK', 'IM 66'): 'black',\n",
       " ('THOR/DR. DONALD BLAK', 'IM 67'): 'black',\n",
       " ('THOR/DR. DONALD BLAK', 'IM 74'): 'black',\n",
       " ('THOR/DR. DONALD BLAK', \"IM '98\"): 'black',\n",
       " ('THOR/DR. DONALD BLAK', 'INV 33'): 'black',\n",
       " ('THOR/DR. DONALD BLAK', 'JA 16'): 'black',\n",
       " ('THOR/DR. DONALD BLAK', 'J:ED'): 'black',\n",
       " ('THOR/DR. DONALD BLAK', 'JIM -1'): 'black',\n",
       " ('THOR/DR. DONALD BLAK', 'JIM 100'): 'black',\n",
       " ('THOR/DR. DONALD BLAK', 'JIM 100/2'): 'black',\n",
       " ('THOR/DR. DONALD BLAK', 'JIM 101'): 'black',\n",
       " ('THOR/DR. DONALD BLAK', 'JIM 101/2'): 'black',\n",
       " ('THOR/DR. DONALD BLAK', 'JIM 102'): 'black',\n",
       " ('THOR/DR. DONALD BLAK', 'JIM 102/2'): 'black',\n",
       " ('THOR/DR. DONALD BLAK', 'JIM 103'): 'black',\n",
       " ('THOR/DR. DONALD BLAK', 'JIM 103/2'): 'black',\n",
       " ('THOR/DR. DONALD BLAK', 'JIM 104'): 'black',\n",
       " ('THOR/DR. DONALD BLAK', 'JIM 105'): 'black',\n",
       " ('THOR/DR. DONALD BLAK', 'JIM 106'): 'black',\n",
       " ('THOR/DR. DONALD BLAK', 'JIM 107'): 'black',\n",
       " ('THOR/DR. DONALD BLAK', 'JIM 108'): 'black',\n",
       " ('THOR/DR. DONALD BLAK', 'JIM 108/2'): 'black',\n",
       " ('THOR/DR. DONALD BLAK', 'JIM 109'): 'black',\n",
       " ('THOR/DR. DONALD BLAK', 'JIM 109/2'): 'black',\n",
       " ('THOR/DR. DONALD BLAK', 'JIM 110'): 'black',\n",
       " ('THOR/DR. DONALD BLAK', 'JIM 110/2'): 'black',\n",
       " ('THOR/DR. DONALD BLAK', 'JIM 111'): 'black',\n",
       " ('THOR/DR. DONALD BLAK', 'JIM 111/2'): 'black',\n",
       " ('THOR/DR. DONALD BLAK', 'JIM 112'): 'black',\n",
       " ('THOR/DR. DONALD BLAK', 'JIM 113'): 'black',\n",
       " ('THOR/DR. DONALD BLAK', 'JIM 113/2'): 'black',\n",
       " ('THOR/DR. DONALD BLAK', 'JIM 114'): 'black',\n",
       " ('THOR/DR. DONALD BLAK', 'JIM 115'): 'black',\n",
       " ('THOR/DR. DONALD BLAK', 'JIM 115/2'): 'black',\n",
       " ('THOR/DR. DONALD BLAK', 'JIM 116'): 'black',\n",
       " ('THOR/DR. DONALD BLAK', 'JIM 116/2'): 'black',\n",
       " ('THOR/DR. DONALD BLAK', 'JIM 117'): 'black',\n",
       " ('THOR/DR. DONALD BLAK', 'JIM 117/2'): 'black',\n",
       " ('THOR/DR. DONALD BLAK', 'JIM 118'): 'black',\n",
       " ('THOR/DR. DONALD BLAK', 'JIM 118/2'): 'black',\n",
       " ('THOR/DR. DONALD BLAK', 'JIM 119'): 'black',\n",
       " ('THOR/DR. DONALD BLAK', 'JIM 119/2'): 'black',\n",
       " ('THOR/DR. DONALD BLAK', 'JIM 120'): 'black',\n",
       " ('THOR/DR. DONALD BLAK', 'JIM 120/2'): 'black',\n",
       " ('THOR/DR. DONALD BLAK', 'JIM 121'): 'black',\n",
       " ('THOR/DR. DONALD BLAK', 'JIM 121/2'): 'black',\n",
       " ('THOR/DR. DONALD BLAK', 'JIM 122'): 'black',\n",
       " ('THOR/DR. DONALD BLAK', 'JIM 122/2'): 'black',\n",
       " ('THOR/DR. DONALD BLAK', 'JIM 123'): 'black',\n",
       " ('THOR/DR. DONALD BLAK', 'JIM 123/2'): 'black',\n",
       " ('THOR/DR. DONALD BLAK', 'JIM 124'): 'black',\n",
       " ('THOR/DR. DONALD BLAK', 'JIM 124/2'): 'black',\n",
       " ('THOR/DR. DONALD BLAK', 'JIM 125'): 'black',\n",
       " ('THOR/DR. DONALD BLAK', 'JIM 125/2'): 'black',\n",
       " ('THOR/DR. DONALD BLAK', 'JIM 83'): 'black',\n",
       " ('THOR/DR. DONALD BLAK', 'JIM 84'): 'black',\n",
       " ('THOR/DR. DONALD BLAK', 'JIM 85'): 'black',\n",
       " ('THOR/DR. DONALD BLAK', 'JIM 86'): 'black',\n",
       " ('THOR/DR. DONALD BLAK', 'JIM 87'): 'black',\n",
       " ('THOR/DR. DONALD BLAK', 'JIM 88'): 'black',\n",
       " ('THOR/DR. DONALD BLAK', 'JIM 89'): 'black',\n",
       " ('THOR/DR. DONALD BLAK', 'JIM 90'): 'black',\n",
       " ('THOR/DR. DONALD BLAK', 'JIM 91'): 'black',\n",
       " ('THOR/DR. DONALD BLAK', 'JIM 92'): 'black',\n",
       " ('THOR/DR. DONALD BLAK', 'JIM 93'): 'black',\n",
       " ('THOR/DR. DONALD BLAK', 'JIM 94'): 'black',\n",
       " ('THOR/DR. DONALD BLAK', 'JIM 95'): 'black',\n",
       " ('THOR/DR. DONALD BLAK', 'JIM 96'): 'black',\n",
       " ('THOR/DR. DONALD BLAK', 'JIM 97'): 'black',\n",
       " ('THOR/DR. DONALD BLAK', 'JIM 98'): 'black',\n",
       " ('THOR/DR. DONALD BLAK', 'JIM 99'): 'black',\n",
       " ('THOR/DR. DONALD BLAK', 'KS'): 'black',\n",
       " ('THOR/DR. DONALD BLAK', 'MARVELS 2'): 'black',\n",
       " ('THOR/DR. DONALD BLAK', 'MAXSEC 2'): 'black',\n",
       " ('THOR/DR. DONALD BLAK', 'MAXSEC 3'): 'black',\n",
       " ('THOR/DR. DONALD BLAK', 'M/CP 44/2'): 'black',\n",
       " ('THOR/DR. DONALD BLAK', 'M/CP 45/2'): 'black',\n",
       " ('THOR/DR. DONALD BLAK', 'M/GN 1'): 'black',\n",
       " ('THOR/DR. DONALD BLAK', 'M/GN 17'): 'black',\n",
       " ('THOR/DR. DONALD BLAK', 'M/GN 30'): 'black',\n",
       " ('THOR/DR. DONALD BLAK', 'M/GN 33'): 'black',\n",
       " ('THOR/DR. DONALD BLAK', \"M/H&L '97\"): 'black',\n",
       " ('THOR/DR. DONALD BLAK', 'MICRO 43'): 'black',\n",
       " ('THOR/DR. DONALD BLAK', 'M/:LG 5'): 'black',\n",
       " ('THOR/DR. DONALD BLAK', 'M/SH3 5'): 'black',\n",
       " ('THOR/DR. DONALD BLAK', 'M/SH3 9/2'): 'black',\n",
       " ('THOR/DR. DONALD BLAK', 'M/SHSW 1'): 'black',\n",
       " ('THOR/DR. DONALD BLAK', 'M/SHSW 10'): 'black',\n",
       " ('THOR/DR. DONALD BLAK', 'M/SHSW 11'): 'black',\n",
       " ('THOR/DR. DONALD BLAK', 'M/SHSW 12'): 'black',\n",
       " ('THOR/DR. DONALD BLAK', 'M/SHSW 2'): 'black',\n",
       " ('THOR/DR. DONALD BLAK', 'M/SHSW 3'): 'black',\n",
       " ('THOR/DR. DONALD BLAK', 'M/SHSW 4'): 'black',\n",
       " ('THOR/DR. DONALD BLAK', 'M/SHSW 5'): 'black',\n",
       " ('THOR/DR. DONALD BLAK', 'M/SHSW 6'): 'black',\n",
       " ('THOR/DR. DONALD BLAK', 'M/SHSW 7'): 'black',\n",
       " ('THOR/DR. DONALD BLAK', 'M/SHSW 8'): 'black',\n",
       " ('THOR/DR. DONALD BLAK', 'M/TIO 2'): 'black',\n",
       " ('THOR/DR. DONALD BLAK', 'M/TIO 22'): 'black',\n",
       " ('THOR/DR. DONALD BLAK', 'M/TIO 23'): 'black',\n",
       " ('THOR/DR. DONALD BLAK', 'M/TIO 7'): 'black',\n",
       " ('THOR/DR. DONALD BLAK', 'M/TIO 9'): 'black',\n",
       " ('THOR/DR. DONALD BLAK', 'M/TIO 96'): 'black',\n",
       " ('THOR/DR. DONALD BLAK', 'M/TU 10'): 'black',\n",
       " ('THOR/DR. DONALD BLAK', 'M/TU 11'): 'black',\n",
       " ('THOR/DR. DONALD BLAK', 'M/TU 115'): 'black',\n",
       " ('THOR/DR. DONALD BLAK', 'M/TU 116'): 'black',\n",
       " ('THOR/DR. DONALD BLAK', 'M/TU 148'): 'black',\n",
       " ('THOR/DR. DONALD BLAK', 'M/TU 69'): 'black',\n",
       " ('THOR/DR. DONALD BLAK', 'M/TU 7'): 'black',\n",
       " ('THOR/DR. DONALD BLAK', 'M/TU 70'): 'black',\n",
       " ('THOR/DR. DONALD BLAK', 'M/TU 9'): 'black',\n",
       " ('THOR/DR. DONALD BLAK', 'N 12'): 'black',\n",
       " ('THOR/DR. DONALD BLAK', 'N 13'): 'black',\n",
       " ('THOR/DR. DONALD BLAK', 'NF3 26'): 'black',\n",
       " ('THOR/DR. DONALD BLAK', 'NFV.S 2'): 'black',\n",
       " ('THOR/DR. DONALD BLAK', 'NM 38'): 'black',\n",
       " ('THOR/DR. DONALD BLAK', 'O:X'): 'black',\n",
       " ('THOR/DR. DONALD BLAK', 'PPSM2 11'): 'black',\n",
       " ('THOR/DR. DONALD BLAK', 'PPSM2 2'): 'black',\n",
       " ('THOR/DR. DONALD BLAK', 'PPTSS 168'): 'black',\n",
       " ('THOR/DR. DONALD BLAK', 'PPTSS 169'): 'black',\n",
       " ('THOR/DR. DONALD BLAK', 'PPTSS 170'): 'black',\n",
       " ('THOR/DR. DONALD BLAK', 'PUN2 29'): 'black',\n",
       " ('THOR/DR. DONALD BLAK', 'SENTRY 1'): 'black',\n",
       " ('THOR/DR. DONALD BLAK', 'S-H2 25'): 'black',\n",
       " ('THOR/DR. DONALD BLAK', 'SMTU 4'): 'black',\n",
       " ('THOR/DR. DONALD BLAK', 'SS3 146'): 'black',\n",
       " ('THOR/DR. DONALD BLAK', 'SS 4'): 'black',\n",
       " ('THOR/DR. DONALD BLAK', \"SS '98\"): 'black',\n",
       " ('THOR/DR. DONALD BLAK', 'ST 123/2'): 'black',\n",
       " ('THOR/DR. DONALD BLAK', 'ST 156'): 'black',\n",
       " ('THOR/DR. DONALD BLAK', 'SUB-M 35'): 'black',\n",
       " ('THOR/DR. DONALD BLAK', 'SUB-M 59'): 'black',\n",
       " ('THOR/DR. DONALD BLAK', 'SVTU 14'): 'black',\n",
       " ('THOR/DR. DONALD BLAK', 'SWII 5'): 'black',\n",
       " ('THOR/DR. DONALD BLAK', 'SWII 9'): 'black',\n",
       " ('THOR/DR. DONALD BLAK', \"T '00\"): 'black',\n",
       " ('THOR/DR. DONALD BLAK', \"T '01\"): 'black',\n",
       " ('THOR/DR. DONALD BLAK', 'T 10'): 'black',\n",
       " ('THOR/DR. DONALD BLAK', 'T 126'): 'black',\n",
       " ('THOR/DR. DONALD BLAK', 'T 126/2'): 'black',\n",
       " ('THOR/DR. DONALD BLAK', 'T 127'): 'black',\n",
       " ('THOR/DR. DONALD BLAK', 'T 127/2'): 'black',\n",
       " ('THOR/DR. DONALD BLAK', 'T 128/2'): 'black',\n",
       " ('THOR/DR. DONALD BLAK', 'T 129'): 'black',\n",
       " ('THOR/DR. DONALD BLAK', 'T 129/2'): 'black',\n",
       " ('THOR/DR. DONALD BLAK', 'T 13'): 'black',\n",
       " ('THOR/DR. DONALD BLAK', 'T 130'): 'black',\n",
       " ('THOR/DR. DONALD BLAK', 'T 130/2'): 'black',\n",
       " ('THOR/DR. DONALD BLAK', 'T 131'): 'black',\n",
       " ('THOR/DR. DONALD BLAK', 'T 131/2'): 'black',\n",
       " ('THOR/DR. DONALD BLAK', 'T 132'): 'black',\n",
       " ('THOR/DR. DONALD BLAK', 'T 132/2'): 'black',\n",
       " ('THOR/DR. DONALD BLAK', 'T 133'): 'black',\n",
       " ('THOR/DR. DONALD BLAK', 'T 133/2'): 'black',\n",
       " ('THOR/DR. DONALD BLAK', 'T 134'): 'black',\n",
       " ('THOR/DR. DONALD BLAK', 'T 134/2'): 'black',\n",
       " ('THOR/DR. DONALD BLAK', 'T 135'): 'black',\n",
       " ('THOR/DR. DONALD BLAK', 'T 135/2'): 'black',\n",
       " ('THOR/DR. DONALD BLAK', 'T 136'): 'black',\n",
       " ('THOR/DR. DONALD BLAK', 'T 136/2'): 'black',\n",
       " ('THOR/DR. DONALD BLAK', 'T 137'): 'black',\n",
       " ('THOR/DR. DONALD BLAK', 'T 137/2'): 'black',\n",
       " ('THOR/DR. DONALD BLAK', 'T 138'): 'black',\n",
       " ('THOR/DR. DONALD BLAK', 'T 138/2'): 'black',\n",
       " ('THOR/DR. DONALD BLAK', 'T 139'): 'black',\n",
       " ('THOR/DR. DONALD BLAK', 'T 14'): 'black',\n",
       " ('THOR/DR. DONALD BLAK', 'T 140'): 'black',\n",
       " ('THOR/DR. DONALD BLAK', 'T 140/2'): 'black',\n",
       " ('THOR/DR. DONALD BLAK', 'T 141/2'): 'black',\n",
       " ('THOR/DR. DONALD BLAK', 'T 142'): 'black',\n",
       " ('THOR/DR. DONALD BLAK', 'T 142/2'): 'black',\n",
       " ('THOR/DR. DONALD BLAK', 'T 143'): 'black',\n",
       " ('THOR/DR. DONALD BLAK', 'T 143/2'): 'black',\n",
       " ('THOR/DR. DONALD BLAK', 'T 144'): 'black',\n",
       " ('THOR/DR. DONALD BLAK', 'T 144/2'): 'black',\n",
       " ('THOR/DR. DONALD BLAK', 'T 145'): 'black',\n",
       " ('THOR/DR. DONALD BLAK', 'T 145/2'): 'black',\n",
       " ('THOR/DR. DONALD BLAK', 'T 146'): 'black',\n",
       " ('THOR/DR. DONALD BLAK', 'T 147'): 'black',\n",
       " ('THOR/DR. DONALD BLAK', 'T 148'): 'black',\n",
       " ('THOR/DR. DONALD BLAK', 'T 149'): 'black',\n",
       " ('THOR/DR. DONALD BLAK', 'T 15'): 'black',\n",
       " ('THOR/DR. DONALD BLAK', 'T 150'): 'black',\n",
       " ('THOR/DR. DONALD BLAK', 'T 151'): 'black',\n",
       " ('THOR/DR. DONALD BLAK', 'T 152'): 'black',\n",
       " ('THOR/DR. DONALD BLAK', 'T 15/3'): 'black',\n",
       " ('THOR/DR. DONALD BLAK', 'T 153'): 'black',\n",
       " ('THOR/DR. DONALD BLAK', 'T 154'): 'black',\n",
       " ('THOR/DR. DONALD BLAK', 'T 155'): 'black',\n",
       " ('THOR/DR. DONALD BLAK', 'T 157'): 'black',\n",
       " ('THOR/DR. DONALD BLAK', 'T 158'): 'black',\n",
       " ('THOR/DR. DONALD BLAK', 'T 159'): 'black',\n",
       " ('THOR/DR. DONALD BLAK', 'T 160'): 'black',\n",
       " ('THOR/DR. DONALD BLAK', 'T 161'): 'black',\n",
       " ('THOR/DR. DONALD BLAK', 'T 162'): 'black',\n",
       " ('THOR/DR. DONALD BLAK', 'T 163'): 'black',\n",
       " ('THOR/DR. DONALD BLAK', 'T 164'): 'black',\n",
       " ('THOR/DR. DONALD BLAK', 'T 166'): 'black',\n",
       " ('THOR/DR. DONALD BLAK', 'T 167'): 'black',\n",
       " ('THOR/DR. DONALD BLAK', 'T 168'): 'black',\n",
       " ('THOR/DR. DONALD BLAK', 'T 169'): 'black',\n",
       " ('THOR/DR. DONALD BLAK', 'T 170'): 'black',\n",
       " ('THOR/DR. DONALD BLAK', 'T 171'): 'black',\n",
       " ('THOR/DR. DONALD BLAK', 'T 172'): 'black',\n",
       " ('THOR/DR. DONALD BLAK', 'T 173'): 'black',\n",
       " ('THOR/DR. DONALD BLAK', 'T 174'): 'black',\n",
       " ('THOR/DR. DONALD BLAK', 'T 175'): 'black',\n",
       " ('THOR/DR. DONALD BLAK', 'T 176'): 'black',\n",
       " ('THOR/DR. DONALD BLAK', 'T 177'): 'black',\n",
       " ('THOR/DR. DONALD BLAK', 'T 178'): 'black',\n",
       " ('THOR/DR. DONALD BLAK', 'T 179'): 'black',\n",
       " ('THOR/DR. DONALD BLAK', 'T 180'): 'black',\n",
       " ('THOR/DR. DONALD BLAK', 'T 181'): 'black',\n",
       " ('THOR/DR. DONALD BLAK', 'T 182'): 'black',\n",
       " ('THOR/DR. DONALD BLAK', 'T 184'): 'black',\n",
       " ('THOR/DR. DONALD BLAK', 'T 185'): 'black',\n",
       " ('THOR/DR. DONALD BLAK', 'T 186'): 'black',\n",
       " ('THOR/DR. DONALD BLAK', 'T 187'): 'black',\n",
       " ('THOR/DR. DONALD BLAK', 'T 189'): 'black',\n",
       " ('THOR/DR. DONALD BLAK', 'T 19'): 'black',\n",
       " ('THOR/DR. DONALD BLAK', 'T 190'): 'black',\n",
       " ('THOR/DR. DONALD BLAK', 'T 191'): 'black',\n",
       " ('THOR/DR. DONALD BLAK', 'T 19/2'): 'black',\n",
       " ('THOR/DR. DONALD BLAK', 'T 192'): 'black',\n",
       " ('THOR/DR. DONALD BLAK', 'T 193'): 'black',\n",
       " ('THOR/DR. DONALD BLAK', 'T 194'): 'black',\n",
       " ('THOR/DR. DONALD BLAK', 'T 195'): 'black',\n",
       " ('THOR/DR. DONALD BLAK', 'T 196'): 'black',\n",
       " ('THOR/DR. DONALD BLAK', 'T 197'): 'black',\n",
       " ('THOR/DR. DONALD BLAK', 'T 198'): 'black',\n",
       " ('THOR/DR. DONALD BLAK', 'T 199'): 'black',\n",
       " ('THOR/DR. DONALD BLAK', 'T 2'): 'black',\n",
       " ('THOR/DR. DONALD BLAK', 'T 200'): 'black',\n",
       " ('THOR/DR. DONALD BLAK', 'T 201'): 'black',\n",
       " ('THOR/DR. DONALD BLAK', 'T 202'): 'black',\n",
       " ('THOR/DR. DONALD BLAK', 'T 203'): 'black',\n",
       " ('THOR/DR. DONALD BLAK', 'T 204'): 'black',\n",
       " ('THOR/DR. DONALD BLAK', 'T 205'): 'black',\n",
       " ('THOR/DR. DONALD BLAK', 'T 206'): 'black',\n",
       " ('THOR/DR. DONALD BLAK', 'T 207'): 'black',\n",
       " ('THOR/DR. DONALD BLAK', 'T 208'): 'black',\n",
       " ('THOR/DR. DONALD BLAK', 'T 209'): 'black',\n",
       " ('THOR/DR. DONALD BLAK', 'T2 1'): 'black',\n",
       " ('THOR/DR. DONALD BLAK', 'T 210'): 'black',\n",
       " ('THOR/DR. DONALD BLAK', 'T2 10'): 'black',\n",
       " ('THOR/DR. DONALD BLAK', 'T 211'): 'black',\n",
       " ('THOR/DR. DONALD BLAK', 'T 212'): 'black',\n",
       " ('THOR/DR. DONALD BLAK', 'T2 12'): 'black',\n",
       " ('THOR/DR. DONALD BLAK', 'T 213'): 'black',\n",
       " ('THOR/DR. DONALD BLAK', 'T2 13'): 'black',\n",
       " ('THOR/DR. DONALD BLAK', 'T 214'): 'black',\n",
       " ('THOR/DR. DONALD BLAK', 'T2 14'): 'black',\n",
       " ('THOR/DR. DONALD BLAK', 'T 215'): 'black',\n",
       " ('THOR/DR. DONALD BLAK', 'T2 15'): 'black',\n",
       " ('THOR/DR. DONALD BLAK', 'T 216'): 'black',\n",
       " ('THOR/DR. DONALD BLAK', 'T2 16'): 'black',\n",
       " ('THOR/DR. DONALD BLAK', 'T 217'): 'black',\n",
       " ('THOR/DR. DONALD BLAK', 'T2 17'): 'black',\n",
       " ('THOR/DR. DONALD BLAK', 'T 218'): 'black',\n",
       " ('THOR/DR. DONALD BLAK', 'T2 18'): 'black',\n",
       " ('THOR/DR. DONALD BLAK', 'T 219'): 'black',\n",
       " ('THOR/DR. DONALD BLAK', 'T2 19'): 'black',\n",
       " ('THOR/DR. DONALD BLAK', 'T2 2'): 'black',\n",
       " ('THOR/DR. DONALD BLAK', 'T 220'): 'black',\n",
       " ('THOR/DR. DONALD BLAK', 'T2 20'): 'black',\n",
       " ('THOR/DR. DONALD BLAK', 'T 221'): 'black',\n",
       " ('THOR/DR. DONALD BLAK', 'T2 21'): 'black',\n",
       " ('THOR/DR. DONALD BLAK', 'T 222'): 'black',\n",
       " ('THOR/DR. DONALD BLAK', 'T2 22'): 'black',\n",
       " ('THOR/DR. DONALD BLAK', 'T 223'): 'black',\n",
       " ('THOR/DR. DONALD BLAK', 'T2 23'): 'black',\n",
       " ('THOR/DR. DONALD BLAK', 'T 224'): 'black',\n",
       " ('THOR/DR. DONALD BLAK', 'T2 24'): 'black',\n",
       " ('THOR/DR. DONALD BLAK', 'T 225'): 'black',\n",
       " ('THOR/DR. DONALD BLAK', 'T2 25'): 'black',\n",
       " ('THOR/DR. DONALD BLAK', 'T 226'): 'black',\n",
       " ('THOR/DR. DONALD BLAK', 'T2 26'): 'black',\n",
       " ('THOR/DR. DONALD BLAK', 'T 227'): 'black',\n",
       " ('THOR/DR. DONALD BLAK', 'T2 27'): 'black',\n",
       " ('THOR/DR. DONALD BLAK', 'T 228'): 'black',\n",
       " ('THOR/DR. DONALD BLAK', 'T2 28'): 'black',\n",
       " ('THOR/DR. DONALD BLAK', 'T 229'): 'black',\n",
       " ('THOR/DR. DONALD BLAK', 'T2 29'): 'black',\n",
       " ('THOR/DR. DONALD BLAK', 'T2 3'): 'black',\n",
       " ('THOR/DR. DONALD BLAK', 'T 230'): 'black',\n",
       " ('THOR/DR. DONALD BLAK', 'T2 30'): 'black',\n",
       " ('THOR/DR. DONALD BLAK', 'T 231'): 'black',\n",
       " ('THOR/DR. DONALD BLAK', 'T2 31'): 'black',\n",
       " ('THOR/DR. DONALD BLAK', 'T 232'): 'black',\n",
       " ('THOR/DR. DONALD BLAK', 'T2 32'): 'black',\n",
       " ('THOR/DR. DONALD BLAK', 'T 233'): 'black',\n",
       " ('THOR/DR. DONALD BLAK', 'T2 33'): 'black',\n",
       " ('THOR/DR. DONALD BLAK', 'T 234'): 'black',\n",
       " ('THOR/DR. DONALD BLAK', 'T2 34'): 'black',\n",
       " ('THOR/DR. DONALD BLAK', 'T 235'): 'black',\n",
       " ('THOR/DR. DONALD BLAK', 'T2 35'): 'black',\n",
       " ('THOR/DR. DONALD BLAK', 'T 236'): 'black',\n",
       " ('THOR/DR. DONALD BLAK', 'T2 36'): 'black',\n",
       " ('THOR/DR. DONALD BLAK', 'T 237'): 'black',\n",
       " ('THOR/DR. DONALD BLAK', 'T2 37'): 'black',\n",
       " ('THOR/DR. DONALD BLAK', 'T 238'): 'black',\n",
       " ('THOR/DR. DONALD BLAK', 'T2 38'): 'black',\n",
       " ('THOR/DR. DONALD BLAK', 'T 239'): 'black',\n",
       " ('THOR/DR. DONALD BLAK', 'T2 39'): 'black',\n",
       " ('THOR/DR. DONALD BLAK', 'T2 4'): 'black',\n",
       " ('THOR/DR. DONALD BLAK', 'T 240'): 'black',\n",
       " ('THOR/DR. DONALD BLAK', 'T 241'): 'black',\n",
       " ('THOR/DR. DONALD BLAK', 'T 242'): 'black',\n",
       " ('THOR/DR. DONALD BLAK', 'T 243'): 'black',\n",
       " ('THOR/DR. DONALD BLAK', 'T 244'): 'black',\n",
       " ('THOR/DR. DONALD BLAK', 'T 245'): 'black',\n",
       " ('THOR/DR. DONALD BLAK', 'T 246'): 'black',\n",
       " ('THOR/DR. DONALD BLAK', 'T 247'): 'black',\n",
       " ('THOR/DR. DONALD BLAK', 'T 248'): 'black',\n",
       " ('THOR/DR. DONALD BLAK', 'T 249'): 'black',\n",
       " ('THOR/DR. DONALD BLAK', 'T2 5'): 'black',\n",
       " ('THOR/DR. DONALD BLAK', 'T 250'): 'black',\n",
       " ('THOR/DR. DONALD BLAK', 'T 251'): 'black',\n",
       " ('THOR/DR. DONALD BLAK', 'T 252'): 'black',\n",
       " ('THOR/DR. DONALD BLAK', 'T 252/2'): 'black',\n",
       " ('THOR/DR. DONALD BLAK', 'T 253'): 'black',\n",
       " ('THOR/DR. DONALD BLAK', 'T 253/2'): 'black',\n",
       " ('THOR/DR. DONALD BLAK', 'T 255'): 'black',\n",
       " ('THOR/DR. DONALD BLAK', 'T 256'): 'black',\n",
       " ('THOR/DR. DONALD BLAK', 'T 257'): 'black',\n",
       " ('THOR/DR. DONALD BLAK', 'T 258'): 'black',\n",
       " ('THOR/DR. DONALD BLAK', 'T 259'): 'black',\n",
       " ('THOR/DR. DONALD BLAK', 'T2 6'): 'black',\n",
       " ('THOR/DR. DONALD BLAK', 'T 260'): 'black',\n",
       " ('THOR/DR. DONALD BLAK', 'T 261'): 'black',\n",
       " ('THOR/DR. DONALD BLAK', 'T 262'): 'black',\n",
       " ('THOR/DR. DONALD BLAK', 'T 263'): 'black',\n",
       " ('THOR/DR. DONALD BLAK', 'T 264'): 'black',\n",
       " ('THOR/DR. DONALD BLAK', 'T 265'): 'black',\n",
       " ('THOR/DR. DONALD BLAK', 'T 266'): 'black',\n",
       " ('THOR/DR. DONALD BLAK', 'T 267'): 'black',\n",
       " ('THOR/DR. DONALD BLAK', 'T 268'): 'black',\n",
       " ('THOR/DR. DONALD BLAK', 'T 269'): 'black',\n",
       " ('THOR/DR. DONALD BLAK', 'T2 7'): 'black',\n",
       " ('THOR/DR. DONALD BLAK', 'T 270'): 'black',\n",
       " ('THOR/DR. DONALD BLAK', 'T 271'): 'black',\n",
       " ('THOR/DR. DONALD BLAK', 'T 272'): 'black',\n",
       " ...}"
      ]
     },
     "execution_count": 65,
     "metadata": {},
     "output_type": "execute_result"
    }
   ],
   "source": [
    "edge_labels\n",
    "edge_color"
   ]
  },
  {
   "cell_type": "code",
   "execution_count": 72,
   "id": "a5e04fa9",
   "metadata": {},
   "outputs": [],
   "source": [
    "color = []\n",
    "size = []\n",
    "labels = []\n",
    "for node in G2_top_N:\n",
    "    if node in shortest_path:\n",
    "        color.append('green')\n",
    "        size.append(100)\n",
    "        labels.append(node)\n",
    "    else: \n",
    "        labels.append(' ')\n",
    "        size.append(10)\n",
    "        color.append('black')   "
   ]
  },
  {
   "cell_type": "code",
   "execution_count": 79,
   "id": "0cd84bdd",
   "metadata": {},
   "outputs": [
    {
     "data": {
      "image/png": "[encoded data removed]",
      "text/plain": [
       "<Figure size 864x864 with 1 Axes>"
      ]
     },
     "metadata": {},
     "output_type": "display_data"
    }
   ],
   "source": [
    "import pylab \n",
    "pos = nx.spring_layout(G2_top_N)\n",
    "plt.figure(3,figsize=(12,12))\n",
    "#pylab.figure(1)\n",
    "nx.draw(G2_top_N,pos,node_color = color,node_size = size,with_labels=True)\n",
    "nx.draw_networkx_edge_labels(G2_top_N,pos,edge_labels=edge_labels)\n",
    "plt.show()"
   ]
  },
  {
   "cell_type": "markdown",
   "id": "0bd414c8",
   "metadata": {},
   "source": [
    "### shortest path of comics"
   ]
  },
  {
   "cell_type": "code",
   "execution_count": 98,
   "id": "f4eb4c26",
   "metadata": {},
   "outputs": [],
   "source": [
    "shortest_comic = [i for i in shortest_path if i in df_edges.comic.to_numpy()]"
   ]
  },
  {
   "cell_type": "code",
   "execution_count": 107,
   "id": "e69861b2",
   "metadata": {},
   "outputs": [],
   "source": [
    "path = shortest_comic[0]\n",
    "for i in shortest_comic:\n",
    "    path = path + ' -> ' + i"
   ]
  },
  {
   "cell_type": "code",
   "execution_count": 108,
   "id": "2b3f18a6",
   "metadata": {},
   "outputs": [
    {
     "name": "stdout",
     "output_type": "stream",
     "text": [
      "A 11 -> A 11 -> A '00 -> A 1 -> A 1\n"
     ]
    }
   ],
   "source": [
    "print(path)"
   ]
  },
  {
   "cell_type": "code",
   "execution_count": null,
   "id": "7085156c",
   "metadata": {},
   "outputs": [],
   "source": []
  },
  {
   "cell_type": "code",
   "execution_count": null,
   "id": "e40a26bb",
   "metadata": {},
   "outputs": [],
   "source": []
  },
  {
   "cell_type": "markdown",
   "id": "659f90e5",
   "metadata": {},
   "source": [
    "## vecchio codice"
   ]
  },
  {
   "cell_type": "code",
   "execution_count": null,
   "id": "3797a8af",
   "metadata": {},
   "outputs": [],
   "source": [
    "# PROVA\n",
    "nodes = set(nx.all_neighbors(G2,'3-D MAN/CHARLES CHAN' ))\n",
    "nodes.add('3-D MAN/CHARLES CHAN')\n",
    "l = list(nx.all_neighbors(G2,'ROSS, GEN. THADDEUS' ))\n",
    "for i in l:\n",
    "    nodes.add(i)\n",
    "nodes.add('ROSS, GEN. THADDEUS')\n",
    "len(nodes)\n",
    "G2_new = G2.subgraph(nodes)"
   ]
  },
  {
   "cell_type": "code",
   "execution_count": 96,
   "id": "7b741aa5",
   "metadata": {},
   "outputs": [],
   "source": [
    "def top_N(df,N,G):\n",
    "    df_new = df.groupby(['hero'])['hero'].count().reset_index(name=\"count\")\n",
    "    df_new= df_new.sort_values(by = 'count',ascending=False)\n",
    "    df_new = df_new.head(N)\n",
    "    nodes=[df_new['hero'][i] for i in df_new.index]\n",
    "    \n",
    "    new_nodes = set(nodes)\n",
    "    for i in nodes:\n",
    "        app = list(df_edges.loc[df_edges['hero']==i]['comic'])\n",
    "        new_nodes.update(app)\n",
    "        \n",
    "    G_top_N = G.subgraph(new_nodes)\n",
    "    return G_top_N"
   ]
  },
  {
   "cell_type": "code",
   "execution_count": 97,
   "id": "d33f1279",
   "metadata": {},
   "outputs": [],
   "source": [
    "def shortest_path(G2,node,path,final_node,visited,shortest_one,att):\n",
    "    if node == final_node and att[node]=='hero':\n",
    "        path.append(node)\n",
    "        if len(path) < len(shortest_one):\n",
    "            shortest_one = path.copy()\n",
    "        path.pop(len(path)-1)\n",
    "        return shortest_one\n",
    "    \n",
    "    else:\n",
    "        for new_node in list(nx.all_neighbors(G2, node)):\n",
    "            if new_node not in visited:\n",
    "                if att[new_node]=='comic':\n",
    "                    path.append(new_node)\n",
    "                visited.append(new_node)\n",
    "                shortest_one = shortest_path(G2,new_node,path,final_node,visited,shortest_one,att)\n",
    "                if att[new_node]=='comic':\n",
    "                    path.pop(len(path)-1)\n",
    "                visited.pop(len(visited)-1)   \n",
    "        return shortest_one"
   ]
  },
  {
   "cell_type": "code",
   "execution_count": 98,
   "id": "60eadd26",
   "metadata": {},
   "outputs": [],
   "source": [
    "def functionality_3(G2, N, h_1, h_2):\n",
    "    if N:\n",
    "        N = int(N)\n",
    "        G2 = top_N(df_edges,N,G2)\n",
    "    att = nx.get_node_attributes(G2, \"type\")\n",
    "    if not nx.is_connected(G2):\n",
    "        result = 'There is not such path because the graph is not connected'\n",
    "        return result\n",
    "    if h_1  not in list(G2.nodes) or h_2 not in list(G2.nodes):\n",
    "        result = 'There is not such path'\n",
    "        return result\n",
    "    shortest_one = list(range(0,len(G2.nodes)))\n",
    "    shortest_one = shortest_path(G2,h_1,[h_1],h_2,[h_1],shortest_one,att)\n",
    "    return shortest_one"
   ]
  },
  {
   "cell_type": "code",
   "execution_count": 104,
   "id": "ff406d11",
   "metadata": {},
   "outputs": [
    {
     "name": "stdout",
     "output_type": "stream",
     "text": [
      "5\n"
     ]
    }
   ],
   "source": [
    "N = input()"
   ]
  },
  {
   "cell_type": "code",
   "execution_count": 105,
   "id": "82aa034f",
   "metadata": {},
   "outputs": [
    {
     "name": "stdout",
     "output_type": "stream",
     "text": [
      "['SPIDER-MAN/PETER PARKER', 'CAPTAIN AMERICA', 'IRON MAN/TONY STARK', 'THING/BENJAMIN J. GR', 'THOR/DR. DONALD BLAK']\n"
     ]
    },
    {
     "ename": "KeyboardInterrupt",
     "evalue": "",
     "output_type": "error",
     "traceback": [
      "\u001b[1;31m---------------------------------------------------------------------------\u001b[0m",
      "\u001b[1;31mKeyboardInterrupt\u001b[0m                         Traceback (most recent call last)",
      "Input \u001b[1;32mIn [105]\u001b[0m, in \u001b[0;36m<cell line: 1>\u001b[1;34m()\u001b[0m\n\u001b[1;32m----> 1\u001b[0m \u001b[38;5;28mprint\u001b[39m(\u001b[43mfunctionality_3\u001b[49m\u001b[43m(\u001b[49m\u001b[43mG2\u001b[49m\u001b[43m,\u001b[49m\u001b[43mN\u001b[49m\u001b[43m,\u001b[49m\u001b[38;5;124;43m'\u001b[39;49m\u001b[38;5;124;43mSPIDER-MAN/PETER PARKER\u001b[39;49m\u001b[38;5;124;43m'\u001b[39;49m\u001b[43m,\u001b[49m\u001b[38;5;124;43m'\u001b[39;49m\u001b[38;5;124;43mTHOR/DR. DONALD BLAK\u001b[39;49m\u001b[38;5;124;43m'\u001b[39;49m\u001b[43m)\u001b[49m)\n",
      "Input \u001b[1;32mIn [98]\u001b[0m, in \u001b[0;36mfunctionality_3\u001b[1;34m(G2, N, h_1, h_2)\u001b[0m\n\u001b[0;32m     11\u001b[0m     \u001b[38;5;28;01mreturn\u001b[39;00m result\n\u001b[0;32m     12\u001b[0m shortest_one \u001b[38;5;241m=\u001b[39m \u001b[38;5;28mlist\u001b[39m(\u001b[38;5;28mrange\u001b[39m(\u001b[38;5;241m0\u001b[39m,\u001b[38;5;28mlen\u001b[39m(G2\u001b[38;5;241m.\u001b[39mnodes)))\n\u001b[1;32m---> 13\u001b[0m shortest_one \u001b[38;5;241m=\u001b[39m \u001b[43mshortest_path\u001b[49m\u001b[43m(\u001b[49m\u001b[43mG2\u001b[49m\u001b[43m,\u001b[49m\u001b[43mh_1\u001b[49m\u001b[43m,\u001b[49m\u001b[43m[\u001b[49m\u001b[43mh_1\u001b[49m\u001b[43m]\u001b[49m\u001b[43m,\u001b[49m\u001b[43mh_2\u001b[49m\u001b[43m,\u001b[49m\u001b[43m[\u001b[49m\u001b[43mh_1\u001b[49m\u001b[43m]\u001b[49m\u001b[43m,\u001b[49m\u001b[43mshortest_one\u001b[49m\u001b[43m,\u001b[49m\u001b[43matt\u001b[49m\u001b[43m)\u001b[49m\n\u001b[0;32m     14\u001b[0m \u001b[38;5;28;01mreturn\u001b[39;00m shortest_one\n",
      "Input \u001b[1;32mIn [97]\u001b[0m, in \u001b[0;36mshortest_path\u001b[1;34m(G2, node, path, final_node, visited, shortest_one, att)\u001b[0m\n\u001b[0;32m     13\u001b[0m     path\u001b[38;5;241m.\u001b[39mappend(new_node)\n\u001b[0;32m     14\u001b[0m visited\u001b[38;5;241m.\u001b[39mappend(new_node)\n\u001b[1;32m---> 15\u001b[0m shortest_one \u001b[38;5;241m=\u001b[39m \u001b[43mshortest_path\u001b[49m\u001b[43m(\u001b[49m\u001b[43mG2\u001b[49m\u001b[43m,\u001b[49m\u001b[43mnew_node\u001b[49m\u001b[43m,\u001b[49m\u001b[43mpath\u001b[49m\u001b[43m,\u001b[49m\u001b[43mfinal_node\u001b[49m\u001b[43m,\u001b[49m\u001b[43mvisited\u001b[49m\u001b[43m,\u001b[49m\u001b[43mshortest_one\u001b[49m\u001b[43m,\u001b[49m\u001b[43matt\u001b[49m\u001b[43m)\u001b[49m\n\u001b[0;32m     16\u001b[0m \u001b[38;5;28;01mif\u001b[39;00m att[new_node]\u001b[38;5;241m==\u001b[39m\u001b[38;5;124m'\u001b[39m\u001b[38;5;124mcomic\u001b[39m\u001b[38;5;124m'\u001b[39m:\n\u001b[0;32m     17\u001b[0m     path\u001b[38;5;241m.\u001b[39mpop(\u001b[38;5;28mlen\u001b[39m(path)\u001b[38;5;241m-\u001b[39m\u001b[38;5;241m1\u001b[39m)\n",
      "Input \u001b[1;32mIn [97]\u001b[0m, in \u001b[0;36mshortest_path\u001b[1;34m(G2, node, path, final_node, visited, shortest_one, att)\u001b[0m\n\u001b[0;32m     13\u001b[0m     path\u001b[38;5;241m.\u001b[39mappend(new_node)\n\u001b[0;32m     14\u001b[0m visited\u001b[38;5;241m.\u001b[39mappend(new_node)\n\u001b[1;32m---> 15\u001b[0m shortest_one \u001b[38;5;241m=\u001b[39m \u001b[43mshortest_path\u001b[49m\u001b[43m(\u001b[49m\u001b[43mG2\u001b[49m\u001b[43m,\u001b[49m\u001b[43mnew_node\u001b[49m\u001b[43m,\u001b[49m\u001b[43mpath\u001b[49m\u001b[43m,\u001b[49m\u001b[43mfinal_node\u001b[49m\u001b[43m,\u001b[49m\u001b[43mvisited\u001b[49m\u001b[43m,\u001b[49m\u001b[43mshortest_one\u001b[49m\u001b[43m,\u001b[49m\u001b[43matt\u001b[49m\u001b[43m)\u001b[49m\n\u001b[0;32m     16\u001b[0m \u001b[38;5;28;01mif\u001b[39;00m att[new_node]\u001b[38;5;241m==\u001b[39m\u001b[38;5;124m'\u001b[39m\u001b[38;5;124mcomic\u001b[39m\u001b[38;5;124m'\u001b[39m:\n\u001b[0;32m     17\u001b[0m     path\u001b[38;5;241m.\u001b[39mpop(\u001b[38;5;28mlen\u001b[39m(path)\u001b[38;5;241m-\u001b[39m\u001b[38;5;241m1\u001b[39m)\n",
      "    \u001b[1;31m[... skipping similar frames: shortest_path at line 15 (4 times)]\u001b[0m\n",
      "Input \u001b[1;32mIn [97]\u001b[0m, in \u001b[0;36mshortest_path\u001b[1;34m(G2, node, path, final_node, visited, shortest_one, att)\u001b[0m\n\u001b[0;32m     13\u001b[0m     path\u001b[38;5;241m.\u001b[39mappend(new_node)\n\u001b[0;32m     14\u001b[0m visited\u001b[38;5;241m.\u001b[39mappend(new_node)\n\u001b[1;32m---> 15\u001b[0m shortest_one \u001b[38;5;241m=\u001b[39m \u001b[43mshortest_path\u001b[49m\u001b[43m(\u001b[49m\u001b[43mG2\u001b[49m\u001b[43m,\u001b[49m\u001b[43mnew_node\u001b[49m\u001b[43m,\u001b[49m\u001b[43mpath\u001b[49m\u001b[43m,\u001b[49m\u001b[43mfinal_node\u001b[49m\u001b[43m,\u001b[49m\u001b[43mvisited\u001b[49m\u001b[43m,\u001b[49m\u001b[43mshortest_one\u001b[49m\u001b[43m,\u001b[49m\u001b[43matt\u001b[49m\u001b[43m)\u001b[49m\n\u001b[0;32m     16\u001b[0m \u001b[38;5;28;01mif\u001b[39;00m att[new_node]\u001b[38;5;241m==\u001b[39m\u001b[38;5;124m'\u001b[39m\u001b[38;5;124mcomic\u001b[39m\u001b[38;5;124m'\u001b[39m:\n\u001b[0;32m     17\u001b[0m     path\u001b[38;5;241m.\u001b[39mpop(\u001b[38;5;28mlen\u001b[39m(path)\u001b[38;5;241m-\u001b[39m\u001b[38;5;241m1\u001b[39m)\n",
      "Input \u001b[1;32mIn [97]\u001b[0m, in \u001b[0;36mshortest_path\u001b[1;34m(G2, node, path, final_node, visited, shortest_one, att)\u001b[0m\n\u001b[0;32m      7\u001b[0m     \u001b[38;5;28;01mreturn\u001b[39;00m shortest_one\n\u001b[0;32m      9\u001b[0m \u001b[38;5;28;01melse\u001b[39;00m:\n\u001b[1;32m---> 10\u001b[0m     \u001b[38;5;28;01mfor\u001b[39;00m new_node \u001b[38;5;129;01min\u001b[39;00m \u001b[38;5;28mlist\u001b[39m(\u001b[43mnx\u001b[49m\u001b[38;5;241;43m.\u001b[39;49m\u001b[43mall_neighbors\u001b[49m\u001b[43m(\u001b[49m\u001b[43mG2\u001b[49m\u001b[43m,\u001b[49m\u001b[43m \u001b[49m\u001b[43mnode\u001b[49m\u001b[43m)\u001b[49m):\n\u001b[0;32m     11\u001b[0m         \u001b[38;5;28;01mif\u001b[39;00m new_node \u001b[38;5;129;01mnot\u001b[39;00m \u001b[38;5;129;01min\u001b[39;00m visited:\n\u001b[0;32m     12\u001b[0m             \u001b[38;5;28;01mif\u001b[39;00m att[new_node]\u001b[38;5;241m==\u001b[39m\u001b[38;5;124m'\u001b[39m\u001b[38;5;124mcomic\u001b[39m\u001b[38;5;124m'\u001b[39m:\n",
      "File \u001b[1;32m~\\anaconda3\\lib\\site-packages\\networkx\\classes\\function.py:914\u001b[0m, in \u001b[0;36mall_neighbors\u001b[1;34m(graph, node)\u001b[0m\n\u001b[0;32m    912\u001b[0m     values \u001b[38;5;241m=\u001b[39m chain(graph\u001b[38;5;241m.\u001b[39mpredecessors(node), graph\u001b[38;5;241m.\u001b[39msuccessors(node))\n\u001b[0;32m    913\u001b[0m \u001b[38;5;28;01melse\u001b[39;00m:\n\u001b[1;32m--> 914\u001b[0m     values \u001b[38;5;241m=\u001b[39m \u001b[43mgraph\u001b[49m\u001b[38;5;241;43m.\u001b[39;49m\u001b[43mneighbors\u001b[49m\u001b[43m(\u001b[49m\u001b[43mnode\u001b[49m\u001b[43m)\u001b[49m\n\u001b[0;32m    915\u001b[0m \u001b[38;5;28;01mreturn\u001b[39;00m values\n",
      "File \u001b[1;32m~\\anaconda3\\lib\\site-packages\\networkx\\classes\\graph.py:1289\u001b[0m, in \u001b[0;36mGraph.neighbors\u001b[1;34m(self, n)\u001b[0m\n\u001b[0;32m   1251\u001b[0m \u001b[38;5;124;03m\"\"\"Returns an iterator over all neighbors of node n.\u001b[39;00m\n\u001b[0;32m   1252\u001b[0m \n\u001b[0;32m   1253\u001b[0m \u001b[38;5;124;03mThis is identical to `iter(G[n])`\u001b[39;00m\n\u001b[1;32m   (...)\u001b[0m\n\u001b[0;32m   1286\u001b[0m \u001b[38;5;124;03m[1]\u001b[39;00m\n\u001b[0;32m   1287\u001b[0m \u001b[38;5;124;03m\"\"\"\u001b[39;00m\n\u001b[0;32m   1288\u001b[0m \u001b[38;5;28;01mtry\u001b[39;00m:\n\u001b[1;32m-> 1289\u001b[0m     \u001b[38;5;28;01mreturn\u001b[39;00m \u001b[38;5;28miter\u001b[39m(\u001b[38;5;28;43mself\u001b[39;49m\u001b[38;5;241;43m.\u001b[39;49m\u001b[43m_adj\u001b[49m\u001b[43m[\u001b[49m\u001b[43mn\u001b[49m\u001b[43m]\u001b[49m)\n\u001b[0;32m   1290\u001b[0m \u001b[38;5;28;01mexcept\u001b[39;00m \u001b[38;5;167;01mKeyError\u001b[39;00m \u001b[38;5;28;01mas\u001b[39;00m err:\n\u001b[0;32m   1291\u001b[0m     \u001b[38;5;28;01mraise\u001b[39;00m NetworkXError(\u001b[38;5;124mf\u001b[39m\u001b[38;5;124m\"\u001b[39m\u001b[38;5;124mThe node \u001b[39m\u001b[38;5;132;01m{\u001b[39;00mn\u001b[38;5;132;01m}\u001b[39;00m\u001b[38;5;124m is not in the graph.\u001b[39m\u001b[38;5;124m\"\u001b[39m) \u001b[38;5;28;01mfrom\u001b[39;00m \u001b[38;5;21;01merr\u001b[39;00m\n",
      "File \u001b[1;32m~\\anaconda3\\lib\\site-packages\\networkx\\classes\\coreviews.py:333\u001b[0m, in \u001b[0;36mFilterAdjacency.__getitem__\u001b[1;34m(self, node)\u001b[0m\n\u001b[0;32m    330\u001b[0m         \u001b[38;5;28;01mreturn\u001b[39;00m (n \u001b[38;5;28;01mfor\u001b[39;00m n \u001b[38;5;129;01min\u001b[39;00m \u001b[38;5;28mself\u001b[39m\u001b[38;5;241m.\u001b[39mNODE_OK\u001b[38;5;241m.\u001b[39mnodes \u001b[38;5;28;01mif\u001b[39;00m n \u001b[38;5;129;01min\u001b[39;00m \u001b[38;5;28mself\u001b[39m\u001b[38;5;241m.\u001b[39m_atlas)\n\u001b[0;32m    331\u001b[0m     \u001b[38;5;28;01mreturn\u001b[39;00m (n \u001b[38;5;28;01mfor\u001b[39;00m n \u001b[38;5;129;01min\u001b[39;00m \u001b[38;5;28mself\u001b[39m\u001b[38;5;241m.\u001b[39m_atlas \u001b[38;5;28;01mif\u001b[39;00m \u001b[38;5;28mself\u001b[39m\u001b[38;5;241m.\u001b[39mNODE_OK(n))\n\u001b[1;32m--> 333\u001b[0m \u001b[38;5;28;01mdef\u001b[39;00m \u001b[38;5;21m__getitem__\u001b[39m(\u001b[38;5;28mself\u001b[39m, node):\n\u001b[0;32m    334\u001b[0m     \u001b[38;5;28;01mif\u001b[39;00m node \u001b[38;5;129;01min\u001b[39;00m \u001b[38;5;28mself\u001b[39m\u001b[38;5;241m.\u001b[39m_atlas \u001b[38;5;129;01mand\u001b[39;00m \u001b[38;5;28mself\u001b[39m\u001b[38;5;241m.\u001b[39mNODE_OK(node):\n\u001b[0;32m    336\u001b[0m         \u001b[38;5;28;01mdef\u001b[39;00m \u001b[38;5;21mnew_node_ok\u001b[39m(nbr):\n",
      "\u001b[1;31mKeyboardInterrupt\u001b[0m: "
     ]
    }
   ],
   "source": [
    "print(functionality_3(G2,N,'SPIDER-MAN/PETER PARKER','THOR/DR. DONALD BLAK'))"
   ]
  },
  {
   "cell_type": "code",
   "execution_count": 48,
   "id": "ecab5001",
   "metadata": {},
   "outputs": [
    {
     "name": "stdout",
     "output_type": "stream",
     "text": [
      "['3-D MAN/CHARLES CHAN', 'H2 251', 'ROSS, GEN. THADDEUS']\n"
     ]
    }
   ],
   "source": [
    "print(functionality_3(G2_new,N,'3-D MAN/CHARLES CHAN','ROSS, GEN. THADDEUS'))"
   ]
  },
  {
   "cell_type": "code",
   "execution_count": 35,
   "id": "2b7f3a13",
   "metadata": {},
   "outputs": [
    {
     "data": {
      "text/plain": [
       "['THOR/DR. DONALD BLAK', 'A 11', 'SPIDER-MAN/PETER PARKER']"
      ]
     },
     "execution_count": 35,
     "metadata": {},
     "output_type": "execute_result"
    }
   ],
   "source": [
    "nx.shortest_path(G2, source='THOR/DR. DONALD BLAK', target='SPIDER-MAN/PETER PARKER', weight=None)"
   ]
  },
  {
   "cell_type": "code",
   "execution_count": 45,
   "id": "d44347d0",
   "metadata": {},
   "outputs": [
    {
     "data": {
      "text/plain": [
       "['3-D MAN/CHARLES CHAN', 'H2 251', 'ROSS, GEN. THADDEUS']"
      ]
     },
     "execution_count": 45,
     "metadata": {},
     "output_type": "execute_result"
    }
   ],
   "source": [
    "nx.shortest_path(G, source='3-D MAN/CHARLES CHAN', target='ROSS, GEN. THADDEUS', weight=None)"
   ]
  },
  {
   "cell_type": "code",
   "execution_count": null,
   "id": "0d106fec",
   "metadata": {},
   "outputs": [],
   "source": []
  },
  {
   "cell_type": "code",
   "execution_count": null,
   "id": "632abeb2",
   "metadata": {},
   "outputs": [],
   "source": []
  },
  {
   "cell_type": "code",
   "execution_count": null,
   "id": "7038592d",
   "metadata": {},
   "outputs": [],
   "source": []
  },
  {
   "cell_type": "code",
   "execution_count": null,
   "id": "f85630a9",
   "metadata": {},
   "outputs": [],
   "source": []
  },
  {
   "cell_type": "code",
   "execution_count": null,
   "id": "1b919aac",
   "metadata": {},
   "outputs": [],
   "source": []
  },
  {
   "cell_type": "code",
   "execution_count": null,
   "id": "7006e36c",
   "metadata": {},
   "outputs": [],
   "source": []
  },
  {
   "cell_type": "code",
   "execution_count": null,
   "id": "2e05eff7",
   "metadata": {},
   "outputs": [],
   "source": []
  },
  {
   "cell_type": "code",
   "execution_count": null,
   "id": "2d846cf1",
   "metadata": {},
   "outputs": [],
   "source": []
  },
  {
   "cell_type": "code",
   "execution_count": null,
   "id": "b0340df8",
   "metadata": {},
   "outputs": [],
   "source": []
  },
  {
   "cell_type": "markdown",
   "id": "bb7eb863",
   "metadata": {},
   "source": [
    "## Functionality 4 - Disconnecting Graphs (da rivedere/continuare)"
   ]
  },
  {
   "cell_type": "markdown",
   "id": "ae3a5643",
   "metadata": {},
   "source": [
    "Input:\n",
    "\n",
    "- The graph data\n",
    "- heroA: a superhero to which will relate sub-graph G_a\n",
    "- heroB: a superhero to which will relate sub-graph G_b\n",
    "- N: denoting the top N heroes that their data should be considered\n",
    "\n",
    "\n",
    "Output:\n",
    "\n",
    "- The minimum number of links (by considering their weights) required to disconnect the original graph in two disconnected subgraphs: G_a and G_b."
   ]
  },
  {
   "cell_type": "code",
   "execution_count": 69,
   "id": "b37d525a",
   "metadata": {},
   "outputs": [
    {
     "name": "stdout",
     "output_type": "stream",
     "text": [
      "False\n",
      "False\n"
     ]
    }
   ],
   "source": [
    "print(nx.is_connected(G1))\n",
    "print(nx.is_connected(G2))"
   ]
  },
  {
   "cell_type": "code",
   "execution_count": 14,
   "id": "81f661c3",
   "metadata": {},
   "outputs": [],
   "source": [
    "# nx.connected_components gets the list of components,\n",
    "# max() command returns the largest one\n",
    "components = nx.connected_components(G1)\n",
    "largest_component = max(components, key=len)"
   ]
  },
  {
   "cell_type": "code",
   "execution_count": 16,
   "id": "95f3c96c",
   "metadata": {},
   "outputs": [
    {
     "data": {
      "text/plain": [
       "['3-D MAN/CHARLES CHAN',\n",
       " 'AJAK/TECUMOTZIN [ETE',\n",
       " 'ANGEL/WARREN KENNETH',\n",
       " 'ANT-MAN II/SCOTT HAR',\n",
       " 'ANT-MAN/DR. HENRY J.',\n",
       " 'ANTOINETTE, MARIE',\n",
       " 'ARABIAN KNIGHT/ABDUL',\n",
       " 'ARBOGAST, BAMBI',\n",
       " 'ASTROVIK, NORMA',\n",
       " 'ATTUMA']"
      ]
     },
     "execution_count": 16,
     "metadata": {},
     "output_type": "execute_result"
    }
   ],
   "source": [
    "# returns neighbors\n",
    "sorted(list(G1.neighbors('JOCASTA')))[:10]"
   ]
  },
  {
   "cell_type": "code",
   "execution_count": 105,
   "id": "4e06d942",
   "metadata": {},
   "outputs": [
    {
     "data": {
      "text/plain": [
       "['24-HOUR MAN/EMMANUEL',\n",
       " '3-D MAN/CHARLES CHAN',\n",
       " '4-D MAN/MERCURIO',\n",
       " '8-BALL',\n",
       " 'A',\n",
       " \"A'YIN\",\n",
       " 'ABBOTT, JACK',\n",
       " 'ABCISSA',\n",
       " 'ABEL',\n",
       " 'ABOMINATION | MUTANT']"
      ]
     },
     "execution_count": 105,
     "metadata": {},
     "output_type": "execute_result"
    }
   ],
   "source": [
    "# returns all nodes reachable from source in G\n",
    "sorted(list(nx.descendants(G1, 'JOCASTA')))[:10]"
   ]
  },
  {
   "cell_type": "code",
   "execution_count": 15,
   "id": "1d90c78a",
   "metadata": {},
   "outputs": [],
   "source": [
    "# add N\n",
    "def disconneting_graphs(G, heroA, heroB):\n",
    "    G_a = []\n",
    "    G_b = []\n",
    "\n",
    "    for edge in list(G.edges()):\n",
    "        if heroA in edge:\n",
    "            G_a.append(edge)\n",
    "\n",
    "    for edge in list(G.edges()):\n",
    "        if heroB in edge:\n",
    "            G_b.append(edge)\n",
    "\n",
    "    return G_a, G_b, len(G_a) + len(G_b)"
   ]
  },
  {
   "cell_type": "code",
   "execution_count": 17,
   "id": "64eafc4b",
   "metadata": {},
   "outputs": [
    {
     "name": "stdout",
     "output_type": "stream",
     "text": [
      "760\n"
     ]
    }
   ],
   "source": [
    "G_a, G_b, result = disconneting_graphs(G1, 'JOCASTA', '8-BALL')\n",
    "print(result)"
   ]
  },
  {
   "cell_type": "code",
   "execution_count": 102,
   "id": "79b0c5be",
   "metadata": {},
   "outputs": [],
   "source": [
    "newG1 = G1.copy()\n",
    "newG1.remove_edges_from(G_a)\n",
    "newG1.remove_edges_from(G_b)"
   ]
  },
  {
   "cell_type": "code",
   "execution_count": 108,
   "id": "c048f6b4",
   "metadata": {},
   "outputs": [
    {
     "data": {
      "text/plain": [
       "760"
      ]
     },
     "execution_count": 108,
     "metadata": {},
     "output_type": "execute_result"
    }
   ],
   "source": [
    "G1.number_of_edges() - newG1.number_of_edges()"
   ]
  },
  {
   "cell_type": "code",
   "execution_count": 106,
   "id": "de8bad42",
   "metadata": {},
   "outputs": [
    {
     "name": "stdout",
     "output_type": "stream",
     "text": [
      "0\n",
      "0\n"
     ]
    }
   ],
   "source": [
    "print(len(list(newG1.neighbors('JOCASTA'))))\n",
    "print(len(list(newG1.neighbors('8-BALL'))))\n"
   ]
  }
 ],
 "metadata": {
  "kernelspec": {
   "display_name": "Python 3 (ipykernel)",
   "language": "python",
   "name": "python3"
  },
  "language_info": {
   "codemirror_mode": {
    "name": "ipython",
    "version": 3
   },
   "file_extension": ".py",
   "mimetype": "text/x-python",
   "name": "python",
   "nbconvert_exporter": "python",
   "pygments_lexer": "ipython3",
   "version": "3.9.12"
  },
  "vscode": {
   "interpreter": {
    "hash": "979bf14ea64443ff3ffb738d52926696eb30c1bf62b3b549289c26deae58448a"
   }
  }
 },
 "nbformat": 4,
 "nbformat_minor": 5
}
