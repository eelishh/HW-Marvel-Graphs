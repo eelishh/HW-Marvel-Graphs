{
 "cells": [
  {
   "cell_type": "code",
   "execution_count": 1,
   "id": "f9753d1d",
   "metadata": {},
   "outputs": [],
   "source": [
    "import pandas as pd\n",
    "import matplotlib.pyplot as plt\n",
    "import networkx as nx\n",
    "import numpy as np"
   ]
  },
  {
   "cell_type": "code",
   "execution_count": 2,
   "id": "9923f12d",
   "metadata": {},
   "outputs": [
    {
     "name": "stdout",
     "output_type": "stream",
     "text": [
      "Requirement already satisfied: scipy in c:\\users\\auror\\anaconda3\\lib\\site-packages (1.7.3)\n",
      "Collecting scipy\n",
      "  Downloading scipy-1.9.3-cp39-cp39-win_amd64.whl (40.2 MB)\n",
      "Requirement already satisfied: networkx in c:\\users\\auror\\anaconda3\\lib\\site-packages (2.7.1)\n",
      "Collecting networkx\n",
      "  Downloading networkx-2.8.8-py3-none-any.whl (2.0 MB)\n",
      "Requirement already satisfied: numpy<1.26.0,>=1.18.5 in c:\\users\\auror\\anaconda3\\lib\\site-packages (from scipy) (1.21.5)\n",
      "Installing collected packages: scipy, networkx\n",
      "  Attempting uninstall: scipy\n",
      "    Found existing installation: scipy 1.7.3\n",
      "    Uninstalling scipy-1.7.3:\n",
      "      Successfully uninstalled scipy-1.7.3\n",
      "  Attempting uninstall: networkx\n",
      "    Found existing installation: networkx 2.7.1\n",
      "    Uninstalling networkx-2.7.1:\n",
      "      Successfully uninstalled networkx-2.7.1\n",
      "Successfully installed networkx-2.8.8 scipy-1.9.3\n",
      "Note: you may need to restart the kernel to use updated packages.\n"
     ]
    }
   ],
   "source": [
    "pip install --upgrade scipy networkx"
   ]
  },
  {
   "cell_type": "markdown",
   "id": "23e0c101",
   "metadata": {},
   "source": [
    "# 1. Data"
   ]
  },
  {
   "cell_type": "code",
   "execution_count": 2,
   "id": "210259fd",
   "metadata": {},
   "outputs": [],
   "source": [
    "df_hero_net = pd.read_csv(r\"hero-network.csv\")\n",
    "df_edges = pd.read_csv(r\"edges.csv\")\n",
    "df_nodes = pd.read_csv(r\"nodes.csv\")"
   ]
  },
  {
   "cell_type": "code",
   "execution_count": 3,
   "id": "9544a60e",
   "metadata": {},
   "outputs": [
    {
     "name": "stdout",
     "output_type": "stream",
     "text": [
      "node    12651\n",
      "type    12651\n",
      "dtype: int64 node    6439\n",
      "type    6439\n",
      "dtype: int64\n"
     ]
    }
   ],
   "source": [
    "n_comics = df_nodes[df_nodes.type == 'comic'].count()\n",
    "n_heros = df_nodes[df_nodes.type == 'hero'].count()\n",
    "print(n_comics, n_heros)"
   ]
  },
  {
   "cell_type": "markdown",
   "id": "a8d182a6",
   "metadata": {},
   "source": [
    "## 1.1 Pre-processing "
   ]
  },
  {
   "cell_type": "code",
   "execution_count": 4,
   "id": "de9b3b43",
   "metadata": {},
   "outputs": [],
   "source": [
    "df_hero_net[\"hero1\"] = df_hero_net[\"hero1\"].apply(lambda x: x[0:-1] if list(x)[-1] in [' ', '/'] else x)\n",
    "df_hero_net[\"hero2\"] = df_hero_net[\"hero2\"].apply(lambda x: x[0:-1] if list(x)[-1] in [' ', '/'] else x)"
   ]
  },
  {
   "cell_type": "code",
   "execution_count": 98,
   "id": "7e0e6c03",
   "metadata": {},
   "outputs": [],
   "source": [
    "df_nodes[\"node\"] = df_nodes[\"node\"].apply(lambda x: x[0:-1] if list(x)[-1] in [' ', '/'] else x)\n",
    "df_nodes[\"type\"] = df_nodes[\"type\"].apply(lambda x: x[0:-1] if list(x)[-1] in [' ', '/'] else x)"
   ]
  },
  {
   "cell_type": "code",
   "execution_count": 119,
   "id": "c23f3e0f",
   "metadata": {},
   "outputs": [],
   "source": [
    "df_nodes = df_nodes.replace('SPIDER-MAN/PETER PAR','SPIDER-MAN/PETER PARKER', regex=True)"
   ]
  },
  {
   "cell_type": "code",
   "execution_count": 5,
   "id": "ff17380a",
   "metadata": {},
   "outputs": [],
   "source": [
    "df_edges[\"hero\"] = df_edges[\"hero\"].apply(lambda x: x[0:-1] if list(x)[-1] in [' ', '/'] else x)"
   ]
  },
  {
   "cell_type": "code",
   "execution_count": 6,
   "id": "654655c5",
   "metadata": {},
   "outputs": [
    {
     "data": {
      "text/plain": [
       "{'SPIDER-MAN/PETER PAR'}"
      ]
     },
     "execution_count": 6,
     "metadata": {},
     "output_type": "execute_result"
    }
   ],
   "source": [
    "hero = set(df_edges.hero)\n",
    "hero_union = set(df_hero_net.hero1).union(set(df_hero_net.hero2))\n",
    "\n",
    "diff = hero_union - hero.intersection(hero_union)\n",
    "diff"
   ]
  },
  {
   "cell_type": "code",
   "execution_count": 7,
   "id": "885ca78c",
   "metadata": {},
   "outputs": [],
   "source": [
    "def jaccard_similarity(setA, setB):\n",
    "    ''' \n",
    "    This function simply computes the Jaccard similarity from its definition.\n",
    "    '''\n",
    "    return len(set(setA).intersection(setB))/len(set(setA).union(setB))"
   ]
  },
  {
   "cell_type": "code",
   "execution_count": 8,
   "id": "1f6c246a",
   "metadata": {},
   "outputs": [
    {
     "data": {
      "text/html": [
       "<div>\n",
       "<style scoped>\n",
       "    .dataframe tbody tr th:only-of-type {\n",
       "        vertical-align: middle;\n",
       "    }\n",
       "\n",
       "    .dataframe tbody tr th {\n",
       "        vertical-align: top;\n",
       "    }\n",
       "\n",
       "    .dataframe thead th {\n",
       "        text-align: right;\n",
       "    }\n",
       "</style>\n",
       "<table border=\"1\" class=\"dataframe\">\n",
       "  <thead>\n",
       "    <tr style=\"text-align: right;\">\n",
       "      <th></th>\n",
       "      <th>hero1</th>\n",
       "      <th>hero2</th>\n",
       "    </tr>\n",
       "  </thead>\n",
       "  <tbody>\n",
       "    <tr>\n",
       "      <th>0</th>\n",
       "      <td>LITTLE, ABNER</td>\n",
       "      <td>PRINCESS ZANDA</td>\n",
       "    </tr>\n",
       "    <tr>\n",
       "      <th>1</th>\n",
       "      <td>LITTLE, ABNER</td>\n",
       "      <td>BLACK PANTHER/T'CHAL</td>\n",
       "    </tr>\n",
       "    <tr>\n",
       "      <th>2</th>\n",
       "      <td>BLACK PANTHER/T'CHAL</td>\n",
       "      <td>PRINCESS ZANDA</td>\n",
       "    </tr>\n",
       "    <tr>\n",
       "      <th>3</th>\n",
       "      <td>LITTLE, ABNER</td>\n",
       "      <td>PRINCESS ZANDA</td>\n",
       "    </tr>\n",
       "    <tr>\n",
       "      <th>4</th>\n",
       "      <td>LITTLE, ABNER</td>\n",
       "      <td>BLACK PANTHER/T'CHAL</td>\n",
       "    </tr>\n",
       "    <tr>\n",
       "      <th>...</th>\n",
       "      <td>...</td>\n",
       "      <td>...</td>\n",
       "    </tr>\n",
       "    <tr>\n",
       "      <th>574462</th>\n",
       "      <td>COLOSSUS II/PETER RA</td>\n",
       "      <td>CALLISTO</td>\n",
       "    </tr>\n",
       "    <tr>\n",
       "      <th>574463</th>\n",
       "      <td>CALLISTO</td>\n",
       "      <td>ROGUE</td>\n",
       "    </tr>\n",
       "    <tr>\n",
       "      <th>574464</th>\n",
       "      <td>CALLISTO</td>\n",
       "      <td>CALIBAN</td>\n",
       "    </tr>\n",
       "    <tr>\n",
       "      <th>574465</th>\n",
       "      <td>CALIBAN</td>\n",
       "      <td>ROGUE</td>\n",
       "    </tr>\n",
       "    <tr>\n",
       "      <th>574466</th>\n",
       "      <td>HULK/DR. ROBERT BRUC</td>\n",
       "      <td>MARKS, DR. SHIELA</td>\n",
       "    </tr>\n",
       "  </tbody>\n",
       "</table>\n",
       "<p>574467 rows × 2 columns</p>\n",
       "</div>"
      ],
      "text/plain": [
       "                       hero1                 hero2\n",
       "0              LITTLE, ABNER        PRINCESS ZANDA\n",
       "1              LITTLE, ABNER  BLACK PANTHER/T'CHAL\n",
       "2       BLACK PANTHER/T'CHAL        PRINCESS ZANDA\n",
       "3              LITTLE, ABNER        PRINCESS ZANDA\n",
       "4              LITTLE, ABNER  BLACK PANTHER/T'CHAL\n",
       "...                      ...                   ...\n",
       "574462  COLOSSUS II/PETER RA              CALLISTO\n",
       "574463              CALLISTO                ROGUE \n",
       "574464              CALLISTO               CALIBAN\n",
       "574465               CALIBAN                ROGUE \n",
       "574466  HULK/DR. ROBERT BRUC     MARKS, DR. SHIELA\n",
       "\n",
       "[574467 rows x 2 columns]"
      ]
     },
     "execution_count": 8,
     "metadata": {},
     "output_type": "execute_result"
    }
   ],
   "source": [
    "for hero in set(df_edges.hero):\n",
    "    for elem in diff:\n",
    "        sim = jaccard_similarity(set(elem), set(hero))\n",
    "        if sim >= 0.5:\n",
    "            df_hero_net = df_hero_net.replace(elem, hero)\n",
    "\n",
    "df_hero_net"
   ]
  },
  {
   "cell_type": "code",
   "execution_count": 9,
   "id": "f4eef9e3",
   "metadata": {},
   "outputs": [
    {
     "data": {
      "text/plain": [
       "set()"
      ]
     },
     "execution_count": 9,
     "metadata": {},
     "output_type": "execute_result"
    }
   ],
   "source": [
    "# test\n",
    "hero = set(df_edges.hero)\n",
    "hero_union = set(df_hero_net.hero1).union(set(df_hero_net.hero2))\n",
    "\n",
    "diff = hero_union - hero.intersection(hero_union)\n",
    "diff"
   ]
  },
  {
   "cell_type": "code",
   "execution_count": 10,
   "id": "596f8716",
   "metadata": {},
   "outputs": [
    {
     "name": "stdout",
     "output_type": "stream",
     "text": [
      "6420 6420\n"
     ]
    }
   ],
   "source": [
    "print(len(hero_union), len(hero.intersection(hero_union))) # all heroes' names in 'hero-network.csv' are now found in 'edges.csv'"
   ]
  },
  {
   "cell_type": "markdown",
   "id": "09ece32c",
   "metadata": {},
   "source": [
    "## 1.2 First graph"
   ]
  },
  {
   "cell_type": "code",
   "execution_count": 11,
   "id": "469f1d53",
   "metadata": {},
   "outputs": [],
   "source": [
    "G1 = nx.MultiGraph()"
   ]
  },
  {
   "cell_type": "code",
   "execution_count": 12,
   "id": "9a6546a3",
   "metadata": {
    "scrolled": true
   },
   "outputs": [
    {
     "data": {
      "text/plain": [
       "0          0\n",
       "1          0\n",
       "2          0\n",
       "3          1\n",
       "4          1\n",
       "          ..\n",
       "574462    27\n",
       "574463    22\n",
       "574464     8\n",
       "574465    11\n",
       "574466     1\n",
       "Length: 574467, dtype: int64"
      ]
     },
     "execution_count": 12,
     "metadata": {},
     "output_type": "execute_result"
    }
   ],
   "source": [
    "df_hero_net.apply(lambda row: G1.add_edge(row['hero1'], row['hero2']), axis=1)"
   ]
  },
  {
   "cell_type": "code",
   "execution_count": 13,
   "id": "92dab3da",
   "metadata": {},
   "outputs": [],
   "source": [
    "#drop sefl-loops\n",
    "G1.remove_edges_from(nx.selfloop_edges(G1))"
   ]
  },
  {
   "cell_type": "code",
   "execution_count": 14,
   "id": "55727861",
   "metadata": {},
   "outputs": [],
   "source": [
    "dicOfWeights = {}\n",
    "for h1,h2 in df_hero_net.to_numpy():\n",
    "    if h1 != h2:\n",
    "        if (h1,h2) in dicOfWeights:\n",
    "            dicOfWeights[(h1,h2)] += 1\n",
    "        else:\n",
    "            dicOfWeights[(h1,h2)] = 1\n"
   ]
  },
  {
   "cell_type": "code",
   "execution_count": 15,
   "id": "dfdbd7d0",
   "metadata": {},
   "outputs": [],
   "source": [
    "G1_weighted = nx.MultiGraph()"
   ]
  },
  {
   "cell_type": "code",
   "execution_count": 16,
   "id": "50a90719",
   "metadata": {},
   "outputs": [],
   "source": [
    "i = 0\n",
    "for edge in list(G1.edges()):\n",
    "    try:\n",
    "        G1_weighted.add_edge(edge[0], edge[1], weight = 1/dicOfWeights[edge])\n",
    "    except:\n",
    "        G1_weighted.add_edge(edge[0], edge[1], weight = 1/dicOfWeights[(edge[1], edge[0])])\n"
   ]
  },
  {
   "cell_type": "code",
   "execution_count": 17,
   "id": "7f71840c",
   "metadata": {},
   "outputs": [
    {
     "name": "stdout",
     "output_type": "stream",
     "text": [
      "(('LITTLE, ABNER', 'PRINCESS ZANDA', 0), 0.2)\n",
      "(('LITTLE, ABNER', 'PRINCESS ZANDA', 1), 0.2)\n",
      "(('LITTLE, ABNER', 'PRINCESS ZANDA', 2), 0.2)\n",
      "(('LITTLE, ABNER', 'PRINCESS ZANDA', 3), 0.2)\n",
      "(('LITTLE, ABNER', 'PRINCESS ZANDA', 4), 0.2)\n",
      "(('LITTLE, ABNER', 'PRINCESS ZANDA', 5), 0.2)\n",
      "(('LITTLE, ABNER', 'PRINCESS ZANDA', 6), 0.2)\n",
      "(('LITTLE, ABNER', 'PRINCESS ZANDA', 7), 0.2)\n",
      "(('LITTLE, ABNER', \"BLACK PANTHER/T'CHAL\", 0), 0.25)\n",
      "(('LITTLE, ABNER', \"BLACK PANTHER/T'CHAL\", 1), 0.25)\n",
      "(('LITTLE, ABNER', \"BLACK PANTHER/T'CHAL\", 2), 0.25)\n",
      "(('LITTLE, ABNER', \"BLACK PANTHER/T'CHAL\", 3), 0.25)\n",
      "(('LITTLE, ABNER', \"BLACK PANTHER/T'CHAL\", 4), 0.25)\n",
      "(('LITTLE, ABNER', \"BLACK PANTHER/T'CHAL\", 5), 0.25)\n",
      "(('LITTLE, ABNER', \"BLACK PANTHER/T'CHAL\", 6), 0.25)\n",
      "(('LITTLE, ABNER', 'CARNIVORE/COUNT ANDR', 0), 0.3333333333333333)\n",
      "(('LITTLE, ABNER', 'CARNIVORE/COUNT ANDR', 1), 0.3333333333333333)\n",
      "(('LITTLE, ABNER', 'CARNIVORE/COUNT ANDR', 2), 0.3333333333333333)\n",
      "(('LITTLE, ABNER', 'CARNIVORE/COUNT ANDR', 3), 0.3333333333333333)\n",
      "(('LITTLE, ABNER', 'CARNIVORE/COUNT ANDR', 4), 0.3333333333333333)\n"
     ]
    }
   ],
   "source": [
    "edges, weights = zip(*nx.get_edge_attributes(G1_weighted, 'weight').items())\n",
    "for i in range(20):\n",
    "    print((edges[i], weights[i]))"
   ]
  },
  {
   "cell_type": "markdown",
   "id": "34ca0be5",
   "metadata": {},
   "source": [
    "## 1.3 Second graph"
   ]
  },
  {
   "cell_type": "code",
   "execution_count": 79,
   "id": "08a71ea3",
   "metadata": {},
   "outputs": [
    {
     "data": {
      "text/plain": [
       "19090"
      ]
     },
     "execution_count": 79,
     "metadata": {},
     "output_type": "execute_result"
    }
   ],
   "source": [
    "len(set(df_nodes['node']))\n"
   ]
  },
  {
   "cell_type": "code",
   "execution_count": 120,
   "id": "6624e375",
   "metadata": {},
   "outputs": [],
   "source": [
    "attributes = {}\n",
    "for elem,type in df_nodes.to_numpy():\n",
    "    attributes[elem] = {'type' : type } "
   ]
  },
  {
   "cell_type": "code",
   "execution_count": 121,
   "id": "1b98519b",
   "metadata": {},
   "outputs": [
    {
     "data": {
      "text/plain": [
       "19087"
      ]
     },
     "execution_count": 121,
     "metadata": {},
     "output_type": "execute_result"
    }
   ],
   "source": [
    "len(attributes)"
   ]
  },
  {
   "cell_type": "code",
   "execution_count": 122,
   "id": "a03aa89d",
   "metadata": {},
   "outputs": [
    {
     "data": {
      "text/plain": [
       "19087"
      ]
     },
     "execution_count": 122,
     "metadata": {},
     "output_type": "execute_result"
    }
   ],
   "source": [
    "len(G2.nodes)"
   ]
  },
  {
   "cell_type": "code",
   "execution_count": 87,
   "id": "44dd9c2f",
   "metadata": {},
   "outputs": [
    {
     "data": {
      "text/plain": [
       "19090"
      ]
     },
     "execution_count": 87,
     "metadata": {},
     "output_type": "execute_result"
    }
   ],
   "source": [
    "len(set(df_edges['hero']))+len(set(df_edges['comic']))"
   ]
  },
  {
   "cell_type": "code",
   "execution_count": 123,
   "id": "57e47288",
   "metadata": {},
   "outputs": [],
   "source": [
    "G2 = nx.from_pandas_edgelist(df_edges, 'hero', 'comic')\n",
    "nx.set_node_attributes(G2, attributes)"
   ]
  },
  {
   "cell_type": "code",
   "execution_count": 124,
   "id": "e2cf28a2",
   "metadata": {},
   "outputs": [],
   "source": [
    "edges, types = zip(*nx.get_node_attributes(G2, 'type').items())"
   ]
  },
  {
   "cell_type": "code",
   "execution_count": 125,
   "id": "6bf1260f",
   "metadata": {},
   "outputs": [
    {
     "name": "stdout",
     "output_type": "stream",
     "text": [
      "19085\n",
      "19085\n"
     ]
    }
   ],
   "source": [
    "print(len(edges))\n",
    "print(len(types))"
   ]
  },
  {
   "cell_type": "code",
   "execution_count": 20,
   "id": "797fd124",
   "metadata": {},
   "outputs": [
    {
     "name": "stdout",
     "output_type": "stream",
     "text": [
      "24-HOUR MAN/EMMANUEL hero\n",
      "AA2 35 comic\n",
      "3-D MAN/CHARLES CHAN hero\n",
      "AVF 4 comic\n",
      "AVF 5 comic\n",
      "COC 1 comic\n",
      "H2 251 comic\n",
      "H2 252 comic\n",
      "M/PRM 35 comic\n",
      "M/PRM 36 comic\n"
     ]
    }
   ],
   "source": [
    "edges, types = zip(*nx.get_node_attributes(G2, 'type').items())\n",
    "for i in range(10):\n",
    "    print(edges[i], types[i])"
   ]
  },
  {
   "cell_type": "code",
   "execution_count": 75,
   "id": "ce75b3bd",
   "metadata": {},
   "outputs": [
    {
     "data": {
      "text/plain": [
       "19087"
      ]
     },
     "execution_count": 75,
     "metadata": {},
     "output_type": "execute_result"
    }
   ],
   "source": [
    "len(G2.nodes)"
   ]
  },
  {
   "cell_type": "code",
   "execution_count": 21,
   "id": "bd776dbb",
   "metadata": {},
   "outputs": [
    {
     "data": {
      "text/html": [
       "<div>\n",
       "<style scoped>\n",
       "    .dataframe tbody tr th:only-of-type {\n",
       "        vertical-align: middle;\n",
       "    }\n",
       "\n",
       "    .dataframe tbody tr th {\n",
       "        vertical-align: top;\n",
       "    }\n",
       "\n",
       "    .dataframe thead th {\n",
       "        text-align: right;\n",
       "    }\n",
       "</style>\n",
       "<table border=\"1\" class=\"dataframe\">\n",
       "  <thead>\n",
       "    <tr style=\"text-align: right;\">\n",
       "      <th></th>\n",
       "      <th>hero</th>\n",
       "      <th>comic</th>\n",
       "    </tr>\n",
       "  </thead>\n",
       "  <tbody>\n",
       "    <tr>\n",
       "      <th>0</th>\n",
       "      <td>24-HOUR MAN/EMMANUEL</td>\n",
       "      <td>AA2 35</td>\n",
       "    </tr>\n",
       "    <tr>\n",
       "      <th>1</th>\n",
       "      <td>3-D MAN/CHARLES CHAN</td>\n",
       "      <td>AVF 4</td>\n",
       "    </tr>\n",
       "    <tr>\n",
       "      <th>2</th>\n",
       "      <td>3-D MAN/CHARLES CHAN</td>\n",
       "      <td>AVF 5</td>\n",
       "    </tr>\n",
       "    <tr>\n",
       "      <th>3</th>\n",
       "      <td>3-D MAN/CHARLES CHAN</td>\n",
       "      <td>COC 1</td>\n",
       "    </tr>\n",
       "    <tr>\n",
       "      <th>4</th>\n",
       "      <td>3-D MAN/CHARLES CHAN</td>\n",
       "      <td>H2 251</td>\n",
       "    </tr>\n",
       "    <tr>\n",
       "      <th>...</th>\n",
       "      <td>...</td>\n",
       "      <td>...</td>\n",
       "    </tr>\n",
       "    <tr>\n",
       "      <th>96099</th>\n",
       "      <td>ZZZAX</td>\n",
       "      <td>H2 326</td>\n",
       "    </tr>\n",
       "    <tr>\n",
       "      <th>96100</th>\n",
       "      <td>ZZZAX</td>\n",
       "      <td>H2 327</td>\n",
       "    </tr>\n",
       "    <tr>\n",
       "      <th>96101</th>\n",
       "      <td>ZZZAX</td>\n",
       "      <td>M/CP 8/4</td>\n",
       "    </tr>\n",
       "    <tr>\n",
       "      <th>96102</th>\n",
       "      <td>ZZZAX</td>\n",
       "      <td>PM 47</td>\n",
       "    </tr>\n",
       "    <tr>\n",
       "      <th>96103</th>\n",
       "      <td>ZZZAX</td>\n",
       "      <td>WCA2 12</td>\n",
       "    </tr>\n",
       "  </tbody>\n",
       "</table>\n",
       "<p>96104 rows × 2 columns</p>\n",
       "</div>"
      ],
      "text/plain": [
       "                       hero     comic\n",
       "0      24-HOUR MAN/EMMANUEL    AA2 35\n",
       "1      3-D MAN/CHARLES CHAN     AVF 4\n",
       "2      3-D MAN/CHARLES CHAN     AVF 5\n",
       "3      3-D MAN/CHARLES CHAN     COC 1\n",
       "4      3-D MAN/CHARLES CHAN    H2 251\n",
       "...                     ...       ...\n",
       "96099                 ZZZAX    H2 326\n",
       "96100                 ZZZAX    H2 327\n",
       "96101                 ZZZAX  M/CP 8/4\n",
       "96102                 ZZZAX     PM 47\n",
       "96103                 ZZZAX   WCA2 12\n",
       "\n",
       "[96104 rows x 2 columns]"
      ]
     },
     "execution_count": 21,
     "metadata": {},
     "output_type": "execute_result"
    }
   ],
   "source": [
    "df_edges"
   ]
  },
  {
   "cell_type": "code",
   "execution_count": 22,
   "id": "21728d52",
   "metadata": {},
   "outputs": [],
   "source": [
    "edges = list(G2.edges)"
   ]
  },
  {
   "cell_type": "code",
   "execution_count": 23,
   "id": "a96f1935",
   "metadata": {},
   "outputs": [
    {
     "data": {
      "text/plain": [
       "[('24-HOUR MAN/EMMANUEL', 'AA2 35'), ('AA2 35', 'FROST, CARMILLA')]"
      ]
     },
     "execution_count": 23,
     "metadata": {},
     "output_type": "execute_result"
    }
   ],
   "source": [
    "edges[0:2]"
   ]
  },
  {
   "cell_type": "markdown",
   "id": "da623bdc",
   "metadata": {},
   "source": [
    "# 2. Backend Implementation"
   ]
  },
  {
   "cell_type": "markdown",
   "id": "ba27c115",
   "metadata": {},
   "source": [
    "# Functionality 3 - Shortest ordered Route"
   ]
  },
  {
   "cell_type": "markdown",
   "id": "b5685ec2",
   "metadata": {},
   "source": [
    "Input:\n",
    "\n",
    "- The graph data\n",
    "- A sequence of superheroes h = [h_2, ..., h_n-1]\n",
    "- Initial node h_1 and an end node h_n\n",
    "- N: denoting the top N heroes that their data should be considered\n",
    "\n",
    "Output:\n",
    "\n",
    "- The shortest walk of comics that you need to read to get from hero_1 to hero_n\n",
    "Considerations: For this functionality, you need to implement an algorithm that returns the shortest walk that goes from node h_j to h_n, which visits in order the nodes in h. The choice of h_j and h_n can be made randomly (or if it improves the performance of the algorithm, you can also define it in any other way)\n",
    "\n",
    "Important Notes:\n",
    "\n",
    "- This algorithm should be run only on the second graph (G2).\n",
    "- The algorithm needs to handle the case that the graph is not connected. Thus, only some of the nodes in h are reachable from h_1. In such a scenario, it is enough to let the program give in the output the string \"There is no such path\".\n",
    "- Since we are dealing with walks, you can pass on the same node h_i more than once, but you have to preserve order. E.g., if you start from Spiderman to reach deadpool, and your path requires you to visit iron-man and colossus, you can go back to any comics any time you want, assuming that the order in which you visit the heroes is still the same."
   ]
  },
  {
   "cell_type": "code",
   "execution_count": 126,
   "id": "a18e3072",
   "metadata": {},
   "outputs": [],
   "source": [
    "att = nx.get_node_attributes(G2, \"type\")"
   ]
  },
  {
   "cell_type": "code",
   "execution_count": 117,
   "id": "a938e0cd",
   "metadata": {},
   "outputs": [
    {
     "data": {
      "text/plain": [
       "19085"
      ]
     },
     "execution_count": 117,
     "metadata": {},
     "output_type": "execute_result"
    }
   ],
   "source": [
    "len(att)"
   ]
  },
  {
   "cell_type": "code",
   "execution_count": 118,
   "id": "76f1e8a3",
   "metadata": {},
   "outputs": [
    {
     "data": {
      "text/plain": [
       "19087"
      ]
     },
     "execution_count": 118,
     "metadata": {},
     "output_type": "execute_result"
    }
   ],
   "source": [
    "len(G2.nodes)"
   ]
  },
  {
   "cell_type": "code",
   "execution_count": 127,
   "id": "251bbc34",
   "metadata": {},
   "outputs": [
    {
     "ename": "KeyError",
     "evalue": "'SPIDER-MAN/PETER PARKER'",
     "output_type": "error",
     "traceback": [
      "\u001b[1;31m---------------------------------------------------------------------------\u001b[0m",
      "\u001b[1;31mKeyError\u001b[0m                                  Traceback (most recent call last)",
      "Input \u001b[1;32mIn [127]\u001b[0m, in \u001b[0;36m<cell line: 1>\u001b[1;34m()\u001b[0m\n\u001b[1;32m----> 1\u001b[0m \u001b[43matt\u001b[49m\u001b[43m[\u001b[49m\u001b[38;5;124;43m'\u001b[39;49m\u001b[38;5;124;43mSPIDER-MAN/PETER PARKER\u001b[39;49m\u001b[38;5;124;43m'\u001b[39;49m\u001b[43m]\u001b[49m\n",
      "\u001b[1;31mKeyError\u001b[0m: 'SPIDER-MAN/PETER PARKER'"
     ]
    }
   ],
   "source": [
    "att['SPIDER-MAN/PETER PARKER']"
   ]
  },
  {
   "cell_type": "code",
   "execution_count": 29,
   "id": "603fbb91",
   "metadata": {},
   "outputs": [],
   "source": [
    "nodes = set(nx.all_neighbors(G2,'3-D MAN/CHARLES CHAN' ))"
   ]
  },
  {
   "cell_type": "code",
   "execution_count": 30,
   "id": "b00ffa58",
   "metadata": {},
   "outputs": [],
   "source": [
    "nodes.add('3-D MAN/CHARLES CHAN')"
   ]
  },
  {
   "cell_type": "code",
   "execution_count": 37,
   "id": "77b3dcd8",
   "metadata": {},
   "outputs": [],
   "source": [
    "l = list(nx.all_neighbors(G2,'ROSS, GEN. THADDEUS' ))\n",
    "for i in l:\n",
    "    nodes.add(i)\n"
   ]
  },
  {
   "cell_type": "code",
   "execution_count": 39,
   "id": "8eaeb52e",
   "metadata": {},
   "outputs": [],
   "source": [
    "nodes.add('ROSS, GEN. THADDEUS')"
   ]
  },
  {
   "cell_type": "code",
   "execution_count": 62,
   "id": "0dfba233",
   "metadata": {},
   "outputs": [
    {
     "data": {
      "text/plain": [
       "222"
      ]
     },
     "execution_count": 62,
     "metadata": {},
     "output_type": "execute_result"
    }
   ],
   "source": [
    "len(nodes)"
   ]
  },
  {
   "cell_type": "code",
   "execution_count": 41,
   "id": "fdd4b4f0",
   "metadata": {},
   "outputs": [],
   "source": [
    "G2_new = G2.subgraph(nodes)"
   ]
  },
  {
   "cell_type": "code",
   "execution_count": 110,
   "id": "7b741aa5",
   "metadata": {},
   "outputs": [],
   "source": [
    "def top_N(df,N,G):\n",
    "    df_new = df.groupby(['hero'])['hero'].count().reset_index(name=\"count\")\n",
    "    df_new= df_new.sort_values(by = 'count',ascending=False)\n",
    "    df_new = df_new.head(N)\n",
    "    nodes=[df_new['hero'][i] for i in df_new.index]\n",
    "    print(nodes)\n",
    "    \n",
    "    new_nodes = set(nodes)\n",
    "    for i in nodes:\n",
    "        app = list(df_edges.loc[df_edges['hero']==i]['comic'])\n",
    "        new_nodes.update(app)\n",
    "        \n",
    "    G_top_N = G.subgraph(new_nodes)\n",
    "    return G_top_N"
   ]
  },
  {
   "cell_type": "code",
   "execution_count": 111,
   "id": "d33f1279",
   "metadata": {},
   "outputs": [],
   "source": [
    "def shortest_path(G2,node,path,final_node,visited,shortest_one,att):\n",
    "    if node == final_node and att[node]=='hero':\n",
    "        path.append(node)\n",
    "        if len(path) < len(shortest_one):\n",
    "            shortest_one = path.copy()\n",
    "        path.pop(len(path)-1)\n",
    "        return shortest_one\n",
    "    \n",
    "    else:\n",
    "        for new_node in list(nx.all_neighbors(G2, node)):\n",
    "            if new_node not in visited:\n",
    "                if att[new_node]=='comic':\n",
    "                    path.append(new_node)\n",
    "                visited.append(new_node)\n",
    "                shortest_one = shortest_path(G2,new_node,path,final_node,visited,shortest_one,att)\n",
    "                if att[new_node]=='comic':\n",
    "                    path.pop(len(path)-1)\n",
    "                visited.pop(len(visited)-1)   \n",
    "        return shortest_one"
   ]
  },
  {
   "cell_type": "code",
   "execution_count": 112,
   "id": "60eadd26",
   "metadata": {},
   "outputs": [],
   "source": [
    "def functionality_3(G2, N, h_1, h_2):\n",
    "    if N:\n",
    "        N = int(N)\n",
    "        G2 = top_N(df_edges,N,G2)\n",
    "    att = nx.get_node_attributes(G2, \"type\")\n",
    "    if not nx.is_connected(G2):\n",
    "        result = 'There is not such path because the graph is not connected'\n",
    "        return result\n",
    "    if h_1  not in list(G2.nodes) or h_2 not in list(G2.nodes):\n",
    "        result = 'There is not such path'\n",
    "        return result\n",
    "    shortest_one = list(range(0,len(G2.nodes)))\n",
    "    shortest_one = shortest_path(G2,h_1,[h_1],h_2,[h_1],shortest_one,att)\n",
    "    return shortest_one"
   ]
  },
  {
   "cell_type": "code",
   "execution_count": 196,
   "id": "57f5b61b",
   "metadata": {},
   "outputs": [
    {
     "data": {
      "text/plain": [
       "19087"
      ]
     },
     "execution_count": 196,
     "metadata": {},
     "output_type": "execute_result"
    }
   ],
   "source": [
    "len(G2.nodes)"
   ]
  },
  {
   "cell_type": "code",
   "execution_count": 45,
   "id": "ff406d11",
   "metadata": {},
   "outputs": [
    {
     "name": "stdout",
     "output_type": "stream",
     "text": [
      "5\n"
     ]
    }
   ],
   "source": [
    "N = input()"
   ]
  },
  {
   "cell_type": "code",
   "execution_count": 48,
   "id": "ecab5001",
   "metadata": {},
   "outputs": [
    {
     "name": "stdout",
     "output_type": "stream",
     "text": [
      "['3-D MAN/CHARLES CHAN', 'H2 251', 'ROSS, GEN. THADDEUS']\n"
     ]
    }
   ],
   "source": [
    "print(functionality_3(G2_new,N,'3-D MAN/CHARLES CHAN','ROSS, GEN. THADDEUS'))"
   ]
  },
  {
   "cell_type": "code",
   "execution_count": 115,
   "id": "987da18d",
   "metadata": {},
   "outputs": [
    {
     "name": "stdout",
     "output_type": "stream",
     "text": [
      "['SPIDER-MAN/PETER PARKER', 'CAPTAIN AMERICA', 'IRON MAN/TONY STARK', 'THING/BENJAMIN J. GR', 'THOR/DR. DONALD BLAK']\n"
     ]
    },
    {
     "ename": "KeyError",
     "evalue": "'SPIDER-MAN/PETER PARKER'",
     "output_type": "error",
     "traceback": [
      "\u001b[1;31m---------------------------------------------------------------------------\u001b[0m",
      "\u001b[1;31mKeyError\u001b[0m                                  Traceback (most recent call last)",
      "Input \u001b[1;32mIn [115]\u001b[0m, in \u001b[0;36m<cell line: 1>\u001b[1;34m()\u001b[0m\n\u001b[1;32m----> 1\u001b[0m \u001b[38;5;28mprint\u001b[39m(\u001b[43mfunctionality_3\u001b[49m\u001b[43m(\u001b[49m\u001b[43mG2\u001b[49m\u001b[43m,\u001b[49m\u001b[43mN\u001b[49m\u001b[43m,\u001b[49m\u001b[38;5;124;43m'\u001b[39;49m\u001b[38;5;124;43mTHOR/DR. DONALD BLAK\u001b[39;49m\u001b[38;5;124;43m'\u001b[39;49m\u001b[43m,\u001b[49m\u001b[38;5;124;43m'\u001b[39;49m\u001b[38;5;124;43mCAPTAIN AMERICA\u001b[39;49m\u001b[38;5;124;43m'\u001b[39;49m\u001b[43m)\u001b[49m)\n",
      "Input \u001b[1;32mIn [112]\u001b[0m, in \u001b[0;36mfunctionality_3\u001b[1;34m(G2, N, h_1, h_2)\u001b[0m\n\u001b[0;32m     11\u001b[0m     \u001b[38;5;28;01mreturn\u001b[39;00m result\n\u001b[0;32m     12\u001b[0m shortest_one \u001b[38;5;241m=\u001b[39m \u001b[38;5;28mlist\u001b[39m(\u001b[38;5;28mrange\u001b[39m(\u001b[38;5;241m0\u001b[39m,\u001b[38;5;28mlen\u001b[39m(G2\u001b[38;5;241m.\u001b[39mnodes)))\n\u001b[1;32m---> 13\u001b[0m shortest_one \u001b[38;5;241m=\u001b[39m \u001b[43mshortest_path\u001b[49m\u001b[43m(\u001b[49m\u001b[43mG2\u001b[49m\u001b[43m,\u001b[49m\u001b[43mh_1\u001b[49m\u001b[43m,\u001b[49m\u001b[43m[\u001b[49m\u001b[43mh_1\u001b[49m\u001b[43m]\u001b[49m\u001b[43m,\u001b[49m\u001b[43mh_2\u001b[49m\u001b[43m,\u001b[49m\u001b[43m[\u001b[49m\u001b[43mh_1\u001b[49m\u001b[43m]\u001b[49m\u001b[43m,\u001b[49m\u001b[43mshortest_one\u001b[49m\u001b[43m,\u001b[49m\u001b[43matt\u001b[49m\u001b[43m)\u001b[49m\n\u001b[0;32m     14\u001b[0m \u001b[38;5;28;01mreturn\u001b[39;00m shortest_one\n",
      "Input \u001b[1;32mIn [111]\u001b[0m, in \u001b[0;36mshortest_path\u001b[1;34m(G2, node, path, final_node, visited, shortest_one, att)\u001b[0m\n\u001b[0;32m     13\u001b[0m     path\u001b[38;5;241m.\u001b[39mappend(new_node)\n\u001b[0;32m     14\u001b[0m visited\u001b[38;5;241m.\u001b[39mappend(new_node)\n\u001b[1;32m---> 15\u001b[0m shortest_one \u001b[38;5;241m=\u001b[39m \u001b[43mshortest_path\u001b[49m\u001b[43m(\u001b[49m\u001b[43mG2\u001b[49m\u001b[43m,\u001b[49m\u001b[43mnew_node\u001b[49m\u001b[43m,\u001b[49m\u001b[43mpath\u001b[49m\u001b[43m,\u001b[49m\u001b[43mfinal_node\u001b[49m\u001b[43m,\u001b[49m\u001b[43mvisited\u001b[49m\u001b[43m,\u001b[49m\u001b[43mshortest_one\u001b[49m\u001b[43m,\u001b[49m\u001b[43matt\u001b[49m\u001b[43m)\u001b[49m\n\u001b[0;32m     16\u001b[0m \u001b[38;5;28;01mif\u001b[39;00m att[new_node]\u001b[38;5;241m==\u001b[39m\u001b[38;5;124m'\u001b[39m\u001b[38;5;124mcomic\u001b[39m\u001b[38;5;124m'\u001b[39m:\n\u001b[0;32m     17\u001b[0m     path\u001b[38;5;241m.\u001b[39mpop(\u001b[38;5;28mlen\u001b[39m(path)\u001b[38;5;241m-\u001b[39m\u001b[38;5;241m1\u001b[39m)\n",
      "Input \u001b[1;32mIn [111]\u001b[0m, in \u001b[0;36mshortest_path\u001b[1;34m(G2, node, path, final_node, visited, shortest_one, att)\u001b[0m\n\u001b[0;32m     13\u001b[0m     path\u001b[38;5;241m.\u001b[39mappend(new_node)\n\u001b[0;32m     14\u001b[0m visited\u001b[38;5;241m.\u001b[39mappend(new_node)\n\u001b[1;32m---> 15\u001b[0m shortest_one \u001b[38;5;241m=\u001b[39m \u001b[43mshortest_path\u001b[49m\u001b[43m(\u001b[49m\u001b[43mG2\u001b[49m\u001b[43m,\u001b[49m\u001b[43mnew_node\u001b[49m\u001b[43m,\u001b[49m\u001b[43mpath\u001b[49m\u001b[43m,\u001b[49m\u001b[43mfinal_node\u001b[49m\u001b[43m,\u001b[49m\u001b[43mvisited\u001b[49m\u001b[43m,\u001b[49m\u001b[43mshortest_one\u001b[49m\u001b[43m,\u001b[49m\u001b[43matt\u001b[49m\u001b[43m)\u001b[49m\n\u001b[0;32m     16\u001b[0m \u001b[38;5;28;01mif\u001b[39;00m att[new_node]\u001b[38;5;241m==\u001b[39m\u001b[38;5;124m'\u001b[39m\u001b[38;5;124mcomic\u001b[39m\u001b[38;5;124m'\u001b[39m:\n\u001b[0;32m     17\u001b[0m     path\u001b[38;5;241m.\u001b[39mpop(\u001b[38;5;28mlen\u001b[39m(path)\u001b[38;5;241m-\u001b[39m\u001b[38;5;241m1\u001b[39m)\n",
      "Input \u001b[1;32mIn [111]\u001b[0m, in \u001b[0;36mshortest_path\u001b[1;34m(G2, node, path, final_node, visited, shortest_one, att)\u001b[0m\n\u001b[0;32m     13\u001b[0m     path\u001b[38;5;241m.\u001b[39mappend(new_node)\n\u001b[0;32m     14\u001b[0m visited\u001b[38;5;241m.\u001b[39mappend(new_node)\n\u001b[1;32m---> 15\u001b[0m shortest_one \u001b[38;5;241m=\u001b[39m \u001b[43mshortest_path\u001b[49m\u001b[43m(\u001b[49m\u001b[43mG2\u001b[49m\u001b[43m,\u001b[49m\u001b[43mnew_node\u001b[49m\u001b[43m,\u001b[49m\u001b[43mpath\u001b[49m\u001b[43m,\u001b[49m\u001b[43mfinal_node\u001b[49m\u001b[43m,\u001b[49m\u001b[43mvisited\u001b[49m\u001b[43m,\u001b[49m\u001b[43mshortest_one\u001b[49m\u001b[43m,\u001b[49m\u001b[43matt\u001b[49m\u001b[43m)\u001b[49m\n\u001b[0;32m     16\u001b[0m \u001b[38;5;28;01mif\u001b[39;00m att[new_node]\u001b[38;5;241m==\u001b[39m\u001b[38;5;124m'\u001b[39m\u001b[38;5;124mcomic\u001b[39m\u001b[38;5;124m'\u001b[39m:\n\u001b[0;32m     17\u001b[0m     path\u001b[38;5;241m.\u001b[39mpop(\u001b[38;5;28mlen\u001b[39m(path)\u001b[38;5;241m-\u001b[39m\u001b[38;5;241m1\u001b[39m)\n",
      "Input \u001b[1;32mIn [111]\u001b[0m, in \u001b[0;36mshortest_path\u001b[1;34m(G2, node, path, final_node, visited, shortest_one, att)\u001b[0m\n\u001b[0;32m     10\u001b[0m \u001b[38;5;28;01mfor\u001b[39;00m new_node \u001b[38;5;129;01min\u001b[39;00m \u001b[38;5;28mlist\u001b[39m(nx\u001b[38;5;241m.\u001b[39mall_neighbors(G2, node)):\n\u001b[0;32m     11\u001b[0m     \u001b[38;5;28;01mif\u001b[39;00m new_node \u001b[38;5;129;01mnot\u001b[39;00m \u001b[38;5;129;01min\u001b[39;00m visited:\n\u001b[1;32m---> 12\u001b[0m         \u001b[38;5;28;01mif\u001b[39;00m \u001b[43matt\u001b[49m\u001b[43m[\u001b[49m\u001b[43mnew_node\u001b[49m\u001b[43m]\u001b[49m\u001b[38;5;241m==\u001b[39m\u001b[38;5;124m'\u001b[39m\u001b[38;5;124mcomic\u001b[39m\u001b[38;5;124m'\u001b[39m:\n\u001b[0;32m     13\u001b[0m             path\u001b[38;5;241m.\u001b[39mappend(new_node)\n\u001b[0;32m     14\u001b[0m         visited\u001b[38;5;241m.\u001b[39mappend(new_node)\n",
      "\u001b[1;31mKeyError\u001b[0m: 'SPIDER-MAN/PETER PARKER'"
     ]
    }
   ],
   "source": [
    "print(functionality_3(G2,N,'THOR/DR. DONALD BLAK','CAPTAIN AMERICA'))"
   ]
  },
  {
   "cell_type": "code",
   "execution_count": 35,
   "id": "2b7f3a13",
   "metadata": {},
   "outputs": [
    {
     "data": {
      "text/plain": [
       "['THOR/DR. DONALD BLAK', 'A 11', 'SPIDER-MAN/PETER PARKER']"
      ]
     },
     "execution_count": 35,
     "metadata": {},
     "output_type": "execute_result"
    }
   ],
   "source": [
    "nx.shortest_path(G2, source='THOR/DR. DONALD BLAK', target='SPIDER-MAN/PETER PARKER', weight=None)"
   ]
  },
  {
   "cell_type": "code",
   "execution_count": 45,
   "id": "d44347d0",
   "metadata": {},
   "outputs": [
    {
     "data": {
      "text/plain": [
       "['3-D MAN/CHARLES CHAN', 'H2 251', 'ROSS, GEN. THADDEUS']"
      ]
     },
     "execution_count": 45,
     "metadata": {},
     "output_type": "execute_result"
    }
   ],
   "source": [
    "nx.shortest_path(G, source='3-D MAN/CHARLES CHAN', target='ROSS, GEN. THADDEUS', weight=None)"
   ]
  },
  {
   "cell_type": "code",
   "execution_count": null,
   "id": "0d106fec",
   "metadata": {},
   "outputs": [],
   "source": []
  },
  {
   "cell_type": "code",
   "execution_count": null,
   "id": "632abeb2",
   "metadata": {},
   "outputs": [],
   "source": []
  },
  {
   "cell_type": "code",
   "execution_count": null,
   "id": "7038592d",
   "metadata": {},
   "outputs": [],
   "source": []
  },
  {
   "cell_type": "code",
   "execution_count": null,
   "id": "f85630a9",
   "metadata": {},
   "outputs": [],
   "source": []
  },
  {
   "cell_type": "code",
   "execution_count": null,
   "id": "1b919aac",
   "metadata": {},
   "outputs": [],
   "source": []
  },
  {
   "cell_type": "code",
   "execution_count": null,
   "id": "7006e36c",
   "metadata": {},
   "outputs": [],
   "source": []
  },
  {
   "cell_type": "code",
   "execution_count": null,
   "id": "2e05eff7",
   "metadata": {},
   "outputs": [],
   "source": []
  },
  {
   "cell_type": "code",
   "execution_count": null,
   "id": "2d846cf1",
   "metadata": {},
   "outputs": [],
   "source": []
  },
  {
   "cell_type": "code",
   "execution_count": null,
   "id": "b0340df8",
   "metadata": {},
   "outputs": [],
   "source": []
  },
  {
   "cell_type": "markdown",
   "id": "bb7eb863",
   "metadata": {},
   "source": [
    "## Functionality 4 - Disconnecting Graphs (da rivedere/continuare)"
   ]
  },
  {
   "cell_type": "markdown",
   "id": "ae3a5643",
   "metadata": {},
   "source": [
    "Input:\n",
    "\n",
    "- The graph data\n",
    "- heroA: a superhero to which will relate sub-graph G_a\n",
    "- heroB: a superhero to which will relate sub-graph G_b\n",
    "- N: denoting the top N heroes that their data should be considered\n",
    "\n",
    "\n",
    "Output:\n",
    "\n",
    "- The minimum number of links (by considering their weights) required to disconnect the original graph in two disconnected subgraphs: G_a and G_b."
   ]
  },
  {
   "cell_type": "code",
   "execution_count": 69,
   "id": "b37d525a",
   "metadata": {},
   "outputs": [
    {
     "name": "stdout",
     "output_type": "stream",
     "text": [
      "False\n",
      "False\n"
     ]
    }
   ],
   "source": [
    "print(nx.is_connected(G1))\n",
    "print(nx.is_connected(G2))"
   ]
  },
  {
   "cell_type": "code",
   "execution_count": 14,
   "id": "81f661c3",
   "metadata": {},
   "outputs": [],
   "source": [
    "# nx.connected_components gets the list of components,\n",
    "# max() command returns the largest one\n",
    "components = nx.connected_components(G1)\n",
    "largest_component = max(components, key=len)"
   ]
  },
  {
   "cell_type": "code",
   "execution_count": 16,
   "id": "95f3c96c",
   "metadata": {},
   "outputs": [
    {
     "data": {
      "text/plain": [
       "['3-D MAN/CHARLES CHAN',\n",
       " 'AJAK/TECUMOTZIN [ETE',\n",
       " 'ANGEL/WARREN KENNETH',\n",
       " 'ANT-MAN II/SCOTT HAR',\n",
       " 'ANT-MAN/DR. HENRY J.',\n",
       " 'ANTOINETTE, MARIE',\n",
       " 'ARABIAN KNIGHT/ABDUL',\n",
       " 'ARBOGAST, BAMBI',\n",
       " 'ASTROVIK, NORMA',\n",
       " 'ATTUMA']"
      ]
     },
     "execution_count": 16,
     "metadata": {},
     "output_type": "execute_result"
    }
   ],
   "source": [
    "# returns neighbors\n",
    "sorted(list(G1.neighbors('JOCASTA')))[:10]"
   ]
  },
  {
   "cell_type": "code",
   "execution_count": 105,
   "id": "4e06d942",
   "metadata": {},
   "outputs": [
    {
     "data": {
      "text/plain": [
       "['24-HOUR MAN/EMMANUEL',\n",
       " '3-D MAN/CHARLES CHAN',\n",
       " '4-D MAN/MERCURIO',\n",
       " '8-BALL',\n",
       " 'A',\n",
       " \"A'YIN\",\n",
       " 'ABBOTT, JACK',\n",
       " 'ABCISSA',\n",
       " 'ABEL',\n",
       " 'ABOMINATION | MUTANT']"
      ]
     },
     "execution_count": 105,
     "metadata": {},
     "output_type": "execute_result"
    }
   ],
   "source": [
    "# returns all nodes reachable from source in G\n",
    "sorted(list(nx.descendants(G1, 'JOCASTA')))[:10]"
   ]
  },
  {
   "cell_type": "code",
   "execution_count": 15,
   "id": "1d90c78a",
   "metadata": {},
   "outputs": [],
   "source": [
    "# add N\n",
    "def disconneting_graphs(G, heroA, heroB):\n",
    "    G_a = []\n",
    "    G_b = []\n",
    "\n",
    "    for edge in list(G.edges()):\n",
    "        if heroA in edge:\n",
    "            G_a.append(edge)\n",
    "\n",
    "    for edge in list(G.edges()):\n",
    "        if heroB in edge:\n",
    "            G_b.append(edge)\n",
    "\n",
    "    return G_a, G_b, len(G_a) + len(G_b)"
   ]
  },
  {
   "cell_type": "code",
   "execution_count": 17,
   "id": "64eafc4b",
   "metadata": {},
   "outputs": [
    {
     "name": "stdout",
     "output_type": "stream",
     "text": [
      "760\n"
     ]
    }
   ],
   "source": [
    "G_a, G_b, result = disconneting_graphs(G1, 'JOCASTA', '8-BALL')\n",
    "print(result)"
   ]
  },
  {
   "cell_type": "code",
   "execution_count": 102,
   "id": "79b0c5be",
   "metadata": {},
   "outputs": [],
   "source": [
    "newG1 = G1.copy()\n",
    "newG1.remove_edges_from(G_a)\n",
    "newG1.remove_edges_from(G_b)"
   ]
  },
  {
   "cell_type": "code",
   "execution_count": 108,
   "id": "c048f6b4",
   "metadata": {},
   "outputs": [
    {
     "data": {
      "text/plain": [
       "760"
      ]
     },
     "execution_count": 108,
     "metadata": {},
     "output_type": "execute_result"
    }
   ],
   "source": [
    "G1.number_of_edges() - newG1.number_of_edges()"
   ]
  },
  {
   "cell_type": "code",
   "execution_count": 106,
   "id": "de8bad42",
   "metadata": {},
   "outputs": [
    {
     "name": "stdout",
     "output_type": "stream",
     "text": [
      "0\n",
      "0\n"
     ]
    }
   ],
   "source": [
    "print(len(list(newG1.neighbors('JOCASTA'))))\n",
    "print(len(list(newG1.neighbors('8-BALL'))))\n"
   ]
  }
 ],
 "metadata": {
  "kernelspec": {
   "display_name": "Python 3 (ipykernel)",
   "language": "python",
   "name": "python3"
  },
  "language_info": {
   "codemirror_mode": {
    "name": "ipython",
    "version": 3
   },
   "file_extension": ".py",
   "mimetype": "text/x-python",
   "name": "python",
   "nbconvert_exporter": "python",
   "pygments_lexer": "ipython3",
   "version": "3.9.12"
  },
  "vscode": {
   "interpreter": {
    "hash": "979bf14ea64443ff3ffb738d52926696eb30c1bf62b3b549289c26deae58448a"
   }
  }
 },
 "nbformat": 4,
 "nbformat_minor": 5
}
