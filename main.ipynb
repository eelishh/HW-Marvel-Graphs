{
 "cells": [
  {
   "cell_type": "code",
   "execution_count": 1,
   "id": "524f2d4a",
   "metadata": {},
   "outputs": [],
   "source": [
    "import pandas as pd\n",
    "import matplotlib.pyplot as plt\n",
    "import networkx as nx\n",
    "import numpy as np\n",
    "from collections import deque\n",
    "from collections import defaultdict\n",
    "import random"
   ]
  },
  {
   "cell_type": "markdown",
   "id": "0c075550",
   "metadata": {},
   "source": [
    "# 1. Data"
   ]
  },
  {
   "cell_type": "code",
   "execution_count": 2,
   "id": "c3d5b2ed",
   "metadata": {},
   "outputs": [],
   "source": [
    "df_hero_net = pd.read_csv(r\"C:\\Users\\Marina\\OneDrive\\Desktop\\archive\\hero-network.csv\")\n",
    "df_edges = pd.read_csv(r\"C:\\Users\\Marina\\OneDrive\\Desktop\\archive\\edges.csv\")\n",
    "df_nodes = pd.read_csv(r\"C:\\Users\\Marina\\OneDrive\\Desktop\\archive\\nodes.csv\")"
   ]
  },
  {
   "cell_type": "code",
   "execution_count": 3,
   "id": "b96987eb",
   "metadata": {},
   "outputs": [
    {
     "data": {
      "text/html": [
       "<div>\n",
       "<style scoped>\n",
       "    .dataframe tbody tr th:only-of-type {\n",
       "        vertical-align: middle;\n",
       "    }\n",
       "\n",
       "    .dataframe tbody tr th {\n",
       "        vertical-align: top;\n",
       "    }\n",
       "\n",
       "    .dataframe thead th {\n",
       "        text-align: right;\n",
       "    }\n",
       "</style>\n",
       "<table border=\"1\" class=\"dataframe\">\n",
       "  <thead>\n",
       "    <tr style=\"text-align: right;\">\n",
       "      <th></th>\n",
       "      <th>hero1</th>\n",
       "      <th>hero2</th>\n",
       "    </tr>\n",
       "  </thead>\n",
       "  <tbody>\n",
       "    <tr>\n",
       "      <th>0</th>\n",
       "      <td>LITTLE, ABNER</td>\n",
       "      <td>PRINCESS ZANDA</td>\n",
       "    </tr>\n",
       "    <tr>\n",
       "      <th>1</th>\n",
       "      <td>LITTLE, ABNER</td>\n",
       "      <td>BLACK PANTHER/T'CHAL</td>\n",
       "    </tr>\n",
       "    <tr>\n",
       "      <th>2</th>\n",
       "      <td>BLACK PANTHER/T'CHAL</td>\n",
       "      <td>PRINCESS ZANDA</td>\n",
       "    </tr>\n",
       "    <tr>\n",
       "      <th>3</th>\n",
       "      <td>LITTLE, ABNER</td>\n",
       "      <td>PRINCESS ZANDA</td>\n",
       "    </tr>\n",
       "    <tr>\n",
       "      <th>4</th>\n",
       "      <td>LITTLE, ABNER</td>\n",
       "      <td>BLACK PANTHER/T'CHAL</td>\n",
       "    </tr>\n",
       "    <tr>\n",
       "      <th>...</th>\n",
       "      <td>...</td>\n",
       "      <td>...</td>\n",
       "    </tr>\n",
       "    <tr>\n",
       "      <th>574462</th>\n",
       "      <td>COLOSSUS II/PETER RA</td>\n",
       "      <td>CALLISTO</td>\n",
       "    </tr>\n",
       "    <tr>\n",
       "      <th>574463</th>\n",
       "      <td>CALLISTO</td>\n",
       "      <td>ROGUE /</td>\n",
       "    </tr>\n",
       "    <tr>\n",
       "      <th>574464</th>\n",
       "      <td>CALLISTO</td>\n",
       "      <td>CALIBAN/</td>\n",
       "    </tr>\n",
       "    <tr>\n",
       "      <th>574465</th>\n",
       "      <td>CALIBAN/</td>\n",
       "      <td>ROGUE /</td>\n",
       "    </tr>\n",
       "    <tr>\n",
       "      <th>574466</th>\n",
       "      <td>HULK/DR. ROBERT BRUC</td>\n",
       "      <td>MARKS, DR. SHIELA</td>\n",
       "    </tr>\n",
       "  </tbody>\n",
       "</table>\n",
       "<p>574467 rows × 2 columns</p>\n",
       "</div>"
      ],
      "text/plain": [
       "                       hero1                 hero2\n",
       "0              LITTLE, ABNER        PRINCESS ZANDA\n",
       "1              LITTLE, ABNER  BLACK PANTHER/T'CHAL\n",
       "2       BLACK PANTHER/T'CHAL        PRINCESS ZANDA\n",
       "3              LITTLE, ABNER        PRINCESS ZANDA\n",
       "4              LITTLE, ABNER  BLACK PANTHER/T'CHAL\n",
       "...                      ...                   ...\n",
       "574462  COLOSSUS II/PETER RA              CALLISTO\n",
       "574463              CALLISTO               ROGUE /\n",
       "574464              CALLISTO              CALIBAN/\n",
       "574465              CALIBAN/               ROGUE /\n",
       "574466  HULK/DR. ROBERT BRUC     MARKS, DR. SHIELA\n",
       "\n",
       "[574467 rows x 2 columns]"
      ]
     },
     "execution_count": 3,
     "metadata": {},
     "output_type": "execute_result"
    }
   ],
   "source": [
    "df_hero_net"
   ]
  },
  {
   "cell_type": "code",
   "execution_count": 4,
   "id": "469d9a4f",
   "metadata": {},
   "outputs": [
    {
     "data": {
      "text/html": [
       "<div>\n",
       "<style scoped>\n",
       "    .dataframe tbody tr th:only-of-type {\n",
       "        vertical-align: middle;\n",
       "    }\n",
       "\n",
       "    .dataframe tbody tr th {\n",
       "        vertical-align: top;\n",
       "    }\n",
       "\n",
       "    .dataframe thead th {\n",
       "        text-align: right;\n",
       "    }\n",
       "</style>\n",
       "<table border=\"1\" class=\"dataframe\">\n",
       "  <thead>\n",
       "    <tr style=\"text-align: right;\">\n",
       "      <th></th>\n",
       "      <th>hero</th>\n",
       "      <th>comic</th>\n",
       "    </tr>\n",
       "  </thead>\n",
       "  <tbody>\n",
       "    <tr>\n",
       "      <th>0</th>\n",
       "      <td>24-HOUR MAN/EMMANUEL</td>\n",
       "      <td>AA2 35</td>\n",
       "    </tr>\n",
       "    <tr>\n",
       "      <th>1</th>\n",
       "      <td>3-D MAN/CHARLES CHAN</td>\n",
       "      <td>AVF 4</td>\n",
       "    </tr>\n",
       "    <tr>\n",
       "      <th>2</th>\n",
       "      <td>3-D MAN/CHARLES CHAN</td>\n",
       "      <td>AVF 5</td>\n",
       "    </tr>\n",
       "    <tr>\n",
       "      <th>3</th>\n",
       "      <td>3-D MAN/CHARLES CHAN</td>\n",
       "      <td>COC 1</td>\n",
       "    </tr>\n",
       "    <tr>\n",
       "      <th>4</th>\n",
       "      <td>3-D MAN/CHARLES CHAN</td>\n",
       "      <td>H2 251</td>\n",
       "    </tr>\n",
       "    <tr>\n",
       "      <th>...</th>\n",
       "      <td>...</td>\n",
       "      <td>...</td>\n",
       "    </tr>\n",
       "    <tr>\n",
       "      <th>96099</th>\n",
       "      <td>ZZZAX</td>\n",
       "      <td>H2 326</td>\n",
       "    </tr>\n",
       "    <tr>\n",
       "      <th>96100</th>\n",
       "      <td>ZZZAX</td>\n",
       "      <td>H2 327</td>\n",
       "    </tr>\n",
       "    <tr>\n",
       "      <th>96101</th>\n",
       "      <td>ZZZAX</td>\n",
       "      <td>M/CP 8/4</td>\n",
       "    </tr>\n",
       "    <tr>\n",
       "      <th>96102</th>\n",
       "      <td>ZZZAX</td>\n",
       "      <td>PM 47</td>\n",
       "    </tr>\n",
       "    <tr>\n",
       "      <th>96103</th>\n",
       "      <td>ZZZAX</td>\n",
       "      <td>WCA2 12</td>\n",
       "    </tr>\n",
       "  </tbody>\n",
       "</table>\n",
       "<p>96104 rows × 2 columns</p>\n",
       "</div>"
      ],
      "text/plain": [
       "                       hero     comic\n",
       "0      24-HOUR MAN/EMMANUEL    AA2 35\n",
       "1      3-D MAN/CHARLES CHAN     AVF 4\n",
       "2      3-D MAN/CHARLES CHAN     AVF 5\n",
       "3      3-D MAN/CHARLES CHAN     COC 1\n",
       "4      3-D MAN/CHARLES CHAN    H2 251\n",
       "...                     ...       ...\n",
       "96099                 ZZZAX    H2 326\n",
       "96100                 ZZZAX    H2 327\n",
       "96101                 ZZZAX  M/CP 8/4\n",
       "96102                 ZZZAX     PM 47\n",
       "96103                 ZZZAX   WCA2 12\n",
       "\n",
       "[96104 rows x 2 columns]"
      ]
     },
     "execution_count": 4,
     "metadata": {},
     "output_type": "execute_result"
    }
   ],
   "source": [
    "df_edges"
   ]
  },
  {
   "cell_type": "code",
   "execution_count": 5,
   "id": "b952a4aa",
   "metadata": {},
   "outputs": [
    {
     "data": {
      "text/html": [
       "<div>\n",
       "<style scoped>\n",
       "    .dataframe tbody tr th:only-of-type {\n",
       "        vertical-align: middle;\n",
       "    }\n",
       "\n",
       "    .dataframe tbody tr th {\n",
       "        vertical-align: top;\n",
       "    }\n",
       "\n",
       "    .dataframe thead th {\n",
       "        text-align: right;\n",
       "    }\n",
       "</style>\n",
       "<table border=\"1\" class=\"dataframe\">\n",
       "  <thead>\n",
       "    <tr style=\"text-align: right;\">\n",
       "      <th></th>\n",
       "      <th>node</th>\n",
       "      <th>type</th>\n",
       "    </tr>\n",
       "  </thead>\n",
       "  <tbody>\n",
       "    <tr>\n",
       "      <th>0</th>\n",
       "      <td>2001 10</td>\n",
       "      <td>comic</td>\n",
       "    </tr>\n",
       "    <tr>\n",
       "      <th>1</th>\n",
       "      <td>2001 8</td>\n",
       "      <td>comic</td>\n",
       "    </tr>\n",
       "    <tr>\n",
       "      <th>2</th>\n",
       "      <td>2001 9</td>\n",
       "      <td>comic</td>\n",
       "    </tr>\n",
       "    <tr>\n",
       "      <th>3</th>\n",
       "      <td>24-HOUR MAN/EMMANUEL</td>\n",
       "      <td>hero</td>\n",
       "    </tr>\n",
       "    <tr>\n",
       "      <th>4</th>\n",
       "      <td>3-D MAN/CHARLES CHAN</td>\n",
       "      <td>hero</td>\n",
       "    </tr>\n",
       "    <tr>\n",
       "      <th>...</th>\n",
       "      <td>...</td>\n",
       "      <td>...</td>\n",
       "    </tr>\n",
       "    <tr>\n",
       "      <th>19085</th>\n",
       "      <td>ZOTA, CARLO</td>\n",
       "      <td>hero</td>\n",
       "    </tr>\n",
       "    <tr>\n",
       "      <th>19086</th>\n",
       "      <td>ZOTA</td>\n",
       "      <td>hero</td>\n",
       "    </tr>\n",
       "    <tr>\n",
       "      <th>19087</th>\n",
       "      <td>ZURAS</td>\n",
       "      <td>hero</td>\n",
       "    </tr>\n",
       "    <tr>\n",
       "      <th>19088</th>\n",
       "      <td>ZURI</td>\n",
       "      <td>hero</td>\n",
       "    </tr>\n",
       "    <tr>\n",
       "      <th>19089</th>\n",
       "      <td>ZZZAX</td>\n",
       "      <td>hero</td>\n",
       "    </tr>\n",
       "  </tbody>\n",
       "</table>\n",
       "<p>19090 rows × 2 columns</p>\n",
       "</div>"
      ],
      "text/plain": [
       "                       node   type\n",
       "0                   2001 10  comic\n",
       "1                    2001 8  comic\n",
       "2                    2001 9  comic\n",
       "3      24-HOUR MAN/EMMANUEL   hero\n",
       "4      3-D MAN/CHARLES CHAN   hero\n",
       "...                     ...    ...\n",
       "19085           ZOTA, CARLO   hero\n",
       "19086                  ZOTA   hero\n",
       "19087                 ZURAS   hero\n",
       "19088                  ZURI   hero\n",
       "19089                 ZZZAX   hero\n",
       "\n",
       "[19090 rows x 2 columns]"
      ]
     },
     "execution_count": 5,
     "metadata": {},
     "output_type": "execute_result"
    }
   ],
   "source": [
    "df_nodes"
   ]
  },
  {
   "cell_type": "code",
   "execution_count": 6,
   "id": "4df0bd4f",
   "metadata": {},
   "outputs": [
    {
     "data": {
      "text/plain": [
       "(19090, 2)"
      ]
     },
     "execution_count": 6,
     "metadata": {},
     "output_type": "execute_result"
    }
   ],
   "source": [
    "df_nodes.shape"
   ]
  },
  {
   "cell_type": "code",
   "execution_count": 7,
   "id": "878b715f",
   "metadata": {},
   "outputs": [
    {
     "name": "stdout",
     "output_type": "stream",
     "text": [
      "node    12651\n",
      "type    12651\n",
      "dtype: int64 node    6439\n",
      "type    6439\n",
      "dtype: int64\n"
     ]
    }
   ],
   "source": [
    "n_comics = df_nodes[df_nodes.type == 'comic'].count()\n",
    "n_heros = df_nodes[df_nodes.type == 'hero'].count()\n",
    "print(n_comics, n_heros)"
   ]
  },
  {
   "cell_type": "markdown",
   "id": "386da114",
   "metadata": {},
   "source": [
    "## 1.1 Pre-processing "
   ]
  },
  {
   "attachments": {},
   "cell_type": "markdown",
   "id": "aa7a38e0",
   "metadata": {},
   "source": [
    "We remove extra spaces and '/' at the end of the names in the datasets. "
   ]
  },
  {
   "cell_type": "code",
   "execution_count": 8,
   "id": "bb37581f",
   "metadata": {},
   "outputs": [],
   "source": [
    "df_hero_net[\"hero1\"] = df_hero_net[\"hero1\"].apply(lambda x: x[0:-1] if list(x)[-1] in [' ', '/'] else x)\n",
    "df_hero_net[\"hero2\"] = df_hero_net[\"hero2\"].apply(lambda x: x[0:-1] if list(x)[-1] in [' ', '/'] else x)"
   ]
  },
  {
   "cell_type": "code",
   "execution_count": 9,
   "id": "81fd9bc7",
   "metadata": {},
   "outputs": [
    {
     "data": {
      "text/html": [
       "<div>\n",
       "<style scoped>\n",
       "    .dataframe tbody tr th:only-of-type {\n",
       "        vertical-align: middle;\n",
       "    }\n",
       "\n",
       "    .dataframe tbody tr th {\n",
       "        vertical-align: top;\n",
       "    }\n",
       "\n",
       "    .dataframe thead th {\n",
       "        text-align: right;\n",
       "    }\n",
       "</style>\n",
       "<table border=\"1\" class=\"dataframe\">\n",
       "  <thead>\n",
       "    <tr style=\"text-align: right;\">\n",
       "      <th></th>\n",
       "      <th>hero1</th>\n",
       "      <th>hero2</th>\n",
       "    </tr>\n",
       "  </thead>\n",
       "  <tbody>\n",
       "    <tr>\n",
       "      <th>0</th>\n",
       "      <td>LITTLE, ABNER</td>\n",
       "      <td>PRINCESS ZANDA</td>\n",
       "    </tr>\n",
       "    <tr>\n",
       "      <th>1</th>\n",
       "      <td>LITTLE, ABNER</td>\n",
       "      <td>BLACK PANTHER/T'CHAL</td>\n",
       "    </tr>\n",
       "    <tr>\n",
       "      <th>2</th>\n",
       "      <td>BLACK PANTHER/T'CHAL</td>\n",
       "      <td>PRINCESS ZANDA</td>\n",
       "    </tr>\n",
       "    <tr>\n",
       "      <th>3</th>\n",
       "      <td>LITTLE, ABNER</td>\n",
       "      <td>PRINCESS ZANDA</td>\n",
       "    </tr>\n",
       "    <tr>\n",
       "      <th>4</th>\n",
       "      <td>LITTLE, ABNER</td>\n",
       "      <td>BLACK PANTHER/T'CHAL</td>\n",
       "    </tr>\n",
       "    <tr>\n",
       "      <th>...</th>\n",
       "      <td>...</td>\n",
       "      <td>...</td>\n",
       "    </tr>\n",
       "    <tr>\n",
       "      <th>574462</th>\n",
       "      <td>COLOSSUS II/PETER RA</td>\n",
       "      <td>CALLISTO</td>\n",
       "    </tr>\n",
       "    <tr>\n",
       "      <th>574463</th>\n",
       "      <td>CALLISTO</td>\n",
       "      <td>ROGUE</td>\n",
       "    </tr>\n",
       "    <tr>\n",
       "      <th>574464</th>\n",
       "      <td>CALLISTO</td>\n",
       "      <td>CALIBAN</td>\n",
       "    </tr>\n",
       "    <tr>\n",
       "      <th>574465</th>\n",
       "      <td>CALIBAN</td>\n",
       "      <td>ROGUE</td>\n",
       "    </tr>\n",
       "    <tr>\n",
       "      <th>574466</th>\n",
       "      <td>HULK/DR. ROBERT BRUC</td>\n",
       "      <td>MARKS, DR. SHIELA</td>\n",
       "    </tr>\n",
       "  </tbody>\n",
       "</table>\n",
       "<p>574467 rows × 2 columns</p>\n",
       "</div>"
      ],
      "text/plain": [
       "                       hero1                 hero2\n",
       "0              LITTLE, ABNER        PRINCESS ZANDA\n",
       "1              LITTLE, ABNER  BLACK PANTHER/T'CHAL\n",
       "2       BLACK PANTHER/T'CHAL        PRINCESS ZANDA\n",
       "3              LITTLE, ABNER        PRINCESS ZANDA\n",
       "4              LITTLE, ABNER  BLACK PANTHER/T'CHAL\n",
       "...                      ...                   ...\n",
       "574462  COLOSSUS II/PETER RA              CALLISTO\n",
       "574463              CALLISTO                ROGUE \n",
       "574464              CALLISTO               CALIBAN\n",
       "574465               CALIBAN                ROGUE \n",
       "574466  HULK/DR. ROBERT BRUC     MARKS, DR. SHIELA\n",
       "\n",
       "[574467 rows x 2 columns]"
      ]
     },
     "execution_count": 9,
     "metadata": {},
     "output_type": "execute_result"
    }
   ],
   "source": [
    "df_hero_net"
   ]
  },
  {
   "cell_type": "code",
   "execution_count": 10,
   "id": "b753b8c8",
   "metadata": {},
   "outputs": [],
   "source": [
    "df_edges[\"hero\"] = df_edges[\"hero\"].apply(lambda x: x[0:-1] if list(x)[-1] in [' ', '/'] else x)\n",
    "df_edges[\"comic\"] = df_edges[\"comic\"].apply(lambda x: x[0:-1] if list(x)[-1] in [' ', '/'] else x)"
   ]
  },
  {
   "cell_type": "code",
   "execution_count": 11,
   "id": "32a85048",
   "metadata": {},
   "outputs": [
    {
     "data": {
      "text/html": [
       "<div>\n",
       "<style scoped>\n",
       "    .dataframe tbody tr th:only-of-type {\n",
       "        vertical-align: middle;\n",
       "    }\n",
       "\n",
       "    .dataframe tbody tr th {\n",
       "        vertical-align: top;\n",
       "    }\n",
       "\n",
       "    .dataframe thead th {\n",
       "        text-align: right;\n",
       "    }\n",
       "</style>\n",
       "<table border=\"1\" class=\"dataframe\">\n",
       "  <thead>\n",
       "    <tr style=\"text-align: right;\">\n",
       "      <th></th>\n",
       "      <th>hero</th>\n",
       "      <th>comic</th>\n",
       "    </tr>\n",
       "  </thead>\n",
       "  <tbody>\n",
       "    <tr>\n",
       "      <th>0</th>\n",
       "      <td>24-HOUR MAN/EMMANUEL</td>\n",
       "      <td>AA2 35</td>\n",
       "    </tr>\n",
       "    <tr>\n",
       "      <th>1</th>\n",
       "      <td>3-D MAN/CHARLES CHAN</td>\n",
       "      <td>AVF 4</td>\n",
       "    </tr>\n",
       "    <tr>\n",
       "      <th>2</th>\n",
       "      <td>3-D MAN/CHARLES CHAN</td>\n",
       "      <td>AVF 5</td>\n",
       "    </tr>\n",
       "    <tr>\n",
       "      <th>3</th>\n",
       "      <td>3-D MAN/CHARLES CHAN</td>\n",
       "      <td>COC 1</td>\n",
       "    </tr>\n",
       "    <tr>\n",
       "      <th>4</th>\n",
       "      <td>3-D MAN/CHARLES CHAN</td>\n",
       "      <td>H2 251</td>\n",
       "    </tr>\n",
       "    <tr>\n",
       "      <th>...</th>\n",
       "      <td>...</td>\n",
       "      <td>...</td>\n",
       "    </tr>\n",
       "    <tr>\n",
       "      <th>96099</th>\n",
       "      <td>ZZZAX</td>\n",
       "      <td>H2 326</td>\n",
       "    </tr>\n",
       "    <tr>\n",
       "      <th>96100</th>\n",
       "      <td>ZZZAX</td>\n",
       "      <td>H2 327</td>\n",
       "    </tr>\n",
       "    <tr>\n",
       "      <th>96101</th>\n",
       "      <td>ZZZAX</td>\n",
       "      <td>M/CP 8/4</td>\n",
       "    </tr>\n",
       "    <tr>\n",
       "      <th>96102</th>\n",
       "      <td>ZZZAX</td>\n",
       "      <td>PM 47</td>\n",
       "    </tr>\n",
       "    <tr>\n",
       "      <th>96103</th>\n",
       "      <td>ZZZAX</td>\n",
       "      <td>WCA2 12</td>\n",
       "    </tr>\n",
       "  </tbody>\n",
       "</table>\n",
       "<p>96104 rows × 2 columns</p>\n",
       "</div>"
      ],
      "text/plain": [
       "                       hero     comic\n",
       "0      24-HOUR MAN/EMMANUEL    AA2 35\n",
       "1      3-D MAN/CHARLES CHAN     AVF 4\n",
       "2      3-D MAN/CHARLES CHAN     AVF 5\n",
       "3      3-D MAN/CHARLES CHAN     COC 1\n",
       "4      3-D MAN/CHARLES CHAN    H2 251\n",
       "...                     ...       ...\n",
       "96099                 ZZZAX    H2 326\n",
       "96100                 ZZZAX    H2 327\n",
       "96101                 ZZZAX  M/CP 8/4\n",
       "96102                 ZZZAX     PM 47\n",
       "96103                 ZZZAX   WCA2 12\n",
       "\n",
       "[96104 rows x 2 columns]"
      ]
     },
     "execution_count": 11,
     "metadata": {},
     "output_type": "execute_result"
    }
   ],
   "source": [
    "df_edges"
   ]
  },
  {
   "cell_type": "code",
   "execution_count": 12,
   "id": "7443e079",
   "metadata": {},
   "outputs": [],
   "source": [
    "df_nodes[\"node\"] = df_nodes[\"node\"].apply(lambda x: x[0:-1] if list(x)[-1] in [' ', '/'] else x)"
   ]
  },
  {
   "cell_type": "code",
   "execution_count": 13,
   "id": "83bdffd1",
   "metadata": {},
   "outputs": [
    {
     "data": {
      "text/html": [
       "<div>\n",
       "<style scoped>\n",
       "    .dataframe tbody tr th:only-of-type {\n",
       "        vertical-align: middle;\n",
       "    }\n",
       "\n",
       "    .dataframe tbody tr th {\n",
       "        vertical-align: top;\n",
       "    }\n",
       "\n",
       "    .dataframe thead th {\n",
       "        text-align: right;\n",
       "    }\n",
       "</style>\n",
       "<table border=\"1\" class=\"dataframe\">\n",
       "  <thead>\n",
       "    <tr style=\"text-align: right;\">\n",
       "      <th></th>\n",
       "      <th>node</th>\n",
       "      <th>type</th>\n",
       "    </tr>\n",
       "  </thead>\n",
       "  <tbody>\n",
       "    <tr>\n",
       "      <th>0</th>\n",
       "      <td>2001 10</td>\n",
       "      <td>comic</td>\n",
       "    </tr>\n",
       "    <tr>\n",
       "      <th>1</th>\n",
       "      <td>2001 8</td>\n",
       "      <td>comic</td>\n",
       "    </tr>\n",
       "    <tr>\n",
       "      <th>2</th>\n",
       "      <td>2001 9</td>\n",
       "      <td>comic</td>\n",
       "    </tr>\n",
       "    <tr>\n",
       "      <th>3</th>\n",
       "      <td>24-HOUR MAN/EMMANUEL</td>\n",
       "      <td>hero</td>\n",
       "    </tr>\n",
       "    <tr>\n",
       "      <th>4</th>\n",
       "      <td>3-D MAN/CHARLES CHAN</td>\n",
       "      <td>hero</td>\n",
       "    </tr>\n",
       "    <tr>\n",
       "      <th>...</th>\n",
       "      <td>...</td>\n",
       "      <td>...</td>\n",
       "    </tr>\n",
       "    <tr>\n",
       "      <th>19085</th>\n",
       "      <td>ZOTA, CARLO</td>\n",
       "      <td>hero</td>\n",
       "    </tr>\n",
       "    <tr>\n",
       "      <th>19086</th>\n",
       "      <td>ZOTA</td>\n",
       "      <td>hero</td>\n",
       "    </tr>\n",
       "    <tr>\n",
       "      <th>19087</th>\n",
       "      <td>ZURAS</td>\n",
       "      <td>hero</td>\n",
       "    </tr>\n",
       "    <tr>\n",
       "      <th>19088</th>\n",
       "      <td>ZURI</td>\n",
       "      <td>hero</td>\n",
       "    </tr>\n",
       "    <tr>\n",
       "      <th>19089</th>\n",
       "      <td>ZZZAX</td>\n",
       "      <td>hero</td>\n",
       "    </tr>\n",
       "  </tbody>\n",
       "</table>\n",
       "<p>19090 rows × 2 columns</p>\n",
       "</div>"
      ],
      "text/plain": [
       "                       node   type\n",
       "0                   2001 10  comic\n",
       "1                    2001 8  comic\n",
       "2                    2001 9  comic\n",
       "3      24-HOUR MAN/EMMANUEL   hero\n",
       "4      3-D MAN/CHARLES CHAN   hero\n",
       "...                     ...    ...\n",
       "19085           ZOTA, CARLO   hero\n",
       "19086                  ZOTA   hero\n",
       "19087                 ZURAS   hero\n",
       "19088                  ZURI   hero\n",
       "19089                 ZZZAX   hero\n",
       "\n",
       "[19090 rows x 2 columns]"
      ]
     },
     "execution_count": 13,
     "metadata": {},
     "output_type": "execute_result"
    }
   ],
   "source": [
    "df_nodes"
   ]
  },
  {
   "cell_type": "markdown",
   "id": "b13042df",
   "metadata": {},
   "source": [
    " We fix the 'spider-man/peter parker' error in the datasets."
   ]
  },
  {
   "cell_type": "code",
   "execution_count": 14,
   "id": "0eea43e2",
   "metadata": {},
   "outputs": [],
   "source": [
    "df_hero_net = df_hero_net.replace('SPIDER-MAN/PETER PAR','SPIDER-MAN/PETER PARKER', regex=True)"
   ]
  },
  {
   "cell_type": "code",
   "execution_count": 15,
   "id": "ca33b04f",
   "metadata": {},
   "outputs": [],
   "source": [
    "df_nodes.node = df_nodes.node.replace('SPIDER-MAN/PETER PARKERKER','SPIDER-MAN/PETER PARKER', regex=True)"
   ]
  },
  {
   "cell_type": "markdown",
   "id": "90ede62e",
   "metadata": {},
   "source": [
    "We check if the error is fixed and if there are other similar errors in the datasets."
   ]
  },
  {
   "cell_type": "markdown",
   "id": "17bb6233",
   "metadata": {},
   "source": [
    "At first, we check the hero names."
   ]
  },
  {
   "cell_type": "code",
   "execution_count": 16,
   "id": "50cfc50f",
   "metadata": {},
   "outputs": [
    {
     "name": "stdout",
     "output_type": "stream",
     "text": [
      "{'GIURESCU, RADU', 'RUNE', 'GERVASE, LADY ALYSSA', 'LUNATIK II', 'JOHNSON, LYNDON BAIN', 'DEATHCHARGE', 'RANDAK', 'MARVEL BOY II/MARTIN', 'BERSERKER II', 'CALLAHAN, DANNY', 'BLARE', 'ZANTOR', 'RED WOLF II', 'SHARKSKIN', 'SEA LEOPARD', 'CLUMSY FOULUP', 'KULL', 'FENRIS'}\n",
      "set()\n"
     ]
    }
   ],
   "source": [
    "hero_edges = set(df_edges.hero)\n",
    "hero_heronet = set(df_hero_net.hero1).union(set(df_hero_net.hero2))\n",
    "hero_nodes = set(df_nodes.loc[df_nodes.type=='hero']['node'])\n",
    "\n",
    "print(hero_edges - hero_heronet)\n",
    "print(hero_heronet - hero_edges)"
   ]
  },
  {
   "cell_type": "code",
   "execution_count": 17,
   "id": "18203495",
   "metadata": {},
   "outputs": [
    {
     "name": "stdout",
     "output_type": "stream",
     "text": [
      "set()\n",
      "set()\n"
     ]
    }
   ],
   "source": [
    "print(hero_edges - hero_nodes)\n",
    "print(hero_nodes - hero_edges)"
   ]
  },
  {
   "cell_type": "code",
   "execution_count": 18,
   "id": "c1db648e",
   "metadata": {},
   "outputs": [
    {
     "name": "stdout",
     "output_type": "stream",
     "text": [
      "{'GIURESCU, RADU', 'RUNE', 'GERVASE, LADY ALYSSA', 'LUNATIK II', 'JOHNSON, LYNDON BAIN', 'DEATHCHARGE', 'RANDAK', 'MARVEL BOY II/MARTIN', 'BERSERKER II', 'CALLAHAN, DANNY', 'BLARE', 'ZANTOR', 'RED WOLF II', 'SHARKSKIN', 'SEA LEOPARD', 'CLUMSY FOULUP', 'KULL', 'FENRIS'}\n",
      "set()\n"
     ]
    }
   ],
   "source": [
    "print(hero_nodes - hero_heronet)\n",
    "print(hero_heronet - hero_nodes)"
   ]
  },
  {
   "cell_type": "markdown",
   "id": "06ff25cb",
   "metadata": {},
   "source": [
    "Then, we check the comic names."
   ]
  },
  {
   "cell_type": "code",
   "execution_count": 19,
   "id": "1384fbab",
   "metadata": {},
   "outputs": [],
   "source": [
    "comic_edges = set(df_edges.comic)\n",
    "comic_nodes = set(df_nodes.loc[df_nodes.type=='comic']['node'])"
   ]
  },
  {
   "cell_type": "code",
   "execution_count": 20,
   "id": "4974f576",
   "metadata": {},
   "outputs": [
    {
     "name": "stdout",
     "output_type": "stream",
     "text": [
      "set()\n",
      "set()\n"
     ]
    }
   ],
   "source": [
    "print(comic_edges-comic_nodes)\n",
    "print(comic_nodes-comic_edges)"
   ]
  },
  {
   "cell_type": "markdown",
   "id": "19069835",
   "metadata": {},
   "source": [
    "We notice that some hero names are the same as comic names. We therefore decide to add word 'comic' at the end to the comic names equal to those of the heroes, in order to avoid problems in the creation and management of graphs."
   ]
  },
  {
   "cell_type": "code",
   "execution_count": 21,
   "id": "10ecf63a",
   "metadata": {},
   "outputs": [
    {
     "data": {
      "text/plain": [
       "{'BLADE', 'REBEL', 'SABRE'}"
      ]
     },
     "execution_count": 21,
     "metadata": {},
     "output_type": "execute_result"
    }
   ],
   "source": [
    "equals = hero_edges.intersection(comic_edges)\n",
    "equals"
   ]
  },
  {
   "cell_type": "code",
   "execution_count": 22,
   "id": "159fbd5e",
   "metadata": {},
   "outputs": [
    {
     "data": {
      "text/plain": [
       "{'BLADE', 'REBEL', 'SABRE'}"
      ]
     },
     "execution_count": 22,
     "metadata": {},
     "output_type": "execute_result"
    }
   ],
   "source": [
    "hero_nodes.intersection(comic_nodes)"
   ]
  },
  {
   "cell_type": "code",
   "execution_count": 23,
   "id": "1d9f9db2",
   "metadata": {},
   "outputs": [],
   "source": [
    "for i in equals:\n",
    "    df_edges.comic = df_edges.comic.replace(i, i+' comic', regex=True)"
   ]
  },
  {
   "cell_type": "markdown",
   "id": "18000b76",
   "metadata": {},
   "source": [
    "\n",
    "## 1.2 First graph"
   ]
  },
  {
   "cell_type": "code",
   "execution_count": 24,
   "id": "b81c7e23",
   "metadata": {},
   "outputs": [],
   "source": [
    "G1 = nx.MultiGraph()"
   ]
  },
  {
   "cell_type": "code",
   "execution_count": 25,
   "id": "57e4f964",
   "metadata": {},
   "outputs": [
    {
     "data": {
      "text/plain": [
       "0          0\n",
       "1          0\n",
       "2          0\n",
       "3          1\n",
       "4          1\n",
       "          ..\n",
       "574462    27\n",
       "574463    22\n",
       "574464     8\n",
       "574465    11\n",
       "574466     1\n",
       "Length: 574467, dtype: int64"
      ]
     },
     "execution_count": 25,
     "metadata": {},
     "output_type": "execute_result"
    }
   ],
   "source": [
    "df_hero_net.apply(lambda row: G1.add_edge(row['hero1'], row['hero2']), axis=1)"
   ]
  },
  {
   "cell_type": "code",
   "execution_count": 26,
   "id": "b371dbbb",
   "metadata": {},
   "outputs": [],
   "source": [
    "#drop sefl-loops\n",
    "G1.remove_edges_from(nx.selfloop_edges(G1))"
   ]
  },
  {
   "cell_type": "code",
   "execution_count": 27,
   "id": "fc913d89",
   "metadata": {},
   "outputs": [
    {
     "data": {
      "text/plain": [
       "[('LITTLE, ABNER', 'PRINCESS ZANDA'),\n",
       " ('LITTLE, ABNER', 'PRINCESS ZANDA'),\n",
       " ('LITTLE, ABNER', 'PRINCESS ZANDA'),\n",
       " ('LITTLE, ABNER', 'PRINCESS ZANDA'),\n",
       " ('LITTLE, ABNER', 'PRINCESS ZANDA'),\n",
       " ('LITTLE, ABNER', 'PRINCESS ZANDA'),\n",
       " ('LITTLE, ABNER', 'PRINCESS ZANDA'),\n",
       " ('LITTLE, ABNER', 'PRINCESS ZANDA'),\n",
       " ('LITTLE, ABNER', \"BLACK PANTHER/T'CHAL\"),\n",
       " ('LITTLE, ABNER', \"BLACK PANTHER/T'CHAL\")]"
      ]
     },
     "execution_count": 27,
     "metadata": {},
     "output_type": "execute_result"
    }
   ],
   "source": [
    "list(G1.edges())[:10]"
   ]
  },
  {
   "cell_type": "code",
   "execution_count": 28,
   "id": "95912a8a",
   "metadata": {},
   "outputs": [],
   "source": [
    "dicOfOccurances = {}\n",
    "for h1,h2 in df_hero_net.to_numpy():\n",
    "    if h1 != h2:\n",
    "        if (h1,h2) in dicOfOccurances:\n",
    "            dicOfOccurances[(h1,h2)] += 1\n",
    "        else:\n",
    "            dicOfOccurances[(h1,h2)] = 1\n"
   ]
  },
  {
   "cell_type": "code",
   "execution_count": 29,
   "id": "fafc71ef",
   "metadata": {},
   "outputs": [],
   "source": [
    "G1_weighted = nx.MultiGraph()"
   ]
  },
  {
   "cell_type": "code",
   "execution_count": 30,
   "id": "3532df95",
   "metadata": {},
   "outputs": [],
   "source": [
    "i = 0\n",
    "for edge in list(G1.edges()):\n",
    "    try:\n",
    "        G1_weighted.add_edge(edge[0], edge[1], weight = round(1/dicOfOccurances[edge], 3))\n",
    "    except:\n",
    "        G1_weighted.add_edge(edge[0], edge[1], weight = round(1/dicOfOccurances[(edge[1], edge[0])],3))\n"
   ]
  },
  {
   "cell_type": "code",
   "execution_count": 31,
   "id": "cf23d161",
   "metadata": {},
   "outputs": [
    {
     "name": "stdout",
     "output_type": "stream",
     "text": [
      "(('LITTLE, ABNER', 'PRINCESS ZANDA', 0), 0.2)\n",
      "(('LITTLE, ABNER', 'PRINCESS ZANDA', 1), 0.2)\n",
      "(('LITTLE, ABNER', 'PRINCESS ZANDA', 2), 0.2)\n",
      "(('LITTLE, ABNER', 'PRINCESS ZANDA', 3), 0.2)\n",
      "(('LITTLE, ABNER', 'PRINCESS ZANDA', 4), 0.2)\n",
      "(('LITTLE, ABNER', 'PRINCESS ZANDA', 5), 0.2)\n",
      "(('LITTLE, ABNER', 'PRINCESS ZANDA', 6), 0.2)\n",
      "(('LITTLE, ABNER', 'PRINCESS ZANDA', 7), 0.2)\n",
      "(('LITTLE, ABNER', \"BLACK PANTHER/T'CHAL\", 0), 0.25)\n",
      "(('LITTLE, ABNER', \"BLACK PANTHER/T'CHAL\", 1), 0.25)\n",
      "(('LITTLE, ABNER', \"BLACK PANTHER/T'CHAL\", 2), 0.25)\n",
      "(('LITTLE, ABNER', \"BLACK PANTHER/T'CHAL\", 3), 0.25)\n",
      "(('LITTLE, ABNER', \"BLACK PANTHER/T'CHAL\", 4), 0.25)\n",
      "(('LITTLE, ABNER', \"BLACK PANTHER/T'CHAL\", 5), 0.25)\n",
      "(('LITTLE, ABNER', \"BLACK PANTHER/T'CHAL\", 6), 0.25)\n",
      "(('LITTLE, ABNER', 'CARNIVORE/COUNT ANDR', 0), 0.333)\n",
      "(('LITTLE, ABNER', 'CARNIVORE/COUNT ANDR', 1), 0.333)\n",
      "(('LITTLE, ABNER', 'CARNIVORE/COUNT ANDR', 2), 0.333)\n",
      "(('LITTLE, ABNER', 'CARNIVORE/COUNT ANDR', 3), 0.333)\n",
      "(('LITTLE, ABNER', 'CARNIVORE/COUNT ANDR', 4), 0.333)\n"
     ]
    }
   ],
   "source": [
    "edges, weights = zip(*nx.get_edge_attributes(G1_weighted, 'weight').items())\n",
    "for i in range(20):\n",
    "    print((edges[i], weights[i]))"
   ]
  },
  {
   "cell_type": "code",
   "execution_count": 32,
   "id": "b6859812",
   "metadata": {},
   "outputs": [
    {
     "data": {
      "text/plain": [
       "AtlasView({0: {'weight': 0.2}, 1: {'weight': 0.2}, 2: {'weight': 0.2}, 3: {'weight': 0.2}, 4: {'weight': 0.2}, 5: {'weight': 0.2}, 6: {'weight': 0.2}, 7: {'weight': 0.2}})"
      ]
     },
     "execution_count": 32,
     "metadata": {},
     "output_type": "execute_result"
    }
   ],
   "source": [
    "G1_weighted['LITTLE, ABNER']['PRINCESS ZANDA']"
   ]
  },
  {
   "cell_type": "code",
   "execution_count": 33,
   "id": "a0752594",
   "metadata": {},
   "outputs": [
    {
     "data": {
      "text/plain": [
       "{'weight': 0.2}"
      ]
     },
     "execution_count": 33,
     "metadata": {},
     "output_type": "execute_result"
    }
   ],
   "source": [
    "G1_weighted_graph = nx.Graph(G1_weighted)\n",
    "G1_weighted_graph['LITTLE, ABNER']['PRINCESS ZANDA']"
   ]
  },
  {
   "cell_type": "code",
   "execution_count": 34,
   "id": "b24642c6",
   "metadata": {},
   "outputs": [
    {
     "name": "stdout",
     "output_type": "stream",
     "text": [
      "(('LITTLE, ABNER', 'PRINCESS ZANDA'), 0.2)\n",
      "(('LITTLE, ABNER', \"BLACK PANTHER/T'CHAL\"), 0.25)\n",
      "(('LITTLE, ABNER', 'CARNIVORE/COUNT ANDR'), 0.333)\n",
      "(('LITTLE, ABNER', 'IRON MAN/TONY STARK'), 1.0)\n",
      "(('LITTLE, ABNER', 'GOLDEN-BLADE'), 1.0)\n",
      "(('LITTLE, ABNER', 'DIXON, GENERAL'), 1.0)\n",
      "(('LITTLE, ABNER', 'IRON MAN IV/JAMES R.'), 1.0)\n",
      "(('LITTLE, ABNER', 'JOCASTA'), 1.0)\n",
      "(('LITTLE, ABNER', 'FUJIKAWA, RUMIKO'), 1.0)\n",
      "(('LITTLE, ABNER', 'MADAME MENACE/SUNSET'), 1.0)\n",
      "(('LITTLE, ABNER', 'JACOBS, GLENDA'), 1.0)\n",
      "(('LITTLE, ABNER', 'WAR MACHINE II/PARNE'), 1.0)\n",
      "(('LITTLE, ABNER', 'SAPPER'), 1.0)\n",
      "(('LITTLE, ABNER', 'HOGAN, VIRGINIA PEPP'), 1.0)\n",
      "(('LITTLE, ABNER', 'BINARY/CAROL DANVERS'), 1.0)\n",
      "(('LITTLE, ABNER', 'FIN FANG FOOM/MIDGAR'), 1.0)\n",
      "(('LITTLE, ABNER', 'MANN, DR. J. VERNON'), 0.5)\n",
      "(('LITTLE, ABNER', 'THOR/DR. DONALD BLAK'), 1.0)\n",
      "(('LITTLE, ABNER', 'TEMPEST II/NICOLETTE'), 1.0)\n",
      "(('LITTLE, ABNER', 'JARVIS, EDWIN'), 1.0)\n"
     ]
    }
   ],
   "source": [
    "edges, weights = zip(*nx.get_edge_attributes(G1_weighted_graph, 'weight').items())\n",
    "for i in range(20):\n",
    "    print((edges[i], weights[i]))"
   ]
  },
  {
   "cell_type": "code",
   "execution_count": 35,
   "id": "3b2513e3",
   "metadata": {},
   "outputs": [],
   "source": [
    "dicOfWeights = {}\n",
    "for edge in G1_weighted_graph.edges():\n",
    "    dicOfWeights[edge] = G1_weighted_graph.get_edge_data(edge[0], edge[1])['weight']\n"
   ]
  },
  {
   "cell_type": "code",
   "execution_count": 36,
   "id": "9b1211cb",
   "metadata": {},
   "outputs": [
    {
     "name": "stdout",
     "output_type": "stream",
     "text": [
      "Number of nodes of the first graph: 6421\n",
      "Number of edges of the first graph: 167100\n"
     ]
    }
   ],
   "source": [
    "print('Number of nodes of the first graph: ' + str(len(G1_weighted_graph.nodes())))\n",
    "print('Number of edges of the first graph: ' +  str(len(G1_weighted_graph.edges())))"
   ]
  },
  {
   "cell_type": "markdown",
   "id": "d1ce247e",
   "metadata": {},
   "source": [
    "## 1.3 Second graph"
   ]
  },
  {
   "cell_type": "code",
   "execution_count": 37,
   "id": "5aa117b5",
   "metadata": {},
   "outputs": [
    {
     "name": "stdout",
     "output_type": "stream",
     "text": [
      "Number of elements in attributes list: 19090\n"
     ]
    }
   ],
   "source": [
    "attributes = {}\n",
    "for elem in df_edges['hero']:\n",
    "    attributes[elem] = {'type' : 'hero' } \n",
    "for elem in df_edges['comic']:\n",
    "    attributes[elem] = {'type' : 'comic' } \n",
    "\n",
    "print('Number of elements in attributes list: ' + str(len(attributes)))"
   ]
  },
  {
   "cell_type": "code",
   "execution_count": 38,
   "id": "f88db8a6",
   "metadata": {},
   "outputs": [
    {
     "name": "stdout",
     "output_type": "stream",
     "text": [
      "Number of nodes of the second graph: 19090\n",
      "Number of edges of the second graph: 96104\n"
     ]
    }
   ],
   "source": [
    "G2 = nx.from_pandas_edgelist(df_edges, 'hero', 'comic')\n",
    "nx.set_node_attributes(G2, attributes)\n",
    "print('Number of nodes of the second graph: ' + str(len(G2.nodes())))\n",
    "print('Number of edges of the second graph: ' +  str(len(G2.edges())))"
   ]
  },
  {
   "cell_type": "code",
   "execution_count": 39,
   "id": "7b2626cf",
   "metadata": {},
   "outputs": [
    {
     "name": "stdout",
     "output_type": "stream",
     "text": [
      "24-HOUR MAN/EMMANUEL hero\n",
      "AA2 35 comic\n",
      "3-D MAN/CHARLES CHAN hero\n",
      "AVF 4 comic\n",
      "AVF 5 comic\n",
      "COC 1 comic\n",
      "H2 251 comic\n",
      "H2 252 comic\n",
      "M/PRM 35 comic\n",
      "M/PRM 36 comic\n"
     ]
    }
   ],
   "source": [
    "nodes, types = zip(*nx.get_node_attributes(G2, 'type').items())\n",
    "for i in range(10):\n",
    "    print(nodes[i], types[i])"
   ]
  },
  {
   "attachments": {},
   "cell_type": "markdown",
   "id": "06c047b8",
   "metadata": {},
   "source": [
    "# TopN"
   ]
  },
  {
   "cell_type": "code",
   "execution_count": 55,
   "id": "8e5e1bdb",
   "metadata": {},
   "outputs": [],
   "source": [
    "def create_G1_topN(N, df):\n",
    "    G_topN = G1_weighted_graph.copy()\n",
    "    most_popular_heros = df.groupby(\"hero\", group_keys=False).count().sort_values(by='comic', ascending = False).head(N)\n",
    "    notInTopN = set(G1_weighted_graph.nodes()) - set(most_popular_heros.index)\n",
    "    G_topN.remove_nodes_from(notInTopN)\n",
    "    return G_topN"
   ]
  },
  {
   "cell_type": "code",
   "execution_count": 56,
   "id": "050b3755",
   "metadata": {},
   "outputs": [],
   "source": [
    "def create_G2_topN(N, df):\n",
    "    df_new = df.groupby(['hero'])['hero'].count().reset_index(name=\"count\").sort_values(by = 'count',ascending=False).head(N)\n",
    "    nodes=[df_new['hero'][i] for i in df_new.index]\n",
    "    \n",
    "    new_nodes = set(nodes)\n",
    "    for i in nodes:\n",
    "        app = list(df_edges.loc[df_edges['hero']==i]['comic'])\n",
    "        new_nodes.update(app)\n",
    "        \n",
    "    G_top_N = G2.subgraph(new_nodes)\n",
    "    return G_top_N"
   ]
  },
  {
   "cell_type": "code",
   "execution_count": 57,
   "id": "2003c8d4",
   "metadata": {},
   "outputs": [
    {
     "data": {
      "text/plain": [
       "45"
      ]
     },
     "execution_count": 57,
     "metadata": {},
     "output_type": "execute_result"
    }
   ],
   "source": [
    "G1_topN = create_G1_topN(10, df_edges)\n",
    "len(G1_topN.edges())"
   ]
  },
  {
   "cell_type": "code",
   "execution_count": 58,
   "id": "1425cbaa",
   "metadata": {},
   "outputs": [
    {
     "data": {
      "text/plain": [
       "10136"
      ]
     },
     "execution_count": 58,
     "metadata": {},
     "output_type": "execute_result"
    }
   ],
   "source": [
    "G2_topN= create_G2_topN(10, df_edges)\n",
    "len(G2_topN.edges())"
   ]
  },
  {
   "cell_type": "markdown",
   "id": "b27b63ac",
   "metadata": {},
   "source": [
    "# Functionality 1"
   ]
  },
  {
   "cell_type": "code",
   "execution_count": null,
   "id": "848f9066",
   "metadata": {},
   "outputs": [],
   "source": [
    "def degree_distG(G):\n",
    "    degree_G = [G.degree(n) for n in G.nodes()]\n",
    "    plt.hist(degree_G, bins=100, color='green', edgecolor='black')\n",
    "    plt.xlim(0, 1500)\n",
    "    plt.title('Degree Distribution of G1')\n",
    "    plt.ylabel('Number of nodes')\n",
    "    plt.xlabel('Degree')\n",
    "    plt.show()"
   ]
  },
  {
   "cell_type": "code",
   "execution_count": null,
   "id": "b46d4a01",
   "metadata": {},
   "outputs": [],
   "source": [
    "def hubsG(G):\n",
    "    degreeG1 = [G.degree(n) for n in G.nodes()]\n",
    "    ex_nodes = [n for n in G.nodes() if G.degree(n) > np.percentile(degreeG1,95)]\n",
    "    return(ex_nodes)"
   ]
  },
  {
   "cell_type": "code",
   "execution_count": null,
   "id": "bbb678ab",
   "metadata": {},
   "outputs": [],
   "source": [
    "def hubs(G):\n",
    "    degreeG2 = [G.degree(n) for n in G.nodes()]\n",
    "    ex_nodes = [n for n in G.nodes() if G.degree(n) > np.percentile(degreeG2,95) and G.nodes[n].get('type', '') == 'comic']\n",
    "    return(ex_nodes)"
   ]
  },
  {
   "cell_type": "code",
   "execution_count": null,
   "id": "34aa0434",
   "metadata": {},
   "outputs": [],
   "source": [
    "def density_G(G):\n",
    "    n = G.number_of_nodes()\n",
    "    m = G.number_of_edges()\n",
    "    return 2*m/(n*(n-1))"
   ]
  },
  {
   "cell_type": "code",
   "execution_count": null,
   "id": "b7863ef4",
   "metadata": {},
   "outputs": [],
   "source": [
    "def functionality_1(G,G_type,N):\n",
    "    G = G.copy()\n",
    "    if G_type == 1:\n",
    "        G = create_G1_topN(G,n,df_edges)\n",
    "        \n",
    "        n_nodesG1 = int(G.number_of_nodes())\n",
    "        degree_G1 = G.degree()\n",
    "        \n",
    "        sorted_degree_G1 = sorted(degree_G1, key=lambda x: x[1], reverse=True)\n",
    "    \n",
    "        densityG1 = len(G.edges())/(n_nodesG1*(n_nodesG1-1)/2)\n",
    "        \n",
    "        degree_sequence = [deg for i, deg in G.degree()]\n",
    "        avg_degreeG1 = sum(degree_sequence) / len(degree_sequence)\n",
    "        \n",
    "        type_graphG1 = \"\"    \n",
    "        if density_G(G) >= 0.5:\n",
    "            type_graphG1 = \"DENSE\"\n",
    "        else:\n",
    "            type_graphG1 = \"SPARSE\"\n",
    "            \n",
    "    \n",
    "        print(\"Number of nodes of G1: \", n_nodesG1)\n",
    "        print(\"sorted collaborations of each node:\", sorted_degree_G1)\n",
    "        print(\"The density of G1 is:\", densityG1)\n",
    "        print(degree_distG(G))\n",
    "        print(\"Average degree of G1: \", avg_degreeG1)\n",
    "        print(\"Nodes with degrees more extensive than the 95th percentile of the degree distribution: \", len(hubs(G)), \n",
    "        \"\\n\", sorted(hubsG1(G), key=lambda x: G.degree(x), reverse=True))\n",
    "        print(\"The type of G1 is: \", type_graphG1)\n",
    "    \n",
    "    \n",
    "    \n",
    "    if G_type == 2:\n",
    "        \n",
    "        \n",
    "        count_hero = 0\n",
    "        count_comic = 0\n",
    "        for elements in types:\n",
    "            if elements == 'hero':\n",
    "                count_hero += 1\n",
    "            elif elements == 'comic':\n",
    "                count_comic += 1\n",
    "        degree_G = G.degree()\n",
    "        \n",
    "        hero_appeard = df_edges.groupby('comic').count().sort_values(by='hero', ascending=False)\n",
    "    \n",
    "        densityG2 = len(G.edges())/(count_hero*(count_hero-1)/2)\n",
    "        \n",
    "        degree_sequence = [deg for i, deg in G.degree()]\n",
    "        avg_degreeG2 = sum(degree_sequence) / len(degree_sequence)\n",
    "        \n",
    "        type_graphG2 = \"\"    \n",
    "        if density_G(G) >= 0.5:\n",
    "            type_graphG2 = \"DENSE\"\n",
    "        else:\n",
    "            type_graphG2 = \"SPARSE\"\n",
    "    \n",
    "    \n",
    "        print(\"Number of nodes of G2: \", count_hero, count_comic)\n",
    "        print( \"the number of heroes that have appeared in each comic of G2:\" , \"\\n\", hero_appeard)\n",
    "        print(\"The density of G1 is:\", densityG2)\n",
    "        print(degree_distG(G))\n",
    "        print(\"Average degree of G2: \", avg_degreeG2)\n",
    "        print(\"Nodes with degrees more extensive than the 95th percentile of the degree distribution: \", len(hubs(G)),\n",
    "         \"\\n\", sorted(hubs(G), key=lambda x: G.degree(x), reverse=True))    \n",
    "        print(\"The type of G2 is: \", type_graphG2)\n",
    "\n",
    "     \n",
    "    \n",
    "    \n",
    "    return "
   ]
  },
  {
   "cell_type": "markdown",
   "id": "2584b12f",
   "metadata": {},
   "source": [
    "# Functionality 2 - Find top superheroes!"
   ]
  },
  {
   "cell_type": "code",
   "execution_count": null,
   "id": "bd6f2e60",
   "metadata": {},
   "outputs": [],
   "source": [
    "def fun_betweenness_centrality(G):\n",
    "    betweenness = defaultdict(int)\n",
    "    for i, s in enumerate(G):\n",
    "        if i == 10:\n",
    "            break\n",
    "        for j, t in enumerate(G):\n",
    "            if j == 10:\n",
    "                break\n",
    "          if s != t:\n",
    "            # Calcolo i percorsi minimi tra s e t utilizzando l'algoritmo BFS\n",
    "            path = nx_shortest_path(G,source=s, target=t)\n",
    "            for v in path:\n",
    "              betweenness[v] += 1\n",
    "      # Normalizza i valori della betweenness\n",
    "      n = len(G)\n",
    "      for v in betweenness:\n",
    "        betweenness[v] /= (n-1)*(n-2)\n",
    "      return betweenness"
   ]
  },
  {
   "cell_type": "code",
   "execution_count": null,
   "id": "ca808f0d",
   "metadata": {},
   "outputs": [],
   "source": [
    "def fun_pagerank_centrality(G, alpha=0.85, max_iter=100, tol=1e-6):\n",
    "  # Inizializza i valori di PageRank di ogni nodo con 1/n, dove n è il numero di nodi del grafo\n",
    "  n = len(G)\n",
    "  pagerank = {node: 1/n for node in G}\n",
    "  # Itera finché non si raggiunge la convergenza o il numero massimo di iterazioni\n",
    "  for i in range(max_iter):\n",
    "    diff = 0\n",
    "    # Calcola il nuovo valore di PageRank per ogni nodo\n",
    "    for node in pagerank:\n",
    "      rank = sum(pagerank[neighbor] / len(G[neighbor]) for neighbor in G[node])\n",
    "      # Aggiorna il valore di PageRank del nodo utilizzando la formula di PageRank\n",
    "      new_rank = (1 - alpha) / n + alpha * rank\n",
    "      diff += abs(new_rank - pagerank[node])\n",
    "      pagerank[node] = new_rank\n",
    "    # Se la differenza è minore della soglia di tolleranza, interrompi il loop\n",
    "    if diff < tol:\n",
    "      break\n",
    "  return pagerank"
   ]
  },
  {
   "cell_type": "code",
   "execution_count": null,
   "id": "fb566ae6",
   "metadata": {},
   "outputs": [],
   "source": [
    "def fun_degree_centrality(G, node):\n",
    "    num_neighbors = len(list(G.neighbors(node)))\n",
    "    fun_degree_centrality = num_neighbors / (len(G) - 1)\n",
    "    return fun_degree_centrality"
   ]
  },
  {
   "cell_type": "code",
   "execution_count": null,
   "id": "48a0c1cc",
   "metadata": {},
   "outputs": [],
   "source": [
    "def fun_closeness_centrality(G, node):\n",
    "  # Inizializza una coda e un dizionario per tenere traccia della distanza di ogni nodo dal nodo in questione\n",
    "  queue = deque([node])\n",
    "  distances = {node: 0}\n",
    "\n",
    "  # Esegue la ricerca in larghezza a partire dal nodo in questione\n",
    "  while queue:\n",
    "    current_node = queue.popleft()\n",
    "    for neighbor in G[current_node]:\n",
    "      if neighbor not in distances:\n",
    "        distances[neighbor] = distances[current_node] + 1\n",
    "        queue.append(neighbor)\n",
    "\n",
    "  # Calcola la somma delle distanze di tutti i nodi dal nodo in questione\n",
    "  total_distance = sum(distances.values())\n",
    "  # Calcola la centralità di prossimità come il numero di nodi del grafo diviso dalla somma delle distanze\n",
    "  closeness_centrality = len(G) / total_distance\n",
    "  return closeness_centrality"
   ]
  },
  {
   "cell_type": "code",
   "execution_count": null,
   "id": "bc04058c",
   "metadata": {},
   "outputs": [],
   "source": [
    "def functionality_2(G,node,metric,N):\n",
    "    \n",
    "    G1_topN = create_G1_topN(G,n,df_edges)\n",
    "\n",
    "    result = fun_betweenness_centrality(G)\n",
    "    \n",
    "    for nodo in G.nodes() and N:\n",
    "        print(\"the node is: \", nodo)\n",
    "    if G == G1_topN:\n",
    "        print(\" the betweenness centrality of G1: \", fun_betweenness_centrality(G1))\n",
    "        print(\" the degree centrality of G1: \", fun_degree_centrality(G1, nodo))\n",
    "        print(\" the pagerank centrality of G1: \", fun_pagerank_centrality(G1))\n",
    "        print(\" the closeness centrality of G1: \", fun_closeness_centrality(G1, top_n_heroes))\n",
    "    else:\n",
    "        print(\" the betweenness centrality of G2: \", fun_betweenness_centrality(G2))\n",
    "        print(\" the degree centrality of G2: \", fun_degree_centrality(G2, nodo))\n",
    "        print(\" the pagerank centrality of G2: \", fun_pagerank_centrality(G2))\n",
    "        print(\" the closeness centrality of G2: \", fun_closeness_centrality(G2, topN_heroes))\n",
    "\n",
    "    \n",
    "    \n",
    "    "
   ]
  },
  {
   "cell_type": "code",
   "execution_count": null,
   "id": "f953c3ea",
   "metadata": {},
   "outputs": [],
   "source": [
    "pagerank = nx.pagerank(G)\n",
    "    count = 0\n",
    "    for node, value in pagerank.items():\n",
    "        print(f\"{node}: {value}\")\n",
    "        count += 1\n",
    "        if count == 10:\n",
    "            break"
   ]
  },
  {
   "cell_type": "markdown",
   "id": "746ede44",
   "metadata": {},
   "source": [
    "## Functionality 3"
   ]
  },
  {
   "cell_type": "code",
   "execution_count": null,
   "id": "269e16c4",
   "metadata": {},
   "outputs": [],
   "source": [
    "def top_N(df,N,G):\n",
    "    df_new = df.groupby(['hero'])['hero'].count().reset_index(name=\"count\")\n",
    "    df_new= df_new.sort_values(by = 'count',ascending=False)\n",
    "    df_new = df_new.head(N)\n",
    "    nodes=[df_new['hero'][i] for i in df_new.index]\n",
    "    \n",
    "    new_nodes = set(nodes)\n",
    "    for i in nodes:\n",
    "        app = list(df_edges.loc[df_edges['hero']==i]['comic'])\n",
    "        new_nodes.update(app)\n",
    "        \n",
    "    G_top_N = G.subgraph(new_nodes)\n",
    "    return G_top_N"
   ]
  },
  {
   "cell_type": "code",
   "execution_count": null,
   "id": "e5442e34",
   "metadata": {},
   "outputs": [],
   "source": [
    "def shortest_path_two_nodes(node_1, node_2, G, list_nodes):\n",
    "    if not nx.has_path(G,node_1,node_2):\n",
    "        return []\n",
    "    new_list = set(list_nodes)\n",
    "    new_list.remove(node_1)\n",
    "    new_list.remove(node_2)\n",
    "    nodes = [i for i in G.nodes if i not in new_list]\n",
    "    return list(nx.shortest_path(G.subgraph(nodes), source=node_1, target=node_2, weight=None))"
   ]
  },
  {
   "cell_type": "code",
   "execution_count": null,
   "id": "c5c7a046",
   "metadata": {},
   "outputs": [],
   "source": [
    "def functionality_3(G2, N, h_1, h_n, h):\n",
    "    if N:\n",
    "        N = int(N)\n",
    "        G2 = top_N(df_edges,N,G2)\n",
    "    att = nx.get_node_attributes(G2, \"type\")\n",
    "    if not nx.is_connected(G2):\n",
    "        result = 'There is not such path because the graph is not connected'\n",
    "        return result\n",
    "    if h_1  not in list(G2.nodes) or h_n not in list(G2.nodes):\n",
    "        result = 'There is not such path'\n",
    "        return result\n",
    "    shortest_path = np.array([h_1])\n",
    "    s = h_1\n",
    "    for t in h:\n",
    "        app = shortest_path_two_nodes(s,t,G2,[h_1]+h+[h_n])\n",
    "        if app == []:\n",
    "            return [], G2\n",
    "        #app = list(nx.shortest_path(G2, source=s, target=t, weight=None))\n",
    "        s = t\n",
    "        app = np.array(app)\n",
    "        shortest_path = np.concatenate((shortest_path,app[1:]),axis=None)\n",
    "    app = list(nx.shortest_path(G2, source=t, target=h_n, weight=None))\n",
    "    app = np.array(app)\n",
    "    shortest_path = np.concatenate((shortest_path,app[1:]),axis=None)\n",
    "    \n",
    "    return shortest_path, G2"
   ]
  },
  {
   "cell_type": "markdown",
   "id": "b14f584f",
   "metadata": {},
   "source": [
    "# Functionality 4"
   ]
  },
  {
   "cell_type": "code",
   "execution_count": null,
   "id": "cc19d031",
   "metadata": {},
   "outputs": [],
   "source": [
    "def search_shortest_path(G, source, target):\n",
    "    try:\n",
    "        return nx.shortest_path(G, source, target, weight='weight', method='dijkstra')\n",
    "    except: \n",
    "        return 0"
   ]
  },
  {
   "cell_type": "code",
   "execution_count": null,
   "id": "22f8f8e4",
   "metadata": {},
   "outputs": [],
   "source": [
    "def functionality_4(G, heroA, heroB, N, df):\n",
    "    count = 0\n",
    "    G_final = create_G_topN(G, N, df)\n",
    "\n",
    "    while search_shortest_path(G_final, heroA, heroB) != 0:\n",
    "        shortest_path = search_shortest_path(G_final, heroA, heroB)\n",
    "        dic = {}\n",
    "        for i in range(len(shortest_path)-1):\n",
    "            weight = G.get_edge_data(shortest_path[i], shortest_path[i+1])['weight']\n",
    "            dic[(shortest_path[i],shortest_path[i+1])] = weight\n",
    "        \n",
    "        dic = dict(sorted(dic.items(), key=lambda item: item[1], reverse = True))       \n",
    "        G_final.remove_edge(list(dic.keys())[0][0], list(dic.keys())[0][1])\n",
    "        count+=1\n",
    "    \n",
    "    colors = ['red' if node == heroA or node == heroB else 'blue' \n",
    "                for node in G_final.nodes()]\n",
    "                \n",
    "    return G_final, count, colors"
   ]
  },
  {
   "cell_type": "code",
   "execution_count": null,
   "id": "f29a83b9",
   "metadata": {},
   "outputs": [],
   "source": []
  },
  {
   "cell_type": "code",
   "execution_count": null,
   "id": "a79d0db2",
   "metadata": {},
   "outputs": [],
   "source": []
  },
  {
   "cell_type": "code",
   "execution_count": null,
   "id": "89fccc20",
   "metadata": {},
   "outputs": [],
   "source": []
  },
  {
   "cell_type": "code",
   "execution_count": null,
   "id": "306c86e1",
   "metadata": {},
   "outputs": [],
   "source": []
  },
  {
   "cell_type": "code",
   "execution_count": null,
   "id": "3d8c0b51",
   "metadata": {},
   "outputs": [],
   "source": []
  },
  {
   "cell_type": "code",
   "execution_count": null,
   "id": "beac39b7",
   "metadata": {},
   "outputs": [],
   "source": []
  },
  {
   "cell_type": "code",
   "execution_count": null,
   "id": "91af5b74",
   "metadata": {},
   "outputs": [],
   "source": []
  },
  {
   "cell_type": "code",
   "execution_count": null,
   "id": "06722edf",
   "metadata": {},
   "outputs": [],
   "source": []
  },
  {
   "cell_type": "code",
   "execution_count": null,
   "id": "a230e1a7",
   "metadata": {},
   "outputs": [],
   "source": []
  },
  {
   "cell_type": "code",
   "execution_count": null,
   "id": "cef7cb25",
   "metadata": {},
   "outputs": [],
   "source": []
  },
  {
   "cell_type": "markdown",
   "id": "0e15f142",
   "metadata": {},
   "source": [
    "# Functionality 5"
   ]
  },
  {
   "cell_type": "code",
   "execution_count": null,
   "id": "b1f006b7",
   "metadata": {},
   "outputs": [],
   "source": [
    "def top_N_1(df,N,G):\n",
    "    df_new = df.groupby(['hero'])['hero'].count().reset_index(name=\"count\")\n",
    "    df_new= df_new.sort_values(by = 'count',ascending=False)\n",
    "    df_new = df_new.head(N)\n",
    "    nodes=[df_new['hero'][i] for i in df_new.index]\n",
    "    G_top_N = G.subgraph(nodes)\n",
    "    return G_top_N"
   ]
  },
  {
   "cell_type": "code",
   "execution_count": null,
   "id": "8ccb6782",
   "metadata": {},
   "outputs": [],
   "source": [
    "def edges_to_remove(G):\n",
    "    \n",
    "    num_components = nx.number_connected_components(G)\n",
    "    \n",
    "    edges_to_remove = 0\n",
    "    while True:\n",
    "        if num_components > 1:\n",
    "                break\n",
    "        G_dict = {}\n",
    "        G_dict = nx.edge_betweenness_centrality(G)\n",
    "        max_EBC = max(G_dict.values())\n",
    "        edges = []\n",
    "        for key, value in sorted(G_dict.items(), key=lambda item: item[1], reverse = True):\n",
    "            if value < max_EBC:\n",
    "                break\n",
    "            edges.append(key)\n",
    "        edges_to_remove += len(edge)\n",
    "        for e in edges:\n",
    "            G.remove_edge(e[0], e[1])\n",
    "        components = nx.connected_components(G)\n",
    "        num_components = nx.number_connected_components(G)\n",
    "    return edges_to_remove, G"
   ]
  },
  {
   "cell_type": "code",
   "execution_count": null,
   "id": "10c3e4c4",
   "metadata": {},
   "outputs": [],
   "source": [
    "def functionality_5(G1,N, Hero_1, Hero_2):\n",
    "    G_top_N = top_N_1(df_edges,N,G1)\n",
    "    G = nx.Graph(G_top_N)\n",
    "    \n",
    "    hero_1_2_together = False\n",
    "    number_of_edges, G = edges_to_remove(G)\n",
    "    comunities = []\n",
    "    for comunity in nx.connected_components(G):\n",
    "        comunities.append(list(comunity))\n",
    "        if Hero_1 in comunity and Hero_2 in comunity:\n",
    "            hero_1_2_together = True\n",
    "    \n",
    "\n",
    "    return number_of_edges, G, comunities, hero_1_2_together, G_top_N"
   ]
  },
  {
   "cell_type": "markdown",
   "id": "52b4390c",
   "metadata": {},
   "source": [
    "# 3. Frontend Implementationc"
   ]
  },
  {
   "cell_type": "markdown",
   "id": "dafdcef6",
   "metadata": {},
   "source": [
    "## Visualization 1 - Visualize some features of the network"
   ]
  },
  {
   "cell_type": "code",
   "execution_count": null,
   "id": "abafe5ce",
   "metadata": {},
   "outputs": [],
   "source": []
  },
  {
   "cell_type": "code",
   "execution_count": null,
   "id": "31b5e165",
   "metadata": {},
   "outputs": [],
   "source": []
  },
  {
   "cell_type": "code",
   "execution_count": null,
   "id": "328072d0",
   "metadata": {},
   "outputs": [],
   "source": []
  },
  {
   "cell_type": "code",
   "execution_count": null,
   "id": "9d6e4cc4",
   "metadata": {},
   "outputs": [],
   "source": []
  },
  {
   "cell_type": "code",
   "execution_count": null,
   "id": "e22f0147",
   "metadata": {},
   "outputs": [],
   "source": []
  },
  {
   "cell_type": "code",
   "execution_count": null,
   "id": "1f5e5912",
   "metadata": {},
   "outputs": [],
   "source": []
  }
 ],
 "metadata": {
  "kernelspec": {
   "display_name": "base",
   "language": "python",
   "name": "python3"
  },
  "language_info": {
   "codemirror_mode": {
    "name": "ipython",
    "version": 3
   },
   "file_extension": ".py",
   "mimetype": "text/x-python",
   "name": "python",
   "nbconvert_exporter": "python",
   "pygments_lexer": "ipython3",
   "version": "3.9.12"
  },
  "vscode": {
   "interpreter": {
    "hash": "979bf14ea64443ff3ffb738d52926696eb30c1bf62b3b549289c26deae58448a"
   }
  }
 },
 "nbformat": 4,
 "nbformat_minor": 5
}
