{
 "cells": [
  {
   "cell_type": "code",
   "execution_count": 1,
   "id": "f9753d1d",
   "metadata": {},
   "outputs": [],
   "source": [
    "import pandas as pd\n",
    "import matplotlib.pyplot as plt\n",
    "import networkx as nx\n",
    "import numpy as np"
   ]
  },
  {
   "cell_type": "code",
   "execution_count": 2,
   "id": "9923f12d",
   "metadata": {},
   "outputs": [
    {
     "name": "stdout",
     "output_type": "stream",
     "text": [
      "Requirement already satisfied: scipy in c:\\users\\auror\\anaconda3\\lib\\site-packages (1.7.3)\n",
      "Collecting scipy\n",
      "  Downloading scipy-1.9.3-cp39-cp39-win_amd64.whl (40.2 MB)\n",
      "Requirement already satisfied: networkx in c:\\users\\auror\\anaconda3\\lib\\site-packages (2.7.1)\n",
      "Collecting networkx\n",
      "  Downloading networkx-2.8.8-py3-none-any.whl (2.0 MB)\n",
      "Requirement already satisfied: numpy<1.26.0,>=1.18.5 in c:\\users\\auror\\anaconda3\\lib\\site-packages (from scipy) (1.21.5)\n",
      "Installing collected packages: scipy, networkx\n",
      "  Attempting uninstall: scipy\n",
      "    Found existing installation: scipy 1.7.3\n",
      "    Uninstalling scipy-1.7.3:\n",
      "      Successfully uninstalled scipy-1.7.3\n",
      "  Attempting uninstall: networkx\n",
      "    Found existing installation: networkx 2.7.1\n",
      "    Uninstalling networkx-2.7.1:\n",
      "      Successfully uninstalled networkx-2.7.1\n",
      "Successfully installed networkx-2.8.8 scipy-1.9.3\n",
      "Note: you may need to restart the kernel to use updated packages.\n"
     ]
    }
   ],
   "source": [
    "pip install --upgrade scipy networkx"
   ]
  },
  {
   "cell_type": "markdown",
   "id": "23e0c101",
   "metadata": {},
   "source": [
    "# 1. Data"
   ]
  },
  {
   "cell_type": "code",
   "execution_count": 186,
   "id": "210259fd",
   "metadata": {},
   "outputs": [],
   "source": [
    "df_hero_net = pd.read_csv(r\"C:/Users/auror/Desktop/data_science/ADM/HM/5/hero-network.csv\")\n",
    "df_edges = pd.read_csv(r\"C:/Users/auror/Desktop/data_science/ADM/HM/5/edges.csv\")\n",
    "df_nodes = pd.read_csv(r\"C:/Users/auror/Desktop/data_science/ADM/HM/5/nodes.csv\")"
   ]
  },
  {
   "cell_type": "code",
   "execution_count": 187,
   "id": "f5fdad2e",
   "metadata": {},
   "outputs": [
    {
     "data": {
      "text/html": [
       "<div>\n",
       "<style scoped>\n",
       "    .dataframe tbody tr th:only-of-type {\n",
       "        vertical-align: middle;\n",
       "    }\n",
       "\n",
       "    .dataframe tbody tr th {\n",
       "        vertical-align: top;\n",
       "    }\n",
       "\n",
       "    .dataframe thead th {\n",
       "        text-align: right;\n",
       "    }\n",
       "</style>\n",
       "<table border=\"1\" class=\"dataframe\">\n",
       "  <thead>\n",
       "    <tr style=\"text-align: right;\">\n",
       "      <th></th>\n",
       "      <th>node</th>\n",
       "      <th>type</th>\n",
       "    </tr>\n",
       "  </thead>\n",
       "  <tbody>\n",
       "    <tr>\n",
       "      <th>14618</th>\n",
       "      <td>SPIDER-MAN/PETER PARKERKER</td>\n",
       "      <td>hero</td>\n",
       "    </tr>\n",
       "  </tbody>\n",
       "</table>\n",
       "</div>"
      ],
      "text/plain": [
       "                             node  type\n",
       "14618  SPIDER-MAN/PETER PARKERKER  hero"
      ]
     },
     "execution_count": 187,
     "metadata": {},
     "output_type": "execute_result"
    }
   ],
   "source": [
    "df_nodes.loc[df_nodes['node']=='SPIDER-MAN/PETER PARKERKER']"
   ]
  },
  {
   "cell_type": "code",
   "execution_count": 188,
   "id": "9544a60e",
   "metadata": {},
   "outputs": [
    {
     "name": "stdout",
     "output_type": "stream",
     "text": [
      "node    12651\n",
      "type    12651\n",
      "dtype: int64 node    6439\n",
      "type    6439\n",
      "dtype: int64\n"
     ]
    }
   ],
   "source": [
    "n_comics = df_nodes[df_nodes.type == 'comic'].count()\n",
    "n_heros = df_nodes[df_nodes.type == 'hero'].count()\n",
    "print(n_comics, n_heros)"
   ]
  },
  {
   "cell_type": "markdown",
   "id": "6dc6c667",
   "metadata": {},
   "source": [
    "# NEW pre-processing"
   ]
  },
  {
   "cell_type": "code",
   "execution_count": 5,
   "id": "918eda6e",
   "metadata": {},
   "outputs": [
    {
     "data": {
      "text/html": [
       "<div>\n",
       "<style scoped>\n",
       "    .dataframe tbody tr th:only-of-type {\n",
       "        vertical-align: middle;\n",
       "    }\n",
       "\n",
       "    .dataframe tbody tr th {\n",
       "        vertical-align: top;\n",
       "    }\n",
       "\n",
       "    .dataframe thead th {\n",
       "        text-align: right;\n",
       "    }\n",
       "</style>\n",
       "<table border=\"1\" class=\"dataframe\">\n",
       "  <thead>\n",
       "    <tr style=\"text-align: right;\">\n",
       "      <th></th>\n",
       "      <th>hero1</th>\n",
       "      <th>hero2</th>\n",
       "    </tr>\n",
       "  </thead>\n",
       "  <tbody>\n",
       "    <tr>\n",
       "      <th>0</th>\n",
       "      <td>LITTLE, ABNER</td>\n",
       "      <td>PRINCESS ZANDA</td>\n",
       "    </tr>\n",
       "  </tbody>\n",
       "</table>\n",
       "</div>"
      ],
      "text/plain": [
       "           hero1           hero2\n",
       "0  LITTLE, ABNER  PRINCESS ZANDA"
      ]
     },
     "execution_count": 5,
     "metadata": {},
     "output_type": "execute_result"
    }
   ],
   "source": [
    "df_hero_net.head(1)"
   ]
  },
  {
   "cell_type": "code",
   "execution_count": 6,
   "id": "64777374",
   "metadata": {},
   "outputs": [
    {
     "data": {
      "text/html": [
       "<div>\n",
       "<style scoped>\n",
       "    .dataframe tbody tr th:only-of-type {\n",
       "        vertical-align: middle;\n",
       "    }\n",
       "\n",
       "    .dataframe tbody tr th {\n",
       "        vertical-align: top;\n",
       "    }\n",
       "\n",
       "    .dataframe thead th {\n",
       "        text-align: right;\n",
       "    }\n",
       "</style>\n",
       "<table border=\"1\" class=\"dataframe\">\n",
       "  <thead>\n",
       "    <tr style=\"text-align: right;\">\n",
       "      <th></th>\n",
       "      <th>hero</th>\n",
       "      <th>comic</th>\n",
       "    </tr>\n",
       "  </thead>\n",
       "  <tbody>\n",
       "    <tr>\n",
       "      <th>0</th>\n",
       "      <td>24-HOUR MAN/EMMANUEL</td>\n",
       "      <td>AA2 35</td>\n",
       "    </tr>\n",
       "  </tbody>\n",
       "</table>\n",
       "</div>"
      ],
      "text/plain": [
       "                   hero   comic\n",
       "0  24-HOUR MAN/EMMANUEL  AA2 35"
      ]
     },
     "execution_count": 6,
     "metadata": {},
     "output_type": "execute_result"
    }
   ],
   "source": [
    "df_edges.head(1)"
   ]
  },
  {
   "cell_type": "code",
   "execution_count": 8,
   "id": "80f06de2",
   "metadata": {},
   "outputs": [
    {
     "data": {
      "text/html": [
       "<div>\n",
       "<style scoped>\n",
       "    .dataframe tbody tr th:only-of-type {\n",
       "        vertical-align: middle;\n",
       "    }\n",
       "\n",
       "    .dataframe tbody tr th {\n",
       "        vertical-align: top;\n",
       "    }\n",
       "\n",
       "    .dataframe thead th {\n",
       "        text-align: right;\n",
       "    }\n",
       "</style>\n",
       "<table border=\"1\" class=\"dataframe\">\n",
       "  <thead>\n",
       "    <tr style=\"text-align: right;\">\n",
       "      <th></th>\n",
       "      <th>node</th>\n",
       "      <th>type</th>\n",
       "    </tr>\n",
       "  </thead>\n",
       "  <tbody>\n",
       "    <tr>\n",
       "      <th>0</th>\n",
       "      <td>2001 10</td>\n",
       "      <td>comic</td>\n",
       "    </tr>\n",
       "  </tbody>\n",
       "</table>\n",
       "</div>"
      ],
      "text/plain": [
       "      node   type\n",
       "0  2001 10  comic"
      ]
     },
     "execution_count": 8,
     "metadata": {},
     "output_type": "execute_result"
    }
   ],
   "source": [
    "df_nodes.head(1)"
   ]
  },
  {
   "cell_type": "markdown",
   "id": "e54f48d0",
   "metadata": {},
   "source": [
    "### delete space and '/'"
   ]
  },
  {
   "cell_type": "code",
   "execution_count": 189,
   "id": "757ab0c7",
   "metadata": {},
   "outputs": [],
   "source": [
    "df_hero_net[\"hero1\"] = df_hero_net[\"hero1\"].apply(lambda x: x[0:-1] if list(x)[-1] in [' ', '/'] else x)\n",
    "df_hero_net[\"hero2\"] = df_hero_net[\"hero2\"].apply(lambda x: x[0:-1] if list(x)[-1] in [' ', '/'] else x)"
   ]
  },
  {
   "cell_type": "code",
   "execution_count": 190,
   "id": "495b3019",
   "metadata": {},
   "outputs": [],
   "source": [
    "df_edges[\"hero\"] = df_edges[\"hero\"].apply(lambda x: x[0:-1] if list(x)[-1] in [' ', '/'] else x)\n",
    "df_edges[\"comic\"] = df_edges[\"comic\"].apply(lambda x: x[0:-1] if list(x)[-1] in [' ', '/'] else x)"
   ]
  },
  {
   "cell_type": "code",
   "execution_count": 191,
   "id": "a97de003",
   "metadata": {},
   "outputs": [],
   "source": [
    "df_nodes[\"node\"] = df_nodes[\"node\"].apply(lambda x: x[0:-1] if list(x)[-1] in [' ', '/'] else x)"
   ]
  },
  {
   "cell_type": "markdown",
   "id": "7119cd79",
   "metadata": {},
   "source": [
    "### fixing 'spider-man/peter parker'"
   ]
  },
  {
   "cell_type": "code",
   "execution_count": 192,
   "id": "3320f7eb",
   "metadata": {},
   "outputs": [],
   "source": [
    "df_hero_net = df_hero_net.replace('SPIDER-MAN/PETER PAR','SPIDER-MAN/PETER PARKER', regex=True)"
   ]
  },
  {
   "cell_type": "code",
   "execution_count": 193,
   "id": "37e2df3e",
   "metadata": {},
   "outputs": [],
   "source": [
    "df_nodes.node = df_nodes.node.replace('SPIDER-MAN/PETER PARKERKER','SPIDER-MAN/PETER PARKER', regex=True)"
   ]
  },
  {
   "cell_type": "markdown",
   "id": "5e1c53cf",
   "metadata": {},
   "source": [
    "### checking hero names"
   ]
  },
  {
   "cell_type": "code",
   "execution_count": 194,
   "id": "29b2785b",
   "metadata": {},
   "outputs": [],
   "source": [
    "hero_edges = set(df_edges.hero)\n",
    "hero_heronet = set(df_hero_net.hero1).union(set(df_hero_net.hero2))\n",
    "hero_nodes = set(df_nodes.loc[df_nodes.type=='hero']['node'])"
   ]
  },
  {
   "cell_type": "code",
   "execution_count": 195,
   "id": "2cdd0867",
   "metadata": {},
   "outputs": [
    {
     "name": "stdout",
     "output_type": "stream",
     "text": [
      "{'KULL', 'SEA LEOPARD', 'FENRIS', 'CALLAHAN, DANNY', 'SHARKSKIN', 'LUNATIK II', 'BLARE', 'CLUMSY FOULUP', 'GIURESCU, RADU', 'JOHNSON, LYNDON BAIN', 'RED WOLF II', 'GERVASE, LADY ALYSSA', 'MARVEL BOY II/MARTIN', 'RANDAK', 'BERSERKER II', 'ZANTOR', 'DEATHCHARGE', 'RUNE'}\n",
      "set()\n"
     ]
    }
   ],
   "source": [
    "print(hero_edges - hero_heronet)\n",
    "print(hero_heronet - hero_edges)"
   ]
  },
  {
   "cell_type": "code",
   "execution_count": 196,
   "id": "434f548a",
   "metadata": {},
   "outputs": [
    {
     "name": "stdout",
     "output_type": "stream",
     "text": [
      "set()\n",
      "set()\n"
     ]
    }
   ],
   "source": [
    "print(hero_edges - hero_nodes)\n",
    "print(hero_nodes - hero_edges)"
   ]
  },
  {
   "cell_type": "code",
   "execution_count": 197,
   "id": "01f98cf2",
   "metadata": {},
   "outputs": [
    {
     "name": "stdout",
     "output_type": "stream",
     "text": [
      "{'KULL', 'SEA LEOPARD', 'FENRIS', 'CALLAHAN, DANNY', 'SHARKSKIN', 'LUNATIK II', 'BLARE', 'CLUMSY FOULUP', 'GIURESCU, RADU', 'JOHNSON, LYNDON BAIN', 'RED WOLF II', 'GERVASE, LADY ALYSSA', 'MARVEL BOY II/MARTIN', 'RANDAK', 'BERSERKER II', 'ZANTOR', 'DEATHCHARGE', 'RUNE'}\n",
      "set()\n"
     ]
    }
   ],
   "source": [
    "print(hero_nodes - hero_heronet)\n",
    "print(hero_heronet - hero_nodes)"
   ]
  },
  {
   "cell_type": "markdown",
   "id": "6e0626c1",
   "metadata": {},
   "source": [
    "### checking comic names"
   ]
  },
  {
   "cell_type": "code",
   "execution_count": 198,
   "id": "0e0e0432",
   "metadata": {},
   "outputs": [],
   "source": [
    "comic_edges = set(df_edges.comic)\n",
    "comic_nodes = set(df_nodes.loc[df_nodes.type=='comic']['node'])"
   ]
  },
  {
   "cell_type": "code",
   "execution_count": 199,
   "id": "f7f63c8f",
   "metadata": {},
   "outputs": [
    {
     "name": "stdout",
     "output_type": "stream",
     "text": [
      "set()\n",
      "set()\n"
     ]
    }
   ],
   "source": [
    "print(comic_edges-comic_nodes)\n",
    "print(comic_nodes-comic_edges)"
   ]
  },
  {
   "cell_type": "markdown",
   "id": "42245fc8",
   "metadata": {},
   "source": [
    "### hero names = comic names"
   ]
  },
  {
   "cell_type": "code",
   "execution_count": 200,
   "id": "c660584e",
   "metadata": {},
   "outputs": [
    {
     "data": {
      "text/plain": [
       "{'BLADE', 'REBEL', 'SABRE'}"
      ]
     },
     "execution_count": 200,
     "metadata": {},
     "output_type": "execute_result"
    }
   ],
   "source": [
    "equals = hero_edges.intersection(comic_edges)\n",
    "equals"
   ]
  },
  {
   "cell_type": "code",
   "execution_count": 201,
   "id": "0010c87e",
   "metadata": {},
   "outputs": [],
   "source": [
    "for i in equals:\n",
    "    df_edges.comic = df_edges.comic.replace(i, i+' ', regex=True)"
   ]
  },
  {
   "cell_type": "markdown",
   "id": "341d6a17",
   "metadata": {},
   "source": [
    "# Second graph"
   ]
  },
  {
   "cell_type": "code",
   "execution_count": 206,
   "id": "dc6adb2c",
   "metadata": {},
   "outputs": [],
   "source": [
    "attributes = {}\n",
    "for elem in df_edges['hero']:\n",
    "    attributes[elem] = {'type' : 'hero' } \n",
    "for elem in df_edges['comic']:\n",
    "    attributes[elem] = {'type' : 'comic' } "
   ]
  },
  {
   "cell_type": "code",
   "execution_count": 207,
   "id": "d8167788",
   "metadata": {},
   "outputs": [
    {
     "data": {
      "text/plain": [
       "19090"
      ]
     },
     "execution_count": 207,
     "metadata": {},
     "output_type": "execute_result"
    }
   ],
   "source": [
    "len(attributes)"
   ]
  },
  {
   "cell_type": "code",
   "execution_count": 208,
   "id": "57e47288",
   "metadata": {},
   "outputs": [],
   "source": [
    "G2 = nx.from_pandas_edgelist(df_edges, 'hero', 'comic')\n",
    "nx.set_node_attributes(G2, attributes)"
   ]
  },
  {
   "cell_type": "code",
   "execution_count": 209,
   "id": "5049b9bb",
   "metadata": {},
   "outputs": [
    {
     "data": {
      "text/plain": [
       "19090"
      ]
     },
     "execution_count": 209,
     "metadata": {},
     "output_type": "execute_result"
    }
   ],
   "source": [
    "len(G2.nodes)"
   ]
  },
  {
   "cell_type": "code",
   "execution_count": 210,
   "id": "babd9c8f",
   "metadata": {},
   "outputs": [
    {
     "data": {
      "text/plain": [
       "96104"
      ]
     },
     "execution_count": 210,
     "metadata": {},
     "output_type": "execute_result"
    }
   ],
   "source": [
    "len(G2.edges)"
   ]
  },
  {
   "cell_type": "code",
   "execution_count": 211,
   "id": "d3f17dcc",
   "metadata": {},
   "outputs": [
    {
     "data": {
      "text/plain": [
       "(96104, 2)"
      ]
     },
     "execution_count": 211,
     "metadata": {},
     "output_type": "execute_result"
    }
   ],
   "source": [
    "df_edges.shape"
   ]
  },
  {
   "cell_type": "markdown",
   "id": "da623bdc",
   "metadata": {},
   "source": [
    "# 2. Backend Implementation"
   ]
  },
  {
   "cell_type": "markdown",
   "id": "ba27c115",
   "metadata": {},
   "source": [
    "# Functionality 3 - Shortest ordered Route"
   ]
  },
  {
   "cell_type": "markdown",
   "id": "b5685ec2",
   "metadata": {},
   "source": [
    "Input:\n",
    "\n",
    "- The graph data\n",
    "- A sequence of superheroes h = [h_2, ..., h_n-1]\n",
    "- Initial node h_1 and an end node h_n\n",
    "- N: denoting the top N heroes that their data should be considered\n",
    "\n",
    "Output:\n",
    "\n",
    "- The shortest walk of comics that you need to read to get from hero_1 to hero_n\n",
    "Considerations: For this functionality, you need to implement an algorithm that returns the shortest walk that goes from node h_j to h_n, which visits in order the nodes in h. The choice of h_j and h_n can be made randomly (or if it improves the performance of the algorithm, you can also define it in any other way)\n",
    "\n",
    "Important Notes:\n",
    "\n",
    "- This algorithm should be run only on the second graph (G2).\n",
    "- The algorithm needs to handle the case that the graph is not connected. Thus, only some of the nodes in h are reachable from h_1. In such a scenario, it is enough to let the program give in the output the string \"There is no such path\".\n",
    "- Since we are dealing with walks, you can pass on the same node h_i more than once, but you have to preserve order. E.g., if you start from Spiderman to reach deadpool, and your path requires you to visit iron-man and colossus, you can go back to any comics any time you want, assuming that the order in which you visit the heroes is still the same."
   ]
  },
  {
   "cell_type": "code",
   "execution_count": 181,
   "id": "a18e3072",
   "metadata": {},
   "outputs": [],
   "source": [
    "att = nx.get_node_attributes(G2, \"type\")"
   ]
  },
  {
   "cell_type": "code",
   "execution_count": 182,
   "id": "a938e0cd",
   "metadata": {},
   "outputs": [
    {
     "data": {
      "text/plain": [
       "19090"
      ]
     },
     "execution_count": 182,
     "metadata": {},
     "output_type": "execute_result"
    }
   ],
   "source": [
    "len(att)"
   ]
  },
  {
   "cell_type": "code",
   "execution_count": 183,
   "id": "76f1e8a3",
   "metadata": {},
   "outputs": [
    {
     "data": {
      "text/plain": [
       "19090"
      ]
     },
     "execution_count": 183,
     "metadata": {},
     "output_type": "execute_result"
    }
   ],
   "source": [
    "len(G2.nodes)"
   ]
  },
  {
   "cell_type": "code",
   "execution_count": 184,
   "id": "251bbc34",
   "metadata": {},
   "outputs": [
    {
     "data": {
      "text/plain": [
       "'hero'"
      ]
     },
     "execution_count": 184,
     "metadata": {},
     "output_type": "execute_result"
    }
   ],
   "source": [
    "att['SPIDER-MAN/PETER PARKER']"
   ]
  },
  {
   "cell_type": "code",
   "execution_count": 185,
   "id": "b4980346",
   "metadata": {},
   "outputs": [
    {
     "name": "stdout",
     "output_type": "stream",
     "text": [
      "hero comic\n"
     ]
    }
   ],
   "source": [
    "print(att['BLADE'],att['BLADE '])"
   ]
  },
  {
   "cell_type": "code",
   "execution_count": null,
   "id": "3797a8af",
   "metadata": {},
   "outputs": [],
   "source": [
    "# PROVA\n",
    "nodes = set(nx.all_neighbors(G2,'3-D MAN/CHARLES CHAN' ))\n",
    "nodes.add('3-D MAN/CHARLES CHAN')\n",
    "l = list(nx.all_neighbors(G2,'ROSS, GEN. THADDEUS' ))\n",
    "for i in l:\n",
    "    nodes.add(i)\n",
    "nodes.add('ROSS, GEN. THADDEUS')\n",
    "len(nodes)\n",
    "G2_new = G2.subgraph(nodes)"
   ]
  },
  {
   "cell_type": "code",
   "execution_count": 96,
   "id": "7b741aa5",
   "metadata": {},
   "outputs": [],
   "source": [
    "def top_N(df,N,G):\n",
    "    df_new = df.groupby(['hero'])['hero'].count().reset_index(name=\"count\")\n",
    "    df_new= df_new.sort_values(by = 'count',ascending=False)\n",
    "    df_new = df_new.head(N)\n",
    "    nodes=[df_new['hero'][i] for i in df_new.index]\n",
    "    \n",
    "    new_nodes = set(nodes)\n",
    "    for i in nodes:\n",
    "        app = list(df_edges.loc[df_edges['hero']==i]['comic'])\n",
    "        new_nodes.update(app)\n",
    "        \n",
    "    G_top_N = G.subgraph(new_nodes)\n",
    "    return G_top_N"
   ]
  },
  {
   "cell_type": "code",
   "execution_count": 97,
   "id": "d33f1279",
   "metadata": {},
   "outputs": [],
   "source": [
    "def shortest_path(G2,node,path,final_node,visited,shortest_one,att):\n",
    "    if node == final_node and att[node]=='hero':\n",
    "        path.append(node)\n",
    "        if len(path) < len(shortest_one):\n",
    "            shortest_one = path.copy()\n",
    "        path.pop(len(path)-1)\n",
    "        return shortest_one\n",
    "    \n",
    "    else:\n",
    "        for new_node in list(nx.all_neighbors(G2, node)):\n",
    "            if new_node not in visited:\n",
    "                if att[new_node]=='comic':\n",
    "                    path.append(new_node)\n",
    "                visited.append(new_node)\n",
    "                shortest_one = shortest_path(G2,new_node,path,final_node,visited,shortest_one,att)\n",
    "                if att[new_node]=='comic':\n",
    "                    path.pop(len(path)-1)\n",
    "                visited.pop(len(visited)-1)   \n",
    "        return shortest_one"
   ]
  },
  {
   "cell_type": "code",
   "execution_count": 98,
   "id": "60eadd26",
   "metadata": {},
   "outputs": [],
   "source": [
    "def functionality_3(G2, N, h_1, h_2):\n",
    "    if N:\n",
    "        N = int(N)\n",
    "        G2 = top_N(df_edges,N,G2)\n",
    "    att = nx.get_node_attributes(G2, \"type\")\n",
    "    if not nx.is_connected(G2):\n",
    "        result = 'There is not such path because the graph is not connected'\n",
    "        return result\n",
    "    if h_1  not in list(G2.nodes) or h_2 not in list(G2.nodes):\n",
    "        result = 'There is not such path'\n",
    "        return result\n",
    "    shortest_one = list(range(0,len(G2.nodes)))\n",
    "    shortest_one = shortest_path(G2,h_1,[h_1],h_2,[h_1],shortest_one,att)\n",
    "    return shortest_one"
   ]
  },
  {
   "cell_type": "code",
   "execution_count": 104,
   "id": "ff406d11",
   "metadata": {},
   "outputs": [
    {
     "name": "stdout",
     "output_type": "stream",
     "text": [
      "5\n"
     ]
    }
   ],
   "source": [
    "N = input()"
   ]
  },
  {
   "cell_type": "code",
   "execution_count": 105,
   "id": "82aa034f",
   "metadata": {},
   "outputs": [
    {
     "name": "stdout",
     "output_type": "stream",
     "text": [
      "['SPIDER-MAN/PETER PARKER', 'CAPTAIN AMERICA', 'IRON MAN/TONY STARK', 'THING/BENJAMIN J. GR', 'THOR/DR. DONALD BLAK']\n"
     ]
    },
    {
     "ename": "KeyboardInterrupt",
     "evalue": "",
     "output_type": "error",
     "traceback": [
      "\u001b[1;31m---------------------------------------------------------------------------\u001b[0m",
      "\u001b[1;31mKeyboardInterrupt\u001b[0m                         Traceback (most recent call last)",
      "Input \u001b[1;32mIn [105]\u001b[0m, in \u001b[0;36m<cell line: 1>\u001b[1;34m()\u001b[0m\n\u001b[1;32m----> 1\u001b[0m \u001b[38;5;28mprint\u001b[39m(\u001b[43mfunctionality_3\u001b[49m\u001b[43m(\u001b[49m\u001b[43mG2\u001b[49m\u001b[43m,\u001b[49m\u001b[43mN\u001b[49m\u001b[43m,\u001b[49m\u001b[38;5;124;43m'\u001b[39;49m\u001b[38;5;124;43mSPIDER-MAN/PETER PARKER\u001b[39;49m\u001b[38;5;124;43m'\u001b[39;49m\u001b[43m,\u001b[49m\u001b[38;5;124;43m'\u001b[39;49m\u001b[38;5;124;43mTHOR/DR. DONALD BLAK\u001b[39;49m\u001b[38;5;124;43m'\u001b[39;49m\u001b[43m)\u001b[49m)\n",
      "Input \u001b[1;32mIn [98]\u001b[0m, in \u001b[0;36mfunctionality_3\u001b[1;34m(G2, N, h_1, h_2)\u001b[0m\n\u001b[0;32m     11\u001b[0m     \u001b[38;5;28;01mreturn\u001b[39;00m result\n\u001b[0;32m     12\u001b[0m shortest_one \u001b[38;5;241m=\u001b[39m \u001b[38;5;28mlist\u001b[39m(\u001b[38;5;28mrange\u001b[39m(\u001b[38;5;241m0\u001b[39m,\u001b[38;5;28mlen\u001b[39m(G2\u001b[38;5;241m.\u001b[39mnodes)))\n\u001b[1;32m---> 13\u001b[0m shortest_one \u001b[38;5;241m=\u001b[39m \u001b[43mshortest_path\u001b[49m\u001b[43m(\u001b[49m\u001b[43mG2\u001b[49m\u001b[43m,\u001b[49m\u001b[43mh_1\u001b[49m\u001b[43m,\u001b[49m\u001b[43m[\u001b[49m\u001b[43mh_1\u001b[49m\u001b[43m]\u001b[49m\u001b[43m,\u001b[49m\u001b[43mh_2\u001b[49m\u001b[43m,\u001b[49m\u001b[43m[\u001b[49m\u001b[43mh_1\u001b[49m\u001b[43m]\u001b[49m\u001b[43m,\u001b[49m\u001b[43mshortest_one\u001b[49m\u001b[43m,\u001b[49m\u001b[43matt\u001b[49m\u001b[43m)\u001b[49m\n\u001b[0;32m     14\u001b[0m \u001b[38;5;28;01mreturn\u001b[39;00m shortest_one\n",
      "Input \u001b[1;32mIn [97]\u001b[0m, in \u001b[0;36mshortest_path\u001b[1;34m(G2, node, path, final_node, visited, shortest_one, att)\u001b[0m\n\u001b[0;32m     13\u001b[0m     path\u001b[38;5;241m.\u001b[39mappend(new_node)\n\u001b[0;32m     14\u001b[0m visited\u001b[38;5;241m.\u001b[39mappend(new_node)\n\u001b[1;32m---> 15\u001b[0m shortest_one \u001b[38;5;241m=\u001b[39m \u001b[43mshortest_path\u001b[49m\u001b[43m(\u001b[49m\u001b[43mG2\u001b[49m\u001b[43m,\u001b[49m\u001b[43mnew_node\u001b[49m\u001b[43m,\u001b[49m\u001b[43mpath\u001b[49m\u001b[43m,\u001b[49m\u001b[43mfinal_node\u001b[49m\u001b[43m,\u001b[49m\u001b[43mvisited\u001b[49m\u001b[43m,\u001b[49m\u001b[43mshortest_one\u001b[49m\u001b[43m,\u001b[49m\u001b[43matt\u001b[49m\u001b[43m)\u001b[49m\n\u001b[0;32m     16\u001b[0m \u001b[38;5;28;01mif\u001b[39;00m att[new_node]\u001b[38;5;241m==\u001b[39m\u001b[38;5;124m'\u001b[39m\u001b[38;5;124mcomic\u001b[39m\u001b[38;5;124m'\u001b[39m:\n\u001b[0;32m     17\u001b[0m     path\u001b[38;5;241m.\u001b[39mpop(\u001b[38;5;28mlen\u001b[39m(path)\u001b[38;5;241m-\u001b[39m\u001b[38;5;241m1\u001b[39m)\n",
      "Input \u001b[1;32mIn [97]\u001b[0m, in \u001b[0;36mshortest_path\u001b[1;34m(G2, node, path, final_node, visited, shortest_one, att)\u001b[0m\n\u001b[0;32m     13\u001b[0m     path\u001b[38;5;241m.\u001b[39mappend(new_node)\n\u001b[0;32m     14\u001b[0m visited\u001b[38;5;241m.\u001b[39mappend(new_node)\n\u001b[1;32m---> 15\u001b[0m shortest_one \u001b[38;5;241m=\u001b[39m \u001b[43mshortest_path\u001b[49m\u001b[43m(\u001b[49m\u001b[43mG2\u001b[49m\u001b[43m,\u001b[49m\u001b[43mnew_node\u001b[49m\u001b[43m,\u001b[49m\u001b[43mpath\u001b[49m\u001b[43m,\u001b[49m\u001b[43mfinal_node\u001b[49m\u001b[43m,\u001b[49m\u001b[43mvisited\u001b[49m\u001b[43m,\u001b[49m\u001b[43mshortest_one\u001b[49m\u001b[43m,\u001b[49m\u001b[43matt\u001b[49m\u001b[43m)\u001b[49m\n\u001b[0;32m     16\u001b[0m \u001b[38;5;28;01mif\u001b[39;00m att[new_node]\u001b[38;5;241m==\u001b[39m\u001b[38;5;124m'\u001b[39m\u001b[38;5;124mcomic\u001b[39m\u001b[38;5;124m'\u001b[39m:\n\u001b[0;32m     17\u001b[0m     path\u001b[38;5;241m.\u001b[39mpop(\u001b[38;5;28mlen\u001b[39m(path)\u001b[38;5;241m-\u001b[39m\u001b[38;5;241m1\u001b[39m)\n",
      "    \u001b[1;31m[... skipping similar frames: shortest_path at line 15 (4 times)]\u001b[0m\n",
      "Input \u001b[1;32mIn [97]\u001b[0m, in \u001b[0;36mshortest_path\u001b[1;34m(G2, node, path, final_node, visited, shortest_one, att)\u001b[0m\n\u001b[0;32m     13\u001b[0m     path\u001b[38;5;241m.\u001b[39mappend(new_node)\n\u001b[0;32m     14\u001b[0m visited\u001b[38;5;241m.\u001b[39mappend(new_node)\n\u001b[1;32m---> 15\u001b[0m shortest_one \u001b[38;5;241m=\u001b[39m \u001b[43mshortest_path\u001b[49m\u001b[43m(\u001b[49m\u001b[43mG2\u001b[49m\u001b[43m,\u001b[49m\u001b[43mnew_node\u001b[49m\u001b[43m,\u001b[49m\u001b[43mpath\u001b[49m\u001b[43m,\u001b[49m\u001b[43mfinal_node\u001b[49m\u001b[43m,\u001b[49m\u001b[43mvisited\u001b[49m\u001b[43m,\u001b[49m\u001b[43mshortest_one\u001b[49m\u001b[43m,\u001b[49m\u001b[43matt\u001b[49m\u001b[43m)\u001b[49m\n\u001b[0;32m     16\u001b[0m \u001b[38;5;28;01mif\u001b[39;00m att[new_node]\u001b[38;5;241m==\u001b[39m\u001b[38;5;124m'\u001b[39m\u001b[38;5;124mcomic\u001b[39m\u001b[38;5;124m'\u001b[39m:\n\u001b[0;32m     17\u001b[0m     path\u001b[38;5;241m.\u001b[39mpop(\u001b[38;5;28mlen\u001b[39m(path)\u001b[38;5;241m-\u001b[39m\u001b[38;5;241m1\u001b[39m)\n",
      "Input \u001b[1;32mIn [97]\u001b[0m, in \u001b[0;36mshortest_path\u001b[1;34m(G2, node, path, final_node, visited, shortest_one, att)\u001b[0m\n\u001b[0;32m      7\u001b[0m     \u001b[38;5;28;01mreturn\u001b[39;00m shortest_one\n\u001b[0;32m      9\u001b[0m \u001b[38;5;28;01melse\u001b[39;00m:\n\u001b[1;32m---> 10\u001b[0m     \u001b[38;5;28;01mfor\u001b[39;00m new_node \u001b[38;5;129;01min\u001b[39;00m \u001b[38;5;28mlist\u001b[39m(\u001b[43mnx\u001b[49m\u001b[38;5;241;43m.\u001b[39;49m\u001b[43mall_neighbors\u001b[49m\u001b[43m(\u001b[49m\u001b[43mG2\u001b[49m\u001b[43m,\u001b[49m\u001b[43m \u001b[49m\u001b[43mnode\u001b[49m\u001b[43m)\u001b[49m):\n\u001b[0;32m     11\u001b[0m         \u001b[38;5;28;01mif\u001b[39;00m new_node \u001b[38;5;129;01mnot\u001b[39;00m \u001b[38;5;129;01min\u001b[39;00m visited:\n\u001b[0;32m     12\u001b[0m             \u001b[38;5;28;01mif\u001b[39;00m att[new_node]\u001b[38;5;241m==\u001b[39m\u001b[38;5;124m'\u001b[39m\u001b[38;5;124mcomic\u001b[39m\u001b[38;5;124m'\u001b[39m:\n",
      "File \u001b[1;32m~\\anaconda3\\lib\\site-packages\\networkx\\classes\\function.py:914\u001b[0m, in \u001b[0;36mall_neighbors\u001b[1;34m(graph, node)\u001b[0m\n\u001b[0;32m    912\u001b[0m     values \u001b[38;5;241m=\u001b[39m chain(graph\u001b[38;5;241m.\u001b[39mpredecessors(node), graph\u001b[38;5;241m.\u001b[39msuccessors(node))\n\u001b[0;32m    913\u001b[0m \u001b[38;5;28;01melse\u001b[39;00m:\n\u001b[1;32m--> 914\u001b[0m     values \u001b[38;5;241m=\u001b[39m \u001b[43mgraph\u001b[49m\u001b[38;5;241;43m.\u001b[39;49m\u001b[43mneighbors\u001b[49m\u001b[43m(\u001b[49m\u001b[43mnode\u001b[49m\u001b[43m)\u001b[49m\n\u001b[0;32m    915\u001b[0m \u001b[38;5;28;01mreturn\u001b[39;00m values\n",
      "File \u001b[1;32m~\\anaconda3\\lib\\site-packages\\networkx\\classes\\graph.py:1289\u001b[0m, in \u001b[0;36mGraph.neighbors\u001b[1;34m(self, n)\u001b[0m\n\u001b[0;32m   1251\u001b[0m \u001b[38;5;124;03m\"\"\"Returns an iterator over all neighbors of node n.\u001b[39;00m\n\u001b[0;32m   1252\u001b[0m \n\u001b[0;32m   1253\u001b[0m \u001b[38;5;124;03mThis is identical to `iter(G[n])`\u001b[39;00m\n\u001b[1;32m   (...)\u001b[0m\n\u001b[0;32m   1286\u001b[0m \u001b[38;5;124;03m[1]\u001b[39;00m\n\u001b[0;32m   1287\u001b[0m \u001b[38;5;124;03m\"\"\"\u001b[39;00m\n\u001b[0;32m   1288\u001b[0m \u001b[38;5;28;01mtry\u001b[39;00m:\n\u001b[1;32m-> 1289\u001b[0m     \u001b[38;5;28;01mreturn\u001b[39;00m \u001b[38;5;28miter\u001b[39m(\u001b[38;5;28;43mself\u001b[39;49m\u001b[38;5;241;43m.\u001b[39;49m\u001b[43m_adj\u001b[49m\u001b[43m[\u001b[49m\u001b[43mn\u001b[49m\u001b[43m]\u001b[49m)\n\u001b[0;32m   1290\u001b[0m \u001b[38;5;28;01mexcept\u001b[39;00m \u001b[38;5;167;01mKeyError\u001b[39;00m \u001b[38;5;28;01mas\u001b[39;00m err:\n\u001b[0;32m   1291\u001b[0m     \u001b[38;5;28;01mraise\u001b[39;00m NetworkXError(\u001b[38;5;124mf\u001b[39m\u001b[38;5;124m\"\u001b[39m\u001b[38;5;124mThe node \u001b[39m\u001b[38;5;132;01m{\u001b[39;00mn\u001b[38;5;132;01m}\u001b[39;00m\u001b[38;5;124m is not in the graph.\u001b[39m\u001b[38;5;124m\"\u001b[39m) \u001b[38;5;28;01mfrom\u001b[39;00m \u001b[38;5;21;01merr\u001b[39;00m\n",
      "File \u001b[1;32m~\\anaconda3\\lib\\site-packages\\networkx\\classes\\coreviews.py:333\u001b[0m, in \u001b[0;36mFilterAdjacency.__getitem__\u001b[1;34m(self, node)\u001b[0m\n\u001b[0;32m    330\u001b[0m         \u001b[38;5;28;01mreturn\u001b[39;00m (n \u001b[38;5;28;01mfor\u001b[39;00m n \u001b[38;5;129;01min\u001b[39;00m \u001b[38;5;28mself\u001b[39m\u001b[38;5;241m.\u001b[39mNODE_OK\u001b[38;5;241m.\u001b[39mnodes \u001b[38;5;28;01mif\u001b[39;00m n \u001b[38;5;129;01min\u001b[39;00m \u001b[38;5;28mself\u001b[39m\u001b[38;5;241m.\u001b[39m_atlas)\n\u001b[0;32m    331\u001b[0m     \u001b[38;5;28;01mreturn\u001b[39;00m (n \u001b[38;5;28;01mfor\u001b[39;00m n \u001b[38;5;129;01min\u001b[39;00m \u001b[38;5;28mself\u001b[39m\u001b[38;5;241m.\u001b[39m_atlas \u001b[38;5;28;01mif\u001b[39;00m \u001b[38;5;28mself\u001b[39m\u001b[38;5;241m.\u001b[39mNODE_OK(n))\n\u001b[1;32m--> 333\u001b[0m \u001b[38;5;28;01mdef\u001b[39;00m \u001b[38;5;21m__getitem__\u001b[39m(\u001b[38;5;28mself\u001b[39m, node):\n\u001b[0;32m    334\u001b[0m     \u001b[38;5;28;01mif\u001b[39;00m node \u001b[38;5;129;01min\u001b[39;00m \u001b[38;5;28mself\u001b[39m\u001b[38;5;241m.\u001b[39m_atlas \u001b[38;5;129;01mand\u001b[39;00m \u001b[38;5;28mself\u001b[39m\u001b[38;5;241m.\u001b[39mNODE_OK(node):\n\u001b[0;32m    336\u001b[0m         \u001b[38;5;28;01mdef\u001b[39;00m \u001b[38;5;21mnew_node_ok\u001b[39m(nbr):\n",
      "\u001b[1;31mKeyboardInterrupt\u001b[0m: "
     ]
    }
   ],
   "source": [
    "print(functionality_3(G2,N,'SPIDER-MAN/PETER PARKER','THOR/DR. DONALD BLAK'))"
   ]
  },
  {
   "cell_type": "code",
   "execution_count": 48,
   "id": "ecab5001",
   "metadata": {},
   "outputs": [
    {
     "name": "stdout",
     "output_type": "stream",
     "text": [
      "['3-D MAN/CHARLES CHAN', 'H2 251', 'ROSS, GEN. THADDEUS']\n"
     ]
    }
   ],
   "source": [
    "print(functionality_3(G2_new,N,'3-D MAN/CHARLES CHAN','ROSS, GEN. THADDEUS'))"
   ]
  },
  {
   "cell_type": "code",
   "execution_count": 35,
   "id": "2b7f3a13",
   "metadata": {},
   "outputs": [
    {
     "data": {
      "text/plain": [
       "['THOR/DR. DONALD BLAK', 'A 11', 'SPIDER-MAN/PETER PARKER']"
      ]
     },
     "execution_count": 35,
     "metadata": {},
     "output_type": "execute_result"
    }
   ],
   "source": [
    "nx.shortest_path(G2, source='THOR/DR. DONALD BLAK', target='SPIDER-MAN/PETER PARKER', weight=None)"
   ]
  },
  {
   "cell_type": "code",
   "execution_count": 45,
   "id": "d44347d0",
   "metadata": {},
   "outputs": [
    {
     "data": {
      "text/plain": [
       "['3-D MAN/CHARLES CHAN', 'H2 251', 'ROSS, GEN. THADDEUS']"
      ]
     },
     "execution_count": 45,
     "metadata": {},
     "output_type": "execute_result"
    }
   ],
   "source": [
    "nx.shortest_path(G, source='3-D MAN/CHARLES CHAN', target='ROSS, GEN. THADDEUS', weight=None)"
   ]
  },
  {
   "cell_type": "code",
   "execution_count": null,
   "id": "0d106fec",
   "metadata": {},
   "outputs": [],
   "source": []
  },
  {
   "cell_type": "code",
   "execution_count": null,
   "id": "632abeb2",
   "metadata": {},
   "outputs": [],
   "source": []
  },
  {
   "cell_type": "code",
   "execution_count": null,
   "id": "7038592d",
   "metadata": {},
   "outputs": [],
   "source": []
  },
  {
   "cell_type": "code",
   "execution_count": null,
   "id": "f85630a9",
   "metadata": {},
   "outputs": [],
   "source": []
  },
  {
   "cell_type": "code",
   "execution_count": null,
   "id": "1b919aac",
   "metadata": {},
   "outputs": [],
   "source": []
  },
  {
   "cell_type": "code",
   "execution_count": null,
   "id": "7006e36c",
   "metadata": {},
   "outputs": [],
   "source": []
  },
  {
   "cell_type": "code",
   "execution_count": null,
   "id": "2e05eff7",
   "metadata": {},
   "outputs": [],
   "source": []
  },
  {
   "cell_type": "code",
   "execution_count": null,
   "id": "2d846cf1",
   "metadata": {},
   "outputs": [],
   "source": []
  },
  {
   "cell_type": "code",
   "execution_count": null,
   "id": "b0340df8",
   "metadata": {},
   "outputs": [],
   "source": []
  },
  {
   "cell_type": "markdown",
   "id": "bb7eb863",
   "metadata": {},
   "source": [
    "## Functionality 4 - Disconnecting Graphs (da rivedere/continuare)"
   ]
  },
  {
   "cell_type": "markdown",
   "id": "ae3a5643",
   "metadata": {},
   "source": [
    "Input:\n",
    "\n",
    "- The graph data\n",
    "- heroA: a superhero to which will relate sub-graph G_a\n",
    "- heroB: a superhero to which will relate sub-graph G_b\n",
    "- N: denoting the top N heroes that their data should be considered\n",
    "\n",
    "\n",
    "Output:\n",
    "\n",
    "- The minimum number of links (by considering their weights) required to disconnect the original graph in two disconnected subgraphs: G_a and G_b."
   ]
  },
  {
   "cell_type": "code",
   "execution_count": 69,
   "id": "b37d525a",
   "metadata": {},
   "outputs": [
    {
     "name": "stdout",
     "output_type": "stream",
     "text": [
      "False\n",
      "False\n"
     ]
    }
   ],
   "source": [
    "print(nx.is_connected(G1))\n",
    "print(nx.is_connected(G2))"
   ]
  },
  {
   "cell_type": "code",
   "execution_count": 14,
   "id": "81f661c3",
   "metadata": {},
   "outputs": [],
   "source": [
    "# nx.connected_components gets the list of components,\n",
    "# max() command returns the largest one\n",
    "components = nx.connected_components(G1)\n",
    "largest_component = max(components, key=len)"
   ]
  },
  {
   "cell_type": "code",
   "execution_count": 16,
   "id": "95f3c96c",
   "metadata": {},
   "outputs": [
    {
     "data": {
      "text/plain": [
       "['3-D MAN/CHARLES CHAN',\n",
       " 'AJAK/TECUMOTZIN [ETE',\n",
       " 'ANGEL/WARREN KENNETH',\n",
       " 'ANT-MAN II/SCOTT HAR',\n",
       " 'ANT-MAN/DR. HENRY J.',\n",
       " 'ANTOINETTE, MARIE',\n",
       " 'ARABIAN KNIGHT/ABDUL',\n",
       " 'ARBOGAST, BAMBI',\n",
       " 'ASTROVIK, NORMA',\n",
       " 'ATTUMA']"
      ]
     },
     "execution_count": 16,
     "metadata": {},
     "output_type": "execute_result"
    }
   ],
   "source": [
    "# returns neighbors\n",
    "sorted(list(G1.neighbors('JOCASTA')))[:10]"
   ]
  },
  {
   "cell_type": "code",
   "execution_count": 105,
   "id": "4e06d942",
   "metadata": {},
   "outputs": [
    {
     "data": {
      "text/plain": [
       "['24-HOUR MAN/EMMANUEL',\n",
       " '3-D MAN/CHARLES CHAN',\n",
       " '4-D MAN/MERCURIO',\n",
       " '8-BALL',\n",
       " 'A',\n",
       " \"A'YIN\",\n",
       " 'ABBOTT, JACK',\n",
       " 'ABCISSA',\n",
       " 'ABEL',\n",
       " 'ABOMINATION | MUTANT']"
      ]
     },
     "execution_count": 105,
     "metadata": {},
     "output_type": "execute_result"
    }
   ],
   "source": [
    "# returns all nodes reachable from source in G\n",
    "sorted(list(nx.descendants(G1, 'JOCASTA')))[:10]"
   ]
  },
  {
   "cell_type": "code",
   "execution_count": 15,
   "id": "1d90c78a",
   "metadata": {},
   "outputs": [],
   "source": [
    "# add N\n",
    "def disconneting_graphs(G, heroA, heroB):\n",
    "    G_a = []\n",
    "    G_b = []\n",
    "\n",
    "    for edge in list(G.edges()):\n",
    "        if heroA in edge:\n",
    "            G_a.append(edge)\n",
    "\n",
    "    for edge in list(G.edges()):\n",
    "        if heroB in edge:\n",
    "            G_b.append(edge)\n",
    "\n",
    "    return G_a, G_b, len(G_a) + len(G_b)"
   ]
  },
  {
   "cell_type": "code",
   "execution_count": 17,
   "id": "64eafc4b",
   "metadata": {},
   "outputs": [
    {
     "name": "stdout",
     "output_type": "stream",
     "text": [
      "760\n"
     ]
    }
   ],
   "source": [
    "G_a, G_b, result = disconneting_graphs(G1, 'JOCASTA', '8-BALL')\n",
    "print(result)"
   ]
  },
  {
   "cell_type": "code",
   "execution_count": 102,
   "id": "79b0c5be",
   "metadata": {},
   "outputs": [],
   "source": [
    "newG1 = G1.copy()\n",
    "newG1.remove_edges_from(G_a)\n",
    "newG1.remove_edges_from(G_b)"
   ]
  },
  {
   "cell_type": "code",
   "execution_count": 108,
   "id": "c048f6b4",
   "metadata": {},
   "outputs": [
    {
     "data": {
      "text/plain": [
       "760"
      ]
     },
     "execution_count": 108,
     "metadata": {},
     "output_type": "execute_result"
    }
   ],
   "source": [
    "G1.number_of_edges() - newG1.number_of_edges()"
   ]
  },
  {
   "cell_type": "code",
   "execution_count": 106,
   "id": "de8bad42",
   "metadata": {},
   "outputs": [
    {
     "name": "stdout",
     "output_type": "stream",
     "text": [
      "0\n",
      "0\n"
     ]
    }
   ],
   "source": [
    "print(len(list(newG1.neighbors('JOCASTA'))))\n",
    "print(len(list(newG1.neighbors('8-BALL'))))\n"
   ]
  }
 ],
 "metadata": {
  "kernelspec": {
   "display_name": "Python 3 (ipykernel)",
   "language": "python",
   "name": "python3"
  },
  "language_info": {
   "codemirror_mode": {
    "name": "ipython",
    "version": 3
   },
   "file_extension": ".py",
   "mimetype": "text/x-python",
   "name": "python",
   "nbconvert_exporter": "python",
   "pygments_lexer": "ipython3",
   "version": "3.9.12"
  },
  "vscode": {
   "interpreter": {
    "hash": "979bf14ea64443ff3ffb738d52926696eb30c1bf62b3b549289c26deae58448a"
   }
  }
 },
 "nbformat": 4,
 "nbformat_minor": 5
}
