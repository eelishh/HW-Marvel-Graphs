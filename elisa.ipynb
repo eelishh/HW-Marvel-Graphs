{
 "cells": [
  {
   "cell_type": "code",
   "execution_count": 1,
   "id": "f9753d1d",
   "metadata": {},
   "outputs": [],
   "source": [
    "import pandas as pd\n",
    "import matplotlib.pyplot as plt\n",
    "import networkx as nx\n",
    "import seaborn as sns\n",
    "import numpy as np\n",
    "import matplotlib.pyplot as plt"
   ]
  },
  {
   "cell_type": "code",
   "execution_count": 3,
   "id": "9923f12d",
   "metadata": {},
   "outputs": [],
   "source": [
    "#  pip install --upgrade scipy networkx"
   ]
  },
  {
   "attachments": {},
   "cell_type": "markdown",
   "id": "23e0c101",
   "metadata": {},
   "source": [
    "# 1. Data"
   ]
  },
  {
   "cell_type": "code",
   "execution_count": 2,
   "id": "210259fd",
   "metadata": {},
   "outputs": [],
   "source": [
    "df_hero_net = pd.read_csv(r\"hero-network.csv\")\n",
    "df_edges = pd.read_csv(r\"edges.csv\")\n",
    "df_nodes = pd.read_csv(r\"nodes.csv\")"
   ]
  },
  {
   "cell_type": "code",
   "execution_count": 3,
   "id": "75c455c0",
   "metadata": {},
   "outputs": [
    {
     "data": {
      "text/html": [
       "<div>\n",
       "<style scoped>\n",
       "    .dataframe tbody tr th:only-of-type {\n",
       "        vertical-align: middle;\n",
       "    }\n",
       "\n",
       "    .dataframe tbody tr th {\n",
       "        vertical-align: top;\n",
       "    }\n",
       "\n",
       "    .dataframe thead th {\n",
       "        text-align: right;\n",
       "    }\n",
       "</style>\n",
       "<table border=\"1\" class=\"dataframe\">\n",
       "  <thead>\n",
       "    <tr style=\"text-align: right;\">\n",
       "      <th></th>\n",
       "      <th>hero1</th>\n",
       "      <th>hero2</th>\n",
       "    </tr>\n",
       "  </thead>\n",
       "  <tbody>\n",
       "    <tr>\n",
       "      <th>0</th>\n",
       "      <td>LITTLE, ABNER</td>\n",
       "      <td>PRINCESS ZANDA</td>\n",
       "    </tr>\n",
       "    <tr>\n",
       "      <th>1</th>\n",
       "      <td>LITTLE, ABNER</td>\n",
       "      <td>BLACK PANTHER/T'CHAL</td>\n",
       "    </tr>\n",
       "    <tr>\n",
       "      <th>2</th>\n",
       "      <td>BLACK PANTHER/T'CHAL</td>\n",
       "      <td>PRINCESS ZANDA</td>\n",
       "    </tr>\n",
       "    <tr>\n",
       "      <th>3</th>\n",
       "      <td>LITTLE, ABNER</td>\n",
       "      <td>PRINCESS ZANDA</td>\n",
       "    </tr>\n",
       "    <tr>\n",
       "      <th>4</th>\n",
       "      <td>LITTLE, ABNER</td>\n",
       "      <td>BLACK PANTHER/T'CHAL</td>\n",
       "    </tr>\n",
       "    <tr>\n",
       "      <th>...</th>\n",
       "      <td>...</td>\n",
       "      <td>...</td>\n",
       "    </tr>\n",
       "    <tr>\n",
       "      <th>574462</th>\n",
       "      <td>COLOSSUS II/PETER RA</td>\n",
       "      <td>CALLISTO</td>\n",
       "    </tr>\n",
       "    <tr>\n",
       "      <th>574463</th>\n",
       "      <td>CALLISTO</td>\n",
       "      <td>ROGUE /</td>\n",
       "    </tr>\n",
       "    <tr>\n",
       "      <th>574464</th>\n",
       "      <td>CALLISTO</td>\n",
       "      <td>CALIBAN/</td>\n",
       "    </tr>\n",
       "    <tr>\n",
       "      <th>574465</th>\n",
       "      <td>CALIBAN/</td>\n",
       "      <td>ROGUE /</td>\n",
       "    </tr>\n",
       "    <tr>\n",
       "      <th>574466</th>\n",
       "      <td>HULK/DR. ROBERT BRUC</td>\n",
       "      <td>MARKS, DR. SHIELA</td>\n",
       "    </tr>\n",
       "  </tbody>\n",
       "</table>\n",
       "<p>574467 rows × 2 columns</p>\n",
       "</div>"
      ],
      "text/plain": [
       "                       hero1                 hero2\n",
       "0              LITTLE, ABNER        PRINCESS ZANDA\n",
       "1              LITTLE, ABNER  BLACK PANTHER/T'CHAL\n",
       "2       BLACK PANTHER/T'CHAL        PRINCESS ZANDA\n",
       "3              LITTLE, ABNER        PRINCESS ZANDA\n",
       "4              LITTLE, ABNER  BLACK PANTHER/T'CHAL\n",
       "...                      ...                   ...\n",
       "574462  COLOSSUS II/PETER RA              CALLISTO\n",
       "574463              CALLISTO               ROGUE /\n",
       "574464              CALLISTO              CALIBAN/\n",
       "574465              CALIBAN/               ROGUE /\n",
       "574466  HULK/DR. ROBERT BRUC     MARKS, DR. SHIELA\n",
       "\n",
       "[574467 rows x 2 columns]"
      ]
     },
     "execution_count": 3,
     "metadata": {},
     "output_type": "execute_result"
    }
   ],
   "source": [
    "df_hero_net"
   ]
  },
  {
   "cell_type": "code",
   "execution_count": 4,
   "id": "d34d11db",
   "metadata": {},
   "outputs": [
    {
     "data": {
      "text/html": [
       "<div>\n",
       "<style scoped>\n",
       "    .dataframe tbody tr th:only-of-type {\n",
       "        vertical-align: middle;\n",
       "    }\n",
       "\n",
       "    .dataframe tbody tr th {\n",
       "        vertical-align: top;\n",
       "    }\n",
       "\n",
       "    .dataframe thead th {\n",
       "        text-align: right;\n",
       "    }\n",
       "</style>\n",
       "<table border=\"1\" class=\"dataframe\">\n",
       "  <thead>\n",
       "    <tr style=\"text-align: right;\">\n",
       "      <th></th>\n",
       "      <th>hero</th>\n",
       "      <th>comic</th>\n",
       "    </tr>\n",
       "  </thead>\n",
       "  <tbody>\n",
       "    <tr>\n",
       "      <th>0</th>\n",
       "      <td>24-HOUR MAN/EMMANUEL</td>\n",
       "      <td>AA2 35</td>\n",
       "    </tr>\n",
       "    <tr>\n",
       "      <th>1</th>\n",
       "      <td>3-D MAN/CHARLES CHAN</td>\n",
       "      <td>AVF 4</td>\n",
       "    </tr>\n",
       "    <tr>\n",
       "      <th>2</th>\n",
       "      <td>3-D MAN/CHARLES CHAN</td>\n",
       "      <td>AVF 5</td>\n",
       "    </tr>\n",
       "    <tr>\n",
       "      <th>3</th>\n",
       "      <td>3-D MAN/CHARLES CHAN</td>\n",
       "      <td>COC 1</td>\n",
       "    </tr>\n",
       "    <tr>\n",
       "      <th>4</th>\n",
       "      <td>3-D MAN/CHARLES CHAN</td>\n",
       "      <td>H2 251</td>\n",
       "    </tr>\n",
       "    <tr>\n",
       "      <th>...</th>\n",
       "      <td>...</td>\n",
       "      <td>...</td>\n",
       "    </tr>\n",
       "    <tr>\n",
       "      <th>96099</th>\n",
       "      <td>ZZZAX</td>\n",
       "      <td>H2 326</td>\n",
       "    </tr>\n",
       "    <tr>\n",
       "      <th>96100</th>\n",
       "      <td>ZZZAX</td>\n",
       "      <td>H2 327</td>\n",
       "    </tr>\n",
       "    <tr>\n",
       "      <th>96101</th>\n",
       "      <td>ZZZAX</td>\n",
       "      <td>M/CP 8/4</td>\n",
       "    </tr>\n",
       "    <tr>\n",
       "      <th>96102</th>\n",
       "      <td>ZZZAX</td>\n",
       "      <td>PM 47</td>\n",
       "    </tr>\n",
       "    <tr>\n",
       "      <th>96103</th>\n",
       "      <td>ZZZAX</td>\n",
       "      <td>WCA2 12</td>\n",
       "    </tr>\n",
       "  </tbody>\n",
       "</table>\n",
       "<p>96104 rows × 2 columns</p>\n",
       "</div>"
      ],
      "text/plain": [
       "                       hero     comic\n",
       "0      24-HOUR MAN/EMMANUEL    AA2 35\n",
       "1      3-D MAN/CHARLES CHAN     AVF 4\n",
       "2      3-D MAN/CHARLES CHAN     AVF 5\n",
       "3      3-D MAN/CHARLES CHAN     COC 1\n",
       "4      3-D MAN/CHARLES CHAN    H2 251\n",
       "...                     ...       ...\n",
       "96099                 ZZZAX    H2 326\n",
       "96100                 ZZZAX    H2 327\n",
       "96101                 ZZZAX  M/CP 8/4\n",
       "96102                 ZZZAX     PM 47\n",
       "96103                 ZZZAX   WCA2 12\n",
       "\n",
       "[96104 rows x 2 columns]"
      ]
     },
     "execution_count": 4,
     "metadata": {},
     "output_type": "execute_result"
    }
   ],
   "source": [
    "df_edges"
   ]
  },
  {
   "cell_type": "code",
   "execution_count": 5,
   "id": "1ee31932",
   "metadata": {},
   "outputs": [
    {
     "data": {
      "text/html": [
       "<div>\n",
       "<style scoped>\n",
       "    .dataframe tbody tr th:only-of-type {\n",
       "        vertical-align: middle;\n",
       "    }\n",
       "\n",
       "    .dataframe tbody tr th {\n",
       "        vertical-align: top;\n",
       "    }\n",
       "\n",
       "    .dataframe thead th {\n",
       "        text-align: right;\n",
       "    }\n",
       "</style>\n",
       "<table border=\"1\" class=\"dataframe\">\n",
       "  <thead>\n",
       "    <tr style=\"text-align: right;\">\n",
       "      <th></th>\n",
       "      <th>node</th>\n",
       "      <th>type</th>\n",
       "    </tr>\n",
       "  </thead>\n",
       "  <tbody>\n",
       "    <tr>\n",
       "      <th>0</th>\n",
       "      <td>2001 10</td>\n",
       "      <td>comic</td>\n",
       "    </tr>\n",
       "    <tr>\n",
       "      <th>1</th>\n",
       "      <td>2001 8</td>\n",
       "      <td>comic</td>\n",
       "    </tr>\n",
       "    <tr>\n",
       "      <th>2</th>\n",
       "      <td>2001 9</td>\n",
       "      <td>comic</td>\n",
       "    </tr>\n",
       "    <tr>\n",
       "      <th>3</th>\n",
       "      <td>24-HOUR MAN/EMMANUEL</td>\n",
       "      <td>hero</td>\n",
       "    </tr>\n",
       "    <tr>\n",
       "      <th>4</th>\n",
       "      <td>3-D MAN/CHARLES CHAN</td>\n",
       "      <td>hero</td>\n",
       "    </tr>\n",
       "    <tr>\n",
       "      <th>...</th>\n",
       "      <td>...</td>\n",
       "      <td>...</td>\n",
       "    </tr>\n",
       "    <tr>\n",
       "      <th>19085</th>\n",
       "      <td>ZOTA, CARLO</td>\n",
       "      <td>hero</td>\n",
       "    </tr>\n",
       "    <tr>\n",
       "      <th>19086</th>\n",
       "      <td>ZOTA</td>\n",
       "      <td>hero</td>\n",
       "    </tr>\n",
       "    <tr>\n",
       "      <th>19087</th>\n",
       "      <td>ZURAS</td>\n",
       "      <td>hero</td>\n",
       "    </tr>\n",
       "    <tr>\n",
       "      <th>19088</th>\n",
       "      <td>ZURI</td>\n",
       "      <td>hero</td>\n",
       "    </tr>\n",
       "    <tr>\n",
       "      <th>19089</th>\n",
       "      <td>ZZZAX</td>\n",
       "      <td>hero</td>\n",
       "    </tr>\n",
       "  </tbody>\n",
       "</table>\n",
       "<p>19090 rows × 2 columns</p>\n",
       "</div>"
      ],
      "text/plain": [
       "                       node   type\n",
       "0                   2001 10  comic\n",
       "1                    2001 8  comic\n",
       "2                    2001 9  comic\n",
       "3      24-HOUR MAN/EMMANUEL   hero\n",
       "4      3-D MAN/CHARLES CHAN   hero\n",
       "...                     ...    ...\n",
       "19085           ZOTA, CARLO   hero\n",
       "19086                  ZOTA   hero\n",
       "19087                 ZURAS   hero\n",
       "19088                  ZURI   hero\n",
       "19089                 ZZZAX   hero\n",
       "\n",
       "[19090 rows x 2 columns]"
      ]
     },
     "execution_count": 5,
     "metadata": {},
     "output_type": "execute_result"
    }
   ],
   "source": [
    "df_nodes"
   ]
  },
  {
   "cell_type": "code",
   "execution_count": 6,
   "id": "76833f69",
   "metadata": {},
   "outputs": [
    {
     "data": {
      "text/plain": [
       "(19090, 2)"
      ]
     },
     "execution_count": 6,
     "metadata": {},
     "output_type": "execute_result"
    }
   ],
   "source": [
    "df_nodes.shape"
   ]
  },
  {
   "cell_type": "code",
   "execution_count": 7,
   "id": "9544a60e",
   "metadata": {},
   "outputs": [
    {
     "name": "stdout",
     "output_type": "stream",
     "text": [
      "node    12651\n",
      "type    12651\n",
      "dtype: int64 node    6439\n",
      "type    6439\n",
      "dtype: int64\n"
     ]
    }
   ],
   "source": [
    "n_comics = df_nodes[df_nodes.type == 'comic'].count()\n",
    "n_heros = df_nodes[df_nodes.type == 'hero'].count()\n",
    "print(n_comics, n_heros)"
   ]
  },
  {
   "attachments": {},
   "cell_type": "markdown",
   "id": "a8d182a6",
   "metadata": {},
   "source": [
    "## 1.1 Pre-processing "
   ]
  },
  {
   "cell_type": "code",
   "execution_count": 8,
   "id": "de9b3b43",
   "metadata": {},
   "outputs": [],
   "source": [
    "df_hero_net[\"hero1\"] = df_hero_net[\"hero1\"].apply(lambda x: x[0:-1] if list(x)[-1] in [' ', '/'] else x)\n",
    "df_hero_net[\"hero2\"] = df_hero_net[\"hero2\"].apply(lambda x: x[0:-1] if list(x)[-1] in [' ', '/'] else x)"
   ]
  },
  {
   "cell_type": "code",
   "execution_count": 9,
   "id": "d1356100",
   "metadata": {},
   "outputs": [
    {
     "data": {
      "text/html": [
       "<div>\n",
       "<style scoped>\n",
       "    .dataframe tbody tr th:only-of-type {\n",
       "        vertical-align: middle;\n",
       "    }\n",
       "\n",
       "    .dataframe tbody tr th {\n",
       "        vertical-align: top;\n",
       "    }\n",
       "\n",
       "    .dataframe thead th {\n",
       "        text-align: right;\n",
       "    }\n",
       "</style>\n",
       "<table border=\"1\" class=\"dataframe\">\n",
       "  <thead>\n",
       "    <tr style=\"text-align: right;\">\n",
       "      <th></th>\n",
       "      <th>hero1</th>\n",
       "      <th>hero2</th>\n",
       "    </tr>\n",
       "  </thead>\n",
       "  <tbody>\n",
       "    <tr>\n",
       "      <th>0</th>\n",
       "      <td>LITTLE, ABNER</td>\n",
       "      <td>PRINCESS ZANDA</td>\n",
       "    </tr>\n",
       "    <tr>\n",
       "      <th>1</th>\n",
       "      <td>LITTLE, ABNER</td>\n",
       "      <td>BLACK PANTHER/T'CHAL</td>\n",
       "    </tr>\n",
       "    <tr>\n",
       "      <th>2</th>\n",
       "      <td>BLACK PANTHER/T'CHAL</td>\n",
       "      <td>PRINCESS ZANDA</td>\n",
       "    </tr>\n",
       "    <tr>\n",
       "      <th>3</th>\n",
       "      <td>LITTLE, ABNER</td>\n",
       "      <td>PRINCESS ZANDA</td>\n",
       "    </tr>\n",
       "    <tr>\n",
       "      <th>4</th>\n",
       "      <td>LITTLE, ABNER</td>\n",
       "      <td>BLACK PANTHER/T'CHAL</td>\n",
       "    </tr>\n",
       "    <tr>\n",
       "      <th>...</th>\n",
       "      <td>...</td>\n",
       "      <td>...</td>\n",
       "    </tr>\n",
       "    <tr>\n",
       "      <th>574462</th>\n",
       "      <td>COLOSSUS II/PETER RA</td>\n",
       "      <td>CALLISTO</td>\n",
       "    </tr>\n",
       "    <tr>\n",
       "      <th>574463</th>\n",
       "      <td>CALLISTO</td>\n",
       "      <td>ROGUE</td>\n",
       "    </tr>\n",
       "    <tr>\n",
       "      <th>574464</th>\n",
       "      <td>CALLISTO</td>\n",
       "      <td>CALIBAN</td>\n",
       "    </tr>\n",
       "    <tr>\n",
       "      <th>574465</th>\n",
       "      <td>CALIBAN</td>\n",
       "      <td>ROGUE</td>\n",
       "    </tr>\n",
       "    <tr>\n",
       "      <th>574466</th>\n",
       "      <td>HULK/DR. ROBERT BRUC</td>\n",
       "      <td>MARKS, DR. SHIELA</td>\n",
       "    </tr>\n",
       "  </tbody>\n",
       "</table>\n",
       "<p>574467 rows × 2 columns</p>\n",
       "</div>"
      ],
      "text/plain": [
       "                       hero1                 hero2\n",
       "0              LITTLE, ABNER        PRINCESS ZANDA\n",
       "1              LITTLE, ABNER  BLACK PANTHER/T'CHAL\n",
       "2       BLACK PANTHER/T'CHAL        PRINCESS ZANDA\n",
       "3              LITTLE, ABNER        PRINCESS ZANDA\n",
       "4              LITTLE, ABNER  BLACK PANTHER/T'CHAL\n",
       "...                      ...                   ...\n",
       "574462  COLOSSUS II/PETER RA              CALLISTO\n",
       "574463              CALLISTO                ROGUE \n",
       "574464              CALLISTO               CALIBAN\n",
       "574465               CALIBAN                ROGUE \n",
       "574466  HULK/DR. ROBERT BRUC     MARKS, DR. SHIELA\n",
       "\n",
       "[574467 rows x 2 columns]"
      ]
     },
     "execution_count": 9,
     "metadata": {},
     "output_type": "execute_result"
    }
   ],
   "source": [
    "df_hero_net"
   ]
  },
  {
   "cell_type": "code",
   "execution_count": 10,
   "id": "ff17380a",
   "metadata": {},
   "outputs": [],
   "source": [
    "df_edges[\"hero\"] = df_edges[\"hero\"].apply(lambda x: x[0:-1] if list(x)[-1] in [' ', '/'] else x)"
   ]
  },
  {
   "cell_type": "code",
   "execution_count": 11,
   "id": "654655c5",
   "metadata": {},
   "outputs": [
    {
     "data": {
      "text/plain": [
       "{'SPIDER-MAN/PETER PAR'}"
      ]
     },
     "execution_count": 11,
     "metadata": {},
     "output_type": "execute_result"
    }
   ],
   "source": [
    "hero = set(df_edges.hero)\n",
    "hero_union = set(df_hero_net.hero1).union(set(df_hero_net.hero2))\n",
    "\n",
    "diff = hero_union - hero.intersection(hero_union)\n",
    "diff"
   ]
  },
  {
   "cell_type": "code",
   "execution_count": 12,
   "id": "885ca78c",
   "metadata": {},
   "outputs": [],
   "source": [
    "def jaccard_similarity(setA, setB):\n",
    "    ''' \n",
    "    This function simply computes the Jaccard similarity from its definition.\n",
    "    '''\n",
    "    return len(set(setA).intersection(setB))/len(set(setA).union(setB))"
   ]
  },
  {
   "cell_type": "code",
   "execution_count": 13,
   "id": "1f6c246a",
   "metadata": {},
   "outputs": [
    {
     "data": {
      "text/html": [
       "<div>\n",
       "<style scoped>\n",
       "    .dataframe tbody tr th:only-of-type {\n",
       "        vertical-align: middle;\n",
       "    }\n",
       "\n",
       "    .dataframe tbody tr th {\n",
       "        vertical-align: top;\n",
       "    }\n",
       "\n",
       "    .dataframe thead th {\n",
       "        text-align: right;\n",
       "    }\n",
       "</style>\n",
       "<table border=\"1\" class=\"dataframe\">\n",
       "  <thead>\n",
       "    <tr style=\"text-align: right;\">\n",
       "      <th></th>\n",
       "      <th>hero1</th>\n",
       "      <th>hero2</th>\n",
       "    </tr>\n",
       "  </thead>\n",
       "  <tbody>\n",
       "    <tr>\n",
       "      <th>0</th>\n",
       "      <td>LITTLE, ABNER</td>\n",
       "      <td>PRINCESS ZANDA</td>\n",
       "    </tr>\n",
       "    <tr>\n",
       "      <th>1</th>\n",
       "      <td>LITTLE, ABNER</td>\n",
       "      <td>BLACK PANTHER/T'CHAL</td>\n",
       "    </tr>\n",
       "    <tr>\n",
       "      <th>2</th>\n",
       "      <td>BLACK PANTHER/T'CHAL</td>\n",
       "      <td>PRINCESS ZANDA</td>\n",
       "    </tr>\n",
       "    <tr>\n",
       "      <th>3</th>\n",
       "      <td>LITTLE, ABNER</td>\n",
       "      <td>PRINCESS ZANDA</td>\n",
       "    </tr>\n",
       "    <tr>\n",
       "      <th>4</th>\n",
       "      <td>LITTLE, ABNER</td>\n",
       "      <td>BLACK PANTHER/T'CHAL</td>\n",
       "    </tr>\n",
       "    <tr>\n",
       "      <th>...</th>\n",
       "      <td>...</td>\n",
       "      <td>...</td>\n",
       "    </tr>\n",
       "    <tr>\n",
       "      <th>574462</th>\n",
       "      <td>COLOSSUS II/PETER RA</td>\n",
       "      <td>CALLISTO</td>\n",
       "    </tr>\n",
       "    <tr>\n",
       "      <th>574463</th>\n",
       "      <td>CALLISTO</td>\n",
       "      <td>ROGUE</td>\n",
       "    </tr>\n",
       "    <tr>\n",
       "      <th>574464</th>\n",
       "      <td>CALLISTO</td>\n",
       "      <td>CALIBAN</td>\n",
       "    </tr>\n",
       "    <tr>\n",
       "      <th>574465</th>\n",
       "      <td>CALIBAN</td>\n",
       "      <td>ROGUE</td>\n",
       "    </tr>\n",
       "    <tr>\n",
       "      <th>574466</th>\n",
       "      <td>HULK/DR. ROBERT BRUC</td>\n",
       "      <td>MARKS, DR. SHIELA</td>\n",
       "    </tr>\n",
       "  </tbody>\n",
       "</table>\n",
       "<p>574467 rows × 2 columns</p>\n",
       "</div>"
      ],
      "text/plain": [
       "                       hero1                 hero2\n",
       "0              LITTLE, ABNER        PRINCESS ZANDA\n",
       "1              LITTLE, ABNER  BLACK PANTHER/T'CHAL\n",
       "2       BLACK PANTHER/T'CHAL        PRINCESS ZANDA\n",
       "3              LITTLE, ABNER        PRINCESS ZANDA\n",
       "4              LITTLE, ABNER  BLACK PANTHER/T'CHAL\n",
       "...                      ...                   ...\n",
       "574462  COLOSSUS II/PETER RA              CALLISTO\n",
       "574463              CALLISTO                ROGUE \n",
       "574464              CALLISTO               CALIBAN\n",
       "574465               CALIBAN                ROGUE \n",
       "574466  HULK/DR. ROBERT BRUC     MARKS, DR. SHIELA\n",
       "\n",
       "[574467 rows x 2 columns]"
      ]
     },
     "execution_count": 13,
     "metadata": {},
     "output_type": "execute_result"
    }
   ],
   "source": [
    "for hero in set(df_edges.hero):\n",
    "    for elem in diff:\n",
    "        sim = jaccard_similarity(set(elem), set(hero))\n",
    "        if sim >= 0.5:\n",
    "            df_hero_net = df_hero_net.replace(elem, hero)\n",
    "\n",
    "df_hero_net"
   ]
  },
  {
   "cell_type": "code",
   "execution_count": 14,
   "id": "f4eef9e3",
   "metadata": {},
   "outputs": [
    {
     "data": {
      "text/plain": [
       "set()"
      ]
     },
     "execution_count": 14,
     "metadata": {},
     "output_type": "execute_result"
    }
   ],
   "source": [
    "# test\n",
    "hero = set(df_edges.hero)\n",
    "hero_union = set(df_hero_net.hero1).union(set(df_hero_net.hero2))\n",
    "\n",
    "diff = hero_union - hero.intersection(hero_union)\n",
    "diff"
   ]
  },
  {
   "cell_type": "code",
   "execution_count": 15,
   "id": "596f8716",
   "metadata": {},
   "outputs": [
    {
     "name": "stdout",
     "output_type": "stream",
     "text": [
      "6420 6420\n"
     ]
    }
   ],
   "source": [
    "print(len(hero_union), len(hero.intersection(hero_union))) # all heroes' names in 'hero-network.csv' are now found in 'edges.csv'"
   ]
  },
  {
   "attachments": {},
   "cell_type": "markdown",
   "id": "09ece32c",
   "metadata": {},
   "source": [
    "## 1.2 First graph"
   ]
  },
  {
   "cell_type": "code",
   "execution_count": 16,
   "id": "469f1d53",
   "metadata": {},
   "outputs": [],
   "source": [
    "G1 = nx.MultiGraph()"
   ]
  },
  {
   "cell_type": "code",
   "execution_count": 17,
   "id": "9a6546a3",
   "metadata": {
    "scrolled": true
   },
   "outputs": [
    {
     "data": {
      "text/plain": [
       "0          0\n",
       "1          0\n",
       "2          0\n",
       "3          1\n",
       "4          1\n",
       "          ..\n",
       "574462    27\n",
       "574463    22\n",
       "574464     8\n",
       "574465    11\n",
       "574466     1\n",
       "Length: 574467, dtype: int64"
      ]
     },
     "execution_count": 17,
     "metadata": {},
     "output_type": "execute_result"
    }
   ],
   "source": [
    "df_hero_net.apply(lambda row: G1.add_edge(row['hero1'], row['hero2']), axis=1)"
   ]
  },
  {
   "cell_type": "code",
   "execution_count": 18,
   "id": "92dab3da",
   "metadata": {},
   "outputs": [],
   "source": [
    "#drop sefl-loops\n",
    "G1.remove_edges_from(nx.selfloop_edges(G1))"
   ]
  },
  {
   "cell_type": "code",
   "execution_count": 19,
   "id": "e54a8d9e",
   "metadata": {},
   "outputs": [
    {
     "data": {
      "text/plain": [
       "[('LITTLE, ABNER', 'PRINCESS ZANDA'),\n",
       " ('LITTLE, ABNER', 'PRINCESS ZANDA'),\n",
       " ('LITTLE, ABNER', 'PRINCESS ZANDA'),\n",
       " ('LITTLE, ABNER', 'PRINCESS ZANDA'),\n",
       " ('LITTLE, ABNER', 'PRINCESS ZANDA'),\n",
       " ('LITTLE, ABNER', 'PRINCESS ZANDA'),\n",
       " ('LITTLE, ABNER', 'PRINCESS ZANDA'),\n",
       " ('LITTLE, ABNER', 'PRINCESS ZANDA'),\n",
       " ('LITTLE, ABNER', \"BLACK PANTHER/T'CHAL\"),\n",
       " ('LITTLE, ABNER', \"BLACK PANTHER/T'CHAL\")]"
      ]
     },
     "execution_count": 19,
     "metadata": {},
     "output_type": "execute_result"
    }
   ],
   "source": [
    "list(G1.edges())[:10]"
   ]
  },
  {
   "cell_type": "code",
   "execution_count": 118,
   "id": "55727861",
   "metadata": {},
   "outputs": [],
   "source": [
    "dicOfOccurances = {}\n",
    "for h1,h2 in df_hero_net.to_numpy():\n",
    "    if h1 != h2:\n",
    "        if (h1,h2) in dicOfOccurances:\n",
    "            dicOfOccurances[(h1,h2)] += 1\n",
    "        else:\n",
    "            dicOfOccurances[(h1,h2)] = 1"
   ]
  },
  {
   "cell_type": "code",
   "execution_count": 119,
   "id": "dfdbd7d0",
   "metadata": {},
   "outputs": [],
   "source": [
    "G1_weighted = nx.MultiGraph()"
   ]
  },
  {
   "cell_type": "code",
   "execution_count": 120,
   "id": "50a90719",
   "metadata": {},
   "outputs": [],
   "source": [
    "i = 0\n",
    "for edge in list(G1.edges()):\n",
    "    try:\n",
    "        G1_weighted.add_edge(edge[0], edge[1], weight = 1/dicOfOccurances[edge])\n",
    "    except:\n",
    "        G1_weighted.add_edge(edge[0], edge[1], weight = 1/dicOfOccurances[(edge[1], edge[0])])\n"
   ]
  },
  {
   "cell_type": "code",
   "execution_count": 121,
   "id": "7f71840c",
   "metadata": {},
   "outputs": [
    {
     "name": "stdout",
     "output_type": "stream",
     "text": [
      "(('LITTLE, ABNER', 'PRINCESS ZANDA', 0), 0.2)\n",
      "(('LITTLE, ABNER', 'PRINCESS ZANDA', 1), 0.2)\n",
      "(('LITTLE, ABNER', 'PRINCESS ZANDA', 2), 0.2)\n",
      "(('LITTLE, ABNER', 'PRINCESS ZANDA', 3), 0.2)\n",
      "(('LITTLE, ABNER', 'PRINCESS ZANDA', 4), 0.2)\n",
      "(('LITTLE, ABNER', 'PRINCESS ZANDA', 5), 0.2)\n",
      "(('LITTLE, ABNER', 'PRINCESS ZANDA', 6), 0.2)\n",
      "(('LITTLE, ABNER', 'PRINCESS ZANDA', 7), 0.2)\n",
      "(('LITTLE, ABNER', \"BLACK PANTHER/T'CHAL\", 0), 0.25)\n",
      "(('LITTLE, ABNER', \"BLACK PANTHER/T'CHAL\", 1), 0.25)\n",
      "(('LITTLE, ABNER', \"BLACK PANTHER/T'CHAL\", 2), 0.25)\n",
      "(('LITTLE, ABNER', \"BLACK PANTHER/T'CHAL\", 3), 0.25)\n",
      "(('LITTLE, ABNER', \"BLACK PANTHER/T'CHAL\", 4), 0.25)\n",
      "(('LITTLE, ABNER', \"BLACK PANTHER/T'CHAL\", 5), 0.25)\n",
      "(('LITTLE, ABNER', \"BLACK PANTHER/T'CHAL\", 6), 0.25)\n",
      "(('LITTLE, ABNER', 'CARNIVORE/COUNT ANDR', 0), 0.3333333333333333)\n",
      "(('LITTLE, ABNER', 'CARNIVORE/COUNT ANDR', 1), 0.3333333333333333)\n",
      "(('LITTLE, ABNER', 'CARNIVORE/COUNT ANDR', 2), 0.3333333333333333)\n",
      "(('LITTLE, ABNER', 'CARNIVORE/COUNT ANDR', 3), 0.3333333333333333)\n",
      "(('LITTLE, ABNER', 'CARNIVORE/COUNT ANDR', 4), 0.3333333333333333)\n"
     ]
    }
   ],
   "source": [
    "edges, weights = zip(*nx.get_edge_attributes(G1_weighted, 'weight').items())\n",
    "for i in range(20):\n",
    "    print((edges[i], weights[i]))"
   ]
  },
  {
   "cell_type": "code",
   "execution_count": 122,
   "id": "5268b881",
   "metadata": {},
   "outputs": [],
   "source": [
    "G1_weighted2 = nx.Graph(G1_weighted)"
   ]
  },
  {
   "cell_type": "code",
   "execution_count": 123,
   "id": "ff1cf22b",
   "metadata": {},
   "outputs": [
    {
     "name": "stdout",
     "output_type": "stream",
     "text": [
      "(('LITTLE, ABNER', 'PRINCESS ZANDA'), 0.2)\n",
      "(('LITTLE, ABNER', \"BLACK PANTHER/T'CHAL\"), 0.25)\n",
      "(('LITTLE, ABNER', 'CARNIVORE/COUNT ANDR'), 0.3333333333333333)\n",
      "(('LITTLE, ABNER', 'IRON MAN/TONY STARK'), 1.0)\n",
      "(('LITTLE, ABNER', 'GOLDEN-BLADE'), 1.0)\n",
      "(('LITTLE, ABNER', 'DIXON, GENERAL'), 1.0)\n",
      "(('LITTLE, ABNER', 'IRON MAN IV/JAMES R.'), 1.0)\n",
      "(('LITTLE, ABNER', 'JOCASTA'), 1.0)\n",
      "(('LITTLE, ABNER', 'FUJIKAWA, RUMIKO'), 1.0)\n",
      "(('LITTLE, ABNER', 'MADAME MENACE/SUNSET'), 1.0)\n",
      "(('LITTLE, ABNER', 'JACOBS, GLENDA'), 1.0)\n",
      "(('LITTLE, ABNER', 'WAR MACHINE II/PARNE'), 1.0)\n",
      "(('LITTLE, ABNER', 'SAPPER'), 1.0)\n",
      "(('LITTLE, ABNER', 'HOGAN, VIRGINIA PEPP'), 1.0)\n",
      "(('LITTLE, ABNER', 'BINARY/CAROL DANVERS'), 1.0)\n",
      "(('LITTLE, ABNER', 'FIN FANG FOOM/MIDGAR'), 1.0)\n",
      "(('LITTLE, ABNER', 'MANN, DR. J. VERNON'), 0.5)\n",
      "(('LITTLE, ABNER', 'THOR/DR. DONALD BLAK'), 1.0)\n",
      "(('LITTLE, ABNER', 'TEMPEST II/NICOLETTE'), 1.0)\n",
      "(('LITTLE, ABNER', 'JARVIS, EDWIN'), 1.0)\n"
     ]
    }
   ],
   "source": [
    "edges, weights = zip(*nx.get_edge_attributes(G1_weighted2, 'weight').items())\n",
    "for i in range(20):\n",
    "    print((edges[i], weights[i]))"
   ]
  },
  {
   "cell_type": "code",
   "execution_count": 124,
   "id": "3be6d0bb",
   "metadata": {},
   "outputs": [],
   "source": [
    "dicOfWeights = {}\n",
    "for edge in G1_weighted2.edges():\n",
    "    dicOfWeights[edge] = G1_weighted2.get_edge_data(edge[0], edge[1])['weight']"
   ]
  },
  {
   "cell_type": "code",
   "execution_count": null,
   "id": "f5e939b2",
   "metadata": {},
   "outputs": [],
   "source": [
    "fig = plt.figure(figsize=(18,18))\n",
    "nx.draw(G1_weighted2, with_labels=True,node_size=300)\n",
    "plt.show()"
   ]
  },
  {
   "attachments": {},
   "cell_type": "markdown",
   "id": "34ca0be5",
   "metadata": {},
   "source": [
    "## 1.3 Second graph"
   ]
  },
  {
   "cell_type": "code",
   "execution_count": 138,
   "id": "6624e375",
   "metadata": {},
   "outputs": [],
   "source": [
    "attributes = {}\n",
    "for elem,type in df_nodes.to_numpy():\n",
    "    attributes[elem] = {'type' : type } "
   ]
  },
  {
   "cell_type": "code",
   "execution_count": 139,
   "id": "57e47288",
   "metadata": {},
   "outputs": [],
   "source": [
    "G2 = nx.from_pandas_edgelist(df_edges, 'hero', 'comic')\n",
    "nx.set_node_attributes(G2, attributes)"
   ]
  },
  {
   "cell_type": "code",
   "execution_count": 142,
   "id": "086be5b0",
   "metadata": {},
   "outputs": [
    {
     "name": "stdout",
     "output_type": "stream",
     "text": [
      "24-HOUR MAN/EMMANUEL hero\n",
      "AA2 35 comic\n",
      "3-D MAN/CHARLES CHAN hero\n",
      "AVF 4 comic\n",
      "AVF 5 comic\n",
      "COC 1 comic\n",
      "H2 251 comic\n",
      "H2 252 comic\n",
      "M/PRM 35 comic\n",
      "M/PRM 36 comic\n"
     ]
    }
   ],
   "source": [
    "edges, types = zip(*nx.get_node_attributes(G2, 'type').items())\n",
    "for i in range(10):\n",
    "    print(edges[i], types[i])"
   ]
  },
  {
   "cell_type": "code",
   "execution_count": null,
   "id": "cee24357",
   "metadata": {},
   "outputs": [],
   "source": [
    "fig = plt.figure(figsize=(18,18))\n",
    "nx.draw(G2, with_labels=True,node_size=300)\n",
    "plt.show()"
   ]
  },
  {
   "cell_type": "code",
   "execution_count": 132,
   "id": "ec128ba7",
   "metadata": {},
   "outputs": [
    {
     "data": {
      "text/html": [
       "<div>\n",
       "<style scoped>\n",
       "    .dataframe tbody tr th:only-of-type {\n",
       "        vertical-align: middle;\n",
       "    }\n",
       "\n",
       "    .dataframe tbody tr th {\n",
       "        vertical-align: top;\n",
       "    }\n",
       "\n",
       "    .dataframe thead th {\n",
       "        text-align: right;\n",
       "    }\n",
       "</style>\n",
       "<table border=\"1\" class=\"dataframe\">\n",
       "  <thead>\n",
       "    <tr style=\"text-align: right;\">\n",
       "      <th></th>\n",
       "      <th>comic</th>\n",
       "    </tr>\n",
       "    <tr>\n",
       "      <th>hero</th>\n",
       "      <th></th>\n",
       "    </tr>\n",
       "  </thead>\n",
       "  <tbody>\n",
       "    <tr>\n",
       "      <th>SPIDER-MAN/PETER PARKER</th>\n",
       "      <td>1577</td>\n",
       "    </tr>\n",
       "    <tr>\n",
       "      <th>CAPTAIN AMERICA</th>\n",
       "      <td>1334</td>\n",
       "    </tr>\n",
       "    <tr>\n",
       "      <th>IRON MAN/TONY STARK</th>\n",
       "      <td>1150</td>\n",
       "    </tr>\n",
       "    <tr>\n",
       "      <th>THING/BENJAMIN J. GR</th>\n",
       "      <td>963</td>\n",
       "    </tr>\n",
       "    <tr>\n",
       "      <th>THOR/DR. DONALD BLAK</th>\n",
       "      <td>956</td>\n",
       "    </tr>\n",
       "    <tr>\n",
       "      <th>HUMAN TORCH/JOHNNY S</th>\n",
       "      <td>886</td>\n",
       "    </tr>\n",
       "    <tr>\n",
       "      <th>MR. FANTASTIC/REED R</th>\n",
       "      <td>854</td>\n",
       "    </tr>\n",
       "    <tr>\n",
       "      <th>HULK/DR. ROBERT BRUC</th>\n",
       "      <td>835</td>\n",
       "    </tr>\n",
       "    <tr>\n",
       "      <th>WOLVERINE/LOGAN</th>\n",
       "      <td>819</td>\n",
       "    </tr>\n",
       "    <tr>\n",
       "      <th>INVISIBLE WOMAN/SUE</th>\n",
       "      <td>762</td>\n",
       "    </tr>\n",
       "  </tbody>\n",
       "</table>\n",
       "</div>"
      ],
      "text/plain": [
       "                         comic\n",
       "hero                          \n",
       "SPIDER-MAN/PETER PARKER   1577\n",
       "CAPTAIN AMERICA           1334\n",
       "IRON MAN/TONY STARK       1150\n",
       "THING/BENJAMIN J. GR       963\n",
       "THOR/DR. DONALD BLAK       956\n",
       "HUMAN TORCH/JOHNNY S       886\n",
       "MR. FANTASTIC/REED R       854\n",
       "HULK/DR. ROBERT BRUC       835\n",
       "WOLVERINE/LOGAN            819\n",
       "INVISIBLE WOMAN/SUE        762"
      ]
     },
     "execution_count": 132,
     "metadata": {},
     "output_type": "execute_result"
    }
   ],
   "source": [
    "topN_heroes = df_edges.groupby('hero').count().sort_values(by='comic', ascending=False).head(10)\n",
    "topN_heroes\n",
    "# this are the top N heroes ( in this case the top 10) of the heroes that apperar in the most comics the G2 graph"
   ]
  },
  {
   "attachments": {},
   "cell_type": "markdown",
   "id": "da623bdc",
   "metadata": {},
   "source": [
    "# 2. Backend Implementation"
   ]
  },
  {
   "attachments": {},
   "cell_type": "markdown",
   "id": "d36d71de",
   "metadata": {},
   "source": [
    "## Functionality 1 - extract the graph's features"
   ]
  },
  {
   "attachments": {},
   "cell_type": "markdown",
   "id": "de573cb3",
   "metadata": {},
   "source": [
    "The number of nodes in the network (if type 2, report for both node types)"
   ]
  },
  {
   "cell_type": "code",
   "execution_count": 144,
   "id": "93171c3e",
   "metadata": {},
   "outputs": [
    {
     "name": "stdout",
     "output_type": "stream",
     "text": [
      "Total number of nodes of G1:  6420\n"
     ]
    }
   ],
   "source": [
    "n_nodesG1 = int(G1_weighted2.number_of_nodes())\n",
    "print(\"Total number of nodes of G1: \", n_nodesG1)\n",
    "# the total number of nodes in G1 is 6420"
   ]
  },
  {
   "cell_type": "code",
   "execution_count": 145,
   "id": "7ea119c8",
   "metadata": {},
   "outputs": [
    {
     "name": "stdout",
     "output_type": "stream",
     "text": [
      "the number of heros in G2 is: 6007\n",
      "the number of comics in G2 is: 12651\n"
     ]
    }
   ],
   "source": [
    "count_hero = 0\n",
    "count_comic = 0\n",
    "for elements in types:\n",
    "    if elements == 'hero':\n",
    "        count_hero += 1\n",
    "    elif elements == 'comic':\n",
    "        count_comic += 1\n",
    "print(\"the number of heros in G2 is:\", count_hero)\n",
    "print(\"the number of comics in G2 is:\", count_comic)\n",
    "# the total number of nodes in G2 of heroes  is 6007 and comics is 12651."
   ]
  },
  {
   "attachments": {},
   "cell_type": "markdown",
   "id": "6c91b8f6",
   "metadata": {},
   "source": [
    "The number of collaborations of each superhero with the others"
   ]
  },
  {
   "cell_type": "code",
   "execution_count": null,
   "id": "1ce80e43",
   "metadata": {},
   "outputs": [],
   "source": [
    "degree_G1 = G1_weighted2.degree()\n",
    "#print(\"collaborations of each node:\", degree_G1)\n",
    "# we can see for each hero the collaboration that one has with other heros\n",
    "# sorting it by the number of collaborations \n",
    "sorted_degree_G1 = sorted(degree_G1, key=lambda x: x[1], reverse=True)\n",
    "print(\"sorted collaborations of each node:\", sorted_degree_G1)\n",
    "\n",
    "\n",
    "#len(G1_weighted.edges(hero))\n",
    "# we can see for each hero the collaboration that one has with other heros"
   ]
  },
  {
   "attachments": {},
   "cell_type": "markdown",
   "id": "8538414b",
   "metadata": {},
   "source": [
    "The number of heroes that have appeared in each comic (only if type 2)"
   ]
  },
  {
   "cell_type": "code",
   "execution_count": 147,
   "id": "484caae9",
   "metadata": {},
   "outputs": [
    {
     "data": {
      "text/html": [
       "<div>\n",
       "<style scoped>\n",
       "    .dataframe tbody tr th:only-of-type {\n",
       "        vertical-align: middle;\n",
       "    }\n",
       "\n",
       "    .dataframe tbody tr th {\n",
       "        vertical-align: top;\n",
       "    }\n",
       "\n",
       "    .dataframe thead th {\n",
       "        text-align: right;\n",
       "    }\n",
       "</style>\n",
       "<table border=\"1\" class=\"dataframe\">\n",
       "  <thead>\n",
       "    <tr style=\"text-align: right;\">\n",
       "      <th></th>\n",
       "      <th>hero</th>\n",
       "    </tr>\n",
       "    <tr>\n",
       "      <th>comic</th>\n",
       "      <th></th>\n",
       "    </tr>\n",
       "  </thead>\n",
       "  <tbody>\n",
       "    <tr>\n",
       "      <th>COC 1</th>\n",
       "      <td>111</td>\n",
       "    </tr>\n",
       "    <tr>\n",
       "      <th>IW 3</th>\n",
       "      <td>91</td>\n",
       "    </tr>\n",
       "    <tr>\n",
       "      <th>IW 1</th>\n",
       "      <td>90</td>\n",
       "    </tr>\n",
       "    <tr>\n",
       "      <th>H2 279</th>\n",
       "      <td>87</td>\n",
       "    </tr>\n",
       "    <tr>\n",
       "      <th>IW 4</th>\n",
       "      <td>80</td>\n",
       "    </tr>\n",
       "    <tr>\n",
       "      <th>...</th>\n",
       "      <td>...</td>\n",
       "    </tr>\n",
       "    <tr>\n",
       "      <th>MYSTIC COMICS 10</th>\n",
       "      <td>1</td>\n",
       "    </tr>\n",
       "    <tr>\n",
       "      <th>N 2/4</th>\n",
       "      <td>1</td>\n",
       "    </tr>\n",
       "    <tr>\n",
       "      <th>N 37</th>\n",
       "      <td>1</td>\n",
       "    </tr>\n",
       "    <tr>\n",
       "      <th>N 4/2</th>\n",
       "      <td>1</td>\n",
       "    </tr>\n",
       "    <tr>\n",
       "      <th>rse powers.</th>\n",
       "      <td>1</td>\n",
       "    </tr>\n",
       "  </tbody>\n",
       "</table>\n",
       "<p>12651 rows × 1 columns</p>\n",
       "</div>"
      ],
      "text/plain": [
       "                  hero\n",
       "comic                 \n",
       "COC 1              111\n",
       "IW 3                91\n",
       "IW 1                90\n",
       "H2 279              87\n",
       "IW 4                80\n",
       "...                ...\n",
       "MYSTIC COMICS 10     1\n",
       "N 2/4                1\n",
       "N 37                 1\n",
       "N 4/2                1\n",
       "rse powers.          1\n",
       "\n",
       "[12651 rows x 1 columns]"
      ]
     },
     "execution_count": 147,
     "metadata": {},
     "output_type": "execute_result"
    }
   ],
   "source": [
    "#number of heroes that have appeared in each comic of G2\n",
    "hero_appeard = df_edges.groupby('comic').count().sort_values(by='hero', ascending=False)\n",
    "hero_appeard"
   ]
  },
  {
   "cell_type": "code",
   "execution_count": 36,
   "id": "ed1f2c2a",
   "metadata": {},
   "outputs": [
    {
     "name": "stdout",
     "output_type": "stream",
     "text": [
      "AA2 35 comic 6\n",
      "AVF 4 comic 11\n",
      "AVF 5 comic 11\n",
      "COC 1 comic 111\n",
      "H2 251 comic 8\n",
      "H2 252 comic 8\n",
      "M/PRM 35 comic 1\n",
      "M/PRM 36 comic 1\n",
      "M/PRM 37 comic 1\n",
      "WI? 9 comic 5\n",
      "CA3 36 comic 4\n",
      "CM 51 comic 11\n",
      "Q 14 comic 27\n",
      "Q 16 comic 18\n",
      "T 208 comic 12\n",
      "T 214 comic 11\n",
      "T 215 comic 11\n",
      "T 216 comic 13\n",
      "T 440 comic 20\n",
      "SLEEP 1 comic 9\n",
      "SLEEP 19 comic 11\n",
      "SLEEP 2 comic 4\n",
      "DD/SM 1 comic 9\n",
      "W2 52 comic 11\n",
      "W2 53 comic 14\n",
      "XFOR 108 comic 11\n",
      "XFOR 109 comic 11\n",
      "ABOM 2 comic 13\n",
      "ABOM 3 comic 18\n",
      "ASM 23 comic 20\n",
      "H 15 comic 7\n",
      "H 20 comic 3\n",
      "H2 136 comic 6\n",
      "H2 137 comic 2\n",
      "H2 159 comic 5\n",
      "H2 171 comic 7\n",
      "H2 194 comic 7\n",
      "H2 195 comic 7\n",
      "H2 196 comic 6\n",
      "H2 270 comic 8\n",
      "H2 278 comic 53\n",
      "H2 287 comic 5\n",
      "H2 288 comic 4\n",
      "H2 289 comic 5\n",
      "H2 290 comic 3\n",
      "H2 364 comic 4\n",
      "H2 366 comic 11\n",
      "H2 382 comic 12\n",
      "H2 383 comic 11\n",
      "H2 384 comic 5\n",
      "H2 431 comic 4\n",
      "H2 432 comic 6\n",
      "H2 459 comic 5\n",
      "H2 472 comic 6\n",
      "H2 473 comic 6\n",
      "H2 474 comic 7\n",
      "H3 24 comic 7\n",
      "H3 25 comic 6\n",
      "M/SH3 6 comic 9\n",
      "M/SH3 7 comic 10\n",
      "M/SH3 8 comic 9\n",
      "N 58 comic 18\n",
      "N 59 comic 6\n",
      "SOLOA 12 comic 3\n",
      "SS 12 comic 2\n",
      "SWII 7 comic 41\n",
      "T 178 comic 5\n",
      "TTA 90/2 comic 5\n",
      "TTA 91/2 comic 7\n",
      "WCA2 25 comic 10\n",
      "X 74 comic 11\n",
      "XM 32 comic 7\n",
      "MX '01 comic 49\n",
      "S-H2 21 comic 5\n",
      "S-H2 22 comic 5\n",
      "S-H2 23 comic 7\n",
      "AA2 22 comic 9\n",
      "AA2 23 comic 11\n",
      "AA2 24 comic 11\n",
      "FF '01 comic 12\n",
      "GAM3 14 comic 15\n",
      "XFOR 10 comic 23\n",
      "XFOR 53 comic 11\n",
      "XFOR 54 comic 12\n",
      "A 183 comic 14\n",
      "A 184 comic 13\n",
      "A 20/4 comic 4\n",
      "A 270 comic 12\n",
      "A 273 comic 19\n",
      "A 274 comic 20\n",
      "A 275 comic 20\n",
      "ASM 283 comic 14\n",
      "ASM 429 comic 16\n",
      "ASPOT 29/2 comic 17\n",
      "AUP 3 comic 7\n",
      "AUP 4 comic 25\n",
      "CA3 24 comic 4\n",
      "DAZZ 17 comic 6\n",
      "DAZZ 18 comic 11\n",
      "DAZZ 19 comic 8\n",
      "DD 1 comic 12\n",
      "DD 359 comic 5\n"
     ]
    },
    {
     "ename": "KeyboardInterrupt",
     "evalue": "",
     "output_type": "error",
     "traceback": [
      "\u001b[1;31m---------------------------------------------------------------------------\u001b[0m",
      "\u001b[1;31mKeyboardInterrupt\u001b[0m                         Traceback (most recent call last)",
      "\u001b[1;32mc:\\Users\\elisa\\Desktop\\ADM\\HW5\\main_HW5.ipynb Cell 46\u001b[0m in \u001b[0;36m<cell line: 2>\u001b[1;34m()\u001b[0m\n\u001b[0;32m      <a href='vscode-notebook-cell:/c%3A/Users/elisa/Desktop/ADM/HW5/main_HW5.ipynb#X64sZmlsZQ%3D%3D?line=1'>2</a>\u001b[0m \u001b[39mfor\u001b[39;00m i \u001b[39min\u001b[39;00m \u001b[39mrange\u001b[39m(\u001b[39mlen\u001b[39m(types)):\n\u001b[0;32m      <a href='vscode-notebook-cell:/c%3A/Users/elisa/Desktop/ADM/HW5/main_HW5.ipynb#X64sZmlsZQ%3D%3D?line=2'>3</a>\u001b[0m \u001b[39m#count the number of heroes that have appeared in each comic, sorted by the number of comics sorted in descending order\u001b[39;00m\n\u001b[0;32m      <a href='vscode-notebook-cell:/c%3A/Users/elisa/Desktop/ADM/HW5/main_HW5.ipynb#X64sZmlsZQ%3D%3D?line=3'>4</a>\u001b[0m     \u001b[39mif\u001b[39;00m types[i] \u001b[39m==\u001b[39m \u001b[39m'\u001b[39m\u001b[39mcomic\u001b[39m\u001b[39m'\u001b[39m:\n\u001b[1;32m----> <a href='vscode-notebook-cell:/c%3A/Users/elisa/Desktop/ADM/HW5/main_HW5.ipynb#X64sZmlsZQ%3D%3D?line=4'>5</a>\u001b[0m         \u001b[39mprint\u001b[39m(edges[i], types[i], df_edges\u001b[39m.\u001b[39;49mgroupby(\u001b[39m'\u001b[39;49m\u001b[39mcomic\u001b[39;49m\u001b[39m'\u001b[39;49m)\u001b[39m.\u001b[39;49mcount()\u001b[39m.\u001b[39msort_values(by\u001b[39m=\u001b[39m\u001b[39m'\u001b[39m\u001b[39mhero\u001b[39m\u001b[39m'\u001b[39m, ascending\u001b[39m=\u001b[39m\u001b[39mFalse\u001b[39;00m)\u001b[39m.\u001b[39mloc[edges[i]]\u001b[39m.\u001b[39mvalues[\u001b[39m0\u001b[39m])\n",
      "File \u001b[1;32mc:\\Users\\elisa\\anaconda3\\lib\\site-packages\\pandas\\core\\groupby\\groupby.py:1843\u001b[0m, in \u001b[0;36mGroupBy.count\u001b[1;34m(self)\u001b[0m\n\u001b[0;32m   1834\u001b[0m \u001b[39m\"\"\"\u001b[39;00m\n\u001b[0;32m   1835\u001b[0m \u001b[39mCompute count of group, excluding missing values.\u001b[39;00m\n\u001b[0;32m   1836\u001b[0m \n\u001b[1;32m   (...)\u001b[0m\n\u001b[0;32m   1840\u001b[0m \u001b[39m    Count of values within each group.\u001b[39;00m\n\u001b[0;32m   1841\u001b[0m \u001b[39m\"\"\"\u001b[39;00m\n\u001b[0;32m   1842\u001b[0m data \u001b[39m=\u001b[39m \u001b[39mself\u001b[39m\u001b[39m.\u001b[39m_get_data_to_aggregate()\n\u001b[1;32m-> 1843\u001b[0m ids, _, ngroups \u001b[39m=\u001b[39m \u001b[39mself\u001b[39;49m\u001b[39m.\u001b[39;49mgrouper\u001b[39m.\u001b[39;49mgroup_info\n\u001b[0;32m   1844\u001b[0m mask \u001b[39m=\u001b[39m ids \u001b[39m!=\u001b[39m \u001b[39m-\u001b[39m\u001b[39m1\u001b[39m\n\u001b[0;32m   1846\u001b[0m is_series \u001b[39m=\u001b[39m data\u001b[39m.\u001b[39mndim \u001b[39m==\u001b[39m \u001b[39m1\u001b[39m\n",
      "File \u001b[1;32mc:\\Users\\elisa\\anaconda3\\lib\\site-packages\\pandas\\_libs\\properties.pyx:37\u001b[0m, in \u001b[0;36mpandas._libs.properties.CachedProperty.__get__\u001b[1;34m()\u001b[0m\n",
      "File \u001b[1;32mc:\\Users\\elisa\\anaconda3\\lib\\site-packages\\pandas\\core\\groupby\\ops.py:834\u001b[0m, in \u001b[0;36mBaseGrouper.group_info\u001b[1;34m(self)\u001b[0m\n\u001b[0;32m    832\u001b[0m \u001b[39m@cache_readonly\u001b[39m\n\u001b[0;32m    833\u001b[0m \u001b[39mdef\u001b[39;00m \u001b[39mgroup_info\u001b[39m(\u001b[39mself\u001b[39m) \u001b[39m-\u001b[39m\u001b[39m>\u001b[39m \u001b[39mtuple\u001b[39m[npt\u001b[39m.\u001b[39mNDArray[np\u001b[39m.\u001b[39mintp], npt\u001b[39m.\u001b[39mNDArray[np\u001b[39m.\u001b[39mintp], \u001b[39mint\u001b[39m]:\n\u001b[1;32m--> 834\u001b[0m     comp_ids, obs_group_ids \u001b[39m=\u001b[39m \u001b[39mself\u001b[39;49m\u001b[39m.\u001b[39;49m_get_compressed_codes()\n\u001b[0;32m    836\u001b[0m     ngroups \u001b[39m=\u001b[39m \u001b[39mlen\u001b[39m(obs_group_ids)\n\u001b[0;32m    837\u001b[0m     comp_ids \u001b[39m=\u001b[39m ensure_platform_int(comp_ids)\n",
      "File \u001b[1;32mc:\\Users\\elisa\\anaconda3\\lib\\site-packages\\pandas\\core\\groupby\\ops.py:862\u001b[0m, in \u001b[0;36mBaseGrouper._get_compressed_codes\u001b[1;34m(self)\u001b[0m\n\u001b[0;32m    859\u001b[0m     \u001b[39mreturn\u001b[39;00m compress_group_index(group_index, sort\u001b[39m=\u001b[39m\u001b[39mself\u001b[39m\u001b[39m.\u001b[39m_sort)\n\u001b[0;32m    861\u001b[0m ping \u001b[39m=\u001b[39m \u001b[39mself\u001b[39m\u001b[39m.\u001b[39mgroupings[\u001b[39m0\u001b[39m]\n\u001b[1;32m--> 862\u001b[0m \u001b[39mreturn\u001b[39;00m ping\u001b[39m.\u001b[39;49mcodes, np\u001b[39m.\u001b[39marange(\u001b[39mlen\u001b[39m(ping\u001b[39m.\u001b[39mgroup_index), dtype\u001b[39m=\u001b[39mnp\u001b[39m.\u001b[39mintp)\n",
      "File \u001b[1;32mc:\\Users\\elisa\\anaconda3\\lib\\site-packages\\pandas\\core\\groupby\\grouper.py:622\u001b[0m, in \u001b[0;36mGrouping.codes\u001b[1;34m(self)\u001b[0m\n\u001b[0;32m    618\u001b[0m \u001b[39mif\u001b[39;00m \u001b[39mself\u001b[39m\u001b[39m.\u001b[39m_codes \u001b[39mis\u001b[39;00m \u001b[39mnot\u001b[39;00m \u001b[39mNone\u001b[39;00m:\n\u001b[0;32m    619\u001b[0m     \u001b[39m# _codes is set in __init__ for MultiIndex cases\u001b[39;00m\n\u001b[0;32m    620\u001b[0m     \u001b[39mreturn\u001b[39;00m \u001b[39mself\u001b[39m\u001b[39m.\u001b[39m_codes\n\u001b[1;32m--> 622\u001b[0m \u001b[39mreturn\u001b[39;00m \u001b[39mself\u001b[39;49m\u001b[39m.\u001b[39;49m_codes_and_uniques[\u001b[39m0\u001b[39m]\n",
      "File \u001b[1;32mc:\\Users\\elisa\\anaconda3\\lib\\site-packages\\pandas\\_libs\\properties.pyx:37\u001b[0m, in \u001b[0;36mpandas._libs.properties.CachedProperty.__get__\u001b[1;34m()\u001b[0m\n",
      "File \u001b[1;32mc:\\Users\\elisa\\anaconda3\\lib\\site-packages\\pandas\\core\\groupby\\grouper.py:690\u001b[0m, in \u001b[0;36mGrouping._codes_and_uniques\u001b[1;34m(self)\u001b[0m\n\u001b[0;32m    688\u001b[0m     \u001b[39melse\u001b[39;00m:\n\u001b[0;32m    689\u001b[0m         na_sentinel \u001b[39m=\u001b[39m \u001b[39m-\u001b[39m\u001b[39m1\u001b[39m\n\u001b[1;32m--> 690\u001b[0m     codes, uniques \u001b[39m=\u001b[39m algorithms\u001b[39m.\u001b[39;49mfactorize(\n\u001b[0;32m    691\u001b[0m         \u001b[39mself\u001b[39;49m\u001b[39m.\u001b[39;49mgrouping_vector, sort\u001b[39m=\u001b[39;49m\u001b[39mself\u001b[39;49m\u001b[39m.\u001b[39;49m_sort, na_sentinel\u001b[39m=\u001b[39;49mna_sentinel\n\u001b[0;32m    692\u001b[0m     )\n\u001b[0;32m    693\u001b[0m \u001b[39mreturn\u001b[39;00m codes, uniques\n",
      "File \u001b[1;32mc:\\Users\\elisa\\anaconda3\\lib\\site-packages\\pandas\\core\\algorithms.py:768\u001b[0m, in \u001b[0;36mfactorize\u001b[1;34m(values, sort, na_sentinel, size_hint)\u001b[0m\n\u001b[0;32m    763\u001b[0m     codes, uniques \u001b[39m=\u001b[39m factorize_array(\n\u001b[0;32m    764\u001b[0m         values, na_sentinel\u001b[39m=\u001b[39mna_sentinel, size_hint\u001b[39m=\u001b[39msize_hint, na_value\u001b[39m=\u001b[39mna_value\n\u001b[0;32m    765\u001b[0m     )\n\u001b[0;32m    767\u001b[0m \u001b[39mif\u001b[39;00m sort \u001b[39mand\u001b[39;00m \u001b[39mlen\u001b[39m(uniques) \u001b[39m>\u001b[39m \u001b[39m0\u001b[39m:\n\u001b[1;32m--> 768\u001b[0m     uniques, codes \u001b[39m=\u001b[39m safe_sort(\n\u001b[0;32m    769\u001b[0m         uniques, codes, na_sentinel\u001b[39m=\u001b[39;49mna_sentinel, assume_unique\u001b[39m=\u001b[39;49m\u001b[39mTrue\u001b[39;49;00m, verify\u001b[39m=\u001b[39;49m\u001b[39mFalse\u001b[39;49;00m\n\u001b[0;32m    770\u001b[0m     )\n\u001b[0;32m    772\u001b[0m code_is_na \u001b[39m=\u001b[39m codes \u001b[39m==\u001b[39m na_sentinel\n\u001b[0;32m    773\u001b[0m \u001b[39mif\u001b[39;00m \u001b[39mnot\u001b[39;00m dropna \u001b[39mand\u001b[39;00m code_is_na\u001b[39m.\u001b[39many():\n\u001b[0;32m    774\u001b[0m     \u001b[39m# na_value is set based on the dtype of uniques, and compat set to False is\u001b[39;00m\n\u001b[0;32m    775\u001b[0m     \u001b[39m# because we do not want na_value to be 0 for integers\u001b[39;00m\n",
      "File \u001b[1;32mc:\\Users\\elisa\\anaconda3\\lib\\site-packages\\pandas\\core\\algorithms.py:1770\u001b[0m, in \u001b[0;36msafe_sort\u001b[1;34m(values, codes, na_sentinel, assume_unique, verify)\u001b[0m\n\u001b[0;32m   1766\u001b[0m     sorter \u001b[39m=\u001b[39m ensure_platform_int(t\u001b[39m.\u001b[39mlookup(ordered))\n\u001b[0;32m   1768\u001b[0m \u001b[39mif\u001b[39;00m na_sentinel \u001b[39m==\u001b[39m \u001b[39m-\u001b[39m\u001b[39m1\u001b[39m:\n\u001b[0;32m   1769\u001b[0m     \u001b[39m# take_nd is faster, but only works for na_sentinels of -1\u001b[39;00m\n\u001b[1;32m-> 1770\u001b[0m     order2 \u001b[39m=\u001b[39m sorter\u001b[39m.\u001b[39;49margsort()\n\u001b[0;32m   1771\u001b[0m     new_codes \u001b[39m=\u001b[39m take_nd(order2, codes, fill_value\u001b[39m=\u001b[39m\u001b[39m-\u001b[39m\u001b[39m1\u001b[39m)\n\u001b[0;32m   1772\u001b[0m     \u001b[39mif\u001b[39;00m verify:\n",
      "\u001b[1;31mKeyboardInterrupt\u001b[0m: "
     ]
    }
   ],
   "source": [
    "edges, types = zip(*nx.get_node_attributes(G2, 'type').items())\n",
    "for i in range(len(types)):\n",
    "#count the number of heroes that have appeared in each comic\n",
    "    if types[i] == 'comic':\n",
    "        print(edges[i], types[i], df_edges.groupby('comic').count().sort_values(by='hero', ascending=False).loc[edges[i]].values[0])"
   ]
  },
  {
   "cell_type": "code",
   "execution_count": 148,
   "id": "116a3981",
   "metadata": {},
   "outputs": [
    {
     "name": "stdout",
     "output_type": "stream",
     "text": [
      "The most popular hero is: SPIDER-MAN/PETER PARKER\n"
     ]
    }
   ],
   "source": [
    "print(\"The most popular hero is:\", max(G2.degree(), key=lambda x: x[1])[0])\n",
    "# the most popular hero that apperas in a comic is Spiderman"
   ]
  },
  {
   "attachments": {},
   "cell_type": "markdown",
   "id": "b957c10d",
   "metadata": {},
   "source": [
    "The network's density"
   ]
  },
  {
   "cell_type": "code",
   "execution_count": 149,
   "id": "ee684b16",
   "metadata": {},
   "outputs": [
    {
     "name": "stdout",
     "output_type": "stream",
     "text": [
      "The density of G1 is: 0.00810958898791021\n",
      "The density of G2 is: 0.005327561844958216\n"
     ]
    }
   ],
   "source": [
    "# calculate the density from scratch without nx of G1\n",
    "densityG1 = len(G1_weighted2.edges())/(n_nodesG1*(n_nodesG1-1)/2)\n",
    "print(\"The density of G1 is:\", densityG1)\n",
    "# density of G2\n",
    "densityG2 = len(G2.edges())/(count_hero*(count_hero-1)/2)\n",
    "print(\"The density of G2 is:\", densityG2)"
   ]
  },
  {
   "cell_type": "code",
   "execution_count": 150,
   "id": "c5422ddb",
   "metadata": {},
   "outputs": [
    {
     "name": "stdout",
     "output_type": "stream",
     "text": [
      "Network density of G1:  0.00810958898791021\n",
      "Network density of G2:  0.0005276171051089377\n"
     ]
    }
   ],
   "source": [
    "#check the density of G1 and G2 with nx\n",
    "densityG1 = nx.density(G1_weighted2)\n",
    "# network density of G1\n",
    "print(\"Network density of G1: \", densityG1)\n",
    "densityG2 = nx.density(G2)\n",
    "print(\"Network density of G2: \", densityG2)\n",
    "# network density of G2"
   ]
  },
  {
   "attachments": {},
   "cell_type": "markdown",
   "id": "61f3cf9c",
   "metadata": {},
   "source": [
    "The network's degree distribution"
   ]
  },
  {
   "cell_type": "code",
   "execution_count": null,
   "id": "f7327d6c",
   "metadata": {},
   "outputs": [],
   "source": [
    "\n",
    "def plot_degree_dist(G1_weighted2):\n",
    "    degree_G1 = [G1_weighted2.degree(n) for n in G1_weighted2.nodes()]\n",
    "    plt.hist(degree_G1, bins=50)\n",
    "    plt.show()\n",
    "plot_degree_dist(nx.gnp_random_graph(200, 0.8, directed=True))\n",
    "#network's degree distribution of G1"
   ]
  },
  {
   "cell_type": "code",
   "execution_count": null,
   "id": "b9d52d4b",
   "metadata": {},
   "outputs": [],
   "source": [
    "def plot_degree_dist(G2):\n",
    "    degree_G2 = [G2.degree(n) for n in G2.nodes()]\n",
    "    plt.hist(degree_G2, bins=50)\n",
    "    plt.show()\n",
    "plot_degree_dist(nx.gnp_random_graph(100, 0.5, directed=False))\n",
    "# network's degree distribution of G2"
   ]
  },
  {
   "cell_type": "code",
   "execution_count": null,
   "id": "e04fdc83",
   "metadata": {},
   "outputs": [],
   "source": [
    "degree_G2 = list(G2.degree())\n",
    "print(\"Degree for all nodes:\", degree_G2)\n",
    "sorted_degreeG2 = sorted((i for x, i in degree_G2), reverse=True)"
   ]
  },
  {
   "attachments": {},
   "cell_type": "markdown",
   "id": "c77caecd",
   "metadata": {},
   "source": [
    "The average degree of the network"
   ]
  },
  {
   "cell_type": "code",
   "execution_count": 154,
   "id": "54b2e2a2",
   "metadata": {},
   "outputs": [
    {
     "name": "stdout",
     "output_type": "stream",
     "text": [
      "Average degree of G1:  52.05545171339564\n"
     ]
    }
   ],
   "source": [
    "degree_sequence = [deg for i, deg in G1_weighted2.degree()]\n",
    "avg_degreeG1 = sum(degree_sequence) / len(degree_sequence)\n",
    "print(\"Average degree of G1: \", avg_degreeG1)"
   ]
  },
  {
   "cell_type": "code",
   "execution_count": 157,
   "id": "21aa987b",
   "metadata": {},
   "outputs": [
    {
     "name": "stdout",
     "output_type": "stream",
     "text": [
      "Average degree of G2:  10.070100068109184\n"
     ]
    }
   ],
   "source": [
    "# average degree of G2\n",
    "degree_sequence = [deg for i, deg in G2.degree()]\n",
    "avg_degreeG2 = sum(degree_sequence) / len(degree_sequence)\n",
    "print(\"Average degree of G2: \", avg_degreeG2)"
   ]
  },
  {
   "attachments": {},
   "cell_type": "markdown",
   "id": "b7d8b609",
   "metadata": {},
   "source": [
    "The network's Hubs (hubs are nodes having degrees more extensive than the 95th percentile of the degree distribution)\n"
   ]
  },
  {
   "cell_type": "code",
   "execution_count": null,
   "id": "47cfe965",
   "metadata": {},
   "outputs": [],
   "source": [
    "def hubs(G1_weighted2):\n",
    "    degrees = [G1_weighted2.degree(n) for n in G1_weighted2.nodes()]\n",
    "    t = np.percentile(degrees,95)\n",
    "    ex_nodes = [n for n in G1_weighted2.nodes() if G1_weighted2.degree(n) > t]\n",
    "    return(ex_nodes)\n",
    "print(\"Nodes with degrees more extensive than the 95th percentile of the degree distribution: \", len(hubs(G1_weighted)))\n",
    "print(\"that are:\", hubs(G1_weighted2))\n",
    "#hubs in G1 are 319"
   ]
  },
  {
   "cell_type": "code",
   "execution_count": null,
   "id": "aba7efb1",
   "metadata": {},
   "outputs": [],
   "source": [
    "def hubs(G2):\n",
    "    degrees = [G2.degree(n) for n in G2.nodes()]\n",
    "    t = np.percentile(degrees,95)\n",
    "    ex_nodes = [n for n in G2.nodes() if G2.degree(n) > t]\n",
    "    return(ex_nodes)\n",
    "print(\"Nodes with degrees more extensive than the 95th percentile of the degree distribution: \", len(hubs(G2)))\n",
    "print(\"that are:\", hubs(G2))\n",
    "#hubs in G1 are 927"
   ]
  },
  {
   "attachments": {},
   "cell_type": "markdown",
   "id": "19bbac5f",
   "metadata": {},
   "source": [
    "Whether the Network is sparse or dense"
   ]
  },
  {
   "cell_type": "code",
   "execution_count": 159,
   "id": "40c98e4c",
   "metadata": {},
   "outputs": [
    {
     "name": "stdout",
     "output_type": "stream",
     "text": [
      "Density of G1:  0.00810958898791021\n"
     ]
    }
   ],
   "source": [
    "# density of G1 from scratch\n",
    "def density_G1(G1_weighted2):\n",
    "    n = G1_weighted2.number_of_nodes()\n",
    "    m = G1_weighted2.number_of_edges()\n",
    "    return 2*m/(n*(n-1))\n",
    "print(\"Density of G1: \", density_G1(G1_weighted2))\n"
   ]
  },
  {
   "cell_type": "code",
   "execution_count": 160,
   "id": "fb1b9786",
   "metadata": {},
   "outputs": [
    {
     "name": "stdout",
     "output_type": "stream",
     "text": [
      "The type of G1 is:  SPARSE\n"
     ]
    }
   ],
   "source": [
    "type_graphG1 = \"\"    \n",
    "if density_G1(G1_weighted2) >= 0.5:\n",
    "    type_graphG1 = \"DENSE\"\n",
    "else:\n",
    "    type_graphG1 = \"SPARSE\"\n",
    "print(\"The type of G1 is: \", type_graphG1)\n",
    "# G1 is sparse\n"
   ]
  },
  {
   "cell_type": "code",
   "execution_count": 161,
   "id": "42db7fcf",
   "metadata": {},
   "outputs": [
    {
     "name": "stdout",
     "output_type": "stream",
     "text": [
      "Density of G2:  0.0005276171051089377\n"
     ]
    }
   ],
   "source": [
    "# density of G2 from scratch\n",
    "def density_G2(G2):\n",
    "    n = G2.number_of_nodes()\n",
    "    m = G2.number_of_edges()\n",
    "    return 2*m/(n*(n-1))\n",
    "print(\"Density of G2: \", density_G2(G2))"
   ]
  },
  {
   "cell_type": "code",
   "execution_count": 162,
   "id": "af885639",
   "metadata": {},
   "outputs": [
    {
     "name": "stdout",
     "output_type": "stream",
     "text": [
      "The type of G2 is:  SPARSE\n"
     ]
    }
   ],
   "source": [
    "type_graphG2 = \"\"\n",
    "if density_G2(G2) >= 0.5:\n",
    "    type_graphG2 = \"DENSE\"\n",
    "else:\n",
    "    type_graphG2 = \"SPARSE\"\n",
    "print(\"The type of G2 is: \", type_graphG2)\n",
    "#G2 is sparse"
   ]
  },
  {
   "attachments": {},
   "cell_type": "markdown",
   "id": "af74b011",
   "metadata": {},
   "source": [
    "# Functionality 2 - Find top superheroes!"
   ]
  },
  {
   "attachments": {},
   "cell_type": "markdown",
   "id": "2c243923",
   "metadata": {},
   "source": [
    "The metric's value over the considered graph"
   ]
  },
  {
   "cell_type": "code",
   "execution_count": 61,
   "id": "47ea1ca0",
   "metadata": {},
   "outputs": [],
   "source": [
    "from collections import deque\n",
    "from collections import defaultdict\n",
    "import random"
   ]
  },
  {
   "cell_type": "code",
   "execution_count": 168,
   "id": "01ef2e28",
   "metadata": {},
   "outputs": [],
   "source": [
    "# calcolo algoritmo BFS per la betweenness centrality\n",
    "def BFS(G2, s, t):\n",
    "  queue = deque([s])\n",
    "  visited = set()\n",
    "  while queue:\n",
    "    u = queue.popleft()\n",
    "    if u not in visited:\n",
    "      visited.add(u)\n",
    "      for v in G2[u]:\n",
    "        queue.append(v)\n",
    "        if v == t:\n",
    "          return visited\n",
    "  return visited"
   ]
  },
  {
   "cell_type": "code",
   "execution_count": 238,
   "id": "aded747e",
   "metadata": {},
   "outputs": [
    {
     "name": "stdout",
     "output_type": "stream",
     "text": [
      "24-HOUR MAN/EMMANUEL: 4.667043379426975e-08\n",
      "A 64: 7.137831050888316e-08\n",
      "SLASHER: 4.94157534292268e-08\n",
      "A 198: 7.137831050888316e-08\n",
      "A 47: 7.137831050888316e-08\n",
      "A 19: 7.137831050888316e-08\n",
      "A 88: 7.137831050888316e-08\n",
      "A 302: 7.137831050888316e-08\n",
      "A3 4: 7.137831050888316e-08\n",
      "WARLORD: 4.94157534292268e-08\n"
     ]
    }
   ],
   "source": [
    "def fun_betweenness_centrality(G2):\n",
    "  betweenness_G2 = defaultdict(int)\n",
    "  for i, s in enumerate(G2):\n",
    "    if i == 10:\n",
    "      break\n",
    "    for j, t in enumerate(G2):\n",
    "      if j == 10:\n",
    "        break\n",
    "      if s != t:\n",
    "        # Calcolo i percorsi minimi tra s e t utilizzando l'algoritmo BFS\n",
    "        path = BFS(G2, s, t)\n",
    "        for v in path:\n",
    "          betweenness_G2[v] += 1\n",
    "  # Normalizza i valori della betweenness\n",
    "  n = len(G2)\n",
    "  for v in betweenness_G2:\n",
    "    betweenness_G2[v] /= (n-1)*(n-2)\n",
    "  return betweenness_G2\n",
    "result = fun_betweenness_centrality(G2)\n",
    "####### Stampa solo i primi 10 elementi del dizionario\n",
    "for i, (node, value) in enumerate(result.items()):\n",
    "  if i == 10:\n",
    "    break\n",
    "  print(f\"{node}: {value}\")"
   ]
  },
  {
   "cell_type": "code",
   "execution_count": null,
   "id": "3eade2aa",
   "metadata": {},
   "outputs": [],
   "source": [
    "# betwenness centrality of G2 with nx for the first 10 nodes\n",
    "betweenness = nx.betweenness_centrality(G2, normalized=True)"
   ]
  },
  {
   "cell_type": "code",
   "execution_count": null,
   "id": "11669f09",
   "metadata": {},
   "outputs": [],
   "source": [
    "# Stampa i valori della betweenness centrality dei primi 10 nodi\n",
    "for i, (node, value) in enumerate(betweenness.items()):\n",
    "    if i == 10:\n",
    "        break\n",
    "    print(f\"{node}: {value}\")"
   ]
  },
  {
   "cell_type": "code",
   "execution_count": 291,
   "id": "e3ca8b3f",
   "metadata": {},
   "outputs": [
    {
     "name": "stdout",
     "output_type": "stream",
     "text": [
      "24-HOUR MAN/EMMANUEL: 5.239442523315519e-05\n",
      "AA2 35: 0.00031436655139893113\n",
      "3-D MAN/CHARLES CHAN: 0.00047154982709839675\n",
      "AVF 4: 0.0005763386775647072\n",
      "AVF 5: 0.0005763386775647072\n",
      "COC 1: 0.005815781200880226\n",
      "H2 251: 0.00041915540186524154\n",
      "H2 252: 0.00041915540186524154\n",
      "M/PRM 35: 5.239442523315519e-05\n",
      "M/PRM 36: 5.239442523315519e-05\n"
     ]
    }
   ],
   "source": [
    "def fun_degree_centrality(G2, node):\n",
    "  num_neighbors = len(list(G2.neighbors(node)))\n",
    "  fun_degree_centrality = num_neighbors / (len(G2) - 1)\n",
    "  return fun_degree_centrality\n",
    "# doing it for the first 10 nodes\n",
    "for i, node in enumerate(G2.nodes()):\n",
    "  if i == 10:\n",
    "    break\n",
    "  print(f\"{node}: {fun_degree_centrality(G2, node)}\")"
   ]
  },
  {
   "cell_type": "code",
   "execution_count": 272,
   "id": "755880f6",
   "metadata": {},
   "outputs": [
    {
     "name": "stdout",
     "output_type": "stream",
     "text": [
      "24-HOUR MAN/EMMANUEL: 5.239442523315519e-05\n",
      "AA2 35: 0.00031436655139893113\n",
      "3-D MAN/CHARLES CHAN: 0.00047154982709839675\n",
      "AVF 4: 0.0005763386775647072\n",
      "AVF 5: 0.0005763386775647072\n",
      "COC 1: 0.005815781200880226\n",
      "H2 251: 0.00041915540186524154\n",
      "H2 252: 0.00041915540186524154\n",
      "M/PRM 35: 5.239442523315519e-05\n",
      "M/PRM 36: 5.239442523315519e-05\n"
     ]
    }
   ],
   "source": [
    "# Calculate the degree centrality for the graph with networkx to check results:\n",
    "degree_cen = nx.degree_centrality(G2)\n",
    "count = 0\n",
    "for node, value in degree_cen.items():\n",
    "    # Print the degree centrality for the current node\n",
    "    print(f\"{node}: {value}\")\n",
    "    count += 1\n",
    "    if count == 10:\n",
    "        break"
   ]
  },
  {
   "cell_type": "code",
   "execution_count": 278,
   "id": "81afb88b",
   "metadata": {},
   "outputs": [
    {
     "name": "stdout",
     "output_type": "stream",
     "text": [
      "24-HOUR MAN/EMMANUEL: 1.6190634785391538e-05\n",
      "AA2 35: 5.881329456000286e-05\n",
      "3-D MAN/CHARLES CHAN: 8.040458459529586e-05\n",
      "AVF 4: 7.25368207844207e-05\n",
      "AVF 5: 7.25912275515007e-05\n",
      "COC 1: 0.00046164593189993363\n",
      "H2 251: 4.5732790282748295e-05\n",
      "H2 252: 4.5732790282748295e-05\n",
      "M/PRM 35: 1.5452518353066664e-05\n",
      "M/PRM 36: 1.5452518353066664e-05\n"
     ]
    }
   ],
   "source": [
    "#PageRank centrality\n",
    "def fun_pagerank_centrality(G2, alpha=0.85, max_iter=100, tol=1e-6):\n",
    "  # Inizializza i valori di PageRank di ogni nodo con 1/n, dove n è il numero di nodi del grafo\n",
    "  n = len(G2)\n",
    "  pagerank = {node: 1/n for node in G2}\n",
    "  # Itera finché non si raggiunge la convergenza o il numero massimo di iterazioni\n",
    "  for i in range(max_iter):\n",
    "    diff = 0\n",
    "    # Calcola il nuovo valore di PageRank per ogni nodo\n",
    "    for node in pagerank:\n",
    "      rank = sum(pagerank[neighbor] / len(G2[neighbor]) for neighbor in G2[node])\n",
    "      # Aggiorna il valore di PageRank del nodo utilizzando la formula di PageRank\n",
    "      new_rank = (1 - alpha) / n + alpha * rank\n",
    "      diff += abs(new_rank - pagerank[node])\n",
    "      pagerank[node] = new_rank\n",
    "    # Se la differenza è minore della soglia di tolleranza, interrompi il loop\n",
    "    if diff < tol:\n",
    "      break\n",
    "  return pagerank\n",
    "\n",
    "#### stampo i risultati per i primi 10 nodi\n",
    "result = fun_pagerank_centrality(G2)\n",
    "for i, (node, value) in enumerate(result.items()):\n",
    "  if i == 10:\n",
    "    break\n",
    "  print(f\"{node}: {value}\")"
   ]
  },
  {
   "cell_type": "code",
   "execution_count": 279,
   "id": "3eabc635",
   "metadata": {},
   "outputs": [
    {
     "name": "stdout",
     "output_type": "stream",
     "text": [
      "24-HOUR MAN/EMMANUEL: 1.619088825788385e-05\n",
      "AA2 35: 5.891311954989046e-05\n",
      "3-D MAN/CHARLES CHAN: 7.99930311037567e-05\n",
      "AVF 4: 7.307020737907148e-05\n",
      "AVF 5: 7.312285805701876e-05\n",
      "COC 1: 0.0004666087517830386\n",
      "H2 251: 4.609355643115735e-05\n",
      "H2 252: 4.609355643115735e-05\n",
      "M/PRM 35: 1.5502849120300773e-05\n",
      "M/PRM 36: 1.5502849120300773e-05\n"
     ]
    }
   ],
   "source": [
    "#calculate pagerank centrality with networkx\n",
    "pagerank = nx.pagerank(G2)\n",
    "count = 0\n",
    "for node, value in pagerank.items():\n",
    "    print(f\"{node}: {value}\")\n",
    "    count += 1\n",
    "    if count == 10:\n",
    "        break"
   ]
  },
  {
   "cell_type": "code",
   "execution_count": 283,
   "id": "3e775968",
   "metadata": {},
   "outputs": [],
   "source": [
    "def fun_closeness_centrality(G2, node):\n",
    "  # Inizializza una coda e un dizionario per tenere traccia della distanza di ogni nodo dal nodo in questione\n",
    "  queue = deque([node])\n",
    "  distances = {node: 0}\n",
    "\n",
    "  # Esegue la ricerca in larghezza a partire dal nodo in questione\n",
    "  while queue:\n",
    "    current_node = queue.popleft()\n",
    "    for neighbor in G2[current_node]:\n",
    "      if neighbor not in distances:\n",
    "        distances[neighbor] = distances[current_node] + 1\n",
    "        queue.append(neighbor)\n",
    "\n",
    "  # Calcola la somma delle distanze di tutti i nodi dal nodo in questione\n",
    "  total_distance = sum(distances.values())\n",
    "  # Calcola la centralità di prossimità come il numero di nodi del grafo diviso dalla somma delle distanze\n",
    "  closeness_centrality = len(G2) / total_distance\n",
    "  return closeness_centrality"
   ]
  },
  {
   "cell_type": "code",
   "execution_count": 287,
   "id": "c32c142f",
   "metadata": {},
   "outputs": [
    {
     "name": "stdout",
     "output_type": "stream",
     "text": [
      "24-HOUR MAN/EMMANUEL: 0.14019508468849617\n",
      "AA2 35: 0.16296682092177386\n",
      "3-D MAN/CHARLES CHAN: 0.2699106284292098\n",
      "AVF 4: 0.25798123969399617\n",
      "AVF 5: 0.25817665359123493\n",
      "COC 1: 0.36759494646021107\n",
      "H2 251: 0.24156784326629796\n",
      "H2 252: 0.24156784326629796\n",
      "M/PRM 35: 0.21269222197459328\n",
      "M/PRM 36: 0.21269222197459328\n"
     ]
    }
   ],
   "source": [
    "# stampo i risultati per i primi 10 nodi\n",
    "for i, node in enumerate(G2.nodes()):\n",
    "  if i == 10:\n",
    "    break\n",
    "  print(f\"{node}: {fun_closeness_centrality(G2, node)}\")"
   ]
  },
  {
   "cell_type": "code",
   "execution_count": null,
   "id": "8ae78032",
   "metadata": {},
   "outputs": [],
   "source": [
    "# calculate the closeness centrality with networkx\n",
    "closeness = nx.closeness_centrality(G2)\n",
    "#stampo i risultati per i primi 10 nodi\n",
    "count = 0\n",
    "for node, value in closeness.items():\n",
    "    print(f\"{node}: {value}\")\n",
    "    count += 1\n",
    "    if count == 10:\n",
    "        break\n",
    "    "
   ]
  },
  {
   "cell_type": "code",
   "execution_count": 301,
   "id": "590b35d1",
   "metadata": {},
   "outputs": [
    {
     "data": {
      "image/png": "[encoded data removed]",
      "text/plain": [
       "<Figure size 432x288 with 1 Axes>"
      ]
     },
     "metadata": {
      "needs_background": "light"
     },
     "output_type": "display_data"
    }
   ],
   "source": [
    "# comparing the results of the different centrality measures:\n",
    "measures = [fun_betweenness_centrality, fun_degree_centrality, fun_pagerank_centrality, fun_closeness_centrality]\n",
    "\n",
    "# Create a list of labels for the measures\n",
    "labels = ['BetweennessCentrality', 'DegreeCentrality', 'PagerankCentrality','ClosenessCentrality']\n",
    "\n",
    "# Plot the measures\n",
    "for measure, label in zip(measures, labels):\n",
    "    # Get the measure values as a dictionary\n",
    "    measure_values = nx.get_node_attributes(G2, measure)\n",
    "    # Normalize the measure values by dividing them by the maximum value\n",
    "    normalized_values = {node: value/max(measure_values.values()) for node, value in measure_values.items()}\n",
    "    # Plot the normalized measure values\n",
    "    plt.plot(normalized_values.values(), label=label)\n",
    "    #plt.bar(normalized_values.keys(), normalized_values.values(), label=label)\n",
    "# Add a legend to the plot\n",
    "plt.legend()\n",
    "\n",
    "# Show the plot\n",
    "plt.show()"
   ]
  },
  {
   "cell_type": "code",
   "execution_count": 108,
   "id": "9164b7f4",
   "metadata": {},
   "outputs": [],
   "source": [
    "def fun_centrality(G, node, measure):\n",
    "  \n",
    "  if measure == \"betweenness\":\n",
    "    # Calcola la centralità di intermediazione del nodo\n",
    "    centrality = fun_betweenness_centrality(G)[node]\n",
    "  elif measure == \"pagerank\":\n",
    "    # Calcola il PageRank del nodo\n",
    "    centrality = fun_pagerank_centrality(G)[node]\n",
    "  elif measure == \"degree\":\n",
    "    # Calcola la degree centrality del nodo\n",
    "    centrality = fun_degree_centrality(G)[node]\n",
    "  elif measure == \"closeness\":\n",
    "    # Calcola la centralità di prossimità del nodo\n",
    "    centrality = fun_closeness_centrality(G)[node]\n",
    "  else:\n",
    "    raise ValueError(\"Misura di centralità non supportata\")\n",
    "  return centrality"
   ]
  },
  {
   "attachments": {},
   "cell_type": "markdown",
   "id": "bb7eb863",
   "metadata": {},
   "source": [
    "## 3. Frontend Implementation"
   ]
  },
  {
   "attachments": {},
   "cell_type": "markdown",
   "id": "1c22c917",
   "metadata": {},
   "source": [
    "### Visualization 1"
   ]
  },
  {
   "attachments": {},
   "cell_type": "markdown",
   "id": "ae3a5643",
   "metadata": {},
   "source": [
    "A table containing the following general information about the graph:\n",
    "\n",
    "- Number of nodes in the network\n",
    "- Density of the network\n",
    "- Average degree of the network\n",
    "- Whether the network is sparse or dense"
   ]
  },
  {
   "cell_type": "code",
   "execution_count": 93,
   "id": "c8048642",
   "metadata": {},
   "outputs": [
    {
     "name": "stdout",
     "output_type": "stream",
     "text": [
      "   Number of nodes   Density  Average degree netowrk type\n",
      "0             6420  0.027772      178.266355       SPARSE\n"
     ]
    }
   ],
   "source": [
    "dataG1 = {\n",
    "    \"Number of nodes\": n_nodesG1,\n",
    "    \"Density\": densityG1,\n",
    "    \"Average degree\": avg_degreeG1,\n",
    "    \"netowrk type\" : type_graphG1\n",
    "}\n",
    "df_G1 = pd.DataFrame(dataG1, index=[0])\n",
    "df_G1\n",
    "print(df_G1)"
   ]
  },
  {
   "cell_type": "code",
   "execution_count": 53,
   "id": "0f203fac",
   "metadata": {},
   "outputs": [
    {
     "name": "stdout",
     "output_type": "stream",
     "text": [
      "    nodes_hero  nodes_comic   Density  Average degree netowrk type\n",
      "0         6007        12651  0.000528         10.0701       SPARSE\n"
     ]
    }
   ],
   "source": [
    "dataG2 = {\n",
    "    \" nodes_hero\": count_hero,\n",
    "    \"nodes_comic\": count_comic,\n",
    "    \"Density\": densityG2,\n",
    "    \"Average degree\": avg_degreeG2,\n",
    "    \"netowrk type\" : type_graphG2\n",
    "}\n",
    "df_G2 = pd.DataFrame(dataG2, index=[0])\n",
    "df_G2\n",
    "print(df_G2)"
   ]
  },
  {
   "attachments": {},
   "cell_type": "markdown",
   "id": "323d311f",
   "metadata": {},
   "source": [
    "A table that lists the network's hubs"
   ]
  },
  {
   "cell_type": "code",
   "execution_count": 54,
   "id": "283ad8fd",
   "metadata": {},
   "outputs": [
    {
     "data": {
      "text/html": [
       "<div>\n",
       "<style scoped>\n",
       "    .dataframe tbody tr th:only-of-type {\n",
       "        vertical-align: middle;\n",
       "    }\n",
       "\n",
       "    .dataframe tbody tr th {\n",
       "        vertical-align: top;\n",
       "    }\n",
       "\n",
       "    .dataframe thead th {\n",
       "        text-align: right;\n",
       "    }\n",
       "</style>\n",
       "<table border=\"1\" class=\"dataframe\">\n",
       "  <thead>\n",
       "    <tr style=\"text-align: right;\">\n",
       "      <th></th>\n",
       "      <th>Hubs</th>\n",
       "    </tr>\n",
       "  </thead>\n",
       "  <tbody>\n",
       "    <tr>\n",
       "      <th>0</th>\n",
       "      <td>BLACK PANTHER/T'CHAL</td>\n",
       "    </tr>\n",
       "    <tr>\n",
       "      <th>1</th>\n",
       "      <td>IRON MAN/TONY STARK</td>\n",
       "    </tr>\n",
       "    <tr>\n",
       "      <th>2</th>\n",
       "      <td>IRON MAN IV/JAMES R.</td>\n",
       "    </tr>\n",
       "    <tr>\n",
       "      <th>3</th>\n",
       "      <td>JOCASTA</td>\n",
       "    </tr>\n",
       "    <tr>\n",
       "      <th>4</th>\n",
       "      <td>HOGAN, VIRGINIA PEPP</td>\n",
       "    </tr>\n",
       "    <tr>\n",
       "      <th>...</th>\n",
       "      <td>...</td>\n",
       "    </tr>\n",
       "    <tr>\n",
       "      <th>314</th>\n",
       "      <td>LIGHTSPEED/JULIE POW</td>\n",
       "    </tr>\n",
       "    <tr>\n",
       "      <th>315</th>\n",
       "      <td>PATRIOT/JEFF MACE</td>\n",
       "    </tr>\n",
       "    <tr>\n",
       "      <th>316</th>\n",
       "      <td>DIAMOND LIL/LILLIAN</td>\n",
       "    </tr>\n",
       "    <tr>\n",
       "      <th>317</th>\n",
       "      <td>STACY, GWEN</td>\n",
       "    </tr>\n",
       "    <tr>\n",
       "      <th>318</th>\n",
       "      <td>ROBERTSON, RANDY</td>\n",
       "    </tr>\n",
       "  </tbody>\n",
       "</table>\n",
       "<p>319 rows × 1 columns</p>\n",
       "</div>"
      ],
      "text/plain": [
       "                     Hubs\n",
       "0    BLACK PANTHER/T'CHAL\n",
       "1     IRON MAN/TONY STARK\n",
       "2    IRON MAN IV/JAMES R.\n",
       "3                 JOCASTA\n",
       "4    HOGAN, VIRGINIA PEPP\n",
       "..                    ...\n",
       "314  LIGHTSPEED/JULIE POW\n",
       "315     PATRIOT/JEFF MACE\n",
       "316   DIAMOND LIL/LILLIAN\n",
       "317           STACY, GWEN\n",
       "318      ROBERTSON, RANDY\n",
       "\n",
       "[319 rows x 1 columns]"
      ]
     },
     "execution_count": 54,
     "metadata": {},
     "output_type": "execute_result"
    }
   ],
   "source": [
    "# visualization of a table that lists the network's hubs\n",
    "df_hubs = pd.DataFrame(hubs(G1_weighted), columns=['Hubs'])\n",
    "df_hubs\n"
   ]
  },
  {
   "attachments": {},
   "cell_type": "markdown",
   "id": "2859ea88",
   "metadata": {},
   "source": [
    "A plot depicting the number of collaborations of each hero in descending order (if the graph is type 1)\n",
    "\n"
   ]
  },
  {
   "cell_type": "code",
   "execution_count": null,
   "id": "a018e2a4",
   "metadata": {},
   "outputs": [],
   "source": [
    "# A plot depicting the number of collaborations of each hero in descending order of G1\n",
    "plt.figure(figsize=(10,10))\n",
    "plt.bar(*zip(*sorted_degree_G1))\n",
    "plt.title(\"Number of collaborations of each hero in descending order of G1\")\n",
    "plt.xlabel(\"Hero\")\n",
    "plt.ylabel(\"Number of collaborations\")\n",
    "plt.show()"
   ]
  },
  {
   "attachments": {},
   "cell_type": "markdown",
   "id": "428dffa6",
   "metadata": {},
   "source": [
    "A plot depicting the number of heroes who appeared in each comic, sorted in descending order (if the graph is type 2)\n"
   ]
  },
  {
   "cell_type": "code",
   "execution_count": null,
   "id": "ed82d3b7",
   "metadata": {},
   "outputs": [
    {
     "data": {
      "image/png": "[encoded data removed]",
      "text/plain": [
       "<Figure size 720x360 with 1 Axes>"
      ]
     },
     "metadata": {
      "needs_background": "light"
     },
     "output_type": "display_data"
    }
   ],
   "source": [
    "plt.figure(figsize=(10,5))\n",
    "plt.hist(hero_appeard['hero'], bins=100)\n",
    "plt.xlabel('number of heroes')\n",
    "plt.ylabel('number of comics')\n",
    "plt.show()\n",
    "# plot the distribution of the number of heroes that have appeared in each comic of G2"
   ]
  },
  {
   "attachments": {},
   "cell_type": "markdown",
   "id": "e8e7f718",
   "metadata": {},
   "source": [
    "A plot depicting the degree distribution of the network\n"
   ]
  },
  {
   "cell_type": "code",
   "execution_count": null,
   "id": "5cba18f7",
   "metadata": {},
   "outputs": [],
   "source": [
    "plt.figure(figsize=(10,5))\n",
    "plt.hist(degree_G1, bins=50)\n",
    "plt.xlabel('degree')\n",
    "plt.ylabel('number of nodes')\n",
    "plt.show()\n",
    "#plot depicting the degree distribution of the network G1"
   ]
  },
  {
   "cell_type": "code",
   "execution_count": null,
   "id": "8b8c31ee",
   "metadata": {},
   "outputs": [],
   "source": [
    "plt.figure(figsize=(10,5))\n",
    "plt.bar(*zip(*sorted_degree_G1[:50]))\n",
    "plt.xlabel('degree')\n",
    "plt.ylabel('number of nodes')\n",
    "plt.show()\n",
    "# with the first 50 heroes of G1 and depicting the degree distribution of the networ"
   ]
  },
  {
   "cell_type": "code",
   "execution_count": null,
   "id": "ab560849",
   "metadata": {},
   "outputs": [],
   "source": [
    "plt.figure(figsize=(10,5))\n",
    "plt.hist(sorted_degreeG2, bins=50)\n",
    "plt.xlim(10, 400)\n",
    "plt.xlabel('degree')\n",
    "plt.ylabel('number of nodes')\n",
    "plt.show()"
   ]
  },
  {
   "cell_type": "code",
   "execution_count": null,
   "id": "847f2a37",
   "metadata": {},
   "outputs": [],
   "source": [
    "plt.xscale()\n",
    "plt.xlabel('degree')\n",
    "plt.ylabel('number of nodes')\n",
    "plt.show()\n",
    "#plot depicting the degree distribution of the network G2"
   ]
  },
  {
   "attachments": {},
   "cell_type": "markdown",
   "id": "b670a6e8",
   "metadata": {},
   "source": [
    "### Visualization 2 - Visualize centrality measure"
   ]
  },
  {
   "attachments": {},
   "cell_type": "markdown",
   "id": "d979a852",
   "metadata": {},
   "source": [
    "A table containing the information related to the requested centrality measure for:\n",
    "- The average of the requested centrality measure for all of the network's nodes"
   ]
  },
  {
   "cell_type": "code",
   "execution_count": 307,
   "id": "bd8f507e",
   "metadata": {},
   "outputs": [],
   "source": [
    "#A table containing the information related to the requested centrality measure for the average of the requested centrality measure for all of the network's nodes\n",
    "def fun_centrality_table(G2, measure):\n",
    "    if measure == \"betweenness\":\n",
    "        # Calcola la centralità di intermediazione del nodo\n",
    "        centrality = fun_betweenness_centrality(G2)\n",
    "    elif measure == \"pagerank\":\n",
    "        # Calcola il PageRank del nodo\n",
    "        centrality = fun_pagerank_centrality(G2)\n",
    "    elif measure == \"degree\":\n",
    "        # Calcola la degree centrality del nodo\n",
    "        centrality = fun_degree_centrality(G2)\n",
    "    elif measure == \"closeness\":\n",
    "        # Calcola la centralità di prossimità del nodo\n",
    "        centrality = fun_closeness_centrality(G2)\n",
    "    else:\n",
    "        raise ValueError(\"Misura di centralità non supportata\")\n",
    "    df_centrality = pd.DataFrame(centrality, index=[0])\n",
    "    return df_centrality\n"
   ]
  },
  {
   "cell_type": "code",
   "execution_count": 308,
   "id": "f4bca26c",
   "metadata": {},
   "outputs": [
    {
     "name": "stdout",
     "output_type": "stream",
     "text": [
      "Average of betweenness centrality of G2:  3.4147992016459226e-08\n"
     ]
    }
   ],
   "source": [
    "betweenness_centrality_dict = dict( fun_betweenness_centrality(G2))\n",
    "# average of betweennes centrality of G2 from scratch\n",
    "def avg_betweenness_centrality(G2):\n",
    "    return sum(betweenness_centrality_dict.values())/len(betweenness_centrality_dict)\n",
    "print(\"Average of betweenness centrality of G2: \", avg_betweenness_centrality(G2))\n",
    "#create a table of average betweenness centrality for all nodes of G2\n",
    "data_betweenness_G2 = {node: avg_betweenness_centrality(G2) for node in G2.nodes()}\n",
    "df_betweenness_G2 = pd.DataFrame.from_dict(data_betweenness_G2, orient='index', columns=['Average betweenness centrality'])"
   ]
  },
  {
   "cell_type": "code",
   "execution_count": 309,
   "id": "73f06127",
   "metadata": {},
   "outputs": [
    {
     "name": "stdout",
     "output_type": "stream",
     "text": [
      "Average of pagerank centrality of G2:  5.239155862424604e-05\n"
     ]
    }
   ],
   "source": [
    "pagereank_centrality_dict = dict( fun_pagerank_centrality(G2))\n",
    "# average of pagerank centrality of G2 from scratch\n",
    "def avg_pagerank_centrality(G2):\n",
    "    return sum(pagereank_centrality_dict.values())/len(pagereank_centrality_dict)\n",
    "print(\"Average of pagerank centrality of G2: \", avg_pagerank_centrality(G2))\n",
    "#create a table of average pagerank centrality for all nodes of G2\n",
    "data_pagerank_G2 = {node: avg_pagerank_centrality(G2) for node in G2.nodes()}\n",
    "df_pagerank_G2 = pd.DataFrame.from_dict(data_pagerank_G2, orient='index', columns=['Average pagerank centrality'])\n"
   ]
  },
  {
   "cell_type": "code",
   "execution_count": 331,
   "id": "d2717b6e",
   "metadata": {},
   "outputs": [
    {
     "name": "stdout",
     "output_type": "stream",
     "text": [
      "Average of degree centrality of G2:  0.0005276116150449991\n"
     ]
    }
   ],
   "source": [
    "def fun_degree_centrality(G2):\n",
    "  degree_centrality = {}\n",
    "  for node in G2.nodes():\n",
    "    num_neighbors = len(list(G2.neighbors(node)))\n",
    "    degree_centrality[node] = num_neighbors / (len(G2) - 1)\n",
    "  return degree_centrality\n",
    "\n",
    "degree_centrality_dict = fun_degree_centrality(G2)\n",
    "\n",
    "def avg_degree_centrality(degree_centrality):\n",
    "  total = 0\n",
    "  for value in degree_centrality.values():\n",
    "    total += value\n",
    "  return total / len(degree_centrality)\n",
    "\n",
    "print(\"Average of degree centrality of G2: \", avg_degree_centrality(degree_centrality_dict))"
   ]
  },
  {
   "cell_type": "code",
   "execution_count": 333,
   "id": "54a9231c",
   "metadata": {},
   "outputs": [
    {
     "ename": "KeyboardInterrupt",
     "evalue": "",
     "output_type": "error",
     "traceback": [
      "\u001b[1;31m---------------------------------------------------------------------------\u001b[0m",
      "\u001b[1;31mKeyboardInterrupt\u001b[0m                         Traceback (most recent call last)",
      "\u001b[1;32mc:\\Users\\elisa\\Desktop\\ADM\\HW5\\main_HW5.ipynb Cell 105\u001b[0m in \u001b[0;36m<cell line: 7>\u001b[1;34m()\u001b[0m\n\u001b[0;32m      <a href='vscode-notebook-cell:/c%3A/Users/elisa/Desktop/ADM/HW5/main_HW5.ipynb#Y304sZmlsZQ%3D%3D?line=3'>4</a>\u001b[0m     total_closeness \u001b[39m+\u001b[39m\u001b[39m=\u001b[39m fun_closeness_centrality(G2, node)\n\u001b[0;32m      <a href='vscode-notebook-cell:/c%3A/Users/elisa/Desktop/ADM/HW5/main_HW5.ipynb#Y304sZmlsZQ%3D%3D?line=4'>5</a>\u001b[0m   \u001b[39mreturn\u001b[39;00m total_closeness \u001b[39m/\u001b[39m \u001b[39mlen\u001b[39m(G2)\n\u001b[1;32m----> <a href='vscode-notebook-cell:/c%3A/Users/elisa/Desktop/ADM/HW5/main_HW5.ipynb#Y304sZmlsZQ%3D%3D?line=6'>7</a>\u001b[0m \u001b[39mprint\u001b[39m(\u001b[39m\"\u001b[39m\u001b[39mAverage of closeness centrality of G2: \u001b[39m\u001b[39m\"\u001b[39m, avg_closeness_centrality(G2))\n",
      "\u001b[1;32mc:\\Users\\elisa\\Desktop\\ADM\\HW5\\main_HW5.ipynb Cell 105\u001b[0m in \u001b[0;36mavg_closeness_centrality\u001b[1;34m(G2)\u001b[0m\n\u001b[0;32m      <a href='vscode-notebook-cell:/c%3A/Users/elisa/Desktop/ADM/HW5/main_HW5.ipynb#Y304sZmlsZQ%3D%3D?line=1'>2</a>\u001b[0m total_closeness \u001b[39m=\u001b[39m \u001b[39m0\u001b[39m\n\u001b[0;32m      <a href='vscode-notebook-cell:/c%3A/Users/elisa/Desktop/ADM/HW5/main_HW5.ipynb#Y304sZmlsZQ%3D%3D?line=2'>3</a>\u001b[0m \u001b[39mfor\u001b[39;00m node \u001b[39min\u001b[39;00m G2\u001b[39m.\u001b[39mnodes():\n\u001b[1;32m----> <a href='vscode-notebook-cell:/c%3A/Users/elisa/Desktop/ADM/HW5/main_HW5.ipynb#Y304sZmlsZQ%3D%3D?line=3'>4</a>\u001b[0m   total_closeness \u001b[39m+\u001b[39m\u001b[39m=\u001b[39m fun_closeness_centrality(G2, node)\n\u001b[0;32m      <a href='vscode-notebook-cell:/c%3A/Users/elisa/Desktop/ADM/HW5/main_HW5.ipynb#Y304sZmlsZQ%3D%3D?line=4'>5</a>\u001b[0m \u001b[39mreturn\u001b[39;00m total_closeness \u001b[39m/\u001b[39m \u001b[39mlen\u001b[39m(G2)\n",
      "\u001b[1;32mc:\\Users\\elisa\\Desktop\\ADM\\HW5\\main_HW5.ipynb Cell 105\u001b[0m in \u001b[0;36mfun_closeness_centrality\u001b[1;34m(G2, node)\u001b[0m\n\u001b[0;32m      <a href='vscode-notebook-cell:/c%3A/Users/elisa/Desktop/ADM/HW5/main_HW5.ipynb#Y304sZmlsZQ%3D%3D?line=8'>9</a>\u001b[0m   \u001b[39mfor\u001b[39;00m neighbor \u001b[39min\u001b[39;00m G2[current_node]:\n\u001b[0;32m     <a href='vscode-notebook-cell:/c%3A/Users/elisa/Desktop/ADM/HW5/main_HW5.ipynb#Y304sZmlsZQ%3D%3D?line=9'>10</a>\u001b[0m     \u001b[39mif\u001b[39;00m neighbor \u001b[39mnot\u001b[39;00m \u001b[39min\u001b[39;00m distances:\n\u001b[1;32m---> <a href='vscode-notebook-cell:/c%3A/Users/elisa/Desktop/ADM/HW5/main_HW5.ipynb#Y304sZmlsZQ%3D%3D?line=10'>11</a>\u001b[0m       distances[neighbor] \u001b[39m=\u001b[39m distances[current_node] \u001b[39m+\u001b[39;49m \u001b[39m1\u001b[39;49m\n\u001b[0;32m     <a href='vscode-notebook-cell:/c%3A/Users/elisa/Desktop/ADM/HW5/main_HW5.ipynb#Y304sZmlsZQ%3D%3D?line=11'>12</a>\u001b[0m       queue\u001b[39m.\u001b[39mappend(neighbor)\n\u001b[0;32m     <a href='vscode-notebook-cell:/c%3A/Users/elisa/Desktop/ADM/HW5/main_HW5.ipynb#Y304sZmlsZQ%3D%3D?line=13'>14</a>\u001b[0m \u001b[39m# Calcola la somma delle distanze di tutti i nodi dal nodo in questione\u001b[39;00m\n",
      "\u001b[1;31mKeyboardInterrupt\u001b[0m: "
     ]
    }
   ],
   "source": [
    "def avg_closeness_centrality(G2):\n",
    "  total_closeness = 0\n",
    "  for node in G2.nodes():\n",
    "    total_closeness += fun_closeness_centrality(G2, node)\n",
    "  return total_closeness / len(G2)\n",
    "\n",
    "print(\"Average of closeness centrality of G2: \", avg_closeness_centrality(G2))"
   ]
  },
  {
   "cell_type": "code",
   "execution_count": null,
   "id": "5f678c92",
   "metadata": {},
   "outputs": [],
   "source": [
    "# oppuree\n",
    "#def avg_closeness_centrality(G2, node):\n",
    "  #total_closeness = 0\n",
    "  #for n in G2.nodes():\n",
    "    #total_closeness += fun_closeness_centrality(G2, n)\n",
    "  #return total_closeness / len(G2)\n",
    "\n",
    "#data_closeness_G2 = {node: avg_closeness_centrality(G2, node) for node in G2.nodes()}\n",
    "#df_closeness_G2 = pd.DataFrame.from_dict(data_closeness_G2, orient='index', columns=['Average closeness centrality'])"
   ]
  },
  {
   "cell_type": "code",
   "execution_count": null,
   "id": "d10d49b2",
   "metadata": {},
   "outputs": [],
   "source": [
    "#create a table of average degree centrality for all nodes of G2\n",
    "data_degree_G2 = {node: avg_degree_centrality(degree_centrality_dict) for node in G2.nodes()}\n",
    "df_degree_G2 = pd.DataFrame.from_dict(data_degree_G2, orient='index', columns=['Average degree centrality'])\n",
    "#print the table of average degree centrality for all nodes of G2\n",
    "print(df_degree_G2)"
   ]
  },
  {
   "attachments": {},
   "cell_type": "markdown",
   "id": "cf41fbd1",
   "metadata": {},
   "source": [
    "- The requested centrality measure's value for the given node"
   ]
  },
  {
   "cell_type": "code",
   "execution_count": 340,
   "id": "c114e574",
   "metadata": {},
   "outputs": [
    {
     "ename": "ValueError",
     "evalue": "Misura di centralità non supportata",
     "output_type": "error",
     "traceback": [
      "\u001b[1;31m---------------------------------------------------------------------------\u001b[0m",
      "\u001b[1;31mValueError\u001b[0m                                Traceback (most recent call last)",
      "\u001b[1;32mc:\\Users\\elisa\\Desktop\\ADM\\HW5\\main_HW5.ipynb Cell 109\u001b[0m in \u001b[0;36m<cell line: 20>\u001b[1;34m()\u001b[0m\n\u001b[0;32m     <a href='vscode-notebook-cell:/c%3A/Users/elisa/Desktop/ADM/HW5/main_HW5.ipynb#Y202sZmlsZQ%3D%3D?line=16'>17</a>\u001b[0m   \u001b[39mreturn\u001b[39;00m df_centrality\n\u001b[0;32m     <a href='vscode-notebook-cell:/c%3A/Users/elisa/Desktop/ADM/HW5/main_HW5.ipynb#Y202sZmlsZQ%3D%3D?line=18'>19</a>\u001b[0m \u001b[39m# Example usage of the function\u001b[39;00m\n\u001b[1;32m---> <a href='vscode-notebook-cell:/c%3A/Users/elisa/Desktop/ADM/HW5/main_HW5.ipynb#Y202sZmlsZQ%3D%3D?line=19'>20</a>\u001b[0m df_centrality \u001b[39m=\u001b[39m fun_centrality_table(G2, node, measure)\n\u001b[0;32m     <a href='vscode-notebook-cell:/c%3A/Users/elisa/Desktop/ADM/HW5/main_HW5.ipynb#Y202sZmlsZQ%3D%3D?line=20'>21</a>\u001b[0m \u001b[39mprint\u001b[39m(df_centrality)\n",
      "\u001b[1;32mc:\\Users\\elisa\\Desktop\\ADM\\HW5\\main_HW5.ipynb Cell 109\u001b[0m in \u001b[0;36mfun_centrality_table\u001b[1;34m(G2, node, measure)\u001b[0m\n\u001b[0;32m     <a href='vscode-notebook-cell:/c%3A/Users/elisa/Desktop/ADM/HW5/main_HW5.ipynb#Y202sZmlsZQ%3D%3D?line=12'>13</a>\u001b[0m   centrality \u001b[39m=\u001b[39m fun_closeness_centrality(G2, node)\n\u001b[0;32m     <a href='vscode-notebook-cell:/c%3A/Users/elisa/Desktop/ADM/HW5/main_HW5.ipynb#Y202sZmlsZQ%3D%3D?line=13'>14</a>\u001b[0m \u001b[39melse\u001b[39;00m:\n\u001b[1;32m---> <a href='vscode-notebook-cell:/c%3A/Users/elisa/Desktop/ADM/HW5/main_HW5.ipynb#Y202sZmlsZQ%3D%3D?line=14'>15</a>\u001b[0m   \u001b[39mraise\u001b[39;00m \u001b[39mValueError\u001b[39;00m(\u001b[39m\"\u001b[39m\u001b[39mMisura di centralità non supportata\u001b[39m\u001b[39m\"\u001b[39m)\n\u001b[0;32m     <a href='vscode-notebook-cell:/c%3A/Users/elisa/Desktop/ADM/HW5/main_HW5.ipynb#Y202sZmlsZQ%3D%3D?line=15'>16</a>\u001b[0m df_centrality \u001b[39m=\u001b[39m pd\u001b[39m.\u001b[39mDataFrame(centrality, index\u001b[39m=\u001b[39m[\u001b[39m0\u001b[39m])\n\u001b[0;32m     <a href='vscode-notebook-cell:/c%3A/Users/elisa/Desktop/ADM/HW5/main_HW5.ipynb#Y202sZmlsZQ%3D%3D?line=16'>17</a>\u001b[0m \u001b[39mreturn\u001b[39;00m df_centrality\n",
      "\u001b[1;31mValueError\u001b[0m: Misura di centralità non supportata"
     ]
    }
   ],
   "source": [
    "def fun_centrality_table(G2, node, measure=\"betweenness\"):\n",
    "  if measure == \"betweenness\":\n",
    "    # Define the function fun_betweenness_centrality here\n",
    "    centrality = fun_betweenness_centrality(G2, node)\n",
    "  elif measure == \"pagerank\":\n",
    "    # Define the function fun_pagerank_centrality here\n",
    "    centrality = fun_pagerank_centrality(G2, node)\n",
    "  elif measure == \"degree\":\n",
    "    # Define the function fun_degree_centrality here\n",
    "    centrality = fun_degree_centrality(G2, node)\n",
    "  elif measure == \"closeness\":\n",
    "    # Calcola la centralità di prossimità del nodo\n",
    "    centrality = fun_closeness_centrality(G2, node)\n",
    "  else:\n",
    "    raise ValueError(\"Misura di centralità non supportata\")\n",
    "  df_centrality = pd.DataFrame(centrality, index=[0])\n",
    "  return df_centrality\n",
    "\n",
    "# Example usage of the function\n",
    "df_centrality = fun_centrality_table(G2, node, measure)\n",
    "print(df_centrality)\n",
    "\n"
   ]
  },
  {
   "cell_type": "code",
   "execution_count": 344,
   "id": "b740391a",
   "metadata": {},
   "outputs": [
    {
     "name": "stdout",
     "output_type": "stream",
     "text": [
      "Empty DataFrame\n",
      "Columns: [Degree centrality]\n",
      "Index: []\n"
     ]
    }
   ],
   "source": [
    "# Calculate the degree centrality for all nodes in the graph\n",
    "degree_centrality = {node: fun_degree_centrality(G2) for node in list(G2.nodes())[:10]}\n",
    "\n",
    "# Convert the degree centrality dictionary to a Pandas dataframe\n",
    "df_degree = pd.DataFrame.from_dict(degree_centrality, orient='index', columns=['Degree centrality'])\n",
    "\n",
    "# Display the table\n",
    "print(df_degree)"
   ]
  },
  {
   "cell_type": "code",
   "execution_count": null,
   "id": "b6737615",
   "metadata": {},
   "outputs": [],
   "source": [
    "# calculate just for the first 10 nodes\n",
    "closeness_centrality = {node: fun_closeness_centrality(G2, node) for node in list(G2.nodes())[:10]}\n",
    "# Convert the closeness centrality dictionary to a Pandas dataframe\n",
    "df_closeness = pd.DataFrame.from_dict(closeness_centrality, orient='index', columns=['Closeness centrality'])\n",
    "\n",
    "# Display the table\n",
    "print(df_closeness)"
   ]
  },
  {
   "cell_type": "code",
   "execution_count": 341,
   "id": "5425c71e",
   "metadata": {},
   "outputs": [
    {
     "ename": "TypeError",
     "evalue": "object of type 'function' has no len()",
     "output_type": "error",
     "traceback": [
      "\u001b[1;31m---------------------------------------------------------------------------\u001b[0m",
      "\u001b[1;31mTypeError\u001b[0m                                 Traceback (most recent call last)",
      "\u001b[1;32mc:\\Users\\elisa\\Desktop\\ADM\\HW5\\main_HW5.ipynb Cell 110\u001b[0m in \u001b[0;36m<cell line: 1>\u001b[1;34m()\u001b[0m\n\u001b[1;32m----> <a href='vscode-notebook-cell:/c%3A/Users/elisa/Desktop/ADM/HW5/main_HW5.ipynb#Y305sZmlsZQ%3D%3D?line=0'>1</a>\u001b[0m df_degree \u001b[39m=\u001b[39m pd\u001b[39m.\u001b[39;49mDataFrame\u001b[39m.\u001b[39;49mfrom_dict(fun_degree_centrality, orient\u001b[39m=\u001b[39;49m\u001b[39m'\u001b[39;49m\u001b[39mindex\u001b[39;49m\u001b[39m'\u001b[39;49m, columns\u001b[39m=\u001b[39;49m[\u001b[39m'\u001b[39;49m\u001b[39mDegree centrality\u001b[39;49m\u001b[39m'\u001b[39;49m])\n\u001b[0;32m      <a href='vscode-notebook-cell:/c%3A/Users/elisa/Desktop/ADM/HW5/main_HW5.ipynb#Y305sZmlsZQ%3D%3D?line=1'>2</a>\u001b[0m \u001b[39mprint\u001b[39m(df_degree)\n\u001b[0;32m      <a href='vscode-notebook-cell:/c%3A/Users/elisa/Desktop/ADM/HW5/main_HW5.ipynb#Y305sZmlsZQ%3D%3D?line=2'>3</a>\u001b[0m df_betweenness \u001b[39m=\u001b[39m pd\u001b[39m.\u001b[39mDataFrame\u001b[39m.\u001b[39mfrom_dict(fun_betweenness_centrality, orient\u001b[39m=\u001b[39m\u001b[39m'\u001b[39m\u001b[39mindex\u001b[39m\u001b[39m'\u001b[39m, columns\u001b[39m=\u001b[39m[\u001b[39m'\u001b[39m\u001b[39mBetweenness centrality\u001b[39m\u001b[39m'\u001b[39m])\n",
      "File \u001b[1;32mc:\\Users\\elisa\\anaconda3\\lib\\site-packages\\pandas\\core\\frame.py:1664\u001b[0m, in \u001b[0;36mDataFrame.from_dict\u001b[1;34m(cls, data, orient, dtype, columns)\u001b[0m\n\u001b[0;32m   1662\u001b[0m orient \u001b[39m=\u001b[39m orient\u001b[39m.\u001b[39mlower()\n\u001b[0;32m   1663\u001b[0m \u001b[39mif\u001b[39;00m orient \u001b[39m==\u001b[39m \u001b[39m\"\u001b[39m\u001b[39mindex\u001b[39m\u001b[39m\"\u001b[39m:\n\u001b[1;32m-> 1664\u001b[0m     \u001b[39mif\u001b[39;00m \u001b[39mlen\u001b[39;49m(data) \u001b[39m>\u001b[39m \u001b[39m0\u001b[39m:\n\u001b[0;32m   1665\u001b[0m         \u001b[39m# TODO speed up Series case\u001b[39;00m\n\u001b[0;32m   1666\u001b[0m         \u001b[39mif\u001b[39;00m \u001b[39misinstance\u001b[39m(\u001b[39mlist\u001b[39m(data\u001b[39m.\u001b[39mvalues())[\u001b[39m0\u001b[39m], (Series, \u001b[39mdict\u001b[39m)):\n\u001b[0;32m   1667\u001b[0m             data \u001b[39m=\u001b[39m _from_nested_dict(data)\n",
      "\u001b[1;31mTypeError\u001b[0m: object of type 'function' has no len()"
     ]
    }
   ],
   "source": [
    "df_betweenness = pd.DataFrame.from_dict(fun_betweenness_centrality, orient='index', columns=['Betweenness centrality'])\n",
    "print(df_betweenness)\n",
    "df_pagerank = pd.DataFrame.from_dict(fun_pagerank_centrality, orient='index', columns=['Pagerank centrality'])\n",
    "print(df_pagerank)\n",
    "df_closeness = pd.DataFrame.from_dict(fun_closeness_centrality, orient='index', columns=['Closeness centrality'])\n",
    "print(df_closeness)"
   ]
  }
 ],
 "metadata": {
  "kernelspec": {
   "display_name": "Python 3",
   "language": "python",
   "name": "python3"
  },
  "language_info": {
   "codemirror_mode": {
    "name": "ipython",
    "version": 3
   },
   "file_extension": ".py",
   "mimetype": "text/x-python",
   "name": "python",
   "nbconvert_exporter": "python",
   "pygments_lexer": "ipython3",
   "version": "3.9.12"
  },
  "vscode": {
   "interpreter": {
    "hash": "7ad5f07e47999a310a3dbc65802d3b3fe2a48b9a4836e8b2abc370029f0364e6"
   }
  }
 },
 "nbformat": 4,
 "nbformat_minor": 5
}
