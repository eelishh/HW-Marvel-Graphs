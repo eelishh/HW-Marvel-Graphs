{
 "cells": [
  {
   "cell_type": "code",
   "execution_count": 1,
   "id": "f9753d1d",
   "metadata": {},
   "outputs": [],
   "source": [
    "import pandas as pd\n",
    "import matplotlib.pyplot as plt\n",
    "import networkx as nx\n",
    "import seaborn as sns\n",
    "import numpy as np\n",
    "import matplotlib.pyplot as plt"
   ]
  },
  {
   "cell_type": "code",
   "execution_count": 3,
   "id": "9923f12d",
   "metadata": {},
   "outputs": [],
   "source": [
    "#  pip install --upgrade scipy networkx"
   ]
  },
  {
   "attachments": {},
   "cell_type": "markdown",
   "id": "23e0c101",
   "metadata": {},
   "source": [
    "# 1. Data"
   ]
  },
  {
   "cell_type": "code",
   "execution_count": 2,
   "id": "210259fd",
   "metadata": {},
   "outputs": [],
   "source": [
    "df_hero_net = pd.read_csv(r\"hero-network.csv\")\n",
    "df_edges = pd.read_csv(r\"edges.csv\")\n",
    "df_nodes = pd.read_csv(r\"nodes.csv\")"
   ]
  },
  {
   "cell_type": "code",
   "execution_count": 3,
   "id": "75c455c0",
   "metadata": {},
   "outputs": [
    {
     "data": {
      "text/html": [
       "<div>\n",
       "<style scoped>\n",
       "    .dataframe tbody tr th:only-of-type {\n",
       "        vertical-align: middle;\n",
       "    }\n",
       "\n",
       "    .dataframe tbody tr th {\n",
       "        vertical-align: top;\n",
       "    }\n",
       "\n",
       "    .dataframe thead th {\n",
       "        text-align: right;\n",
       "    }\n",
       "</style>\n",
       "<table border=\"1\" class=\"dataframe\">\n",
       "  <thead>\n",
       "    <tr style=\"text-align: right;\">\n",
       "      <th></th>\n",
       "      <th>hero1</th>\n",
       "      <th>hero2</th>\n",
       "    </tr>\n",
       "  </thead>\n",
       "  <tbody>\n",
       "    <tr>\n",
       "      <th>0</th>\n",
       "      <td>LITTLE, ABNER</td>\n",
       "      <td>PRINCESS ZANDA</td>\n",
       "    </tr>\n",
       "    <tr>\n",
       "      <th>1</th>\n",
       "      <td>LITTLE, ABNER</td>\n",
       "      <td>BLACK PANTHER/T'CHAL</td>\n",
       "    </tr>\n",
       "    <tr>\n",
       "      <th>2</th>\n",
       "      <td>BLACK PANTHER/T'CHAL</td>\n",
       "      <td>PRINCESS ZANDA</td>\n",
       "    </tr>\n",
       "    <tr>\n",
       "      <th>3</th>\n",
       "      <td>LITTLE, ABNER</td>\n",
       "      <td>PRINCESS ZANDA</td>\n",
       "    </tr>\n",
       "    <tr>\n",
       "      <th>4</th>\n",
       "      <td>LITTLE, ABNER</td>\n",
       "      <td>BLACK PANTHER/T'CHAL</td>\n",
       "    </tr>\n",
       "    <tr>\n",
       "      <th>...</th>\n",
       "      <td>...</td>\n",
       "      <td>...</td>\n",
       "    </tr>\n",
       "    <tr>\n",
       "      <th>574462</th>\n",
       "      <td>COLOSSUS II/PETER RA</td>\n",
       "      <td>CALLISTO</td>\n",
       "    </tr>\n",
       "    <tr>\n",
       "      <th>574463</th>\n",
       "      <td>CALLISTO</td>\n",
       "      <td>ROGUE /</td>\n",
       "    </tr>\n",
       "    <tr>\n",
       "      <th>574464</th>\n",
       "      <td>CALLISTO</td>\n",
       "      <td>CALIBAN/</td>\n",
       "    </tr>\n",
       "    <tr>\n",
       "      <th>574465</th>\n",
       "      <td>CALIBAN/</td>\n",
       "      <td>ROGUE /</td>\n",
       "    </tr>\n",
       "    <tr>\n",
       "      <th>574466</th>\n",
       "      <td>HULK/DR. ROBERT BRUC</td>\n",
       "      <td>MARKS, DR. SHIELA</td>\n",
       "    </tr>\n",
       "  </tbody>\n",
       "</table>\n",
       "<p>574467 rows × 2 columns</p>\n",
       "</div>"
      ],
      "text/plain": [
       "                       hero1                 hero2\n",
       "0              LITTLE, ABNER        PRINCESS ZANDA\n",
       "1              LITTLE, ABNER  BLACK PANTHER/T'CHAL\n",
       "2       BLACK PANTHER/T'CHAL        PRINCESS ZANDA\n",
       "3              LITTLE, ABNER        PRINCESS ZANDA\n",
       "4              LITTLE, ABNER  BLACK PANTHER/T'CHAL\n",
       "...                      ...                   ...\n",
       "574462  COLOSSUS II/PETER RA              CALLISTO\n",
       "574463              CALLISTO               ROGUE /\n",
       "574464              CALLISTO              CALIBAN/\n",
       "574465              CALIBAN/               ROGUE /\n",
       "574466  HULK/DR. ROBERT BRUC     MARKS, DR. SHIELA\n",
       "\n",
       "[574467 rows x 2 columns]"
      ]
     },
     "execution_count": 3,
     "metadata": {},
     "output_type": "execute_result"
    }
   ],
   "source": [
    "df_hero_net"
   ]
  },
  {
   "cell_type": "code",
   "execution_count": 4,
   "id": "d34d11db",
   "metadata": {},
   "outputs": [
    {
     "data": {
      "text/html": [
       "<div>\n",
       "<style scoped>\n",
       "    .dataframe tbody tr th:only-of-type {\n",
       "        vertical-align: middle;\n",
       "    }\n",
       "\n",
       "    .dataframe tbody tr th {\n",
       "        vertical-align: top;\n",
       "    }\n",
       "\n",
       "    .dataframe thead th {\n",
       "        text-align: right;\n",
       "    }\n",
       "</style>\n",
       "<table border=\"1\" class=\"dataframe\">\n",
       "  <thead>\n",
       "    <tr style=\"text-align: right;\">\n",
       "      <th></th>\n",
       "      <th>hero</th>\n",
       "      <th>comic</th>\n",
       "    </tr>\n",
       "  </thead>\n",
       "  <tbody>\n",
       "    <tr>\n",
       "      <th>0</th>\n",
       "      <td>24-HOUR MAN/EMMANUEL</td>\n",
       "      <td>AA2 35</td>\n",
       "    </tr>\n",
       "    <tr>\n",
       "      <th>1</th>\n",
       "      <td>3-D MAN/CHARLES CHAN</td>\n",
       "      <td>AVF 4</td>\n",
       "    </tr>\n",
       "    <tr>\n",
       "      <th>2</th>\n",
       "      <td>3-D MAN/CHARLES CHAN</td>\n",
       "      <td>AVF 5</td>\n",
       "    </tr>\n",
       "    <tr>\n",
       "      <th>3</th>\n",
       "      <td>3-D MAN/CHARLES CHAN</td>\n",
       "      <td>COC 1</td>\n",
       "    </tr>\n",
       "    <tr>\n",
       "      <th>4</th>\n",
       "      <td>3-D MAN/CHARLES CHAN</td>\n",
       "      <td>H2 251</td>\n",
       "    </tr>\n",
       "    <tr>\n",
       "      <th>...</th>\n",
       "      <td>...</td>\n",
       "      <td>...</td>\n",
       "    </tr>\n",
       "    <tr>\n",
       "      <th>96099</th>\n",
       "      <td>ZZZAX</td>\n",
       "      <td>H2 326</td>\n",
       "    </tr>\n",
       "    <tr>\n",
       "      <th>96100</th>\n",
       "      <td>ZZZAX</td>\n",
       "      <td>H2 327</td>\n",
       "    </tr>\n",
       "    <tr>\n",
       "      <th>96101</th>\n",
       "      <td>ZZZAX</td>\n",
       "      <td>M/CP 8/4</td>\n",
       "    </tr>\n",
       "    <tr>\n",
       "      <th>96102</th>\n",
       "      <td>ZZZAX</td>\n",
       "      <td>PM 47</td>\n",
       "    </tr>\n",
       "    <tr>\n",
       "      <th>96103</th>\n",
       "      <td>ZZZAX</td>\n",
       "      <td>WCA2 12</td>\n",
       "    </tr>\n",
       "  </tbody>\n",
       "</table>\n",
       "<p>96104 rows × 2 columns</p>\n",
       "</div>"
      ],
      "text/plain": [
       "                       hero     comic\n",
       "0      24-HOUR MAN/EMMANUEL    AA2 35\n",
       "1      3-D MAN/CHARLES CHAN     AVF 4\n",
       "2      3-D MAN/CHARLES CHAN     AVF 5\n",
       "3      3-D MAN/CHARLES CHAN     COC 1\n",
       "4      3-D MAN/CHARLES CHAN    H2 251\n",
       "...                     ...       ...\n",
       "96099                 ZZZAX    H2 326\n",
       "96100                 ZZZAX    H2 327\n",
       "96101                 ZZZAX  M/CP 8/4\n",
       "96102                 ZZZAX     PM 47\n",
       "96103                 ZZZAX   WCA2 12\n",
       "\n",
       "[96104 rows x 2 columns]"
      ]
     },
     "execution_count": 4,
     "metadata": {},
     "output_type": "execute_result"
    }
   ],
   "source": [
    "df_edges"
   ]
  },
  {
   "cell_type": "code",
   "execution_count": 5,
   "id": "1ee31932",
   "metadata": {},
   "outputs": [
    {
     "data": {
      "text/html": [
       "<div>\n",
       "<style scoped>\n",
       "    .dataframe tbody tr th:only-of-type {\n",
       "        vertical-align: middle;\n",
       "    }\n",
       "\n",
       "    .dataframe tbody tr th {\n",
       "        vertical-align: top;\n",
       "    }\n",
       "\n",
       "    .dataframe thead th {\n",
       "        text-align: right;\n",
       "    }\n",
       "</style>\n",
       "<table border=\"1\" class=\"dataframe\">\n",
       "  <thead>\n",
       "    <tr style=\"text-align: right;\">\n",
       "      <th></th>\n",
       "      <th>node</th>\n",
       "      <th>type</th>\n",
       "    </tr>\n",
       "  </thead>\n",
       "  <tbody>\n",
       "    <tr>\n",
       "      <th>0</th>\n",
       "      <td>2001 10</td>\n",
       "      <td>comic</td>\n",
       "    </tr>\n",
       "    <tr>\n",
       "      <th>1</th>\n",
       "      <td>2001 8</td>\n",
       "      <td>comic</td>\n",
       "    </tr>\n",
       "    <tr>\n",
       "      <th>2</th>\n",
       "      <td>2001 9</td>\n",
       "      <td>comic</td>\n",
       "    </tr>\n",
       "    <tr>\n",
       "      <th>3</th>\n",
       "      <td>24-HOUR MAN/EMMANUEL</td>\n",
       "      <td>hero</td>\n",
       "    </tr>\n",
       "    <tr>\n",
       "      <th>4</th>\n",
       "      <td>3-D MAN/CHARLES CHAN</td>\n",
       "      <td>hero</td>\n",
       "    </tr>\n",
       "    <tr>\n",
       "      <th>...</th>\n",
       "      <td>...</td>\n",
       "      <td>...</td>\n",
       "    </tr>\n",
       "    <tr>\n",
       "      <th>19085</th>\n",
       "      <td>ZOTA, CARLO</td>\n",
       "      <td>hero</td>\n",
       "    </tr>\n",
       "    <tr>\n",
       "      <th>19086</th>\n",
       "      <td>ZOTA</td>\n",
       "      <td>hero</td>\n",
       "    </tr>\n",
       "    <tr>\n",
       "      <th>19087</th>\n",
       "      <td>ZURAS</td>\n",
       "      <td>hero</td>\n",
       "    </tr>\n",
       "    <tr>\n",
       "      <th>19088</th>\n",
       "      <td>ZURI</td>\n",
       "      <td>hero</td>\n",
       "    </tr>\n",
       "    <tr>\n",
       "      <th>19089</th>\n",
       "      <td>ZZZAX</td>\n",
       "      <td>hero</td>\n",
       "    </tr>\n",
       "  </tbody>\n",
       "</table>\n",
       "<p>19090 rows × 2 columns</p>\n",
       "</div>"
      ],
      "text/plain": [
       "                       node   type\n",
       "0                   2001 10  comic\n",
       "1                    2001 8  comic\n",
       "2                    2001 9  comic\n",
       "3      24-HOUR MAN/EMMANUEL   hero\n",
       "4      3-D MAN/CHARLES CHAN   hero\n",
       "...                     ...    ...\n",
       "19085           ZOTA, CARLO   hero\n",
       "19086                  ZOTA   hero\n",
       "19087                 ZURAS   hero\n",
       "19088                  ZURI   hero\n",
       "19089                 ZZZAX   hero\n",
       "\n",
       "[19090 rows x 2 columns]"
      ]
     },
     "execution_count": 5,
     "metadata": {},
     "output_type": "execute_result"
    }
   ],
   "source": [
    "df_nodes"
   ]
  },
  {
   "cell_type": "code",
   "execution_count": 6,
   "id": "76833f69",
   "metadata": {},
   "outputs": [
    {
     "data": {
      "text/plain": [
       "(19090, 2)"
      ]
     },
     "execution_count": 6,
     "metadata": {},
     "output_type": "execute_result"
    }
   ],
   "source": [
    "df_nodes.shape"
   ]
  },
  {
   "cell_type": "code",
   "execution_count": 7,
   "id": "9544a60e",
   "metadata": {},
   "outputs": [
    {
     "name": "stdout",
     "output_type": "stream",
     "text": [
      "node    12651\n",
      "type    12651\n",
      "dtype: int64 node    6439\n",
      "type    6439\n",
      "dtype: int64\n"
     ]
    }
   ],
   "source": [
    "n_comics = df_nodes[df_nodes.type == 'comic'].count()\n",
    "n_heros = df_nodes[df_nodes.type == 'hero'].count()\n",
    "print(n_comics, n_heros)"
   ]
  },
  {
   "attachments": {},
   "cell_type": "markdown",
   "id": "a8d182a6",
   "metadata": {},
   "source": [
    "## 1.1 Pre-processing "
   ]
  },
  {
   "cell_type": "code",
   "execution_count": 8,
   "id": "de9b3b43",
   "metadata": {},
   "outputs": [],
   "source": [
    "df_hero_net[\"hero1\"] = df_hero_net[\"hero1\"].apply(lambda x: x[0:-1] if list(x)[-1] in [' ', '/'] else x)\n",
    "df_hero_net[\"hero2\"] = df_hero_net[\"hero2\"].apply(lambda x: x[0:-1] if list(x)[-1] in [' ', '/'] else x)"
   ]
  },
  {
   "cell_type": "code",
   "execution_count": 9,
   "id": "d1356100",
   "metadata": {},
   "outputs": [
    {
     "data": {
      "text/html": [
       "<div>\n",
       "<style scoped>\n",
       "    .dataframe tbody tr th:only-of-type {\n",
       "        vertical-align: middle;\n",
       "    }\n",
       "\n",
       "    .dataframe tbody tr th {\n",
       "        vertical-align: top;\n",
       "    }\n",
       "\n",
       "    .dataframe thead th {\n",
       "        text-align: right;\n",
       "    }\n",
       "</style>\n",
       "<table border=\"1\" class=\"dataframe\">\n",
       "  <thead>\n",
       "    <tr style=\"text-align: right;\">\n",
       "      <th></th>\n",
       "      <th>hero1</th>\n",
       "      <th>hero2</th>\n",
       "    </tr>\n",
       "  </thead>\n",
       "  <tbody>\n",
       "    <tr>\n",
       "      <th>0</th>\n",
       "      <td>LITTLE, ABNER</td>\n",
       "      <td>PRINCESS ZANDA</td>\n",
       "    </tr>\n",
       "    <tr>\n",
       "      <th>1</th>\n",
       "      <td>LITTLE, ABNER</td>\n",
       "      <td>BLACK PANTHER/T'CHAL</td>\n",
       "    </tr>\n",
       "    <tr>\n",
       "      <th>2</th>\n",
       "      <td>BLACK PANTHER/T'CHAL</td>\n",
       "      <td>PRINCESS ZANDA</td>\n",
       "    </tr>\n",
       "    <tr>\n",
       "      <th>3</th>\n",
       "      <td>LITTLE, ABNER</td>\n",
       "      <td>PRINCESS ZANDA</td>\n",
       "    </tr>\n",
       "    <tr>\n",
       "      <th>4</th>\n",
       "      <td>LITTLE, ABNER</td>\n",
       "      <td>BLACK PANTHER/T'CHAL</td>\n",
       "    </tr>\n",
       "    <tr>\n",
       "      <th>...</th>\n",
       "      <td>...</td>\n",
       "      <td>...</td>\n",
       "    </tr>\n",
       "    <tr>\n",
       "      <th>574462</th>\n",
       "      <td>COLOSSUS II/PETER RA</td>\n",
       "      <td>CALLISTO</td>\n",
       "    </tr>\n",
       "    <tr>\n",
       "      <th>574463</th>\n",
       "      <td>CALLISTO</td>\n",
       "      <td>ROGUE</td>\n",
       "    </tr>\n",
       "    <tr>\n",
       "      <th>574464</th>\n",
       "      <td>CALLISTO</td>\n",
       "      <td>CALIBAN</td>\n",
       "    </tr>\n",
       "    <tr>\n",
       "      <th>574465</th>\n",
       "      <td>CALIBAN</td>\n",
       "      <td>ROGUE</td>\n",
       "    </tr>\n",
       "    <tr>\n",
       "      <th>574466</th>\n",
       "      <td>HULK/DR. ROBERT BRUC</td>\n",
       "      <td>MARKS, DR. SHIELA</td>\n",
       "    </tr>\n",
       "  </tbody>\n",
       "</table>\n",
       "<p>574467 rows × 2 columns</p>\n",
       "</div>"
      ],
      "text/plain": [
       "                       hero1                 hero2\n",
       "0              LITTLE, ABNER        PRINCESS ZANDA\n",
       "1              LITTLE, ABNER  BLACK PANTHER/T'CHAL\n",
       "2       BLACK PANTHER/T'CHAL        PRINCESS ZANDA\n",
       "3              LITTLE, ABNER        PRINCESS ZANDA\n",
       "4              LITTLE, ABNER  BLACK PANTHER/T'CHAL\n",
       "...                      ...                   ...\n",
       "574462  COLOSSUS II/PETER RA              CALLISTO\n",
       "574463              CALLISTO                ROGUE \n",
       "574464              CALLISTO               CALIBAN\n",
       "574465               CALIBAN                ROGUE \n",
       "574466  HULK/DR. ROBERT BRUC     MARKS, DR. SHIELA\n",
       "\n",
       "[574467 rows x 2 columns]"
      ]
     },
     "execution_count": 9,
     "metadata": {},
     "output_type": "execute_result"
    }
   ],
   "source": [
    "df_hero_net"
   ]
  },
  {
   "cell_type": "code",
   "execution_count": 10,
   "id": "ff17380a",
   "metadata": {},
   "outputs": [],
   "source": [
    "df_edges[\"hero\"] = df_edges[\"hero\"].apply(lambda x: x[0:-1] if list(x)[-1] in [' ', '/'] else x)"
   ]
  },
  {
   "cell_type": "code",
   "execution_count": 11,
   "id": "654655c5",
   "metadata": {},
   "outputs": [
    {
     "data": {
      "text/plain": [
       "{'SPIDER-MAN/PETER PAR'}"
      ]
     },
     "execution_count": 11,
     "metadata": {},
     "output_type": "execute_result"
    }
   ],
   "source": [
    "hero = set(df_edges.hero)\n",
    "hero_union = set(df_hero_net.hero1).union(set(df_hero_net.hero2))\n",
    "\n",
    "diff = hero_union - hero.intersection(hero_union)\n",
    "diff"
   ]
  },
  {
   "cell_type": "code",
   "execution_count": 12,
   "id": "885ca78c",
   "metadata": {},
   "outputs": [],
   "source": [
    "def jaccard_similarity(setA, setB):\n",
    "    ''' \n",
    "    This function simply computes the Jaccard similarity from its definition.\n",
    "    '''\n",
    "    return len(set(setA).intersection(setB))/len(set(setA).union(setB))"
   ]
  },
  {
   "cell_type": "code",
   "execution_count": 13,
   "id": "1f6c246a",
   "metadata": {},
   "outputs": [
    {
     "data": {
      "text/html": [
       "<div>\n",
       "<style scoped>\n",
       "    .dataframe tbody tr th:only-of-type {\n",
       "        vertical-align: middle;\n",
       "    }\n",
       "\n",
       "    .dataframe tbody tr th {\n",
       "        vertical-align: top;\n",
       "    }\n",
       "\n",
       "    .dataframe thead th {\n",
       "        text-align: right;\n",
       "    }\n",
       "</style>\n",
       "<table border=\"1\" class=\"dataframe\">\n",
       "  <thead>\n",
       "    <tr style=\"text-align: right;\">\n",
       "      <th></th>\n",
       "      <th>hero1</th>\n",
       "      <th>hero2</th>\n",
       "    </tr>\n",
       "  </thead>\n",
       "  <tbody>\n",
       "    <tr>\n",
       "      <th>0</th>\n",
       "      <td>LITTLE, ABNER</td>\n",
       "      <td>PRINCESS ZANDA</td>\n",
       "    </tr>\n",
       "    <tr>\n",
       "      <th>1</th>\n",
       "      <td>LITTLE, ABNER</td>\n",
       "      <td>BLACK PANTHER/T'CHAL</td>\n",
       "    </tr>\n",
       "    <tr>\n",
       "      <th>2</th>\n",
       "      <td>BLACK PANTHER/T'CHAL</td>\n",
       "      <td>PRINCESS ZANDA</td>\n",
       "    </tr>\n",
       "    <tr>\n",
       "      <th>3</th>\n",
       "      <td>LITTLE, ABNER</td>\n",
       "      <td>PRINCESS ZANDA</td>\n",
       "    </tr>\n",
       "    <tr>\n",
       "      <th>4</th>\n",
       "      <td>LITTLE, ABNER</td>\n",
       "      <td>BLACK PANTHER/T'CHAL</td>\n",
       "    </tr>\n",
       "    <tr>\n",
       "      <th>...</th>\n",
       "      <td>...</td>\n",
       "      <td>...</td>\n",
       "    </tr>\n",
       "    <tr>\n",
       "      <th>574462</th>\n",
       "      <td>COLOSSUS II/PETER RA</td>\n",
       "      <td>CALLISTO</td>\n",
       "    </tr>\n",
       "    <tr>\n",
       "      <th>574463</th>\n",
       "      <td>CALLISTO</td>\n",
       "      <td>ROGUE</td>\n",
       "    </tr>\n",
       "    <tr>\n",
       "      <th>574464</th>\n",
       "      <td>CALLISTO</td>\n",
       "      <td>CALIBAN</td>\n",
       "    </tr>\n",
       "    <tr>\n",
       "      <th>574465</th>\n",
       "      <td>CALIBAN</td>\n",
       "      <td>ROGUE</td>\n",
       "    </tr>\n",
       "    <tr>\n",
       "      <th>574466</th>\n",
       "      <td>HULK/DR. ROBERT BRUC</td>\n",
       "      <td>MARKS, DR. SHIELA</td>\n",
       "    </tr>\n",
       "  </tbody>\n",
       "</table>\n",
       "<p>574467 rows × 2 columns</p>\n",
       "</div>"
      ],
      "text/plain": [
       "                       hero1                 hero2\n",
       "0              LITTLE, ABNER        PRINCESS ZANDA\n",
       "1              LITTLE, ABNER  BLACK PANTHER/T'CHAL\n",
       "2       BLACK PANTHER/T'CHAL        PRINCESS ZANDA\n",
       "3              LITTLE, ABNER        PRINCESS ZANDA\n",
       "4              LITTLE, ABNER  BLACK PANTHER/T'CHAL\n",
       "...                      ...                   ...\n",
       "574462  COLOSSUS II/PETER RA              CALLISTO\n",
       "574463              CALLISTO                ROGUE \n",
       "574464              CALLISTO               CALIBAN\n",
       "574465               CALIBAN                ROGUE \n",
       "574466  HULK/DR. ROBERT BRUC     MARKS, DR. SHIELA\n",
       "\n",
       "[574467 rows x 2 columns]"
      ]
     },
     "execution_count": 13,
     "metadata": {},
     "output_type": "execute_result"
    }
   ],
   "source": [
    "for hero in set(df_edges.hero):\n",
    "    for elem in diff:\n",
    "        sim = jaccard_similarity(set(elem), set(hero))\n",
    "        if sim >= 0.5:\n",
    "            df_hero_net = df_hero_net.replace(elem, hero)\n",
    "\n",
    "df_hero_net"
   ]
  },
  {
   "cell_type": "code",
   "execution_count": 14,
   "id": "f4eef9e3",
   "metadata": {},
   "outputs": [
    {
     "data": {
      "text/plain": [
       "set()"
      ]
     },
     "execution_count": 14,
     "metadata": {},
     "output_type": "execute_result"
    }
   ],
   "source": [
    "# test\n",
    "hero = set(df_edges.hero)\n",
    "hero_union = set(df_hero_net.hero1).union(set(df_hero_net.hero2))\n",
    "\n",
    "diff = hero_union - hero.intersection(hero_union)\n",
    "diff"
   ]
  },
  {
   "cell_type": "code",
   "execution_count": 15,
   "id": "596f8716",
   "metadata": {},
   "outputs": [
    {
     "name": "stdout",
     "output_type": "stream",
     "text": [
      "6420 6420\n"
     ]
    }
   ],
   "source": [
    "print(len(hero_union), len(hero.intersection(hero_union))) # all heroes' names in 'hero-network.csv' are now found in 'edges.csv'"
   ]
  },
  {
   "attachments": {},
   "cell_type": "markdown",
   "id": "09ece32c",
   "metadata": {},
   "source": [
    "## 1.2 First graph"
   ]
  },
  {
   "cell_type": "code",
   "execution_count": 16,
   "id": "469f1d53",
   "metadata": {},
   "outputs": [],
   "source": [
    "G1 = nx.MultiGraph()"
   ]
  },
  {
   "cell_type": "code",
   "execution_count": 17,
   "id": "9a6546a3",
   "metadata": {
    "scrolled": true
   },
   "outputs": [
    {
     "data": {
      "text/plain": [
       "0          0\n",
       "1          0\n",
       "2          0\n",
       "3          1\n",
       "4          1\n",
       "          ..\n",
       "574462    27\n",
       "574463    22\n",
       "574464     8\n",
       "574465    11\n",
       "574466     1\n",
       "Length: 574467, dtype: int64"
      ]
     },
     "execution_count": 17,
     "metadata": {},
     "output_type": "execute_result"
    }
   ],
   "source": [
    "df_hero_net.apply(lambda row: G1.add_edge(row['hero1'], row['hero2']), axis=1)"
   ]
  },
  {
   "cell_type": "code",
   "execution_count": 18,
   "id": "92dab3da",
   "metadata": {},
   "outputs": [],
   "source": [
    "#drop sefl-loops\n",
    "G1.remove_edges_from(nx.selfloop_edges(G1))"
   ]
  },
  {
   "cell_type": "code",
   "execution_count": 19,
   "id": "e54a8d9e",
   "metadata": {},
   "outputs": [
    {
     "data": {
      "text/plain": [
       "[('LITTLE, ABNER', 'PRINCESS ZANDA'),\n",
       " ('LITTLE, ABNER', 'PRINCESS ZANDA'),\n",
       " ('LITTLE, ABNER', 'PRINCESS ZANDA'),\n",
       " ('LITTLE, ABNER', 'PRINCESS ZANDA'),\n",
       " ('LITTLE, ABNER', 'PRINCESS ZANDA'),\n",
       " ('LITTLE, ABNER', 'PRINCESS ZANDA'),\n",
       " ('LITTLE, ABNER', 'PRINCESS ZANDA'),\n",
       " ('LITTLE, ABNER', 'PRINCESS ZANDA'),\n",
       " ('LITTLE, ABNER', \"BLACK PANTHER/T'CHAL\"),\n",
       " ('LITTLE, ABNER', \"BLACK PANTHER/T'CHAL\")]"
      ]
     },
     "execution_count": 19,
     "metadata": {},
     "output_type": "execute_result"
    }
   ],
   "source": [
    "list(G1.edges())[:10]"
   ]
  },
  {
   "cell_type": "code",
   "execution_count": 20,
   "id": "55727861",
   "metadata": {},
   "outputs": [],
   "source": [
    "dicOfOccurances = {}\n",
    "for h1,h2 in df_hero_net.to_numpy():\n",
    "    if h1 != h2:\n",
    "        if (h1,h2) in dicOfOccurances:\n",
    "            dicOfOccurances[(h1,h2)] += 1\n",
    "        else:\n",
    "            dicOfOccurances[(h1,h2)] = 1"
   ]
  },
  {
   "cell_type": "code",
   "execution_count": 21,
   "id": "dfdbd7d0",
   "metadata": {},
   "outputs": [],
   "source": [
    "G1_weighted = nx.MultiGraph()"
   ]
  },
  {
   "cell_type": "code",
   "execution_count": 22,
   "id": "50a90719",
   "metadata": {},
   "outputs": [],
   "source": [
    "i = 0\n",
    "for edge in list(G1.edges()):\n",
    "    try:\n",
    "        G1_weighted.add_edge(edge[0], edge[1], weight = 1/dicOfOccurances[edge])\n",
    "    except:\n",
    "        G1_weighted.add_edge(edge[0], edge[1], weight = 1/dicOfOccurances[(edge[1], edge[0])])\n"
   ]
  },
  {
   "cell_type": "code",
   "execution_count": 23,
   "id": "7f71840c",
   "metadata": {},
   "outputs": [
    {
     "name": "stdout",
     "output_type": "stream",
     "text": [
      "(('LITTLE, ABNER', 'PRINCESS ZANDA', 0), 0.2)\n",
      "(('LITTLE, ABNER', 'PRINCESS ZANDA', 1), 0.2)\n",
      "(('LITTLE, ABNER', 'PRINCESS ZANDA', 2), 0.2)\n",
      "(('LITTLE, ABNER', 'PRINCESS ZANDA', 3), 0.2)\n",
      "(('LITTLE, ABNER', 'PRINCESS ZANDA', 4), 0.2)\n",
      "(('LITTLE, ABNER', 'PRINCESS ZANDA', 5), 0.2)\n",
      "(('LITTLE, ABNER', 'PRINCESS ZANDA', 6), 0.2)\n",
      "(('LITTLE, ABNER', 'PRINCESS ZANDA', 7), 0.2)\n",
      "(('LITTLE, ABNER', \"BLACK PANTHER/T'CHAL\", 0), 0.25)\n",
      "(('LITTLE, ABNER', \"BLACK PANTHER/T'CHAL\", 1), 0.25)\n",
      "(('LITTLE, ABNER', \"BLACK PANTHER/T'CHAL\", 2), 0.25)\n",
      "(('LITTLE, ABNER', \"BLACK PANTHER/T'CHAL\", 3), 0.25)\n",
      "(('LITTLE, ABNER', \"BLACK PANTHER/T'CHAL\", 4), 0.25)\n",
      "(('LITTLE, ABNER', \"BLACK PANTHER/T'CHAL\", 5), 0.25)\n",
      "(('LITTLE, ABNER', \"BLACK PANTHER/T'CHAL\", 6), 0.25)\n",
      "(('LITTLE, ABNER', 'CARNIVORE/COUNT ANDR', 0), 0.3333333333333333)\n",
      "(('LITTLE, ABNER', 'CARNIVORE/COUNT ANDR', 1), 0.3333333333333333)\n",
      "(('LITTLE, ABNER', 'CARNIVORE/COUNT ANDR', 2), 0.3333333333333333)\n",
      "(('LITTLE, ABNER', 'CARNIVORE/COUNT ANDR', 3), 0.3333333333333333)\n",
      "(('LITTLE, ABNER', 'CARNIVORE/COUNT ANDR', 4), 0.3333333333333333)\n"
     ]
    }
   ],
   "source": [
    "edges, weights = zip(*nx.get_edge_attributes(G1_weighted, 'weight').items())\n",
    "for i in range(20):\n",
    "    print((edges[i], weights[i]))"
   ]
  },
  {
   "cell_type": "code",
   "execution_count": 26,
   "id": "5268b881",
   "metadata": {},
   "outputs": [],
   "source": [
    "G1_weighted2 = nx.Graph(G1_weighted)"
   ]
  },
  {
   "cell_type": "code",
   "execution_count": 27,
   "id": "ff1cf22b",
   "metadata": {},
   "outputs": [
    {
     "name": "stdout",
     "output_type": "stream",
     "text": [
      "(('LITTLE, ABNER', 'PRINCESS ZANDA'), 0.2)\n",
      "(('LITTLE, ABNER', \"BLACK PANTHER/T'CHAL\"), 0.25)\n",
      "(('LITTLE, ABNER', 'CARNIVORE/COUNT ANDR'), 0.3333333333333333)\n",
      "(('LITTLE, ABNER', 'IRON MAN/TONY STARK'), 1.0)\n",
      "(('LITTLE, ABNER', 'GOLDEN-BLADE'), 1.0)\n",
      "(('LITTLE, ABNER', 'DIXON, GENERAL'), 1.0)\n",
      "(('LITTLE, ABNER', 'IRON MAN IV/JAMES R.'), 1.0)\n",
      "(('LITTLE, ABNER', 'JOCASTA'), 1.0)\n",
      "(('LITTLE, ABNER', 'FUJIKAWA, RUMIKO'), 1.0)\n",
      "(('LITTLE, ABNER', 'MADAME MENACE/SUNSET'), 1.0)\n",
      "(('LITTLE, ABNER', 'JACOBS, GLENDA'), 1.0)\n",
      "(('LITTLE, ABNER', 'WAR MACHINE II/PARNE'), 1.0)\n",
      "(('LITTLE, ABNER', 'SAPPER'), 1.0)\n",
      "(('LITTLE, ABNER', 'HOGAN, VIRGINIA PEPP'), 1.0)\n",
      "(('LITTLE, ABNER', 'BINARY/CAROL DANVERS'), 1.0)\n",
      "(('LITTLE, ABNER', 'FIN FANG FOOM/MIDGAR'), 1.0)\n",
      "(('LITTLE, ABNER', 'MANN, DR. J. VERNON'), 0.5)\n",
      "(('LITTLE, ABNER', 'THOR/DR. DONALD BLAK'), 1.0)\n",
      "(('LITTLE, ABNER', 'TEMPEST II/NICOLETTE'), 1.0)\n",
      "(('LITTLE, ABNER', 'JARVIS, EDWIN'), 1.0)\n"
     ]
    }
   ],
   "source": [
    "edges, weights = zip(*nx.get_edge_attributes(G1_weighted2, 'weight').items())\n",
    "for i in range(20):\n",
    "    print((edges[i], weights[i]))"
   ]
  },
  {
   "cell_type": "code",
   "execution_count": 28,
   "id": "3be6d0bb",
   "metadata": {},
   "outputs": [],
   "source": [
    "dicOfWeights = {}\n",
    "for edge in G1_weighted2.edges():\n",
    "    dicOfWeights[edge] = G1_weighted2.get_edge_data(edge[0], edge[1])['weight']"
   ]
  },
  {
   "cell_type": "code",
   "execution_count": null,
   "id": "f5e939b2",
   "metadata": {},
   "outputs": [],
   "source": [
    "fig = plt.figure(figsize=(18,18))\n",
    "nx.draw(G1_weighted2, with_labels=True,node_size=300)\n",
    "plt.show()"
   ]
  },
  {
   "attachments": {},
   "cell_type": "markdown",
   "id": "34ca0be5",
   "metadata": {},
   "source": [
    "## 1.3 Second graph"
   ]
  },
  {
   "cell_type": "code",
   "execution_count": 41,
   "id": "6624e375",
   "metadata": {},
   "outputs": [
    {
     "name": "stdout",
     "output_type": "stream",
     "text": [
      "24-HOUR MAN/EMMANUEL hero\n",
      "AA2 35 comic\n",
      "3-D MAN/CHARLES CHAN hero\n",
      "AVF 4 comic\n",
      "AVF 5 comic\n",
      "COC 1 comic\n",
      "H2 251 comic\n",
      "H2 252 comic\n",
      "M/PRM 35 comic\n",
      "M/PRM 36 comic\n"
     ]
    }
   ],
   "source": [
    "attributes = {}\n",
    "for elem,type in df_nodes.to_numpy():\n",
    "    attributes[elem] = {'type' : type } \n",
    "G2 = nx.from_pandas_edgelist(df_edges, 'hero', 'comic')\n",
    "nx.set_node_attributes(G2, attributes)\n",
    "edges, types = zip(*nx.get_node_attributes(G2, 'type').items())\n",
    "for i in range(10):\n",
    "    print(edges[i], types[i])"
   ]
  },
  {
   "cell_type": "code",
   "execution_count": null,
   "id": "cee24357",
   "metadata": {},
   "outputs": [],
   "source": [
    "fig = plt.figure(figsize=(18,18))\n",
    "nx.draw(G2, with_labels=True,node_size=300)\n",
    "plt.show()"
   ]
  },
  {
   "cell_type": "code",
   "execution_count": 33,
   "id": "ec128ba7",
   "metadata": {},
   "outputs": [
    {
     "data": {
      "text/html": [
       "<div>\n",
       "<style scoped>\n",
       "    .dataframe tbody tr th:only-of-type {\n",
       "        vertical-align: middle;\n",
       "    }\n",
       "\n",
       "    .dataframe tbody tr th {\n",
       "        vertical-align: top;\n",
       "    }\n",
       "\n",
       "    .dataframe thead th {\n",
       "        text-align: right;\n",
       "    }\n",
       "</style>\n",
       "<table border=\"1\" class=\"dataframe\">\n",
       "  <thead>\n",
       "    <tr style=\"text-align: right;\">\n",
       "      <th></th>\n",
       "      <th>comic</th>\n",
       "    </tr>\n",
       "    <tr>\n",
       "      <th>hero</th>\n",
       "      <th></th>\n",
       "    </tr>\n",
       "  </thead>\n",
       "  <tbody>\n",
       "    <tr>\n",
       "      <th>SPIDER-MAN/PETER PARKER</th>\n",
       "      <td>1577</td>\n",
       "    </tr>\n",
       "    <tr>\n",
       "      <th>CAPTAIN AMERICA</th>\n",
       "      <td>1334</td>\n",
       "    </tr>\n",
       "    <tr>\n",
       "      <th>IRON MAN/TONY STARK</th>\n",
       "      <td>1150</td>\n",
       "    </tr>\n",
       "    <tr>\n",
       "      <th>THING/BENJAMIN J. GR</th>\n",
       "      <td>963</td>\n",
       "    </tr>\n",
       "    <tr>\n",
       "      <th>THOR/DR. DONALD BLAK</th>\n",
       "      <td>956</td>\n",
       "    </tr>\n",
       "    <tr>\n",
       "      <th>HUMAN TORCH/JOHNNY S</th>\n",
       "      <td>886</td>\n",
       "    </tr>\n",
       "    <tr>\n",
       "      <th>MR. FANTASTIC/REED R</th>\n",
       "      <td>854</td>\n",
       "    </tr>\n",
       "    <tr>\n",
       "      <th>HULK/DR. ROBERT BRUC</th>\n",
       "      <td>835</td>\n",
       "    </tr>\n",
       "    <tr>\n",
       "      <th>WOLVERINE/LOGAN</th>\n",
       "      <td>819</td>\n",
       "    </tr>\n",
       "    <tr>\n",
       "      <th>INVISIBLE WOMAN/SUE</th>\n",
       "      <td>762</td>\n",
       "    </tr>\n",
       "  </tbody>\n",
       "</table>\n",
       "</div>"
      ],
      "text/plain": [
       "                         comic\n",
       "hero                          \n",
       "SPIDER-MAN/PETER PARKER   1577\n",
       "CAPTAIN AMERICA           1334\n",
       "IRON MAN/TONY STARK       1150\n",
       "THING/BENJAMIN J. GR       963\n",
       "THOR/DR. DONALD BLAK       956\n",
       "HUMAN TORCH/JOHNNY S       886\n",
       "MR. FANTASTIC/REED R       854\n",
       "HULK/DR. ROBERT BRUC       835\n",
       "WOLVERINE/LOGAN            819\n",
       "INVISIBLE WOMAN/SUE        762"
      ]
     },
     "execution_count": 33,
     "metadata": {},
     "output_type": "execute_result"
    }
   ],
   "source": [
    "topN_heroes = df_edges.groupby('hero').count().sort_values(by='comic', ascending=False).head(10)\n",
    "topN_heroes\n",
    "# this are the top N heroes ( in this case the top 10) of the heroes that apperar in the most comics the G2 graph"
   ]
  },
  {
   "cell_type": "code",
   "execution_count": 63,
   "id": "0ea57311",
   "metadata": {},
   "outputs": [
    {
     "name": "stdout",
     "output_type": "stream",
     "text": [
      "G1_weighted2\n",
      "G2\n"
     ]
    }
   ],
   "source": [
    "for G in [G1_weighted2, G2]:\n",
    "    if G == G1_weighted2:\n",
    "        print(\"G1_weighted2\")\n",
    "        def top_N(df, N):\n",
    "            return df.groupby(\"hero\", group_keys=False).count().sort_values(by='comic', ascending = False).head(N)\n",
    "        def create_G_topN(G, N, df):\n",
    "            G_topN = G.copy()\n",
    "            most_popular_heros = top_N(df, N)\n",
    "            notInTopN = set(G.nodes()) - set(most_popular_heros.index)\n",
    "            G_topN.remove_nodes_from(notInTopN)\n",
    "            return G_topN\n",
    "        G1_topN = create_G_topN(G1_weighted2, 10, df_edges)\n",
    "    else:\n",
    "        print(\"G2\")\n",
    "        def top_N(df, N):\n",
    "            return df.groupby(\"hero\", group_keys=False).count().sort_values(by='comic', ascending = False).head(N)\n",
    "        def create_G_topN(G, N, df):\n",
    "            G_topN = G.copy()\n",
    "            most_popular_heros = top_N(df, N)\n",
    "            notInTopN = set(G.nodes()) - set(most_popular_heros.index)\n",
    "            G_topN.remove_nodes_from(notInTopN)\n",
    "            return G_topN\n",
    "        G2_topN = create_G_topN(G2, 10, df_edges)\n",
    "\n",
    "#G_topN = create_G_topN(G1_weighted2, 10, df_edges)\n",
    "#print(len(G_topN.edges()),len(G1_weighted2.edges()))"
   ]
  },
  {
   "cell_type": "code",
   "execution_count": 67,
   "id": "8fc21f14",
   "metadata": {},
   "outputs": [
    {
     "data": {
      "image/png": "[encoded data removed]",
      "text/plain": [
       "<Figure size 360x360 with 1 Axes>"
      ]
     },
     "metadata": {},
     "output_type": "display_data"
    }
   ],
   "source": [
    "# recall the function to see the G1 graph with the top 10 heroes\n",
    "fig = plt.figure(figsize=(5,5))\n",
    "nx.draw(G1_topN, with_labels=True,node_size=100)\n",
    "plt.show()"
   ]
  },
  {
   "cell_type": "code",
   "execution_count": 69,
   "id": "d0091e41",
   "metadata": {},
   "outputs": [
    {
     "data": {
      "image/png": "[encoded data removed]",
      "text/plain": [
       "<Figure size 360x360 with 1 Axes>"
      ]
     },
     "metadata": {},
     "output_type": "display_data"
    }
   ],
   "source": [
    "# recall the function to see the G2 graph with the top 10 heroes\n",
    "fig = plt.figure(figsize=(5,5))\n",
    "nx.draw(G2_topN, with_labels=True,node_size=100)\n",
    "plt.show()"
   ]
  },
  {
   "cell_type": "code",
   "execution_count": 62,
   "id": "af0079de",
   "metadata": {},
   "outputs": [
    {
     "name": "stdout",
     "output_type": "stream",
     "text": [
      "Graph with 11 nodes and 0 edges\n"
     ]
    },
    {
     "name": "stderr",
     "output_type": "stream",
     "text": [
      "C:\\Users\\elisa\\AppData\\Local\\Temp\\ipykernel_22984\\1933380785.py:2: DeprecationWarning: info is deprecated and will be removed in version 3.0.\n",
      "\n",
      "  print(nx.info(G_topN))\n"
     ]
    }
   ],
   "source": [
    "G_topN = create_G_topN(G2, 11, df_edges)\n",
    "print(nx.info(G_topN))\n"
   ]
  },
  {
   "attachments": {},
   "cell_type": "markdown",
   "id": "da623bdc",
   "metadata": {},
   "source": [
    "# 2. Backend Implementation"
   ]
  },
  {
   "attachments": {},
   "cell_type": "markdown",
   "id": "d36d71de",
   "metadata": {},
   "source": [
    "## Functionality 1 - extract the graph's features"
   ]
  },
  {
   "attachments": {},
   "cell_type": "markdown",
   "id": "de573cb3",
   "metadata": {},
   "source": [
    "The number of nodes in the network (if type 2, report for both node types)"
   ]
  },
  {
   "cell_type": "code",
   "execution_count": 25,
   "id": "93171c3e",
   "metadata": {},
   "outputs": [
    {
     "name": "stdout",
     "output_type": "stream",
     "text": [
      "Total number of nodes of G1:  6420\n"
     ]
    }
   ],
   "source": [
    "n_nodesG1 = int(G1_weighted2.number_of_nodes())\n",
    "print(\"Total number of nodes of G1: \", n_nodesG1)\n",
    "# the total number of nodes in G1 is 6420"
   ]
  },
  {
   "cell_type": "code",
   "execution_count": 26,
   "id": "7ea119c8",
   "metadata": {},
   "outputs": [
    {
     "name": "stdout",
     "output_type": "stream",
     "text": [
      "the number of heros in G2 is: 6007\n",
      "the number of comics in G2 is: 12651\n"
     ]
    }
   ],
   "source": [
    "count_hero = 0\n",
    "count_comic = 0\n",
    "for elements in types:\n",
    "    if elements == 'hero':\n",
    "        count_hero += 1\n",
    "    elif elements == 'comic':\n",
    "        count_comic += 1\n",
    "print(\"the number of heros in G2 is:\", count_hero)\n",
    "print(\"the number of comics in G2 is:\", count_comic)\n",
    "# the total number of nodes in G2 of heroes  is 6007 and comics is 12651."
   ]
  },
  {
   "attachments": {},
   "cell_type": "markdown",
   "id": "6c91b8f6",
   "metadata": {},
   "source": [
    "The number of collaborations of each superhero with the others"
   ]
  },
  {
   "cell_type": "code",
   "execution_count": 27,
   "id": "1ce80e43",
   "metadata": {},
   "outputs": [
    {
     "name": "stdout",
     "output_type": "stream",
     "text": [
      "sorted collaborations of each node: [('CAPTAIN AMERICA', 1902), ('BLUE DIAMOND/PROFESS', 1755), ('IRON MAN/TONY STARK', 1521), ('THING/BENJAMIN J. GR', 1415), ('MR. FANTASTIC/REED R', 1376), ('WOLVERINE/LOGAN', 1368), ('HUMAN TORCH/JOHNNY S', 1360), ('SCARLET WITCH/WANDA', 1322), ('THOR/DR. DONALD BLAK', 1289), ('BEAST/HENRY &HANK& P', 1265)]\n"
     ]
    }
   ],
   "source": [
    "degree_G1 = G1_weighted2.degree()\n",
    "#print(\"collaborations of each node:\", degree_G1)\n",
    "# we can see for each hero the collaboration that one has with other heros\n",
    "# sorting it by the number of collaborations \n",
    "sorted_degree_G1 = sorted(degree_G1, key=lambda x: x[1], reverse=True)\n",
    "#take just the first 10\n",
    "sorted_degree_G1 = sorted_degree_G1[:10]\n",
    "print(\"sorted collaborations of each node:\", sorted_degree_G1)\n",
    "\n",
    "\n",
    "#len(G1_weighted.edges(hero))\n",
    "# we can see for each hero the collaboration that one has with other heros"
   ]
  },
  {
   "attachments": {},
   "cell_type": "markdown",
   "id": "8538414b",
   "metadata": {},
   "source": [
    "The number of heroes that have appeared in each comic (only if type 2)"
   ]
  },
  {
   "cell_type": "code",
   "execution_count": 28,
   "id": "484caae9",
   "metadata": {},
   "outputs": [
    {
     "name": "stdout",
     "output_type": "stream",
     "text": [
      "the number of heroes that have appeared in each comic of G2: \n",
      "                   hero\n",
      "comic                 \n",
      "COC 1              111\n",
      "IW 3                91\n",
      "IW 1                90\n",
      "H2 279              87\n",
      "IW 4                80\n",
      "...                ...\n",
      "MYSTIC COMICS 10     1\n",
      "N 2/4                1\n",
      "N 37                 1\n",
      "N 4/2                1\n",
      "rse powers.          1\n",
      "\n",
      "[12651 rows x 1 columns]\n"
     ]
    }
   ],
   "source": [
    "#number of heroes that have appeared in each comic of G2\n",
    "hero_appeard = df_edges.groupby('comic').count().sort_values(by='hero', ascending=False)\n",
    "print( \"the number of heroes that have appeared in each comic of G2:\" , \"\\n\", hero_appeard)"
   ]
  },
  {
   "cell_type": "code",
   "execution_count": 29,
   "id": "116a3981",
   "metadata": {},
   "outputs": [
    {
     "name": "stdout",
     "output_type": "stream",
     "text": [
      "The most popular hero is: SPIDER-MAN/PETER PARKER\n"
     ]
    }
   ],
   "source": [
    "print(\"The most popular hero is:\", max(G2.degree(), key=lambda x: x[1])[0])\n",
    "# the most popular hero that apperas in a comic is Spiderman"
   ]
  },
  {
   "attachments": {},
   "cell_type": "markdown",
   "id": "b957c10d",
   "metadata": {},
   "source": [
    "The network's density"
   ]
  },
  {
   "cell_type": "code",
   "execution_count": 30,
   "id": "ee684b16",
   "metadata": {},
   "outputs": [
    {
     "name": "stdout",
     "output_type": "stream",
     "text": [
      "The density of G1 is: 0.008108958072777516\n",
      "The density of G2 is: 0.005327561844958216\n"
     ]
    }
   ],
   "source": [
    "# calculate the density from scratch without nx of G1\n",
    "densityG1 = len(G1_weighted2.edges())/(n_nodesG1*(n_nodesG1-1)/2)\n",
    "print(\"The density of G1 is:\", densityG1)\n",
    "# density of G2\n",
    "densityG2 = len(G2.edges())/(count_hero*(count_hero-1)/2)\n",
    "print(\"The density of G2 is:\", densityG2)"
   ]
  },
  {
   "cell_type": "code",
   "execution_count": 57,
   "id": "c5422ddb",
   "metadata": {},
   "outputs": [],
   "source": [
    "#checked the density of G1 and G2 with nx\n",
    "#densityG1 = nx.density(G1_weighted2)\n",
    "# network density of G1\n",
    "#print(\"Network density of G1: \", densityG1)\n",
    "#densityG2 = nx.density(G2)\n",
    "#print(\"Network density of G2: \", densityG2)\n",
    "# network density of G2"
   ]
  },
  {
   "attachments": {},
   "cell_type": "markdown",
   "id": "61f3cf9c",
   "metadata": {},
   "source": [
    "The network's degree distribution"
   ]
  },
  {
   "cell_type": "code",
   "execution_count": 31,
   "id": "f7327d6c",
   "metadata": {},
   "outputs": [
    {
     "data": {
      "image/png": "[encoded data removed]",
      "text/plain": [
       "<Figure size 432x288 with 1 Axes>"
      ]
     },
     "metadata": {
      "needs_background": "light"
     },
     "output_type": "display_data"
    },
    {
     "name": "stdout",
     "output_type": "stream",
     "text": [
      "None\n"
     ]
    }
   ],
   "source": [
    "def degree_distG1(G1_weighted2):\n",
    "    degree_G1 = [G1_weighted2.degree(n) for n in G1_weighted2.nodes()]\n",
    "    plt.hist(degree_G1, bins=100, color='green', edgecolor='black')\n",
    "    plt.xlim(0, 1500)\n",
    "    plt.title('Degree Distribution of G1')\n",
    "    plt.ylabel('Number of nodes')\n",
    "    plt.xlabel('Degree')\n",
    "    plt.show()\n",
    "print(degree_distG1(G1_weighted2))\n",
    "# we can see from the plot that the distribution of the degrees of G1 is very skewed to the right this means that there are some\n",
    "# nodes that are very connected and play an important role within the network.\n",
    "# From the other side the distribution of the degrees shows  a lower peak at a very low degree, \n",
    "# the network is less connected and the nodes have less interactions between them, also there are some nodes that are not connected at all."
   ]
  },
  {
   "cell_type": "code",
   "execution_count": 71,
   "id": "a9f6f784",
   "metadata": {},
   "outputs": [
    {
     "data": {
      "image/png": "[encoded data removed]",
      "text/plain": [
       "<Figure size 432x288 with 1 Axes>"
      ]
     },
     "metadata": {
      "needs_background": "light"
     },
     "output_type": "display_data"
    },
    {
     "name": "stdout",
     "output_type": "stream",
     "text": [
      "None\n"
     ]
    }
   ],
   "source": [
    "#print(degree_distG1(nx.gnp_random_graph(200, 0.8, directed=True)))"
   ]
  },
  {
   "cell_type": "code",
   "execution_count": 32,
   "id": "b9d52d4b",
   "metadata": {},
   "outputs": [
    {
     "data": {
      "image/png": "[encoded data removed]",
      "text/plain": [
       "<Figure size 432x288 with 1 Axes>"
      ]
     },
     "metadata": {
      "needs_background": "light"
     },
     "output_type": "display_data"
    },
    {
     "name": "stdout",
     "output_type": "stream",
     "text": [
      "None\n"
     ]
    }
   ],
   "source": [
    "def degree_distG2(G2):\n",
    "    degree_G2 = [G2.degree(n) for n in G2.nodes()]\n",
    "    plt.hist(degree_G2, bins=100, color='green', edgecolor='black')\n",
    "    plt.xlim(0, 200)\n",
    "    plt.title('Degree Distribution of G2')\n",
    "    plt.ylabel('Number of nodes')\n",
    "    plt.xlabel('Degree')\n",
    "    plt.show()\n",
    "print(degree_distG2(G2))"
   ]
  },
  {
   "cell_type": "code",
   "execution_count": null,
   "id": "e04fdc83",
   "metadata": {},
   "outputs": [],
   "source": [
    "#degree_G2 = list(G2.degree())\n",
    "#print(\"Degree for all nodes:\", degree_G2)\n",
    "#sorted_degreeG2 = sorted((i for x, i in degree_G2), reverse=True)"
   ]
  },
  {
   "attachments": {},
   "cell_type": "markdown",
   "id": "c77caecd",
   "metadata": {},
   "source": [
    "The average degree of the network"
   ]
  },
  {
   "cell_type": "code",
   "execution_count": 33,
   "id": "54b2e2a2",
   "metadata": {},
   "outputs": [
    {
     "name": "stdout",
     "output_type": "stream",
     "text": [
      "Average degree of G1:  52.05140186915888\n"
     ]
    }
   ],
   "source": [
    "degree_sequence = [deg for i, deg in G1_weighted2.degree()]\n",
    "avg_degreeG1 = sum(degree_sequence) / len(degree_sequence)\n",
    "print(\"Average degree of G1: \", avg_degreeG1)"
   ]
  },
  {
   "cell_type": "code",
   "execution_count": 34,
   "id": "21aa987b",
   "metadata": {},
   "outputs": [
    {
     "name": "stdout",
     "output_type": "stream",
     "text": [
      "Average degree of G2:  10.070100068109184\n"
     ]
    }
   ],
   "source": [
    "# average degree of G2\n",
    "degree_sequence = [deg for i, deg in G2.degree()]\n",
    "avg_degreeG2 = sum(degree_sequence) / len(degree_sequence)\n",
    "print(\"Average degree of G2: \", avg_degreeG2)"
   ]
  },
  {
   "attachments": {},
   "cell_type": "markdown",
   "id": "b7d8b609",
   "metadata": {},
   "source": [
    "The network's Hubs (hubs are nodes having degrees more extensive than the 95th percentile of the degree distribution)\n"
   ]
  },
  {
   "cell_type": "code",
   "execution_count": null,
   "id": "f3a106a4",
   "metadata": {},
   "outputs": [],
   "source": [
    "#def hubs(G,type_, N):\n",
    "    #degree_seq = []\n",
    "    #for n in G:\n",
    "        #degree_seq[n] = len(G[n])\n",
    "        #degree_values = np.array(list(sorted((degree_seq.values()))))\n",
    "        #perc95 = np.percentile(degree_values, 95)\n",
    "        #if type_ == 1:\n",
    "            #hubs = [n for n, degree_seq[n] in degree_seq.items() if degree_seq >= perc95][:N]\n",
    "        #elif type_ == 2:\n",
    "            #hubs = [n for n, degree_seq in n_comics.items() if degree_seq >= perc95][:N]\n",
    "        #return hubs\n",
    "#print(hubs(G1_weighted2,\n",
    "# the top 10 hubs of G1\n",
    "#print(hubs(G2,2,10))\n",
    "# the top 10 hubs of G2"
   ]
  },
  {
   "cell_type": "code",
   "execution_count": 35,
   "id": "446cea41",
   "metadata": {},
   "outputs": [
    {
     "name": "stdout",
     "output_type": "stream",
     "text": [
      "Nodes with degrees more extensive than the 95th percentile of the degree distribution:  319\n"
     ]
    }
   ],
   "source": [
    "# print the heroes that are hubs from the most popular to  Nth most popular\n",
    "def hubsG1(G1_weighted2):\n",
    "    degreeG1 = [G1_weighted2.degree(n) for n in G1_weighted2.nodes()]\n",
    "    ex_nodes = [n for n in G1_weighted2.nodes() if G1_weighted2.degree(n) > np.percentile(degreeG1,95)]\n",
    "    return(ex_nodes)\n",
    "print(\"Nodes with degrees more extensive than the 95th percentile of the degree distribution: \", len(hubsG1(G1_weighted)))\n"
   ]
  },
  {
   "cell_type": "code",
   "execution_count": 36,
   "id": "e0da1b06",
   "metadata": {},
   "outputs": [
    {
     "name": "stdout",
     "output_type": "stream",
     "text": [
      "Nodes with degrees more extensive than the 95th percentile of the degree distribution:  319 \n",
      " ['CAPTAIN AMERICA', 'BLUE DIAMOND/PROFESS', 'IRON MAN/TONY STARK', 'THING/BENJAMIN J. GR', 'MR. FANTASTIC/REED R', 'WOLVERINE/LOGAN', 'HUMAN TORCH/JOHNNY S', 'SCARLET WITCH/WANDA', 'THOR/DR. DONALD BLAK', 'BEAST/HENRY &HANK& P']\n"
     ]
    }
   ],
   "source": [
    "print(\"Nodes with degrees more extensive than the 95th percentile of the degree distribution: \", len(hubsG1(G1_weighted)), \"\\n\", sorted(hubsG1(G1_weighted2), key=lambda x: G1_weighted2.degree(x), reverse=True)[:10])"
   ]
  },
  {
   "cell_type": "code",
   "execution_count": 37,
   "id": "c91cd510",
   "metadata": {},
   "outputs": [
    {
     "name": "stdout",
     "output_type": "stream",
     "text": [
      "Nodes with degrees more extensive than the 95th percentile of the degree distribution:  258\n"
     ]
    }
   ],
   "source": [
    "def hubs(G2):\n",
    "    degreeG2 = [G2.degree(n) for n in G2.nodes()]\n",
    "    ex_nodes = [n for n in G2.nodes() if G2.degree(n) > np.percentile(degreeG2,95) and G2.nodes[n].get('type', '') == 'comic']\n",
    "    return(ex_nodes)\n",
    "\n",
    "print(\"Nodes with degrees more extensive than the 95th percentile of the degree distribution: \", len(hubs(G2)))\n"
   ]
  },
  {
   "cell_type": "code",
   "execution_count": 38,
   "id": "3b882778",
   "metadata": {},
   "outputs": [
    {
     "name": "stdout",
     "output_type": "stream",
     "text": [
      "Nodes with degrees more extensive than the 95th percentile of the degree distribution:  258 \n",
      " ['COC 1', 'IW 3', 'IW 1', 'H2 279', 'IW 4', 'IW 2', 'MAXSEC 3', 'FF 370', 'IW 6', 'M/GN 1']\n"
     ]
    }
   ],
   "source": [
    "print(\"Nodes with degrees more extensive than the 95th percentile of the degree distribution: \", len(hubs(G2)), \"\\n\",\n",
    "sorted(hubs(G2), key=lambda x: G2.degree(x), reverse=True)[:10])\n"
   ]
  },
  {
   "attachments": {},
   "cell_type": "markdown",
   "id": "19bbac5f",
   "metadata": {},
   "source": [
    "Whether the Network is sparse or dense"
   ]
  },
  {
   "cell_type": "code",
   "execution_count": 39,
   "id": "fb1b9786",
   "metadata": {},
   "outputs": [
    {
     "name": "stdout",
     "output_type": "stream",
     "text": [
      "The type of G1 is:  SPARSE\n"
     ]
    }
   ],
   "source": [
    "type_graphG1 = \"\"    \n",
    "def density_G1(G1_weighted2):\n",
    "    n = G1_weighted2.number_of_nodes()\n",
    "    m = G1_weighted2.number_of_edges()\n",
    "    return 2*m/(n*(n-1))\n",
    "if density_G1(G1_weighted2) >= 0.5:\n",
    "    type_graphG1 = \"DENSE\"\n",
    "else:\n",
    "    type_graphG1 = \"SPARSE\"\n",
    "print(\"The type of G1 is: \", type_graphG1)\n",
    "# G1 is sparse\n"
   ]
  },
  {
   "cell_type": "code",
   "execution_count": 40,
   "id": "af885639",
   "metadata": {},
   "outputs": [
    {
     "name": "stdout",
     "output_type": "stream",
     "text": [
      "The type of G2 is:  SPARSE\n"
     ]
    }
   ],
   "source": [
    "type_graphG2 = \"\"\n",
    "def density_G2(G2):\n",
    "    n = G2.number_of_nodes()\n",
    "    m = G2.number_of_edges()\n",
    "    return 2*m/(n*(n-1))\n",
    "if density_G2(G2) >= 0.5:\n",
    "    type_graphG2 = \"DENSE\"\n",
    "else:\n",
    "    type_graphG2 = \"SPARSE\"\n",
    "print(\"The type of G2 is: \", type_graphG2)\n",
    "#G2 is sparse"
   ]
  },
  {
   "cell_type": "code",
   "execution_count": 41,
   "id": "d8263a7b",
   "metadata": {},
   "outputs": [
    {
     "name": "stdout",
     "output_type": "stream",
     "text": [
      "functionality1 of G1:\n",
      "Number of nodes of G1:  6420\n",
      "sorted collaborations of each node: [('CAPTAIN AMERICA', 1902), ('BLUE DIAMOND/PROFESS', 1755), ('IRON MAN/TONY STARK', 1521), ('THING/BENJAMIN J. GR', 1415), ('MR. FANTASTIC/REED R', 1376), ('WOLVERINE/LOGAN', 1368), ('HUMAN TORCH/JOHNNY S', 1360), ('SCARLET WITCH/WANDA', 1322), ('THOR/DR. DONALD BLAK', 1289), ('BEAST/HENRY &HANK& P', 1265)]\n",
      "The density of G1 is: 0.008108958072777516\n"
     ]
    },
    {
     "data": {
      "image/png": "[encoded data removed]",
      "text/plain": [
       "<Figure size 432x288 with 1 Axes>"
      ]
     },
     "metadata": {
      "needs_background": "light"
     },
     "output_type": "display_data"
    },
    {
     "name": "stdout",
     "output_type": "stream",
     "text": [
      "None\n",
      "Average degree of G1:  52.05140186915888\n",
      "Nodes with degrees more extensive than the 95th percentile of the degree distribution:  0 \n",
      " ['CAPTAIN AMERICA', 'BLUE DIAMOND/PROFESS', 'IRON MAN/TONY STARK', 'THING/BENJAMIN J. GR', 'MR. FANTASTIC/REED R', 'WOLVERINE/LOGAN', 'HUMAN TORCH/JOHNNY S', 'SCARLET WITCH/WANDA', 'THOR/DR. DONALD BLAK', 'BEAST/HENRY &HANK& P']\n",
      "The type of G1 is:  SPARSE\n",
      "functionality1 of G2:\n",
      "Number of nodes of G2:  6007 12651\n",
      "the number of heroes that have appeared in each comic of G2: \n",
      "                   hero\n",
      "comic                 \n",
      "COC 1              111\n",
      "IW 3                91\n",
      "IW 1                90\n",
      "H2 279              87\n",
      "IW 4                80\n",
      "...                ...\n",
      "MYSTIC COMICS 10     1\n",
      "N 2/4                1\n",
      "N 37                 1\n",
      "N 4/2                1\n",
      "rse powers.          1\n",
      "\n",
      "[12651 rows x 1 columns]\n",
      "The density of G1 is: 0.005327561844958216\n"
     ]
    },
    {
     "data": {
      "image/png": "[encoded data removed]",
      "text/plain": [
       "<Figure size 432x288 with 1 Axes>"
      ]
     },
     "metadata": {
      "needs_background": "light"
     },
     "output_type": "display_data"
    },
    {
     "name": "stdout",
     "output_type": "stream",
     "text": [
      "None\n",
      "Average degree of G2:  10.070100068109184\n",
      "Nodes with degrees more extensive than the 95th percentile of the degree distribution:  258 \n",
      " ['COC 1', 'IW 3', 'IW 1', 'H2 279', 'IW 4', 'IW 2', 'MAXSEC 3', 'FF 370', 'IW 6', 'M/GN 1']\n",
      "The type of G2 is:  SPARSE\n"
     ]
    }
   ],
   "source": [
    "for G in [G1, G2]:\n",
    "    if G == G1:\n",
    "        print(\"functionality1 of G1:\")\n",
    "        print(\"Number of nodes of G1: \", n_nodesG1)\n",
    "        print(\"sorted collaborations of each node:\", sorted_degree_G1)\n",
    "        print(\"The density of G1 is:\", densityG1)\n",
    "        print(degree_distG1(G1_weighted2))\n",
    "        print(\"Average degree of G1: \", avg_degreeG1)\n",
    "        print(\"Nodes with degrees more extensive than the 95th percentile of the degree distribution: \", len(hubs(G1_weighted)), \n",
    "        \"\\n\", sorted(hubsG1(G1_weighted2), key=lambda x: G1_weighted2.degree(x), reverse=True)[:10])\n",
    "        print(\"The type of G1 is: \", type_graphG1)\n",
    "    else:\n",
    "        print(\"functionality1 of G2:\")\n",
    "        print(\"Number of nodes of G2: \", count_hero, count_comic)\n",
    "        print( \"the number of heroes that have appeared in each comic of G2:\" , \"\\n\", hero_appeard)\n",
    "        print(\"The density of G1 is:\", densityG2)\n",
    "        print(degree_distG2(G2))\n",
    "        print(\"Average degree of G2: \", avg_degreeG2)\n",
    "        print(\"Nodes with degrees more extensive than the 95th percentile of the degree distribution: \", len(hubs(G2)),\n",
    "         \"\\n\", sorted(hubs(G2), key=lambda x: G2.degree(x), reverse=True)[:10])    \n",
    "        print(\"The type of G2 is: \", type_graphG2)"
   ]
  },
  {
   "attachments": {},
   "cell_type": "markdown",
   "id": "af74b011",
   "metadata": {},
   "source": [
    "# Functionality 2 - Find top superheroes!"
   ]
  },
  {
   "attachments": {},
   "cell_type": "markdown",
   "id": "2c243923",
   "metadata": {},
   "source": [
    "The metric's value over the considered graph"
   ]
  },
  {
   "cell_type": "code",
   "execution_count": 42,
   "id": "47ea1ca0",
   "metadata": {},
   "outputs": [],
   "source": [
    "from collections import deque\n",
    "from collections import defaultdict\n",
    "import random"
   ]
  },
  {
   "cell_type": "code",
   "execution_count": 62,
   "id": "01ef2e28",
   "metadata": {},
   "outputs": [],
   "source": [
    "def BFS(G, s, t):\n",
    "  queue = deque([s])\n",
    "  visited = set()\n",
    "  while queue:\n",
    "    u = queue.popleft()\n",
    "    if u not in visited:\n",
    "      visited.add(u)\n",
    "      for v in G2[u]:\n",
    "        queue.append(v)\n",
    "        if v == t:\n",
    "          return visited\n",
    "  return visited\n",
    "def fun_betweenness_centrality(G):\n",
    "  betweenness = defaultdict(int)\n",
    "  for i, s in enumerate(G):\n",
    "    if i == 10:\n",
    "      break\n",
    "    for j, t in enumerate(G):\n",
    "      if j == 10:\n",
    "        break\n",
    "      if s != t:\n",
    "        # Calcolo i percorsi minimi tra s e t utilizzando l'algoritmo BFS\n",
    "        path = BFS(G, s, t)\n",
    "        for v in path:\n",
    "          betweenness[v] += 1\n",
    "  # Normalizza i valori della betweenness\n",
    "  n = len(G)\n",
    "  for v in betweenness:\n",
    "    betweenness[v] /= (n-1)*(n-2)\n",
    "  return betweenness\n",
    "result = fun_betweenness_centrality(G)\n",
    "####### Stampa solo i primi 10 elementi del dizionario\n",
    "#for i, (nodo, valore) in enumerate(result.items()):\n",
    "  #if i == 10:\n",
    "    #break\n",
    "  #print(f\"{nodo}: {valore}\")"
   ]
  },
  {
   "cell_type": "code",
   "execution_count": 63,
   "id": "e3ca8b3f",
   "metadata": {},
   "outputs": [],
   "source": [
    "def fun_degree_centrality(G, node):\n",
    "  num_neighbors = len(list(G.neighbors(node)))\n",
    "  fun_degree_centrality = num_neighbors / (len(G) - 1)\n",
    "  return fun_degree_centrality\n",
    "# doing it for the first 10 nodes\n",
    "#for i, node in enumerate(G.nodes()):\n",
    "  #if i == 10:\n",
    "    #break\n",
    "  #print(f\"{node}: {fun_degree_centrality(G, node)}\")"
   ]
  },
  {
   "cell_type": "code",
   "execution_count": null,
   "id": "755880f6",
   "metadata": {},
   "outputs": [],
   "source": [
    "# Calculate the degree centrality for the graph with networkx to check results:\n",
    "#degree_cen = nx.degree_centrality(G)\n",
    "#count = 0\n",
    "#for node, value in degree_cen.items():\n",
    "    #Print the degree centrality for the current node\n",
    "    #print(f\"{node}: {value}\")\n",
    "    #count += 1\n",
    "    #if count == 10:\n",
    "        #break"
   ]
  },
  {
   "cell_type": "code",
   "execution_count": 64,
   "id": "81afb88b",
   "metadata": {},
   "outputs": [],
   "source": [
    "#PageRank centrality\n",
    "def fun_pagerank_centrality(G, alpha=0.85, max_iter=100, tol=1e-6):\n",
    "  # Inizializza i valori di PageRank di ogni nodo con 1/n, dove n è il numero di nodi del grafo\n",
    "  n = len(G)\n",
    "  pagerank = {node: 1/n for node in G}\n",
    "  # Itera finché non si raggiunge la convergenza o il numero massimo di iterazioni\n",
    "  for i in range(max_iter):\n",
    "    diff = 0\n",
    "    # Calcola il nuovo valore di PageRank per ogni nodo\n",
    "    for node in pagerank:\n",
    "      rank = sum(pagerank[neighbor] / len(G[neighbor]) for neighbor in G[node])\n",
    "      # Aggiorna il valore di PageRank del nodo utilizzando la formula di PageRank\n",
    "      new_rank = (1 - alpha) / n + alpha * rank\n",
    "      diff += abs(new_rank - pagerank[node])\n",
    "      pagerank[node] = new_rank\n",
    "    # Se la differenza è minore della soglia di tolleranza, interrompi il loop\n",
    "    if diff < tol:\n",
    "      break\n",
    "  return pagerank\n",
    "\n",
    "#### stampo i risultati per i primi 10 nodi\n",
    "#result = fun_pagerank_centrality(G)\n",
    "#for i, (node, value) in enumerate(result.items()):\n",
    " # if i == 10:\n",
    "  #  break\n",
    "  #print(f\"{node}: {value}\")"
   ]
  },
  {
   "cell_type": "code",
   "execution_count": 65,
   "id": "3eabc635",
   "metadata": {},
   "outputs": [
    {
     "name": "stdout",
     "output_type": "stream",
     "text": [
      "LITTLE, ABNER: 6.452465203471656e-05\n",
      "PRINCESS ZANDA: 4.920646245698957e-05\n",
      "BLACK PANTHER/T'CHAL: 0.00248473210033786\n",
      "STEELE, SIMON/WOLFGA: 4.999670048268568e-05\n",
      "FORTUNE, DOMINIC: 7.495870448327506e-05\n",
      "ERWIN, CLYTEMNESTRA: 0.0001608244323661501\n",
      "IRON MAN/TONY STARK: 0.00818213698079298\n",
      "IRON MAN IV/JAMES R.: 0.001767812141042685\n",
      "RAVEN, SABBATH II/EL: 5.632943958935856e-05\n",
      "CARNIVORE/COUNT ANDR: 0.00011542096157614045\n"
     ]
    }
   ],
   "source": [
    "#calculate pagerank centrality with networkx\n",
    "pagerank = nx.pagerank(G)\n",
    "count = 0\n",
    "for node, value in pagerank.items():\n",
    "    print(f\"{node}: {value}\")\n",
    "    count += 1\n",
    "    if count == 10:\n",
    "        break"
   ]
  },
  {
   "cell_type": "code",
   "execution_count": 66,
   "id": "3e775968",
   "metadata": {},
   "outputs": [],
   "source": [
    "def fun_closeness_centrality(G, node):\n",
    "  # Inizializza una coda e un dizionario per tenere traccia della distanza di ogni nodo dal nodo in questione\n",
    "  queue = deque([node])\n",
    "  distances = {node: 0}\n",
    "\n",
    "  # Esegue la ricerca in larghezza a partire dal nodo in questione\n",
    "  while queue:\n",
    "    current_node = queue.popleft()\n",
    "    for neighbor in G[current_node]:\n",
    "      if neighbor not in distances:\n",
    "        distances[neighbor] = distances[current_node] + 1\n",
    "        queue.append(neighbor)\n",
    "\n",
    "  # Calcola la somma delle distanze di tutti i nodi dal nodo in questione\n",
    "  total_distance = sum(distances.values())\n",
    "  # Calcola la centralità di prossimità come il numero di nodi del grafo diviso dalla somma delle distanze\n",
    "  closeness_centrality = len(G) / total_distance\n",
    "  return closeness_centrality"
   ]
  },
  {
   "cell_type": "code",
   "execution_count": null,
   "id": "c32c142f",
   "metadata": {},
   "outputs": [],
   "source": [
    "# stampo i risultati per i primi 10 nodi\n",
    "#for i, node in enumerate(G.nodes()):\n",
    " # if i == 10:\n",
    "  #  break\n",
    "  #print(f\"{node}: {fun_closeness_centrality(G, node)}\")"
   ]
  },
  {
   "cell_type": "code",
   "execution_count": null,
   "id": "8ae78032",
   "metadata": {},
   "outputs": [],
   "source": [
    "# calculate the closeness centrality with networkx\n",
    "#closeness = nx.closeness_centrality(G)\n",
    "#stampo i risultati per i primi 10 nodi\n",
    "#count = 0\n",
    "#for node, value in closeness.items():\n",
    " #   print(f\"{node}: {value}\")\n",
    "  #  count += 1\n",
    "   # if count == 10:\n",
    "    #    break"
   ]
  },
  {
   "cell_type": "code",
   "execution_count": null,
   "id": "1d26ea56",
   "metadata": {},
   "outputs": [],
   "source": [
    "for G in [G1_topN, G2_topN]:\n",
    "    for nodo in G.nodes() and N:\n",
    "        print(\"the node is: \", nodo)\n",
    "    if G == G1_topN:\n",
    "        print(\" the betweenness centrality of G1: \", fun_betweenness_centrality(G1))\n",
    "        print(\" the degree centrality of G1: \", fun_degree_centrality(G1, nodo))\n",
    "        print(\" the pagerank centrality of G1: \", fun_pagerank_centrality(G1))\n",
    "        print(\" the closeness centrality of G1: \", fun_closeness_centrality(G1, top_n_heroes))\n",
    "    else:\n",
    "        print(\" the betweenness centrality of G2: \", fun_betweenness_centrality(G2))\n",
    "        print(\" the degree centrality of G2: \", fun_degree_centrality(G2, nodo))\n",
    "        print(\" the pagerank centrality of G2: \", fun_pagerank_centrality(G2))\n",
    "        print(\" the closeness centrality of G2: \", fun_closeness_centrality(G2, topN_heroes))\n"
   ]
  },
  {
   "cell_type": "code",
   "execution_count": 212,
   "id": "590b35d1",
   "metadata": {},
   "outputs": [
    {
     "data": {
      "image/png": "[encoded data removed]",
      "text/plain": [
       "<Figure size 432x288 with 1 Axes>"
      ]
     },
     "metadata": {
      "needs_background": "light"
     },
     "output_type": "display_data"
    }
   ],
   "source": [
    "# comparing the results of the different centrality measures:\n",
    "measures = [fun_betweenness_centrality, fun_degree_centrality, fun_pagerank_centrality, fun_closeness_centrality]\n",
    "\n",
    "# Create a list of labels for the measures\n",
    "labels = ['BetweennessCentrality', 'DegreeCentrality', 'PagerankCentrality','ClosenessCentrality']\n",
    "\n",
    "# Plot the measures\n",
    "for measure, label in zip(measures, labels):\n",
    "    # Get the measure values as a dictionary\n",
    "    measure_values = nx.get_node_attributes(G, measure)\n",
    "    # Normalize the measure values by dividing them by the maximum value\n",
    "    normalized_values = {node: value/max(measure_values.values()) for node, value in measure_values.items()}\n",
    "    # Plot the normalized measure values\n",
    "    plt.plot(normalized_values.values(), label=label)\n",
    "    #plt.bar(normalized_values.keys(), normalized_values.values(), label=label)\n",
    "# Add a legend to the plot\n",
    "plt.legend()\n",
    "\n",
    "# Show the plot\n",
    "plt.show()"
   ]
  },
  {
   "cell_type": "code",
   "execution_count": 219,
   "id": "9164b7f4",
   "metadata": {},
   "outputs": [],
   "source": [
    "def fun_centrality(G, node, measure):\n",
    "  for G in [G1, G2]:\n",
    "    if G == G1:\n",
    "      if measure == \"betweenness\":\n",
    "    # Calcola la centralità di intermediazione del nodo\n",
    "        centrality = fun_betweenness_centrality(G)[node]\n",
    "    \n",
    "      elif measure == \"pagerank\":\n",
    "    # Calcola il PageRank del nodo\n",
    "        centrality = fun_pagerank_centrality(G)[node]\n",
    "      elif measure == \"degree\":\n",
    "    # Calcola la degree centrality del nodo\n",
    "        centrality = fun_degree_centrality(G)[node]\n",
    "      elif measure == \"closeness\":\n",
    "    # Calcola la centralità di prossimità del nodo\n",
    "        centrality = fun_closeness_centrality(G)[node]\n",
    "  else:\n",
    "    if measure == \"betweenness\":\n",
    "    # Calcola la centralità di intermediazione del nodo\n",
    "        centrality = fun_betweenness_centrality(G)[node]\n",
    "    elif measure == \"pagerank\":\n",
    "    # Calcola il PageRank del nodo\n",
    "        centrality = nx.pagerank(G)[node]\n",
    "    elif measure == \"degree\":\n",
    "    # Calcola la degree centrality del nodo\n",
    "        centrality = nx.degree_centrality(G)[node]\n",
    "    elif measure == \"closeness\":\n",
    "    # Calcola la centralità di prossimità del nodo\n",
    "        centrality = nx.closeness_centrality(G)[node]\n",
    "  return centrality"
   ]
  },
  {
   "cell_type": "code",
   "execution_count": null,
   "id": "0d218749",
   "metadata": {},
   "outputs": [],
   "source": [
    "fun_centrality(G2,\"A 157\",\"betweenness\")"
   ]
  },
  {
   "attachments": {},
   "cell_type": "markdown",
   "id": "bb7eb863",
   "metadata": {},
   "source": [
    "## 3. Frontend Implementation"
   ]
  },
  {
   "attachments": {},
   "cell_type": "markdown",
   "id": "1c22c917",
   "metadata": {},
   "source": [
    "### Visualization 1"
   ]
  },
  {
   "attachments": {},
   "cell_type": "markdown",
   "id": "ae3a5643",
   "metadata": {},
   "source": [
    "A table containing the following general information about the graph:\n",
    "\n",
    "- Number of nodes in the network\n",
    "- Density of the network\n",
    "- Average degree of the network\n",
    "- Whether the network is sparse or dense"
   ]
  },
  {
   "cell_type": "code",
   "execution_count": 93,
   "id": "c8048642",
   "metadata": {},
   "outputs": [
    {
     "name": "stdout",
     "output_type": "stream",
     "text": [
      "   Number of nodes   Density  Average degree netowrk type\n",
      "0             6420  0.027772      178.266355       SPARSE\n"
     ]
    }
   ],
   "source": [
    "dataG1 = {\n",
    "    \"Number of nodes\": n_nodesG1,\n",
    "    \"Density\": densityG1,\n",
    "    \"Average degree\": avg_degreeG1,\n",
    "    \"netowrk type\" : type_graphG1\n",
    "}\n",
    "df_G1 = pd.DataFrame(dataG1, index=[0])\n",
    "df_G1\n",
    "print(df_G1)"
   ]
  },
  {
   "cell_type": "code",
   "execution_count": 53,
   "id": "0f203fac",
   "metadata": {},
   "outputs": [
    {
     "name": "stdout",
     "output_type": "stream",
     "text": [
      "    nodes_hero  nodes_comic   Density  Average degree netowrk type\n",
      "0         6007        12651  0.000528         10.0701       SPARSE\n"
     ]
    }
   ],
   "source": [
    "dataG2 = {\n",
    "    \" nodes_hero\": count_hero,\n",
    "    \"nodes_comic\": count_comic,\n",
    "    \"Density\": densityG2,\n",
    "    \"Average degree\": avg_degreeG2,\n",
    "    \"netowrk type\" : type_graphG2\n",
    "}\n",
    "df_G2 = pd.DataFrame(dataG2, index=[0])\n",
    "df_G2\n",
    "print(df_G2)"
   ]
  },
  {
   "attachments": {},
   "cell_type": "markdown",
   "id": "323d311f",
   "metadata": {},
   "source": [
    "A table that lists the network's hubs"
   ]
  },
  {
   "cell_type": "code",
   "execution_count": 54,
   "id": "283ad8fd",
   "metadata": {},
   "outputs": [
    {
     "data": {
      "text/html": [
       "<div>\n",
       "<style scoped>\n",
       "    .dataframe tbody tr th:only-of-type {\n",
       "        vertical-align: middle;\n",
       "    }\n",
       "\n",
       "    .dataframe tbody tr th {\n",
       "        vertical-align: top;\n",
       "    }\n",
       "\n",
       "    .dataframe thead th {\n",
       "        text-align: right;\n",
       "    }\n",
       "</style>\n",
       "<table border=\"1\" class=\"dataframe\">\n",
       "  <thead>\n",
       "    <tr style=\"text-align: right;\">\n",
       "      <th></th>\n",
       "      <th>Hubs</th>\n",
       "    </tr>\n",
       "  </thead>\n",
       "  <tbody>\n",
       "    <tr>\n",
       "      <th>0</th>\n",
       "      <td>BLACK PANTHER/T'CHAL</td>\n",
       "    </tr>\n",
       "    <tr>\n",
       "      <th>1</th>\n",
       "      <td>IRON MAN/TONY STARK</td>\n",
       "    </tr>\n",
       "    <tr>\n",
       "      <th>2</th>\n",
       "      <td>IRON MAN IV/JAMES R.</td>\n",
       "    </tr>\n",
       "    <tr>\n",
       "      <th>3</th>\n",
       "      <td>JOCASTA</td>\n",
       "    </tr>\n",
       "    <tr>\n",
       "      <th>4</th>\n",
       "      <td>HOGAN, VIRGINIA PEPP</td>\n",
       "    </tr>\n",
       "    <tr>\n",
       "      <th>...</th>\n",
       "      <td>...</td>\n",
       "    </tr>\n",
       "    <tr>\n",
       "      <th>314</th>\n",
       "      <td>LIGHTSPEED/JULIE POW</td>\n",
       "    </tr>\n",
       "    <tr>\n",
       "      <th>315</th>\n",
       "      <td>PATRIOT/JEFF MACE</td>\n",
       "    </tr>\n",
       "    <tr>\n",
       "      <th>316</th>\n",
       "      <td>DIAMOND LIL/LILLIAN</td>\n",
       "    </tr>\n",
       "    <tr>\n",
       "      <th>317</th>\n",
       "      <td>STACY, GWEN</td>\n",
       "    </tr>\n",
       "    <tr>\n",
       "      <th>318</th>\n",
       "      <td>ROBERTSON, RANDY</td>\n",
       "    </tr>\n",
       "  </tbody>\n",
       "</table>\n",
       "<p>319 rows × 1 columns</p>\n",
       "</div>"
      ],
      "text/plain": [
       "                     Hubs\n",
       "0    BLACK PANTHER/T'CHAL\n",
       "1     IRON MAN/TONY STARK\n",
       "2    IRON MAN IV/JAMES R.\n",
       "3                 JOCASTA\n",
       "4    HOGAN, VIRGINIA PEPP\n",
       "..                    ...\n",
       "314  LIGHTSPEED/JULIE POW\n",
       "315     PATRIOT/JEFF MACE\n",
       "316   DIAMOND LIL/LILLIAN\n",
       "317           STACY, GWEN\n",
       "318      ROBERTSON, RANDY\n",
       "\n",
       "[319 rows x 1 columns]"
      ]
     },
     "execution_count": 54,
     "metadata": {},
     "output_type": "execute_result"
    }
   ],
   "source": [
    "# visualization of a table that lists the network's hubs\n",
    "df_hubs = pd.DataFrame(hubs(G1_weighted), columns=['Hubs'])\n",
    "df_hubs\n"
   ]
  },
  {
   "attachments": {},
   "cell_type": "markdown",
   "id": "2859ea88",
   "metadata": {},
   "source": [
    "A plot depicting the number of collaborations of each hero in descending order (if the graph is type 1)\n",
    "\n"
   ]
  },
  {
   "cell_type": "code",
   "execution_count": null,
   "id": "a018e2a4",
   "metadata": {},
   "outputs": [],
   "source": [
    "# A plot depicting the number of collaborations of each hero in descending order of G1\n",
    "plt.figure(figsize=(10,10))\n",
    "plt.bar(*zip(*sorted_degree_G1))\n",
    "plt.title(\"Number of collaborations of each hero in descending order of G1\")\n",
    "plt.xlabel(\"Hero\")\n",
    "plt.ylabel(\"Number of collaborations\")\n",
    "plt.show()"
   ]
  },
  {
   "attachments": {},
   "cell_type": "markdown",
   "id": "428dffa6",
   "metadata": {},
   "source": [
    "A plot depicting the number of heroes who appeared in each comic, sorted in descending order (if the graph is type 2)\n"
   ]
  },
  {
   "cell_type": "code",
   "execution_count": null,
   "id": "ed82d3b7",
   "metadata": {},
   "outputs": [
    {
     "data": {
      "image/png": "[encoded data removed]",
      "text/plain": [
       "<Figure size 720x360 with 1 Axes>"
      ]
     },
     "metadata": {
      "needs_background": "light"
     },
     "output_type": "display_data"
    }
   ],
   "source": [
    "plt.figure(figsize=(10,5))\n",
    "plt.hist(hero_appeard['hero'], bins=100)\n",
    "plt.xlabel('number of heroes')\n",
    "plt.ylabel('number of comics')\n",
    "plt.show()\n",
    "# plot the distribution of the number of heroes that have appeared in each comic of G2"
   ]
  },
  {
   "attachments": {},
   "cell_type": "markdown",
   "id": "e8e7f718",
   "metadata": {},
   "source": [
    "A plot depicting the degree distribution of the network\n"
   ]
  },
  {
   "cell_type": "code",
   "execution_count": null,
   "id": "5cba18f7",
   "metadata": {},
   "outputs": [],
   "source": [
    "plt.figure(figsize=(10,5))\n",
    "plt.hist(degree_G1, bins=50)\n",
    "plt.xlabel('degree')\n",
    "plt.ylabel('number of nodes')\n",
    "plt.show()\n",
    "#plot depicting the degree distribution of the network G1"
   ]
  },
  {
   "cell_type": "code",
   "execution_count": null,
   "id": "8b8c31ee",
   "metadata": {},
   "outputs": [],
   "source": [
    "plt.figure(figsize=(10,5))\n",
    "plt.bar(*zip(*sorted_degree_G1[:50]))\n",
    "plt.xlabel('degree')\n",
    "plt.ylabel('number of nodes')\n",
    "plt.show()\n",
    "# with the first 50 heroes of G1 and depicting the degree distribution of the networ"
   ]
  },
  {
   "cell_type": "code",
   "execution_count": null,
   "id": "ab560849",
   "metadata": {},
   "outputs": [],
   "source": [
    "plt.figure(figsize=(10,5))\n",
    "plt.hist(sorted_degreeG2, bins=50)\n",
    "plt.xlim(10, 400)\n",
    "plt.xlabel('degree')\n",
    "plt.ylabel('number of nodes')\n",
    "plt.show()"
   ]
  },
  {
   "cell_type": "code",
   "execution_count": null,
   "id": "847f2a37",
   "metadata": {},
   "outputs": [],
   "source": [
    "plt.xscale()\n",
    "plt.xlabel('degree')\n",
    "plt.ylabel('number of nodes')\n",
    "plt.show()\n",
    "#plot depicting the degree distribution of the network G2"
   ]
  },
  {
   "attachments": {},
   "cell_type": "markdown",
   "id": "b670a6e8",
   "metadata": {},
   "source": [
    "### Visualization 2 - Visualize centrality measure"
   ]
  },
  {
   "attachments": {},
   "cell_type": "markdown",
   "id": "d979a852",
   "metadata": {},
   "source": [
    "A table containing the information related to the requested centrality measure for:\n",
    "- The average of the requested centrality measure for all of the network's nodes"
   ]
  },
  {
   "cell_type": "code",
   "execution_count": 308,
   "id": "f4bca26c",
   "metadata": {},
   "outputs": [
    {
     "name": "stdout",
     "output_type": "stream",
     "text": [
      "Average of betweenness centrality of G2:  3.4147992016459226e-08\n"
     ]
    }
   ],
   "source": [
    "betweenness_centrality_dict = dict( fun_betweenness_centrality(G))\n",
    "def avg_betweenness_centrality(G):\n",
    "    return sum(betweenness_centrality_dict.values())/len(betweenness_centrality_dict)\n",
    "print(\"Average of betweenness centrality of the graph: \", avg_betweenness_centrality(G))\n",
    "data_betweenness = {node: avg_betweenness_centrality(G) for node in G.nodes()}\n",
    "df_betweenness= pd.DataFrame.from_dict(data_betweenness, orient='index', columns=['Average betweenness centrality'])"
   ]
  },
  {
   "cell_type": "code",
   "execution_count": 309,
   "id": "73f06127",
   "metadata": {},
   "outputs": [
    {
     "name": "stdout",
     "output_type": "stream",
     "text": [
      "Average of pagerank centrality of G2:  5.239155862424604e-05\n"
     ]
    }
   ],
   "source": [
    "pagereank_centrality_dict = dict( fun_pagerank_centrality(G))\n",
    "\n",
    "def avg_pagerank_centrality(G):\n",
    "    return sum(pagereank_centrality_dict.values())/len(pagereank_centrality_dict)\n",
    "print(\"Average of pagerank centrality of G2: \", avg_pagerank_centrality(G))\n",
    "\n",
    "data_pagerank= {node: avg_pagerank_centrality(G) for node in G.nodes()}\n",
    "df_pagerank= pd.DataFrame.from_dict(data_pagerank, orient='index', columns=['Average pagerank centrality'])\n"
   ]
  },
  {
   "cell_type": "code",
   "execution_count": 331,
   "id": "d2717b6e",
   "metadata": {},
   "outputs": [
    {
     "name": "stdout",
     "output_type": "stream",
     "text": [
      "Average of degree centrality of G2:  0.0005276116150449991\n"
     ]
    }
   ],
   "source": [
    "def fun_degree_centrality(G):\n",
    "  degree_centrality = {}\n",
    "  for node in G.nodes():\n",
    "    num_neighbors = len(list(G.neighbors(node)))\n",
    "    degree_centrality[node] = num_neighbors / (len(G) - 1)\n",
    "  return degree_centrality\n",
    "\n",
    "degree_centrality_dict = fun_degree_centrality(G)\n",
    "\n",
    "def avg_degree_centrality(degree_centrality):\n",
    "  total = 0\n",
    "  for value in degree_centrality.values():\n",
    "    total += value\n",
    "  return total / len(degree_centrality)\n",
    "\n",
    "print(\"Average of degree centrality of the graph: \", avg_degree_centrality(degree_centrality_dict))"
   ]
  },
  {
   "cell_type": "code",
   "execution_count": null,
   "id": "54a9231c",
   "metadata": {},
   "outputs": [],
   "source": [
    "def avg_closeness_centrality(G):\n",
    "  total_closeness = 0\n",
    "  for node in G.nodes():\n",
    "    total_closeness += fun_closeness_centrality(G, node)\n",
    "  return total_closeness / len(G)\n",
    "\n",
    "print(\"Average of closeness centrality of G2: \", avg_closeness_centrality(G))"
   ]
  },
  {
   "cell_type": "code",
   "execution_count": null,
   "id": "5f678c92",
   "metadata": {},
   "outputs": [],
   "source": [
    "# oppuree\n",
    "#def avg_closeness_centrality(G2, node):\n",
    "  #total_closeness = 0\n",
    "  #for n in G2.nodes():\n",
    "    #total_closeness += fun_closeness_centrality(G2, n)\n",
    "  #return total_closeness / len(G2)\n",
    "\n",
    "#data_closeness_G2 = {node: avg_closeness_centrality(G2, node) for node in G2.nodes()}\n",
    "#df_closeness_G2 = pd.DataFrame.from_dict(data_closeness_G2, orient='index', columns=['Average closeness centrality'])"
   ]
  },
  {
   "cell_type": "code",
   "execution_count": null,
   "id": "d10d49b2",
   "metadata": {},
   "outputs": [],
   "source": [
    "#create a table of average degree centrality for all nodes of G\n",
    "data_degree = {node: avg_degree_centrality(degree_centrality_dict) for node in G.nodes()}\n",
    "df_degree= pd.DataFrame.from_dict(data_degree, orient='index', columns=['Average degree centrality'])\n",
    "#print the table of average degree centrality for all nodes of G\n",
    "print(df_degree)"
   ]
  },
  {
   "attachments": {},
   "cell_type": "markdown",
   "id": "cf41fbd1",
   "metadata": {},
   "source": [
    "- The requested centrality measure's value for the given node"
   ]
  },
  {
   "cell_type": "code",
   "execution_count": null,
   "id": "c114e574",
   "metadata": {},
   "outputs": [],
   "source": [
    "def fun_centrality_table(G, node, measure=\"betweenness\"):\n",
    "  if measure == \"betweenness\":\n",
    "    # Define the function fun_betweenness_centrality here\n",
    "    centrality = fun_betweenness_centrality(G, node)\n",
    "  elif measure == \"pagerank\":\n",
    "    # Define the function fun_pagerank_centrality here\n",
    "    centrality = fun_pagerank_centrality(G, node)\n",
    "  elif measure == \"degree\":\n",
    "    # Define the function fun_degree_centrality here\n",
    "    centrality = fun_degree_centrality(G, node)\n",
    "  elif measure == \"closeness\":\n",
    "    # Calcola la centralità di prossimità del nodo\n",
    "    centrality = fun_closeness_centrality(G, node)\n",
    "  else:\n",
    "    raise ValueError(\"Misura di centralità non supportata\")\n",
    "  df_centrality = pd.DataFrame(centrality, index=[0])\n",
    "  return df_centrality\n",
    "\n",
    "# Example usage of the function\n",
    "df_centrality = fun_centrality_table(G, node, measure)\n",
    "print(df_centrality)\n",
    "\n"
   ]
  },
  {
   "cell_type": "code",
   "execution_count": null,
   "id": "b740391a",
   "metadata": {},
   "outputs": [],
   "source": [
    "# Calculate the degree centrality for all nodes in the graph\n",
    "degree_centrality = {node: fun_degree_centrality(G) for node in list(G.nodes())[:10]}\n",
    "\n",
    "# Convert the degree centrality dictionary to a Pandas dataframe\n",
    "df_degree = pd.DataFrame.from_dict(degree_centrality, orient='index', columns=['Degree centrality'])\n",
    "\n",
    "# Display the table\n",
    "print(df_degree)"
   ]
  },
  {
   "cell_type": "code",
   "execution_count": null,
   "id": "b6737615",
   "metadata": {},
   "outputs": [],
   "source": [
    "# calculate just for the first 10 nodes\n",
    "closeness_centrality = {node: fun_closeness_centrality(G, node) for node in list(G.nodes())[:10]}\n",
    "# Convert the closeness centrality dictionary to a Pandas dataframe\n",
    "df_closeness = pd.DataFrame.from_dict(closeness_centrality, orient='index', columns=['Closeness centrality'])\n",
    "\n",
    "# Display the table\n",
    "print(df_closeness)"
   ]
  },
  {
   "cell_type": "code",
   "execution_count": null,
   "id": "5425c71e",
   "metadata": {},
   "outputs": [],
   "source": [
    "df_betweenness = pd.DataFrame.from_dict(fun_betweenness_centrality, orient='index', columns=['Betweenness centrality'])\n",
    "print(df_betweenness)\n",
    "df_pagerank = pd.DataFrame.from_dict(fun_pagerank_centrality, orient='index', columns=['Pagerank centrality'])\n",
    "print(df_pagerank)\n",
    "df_closeness = pd.DataFrame.from_dict(fun_closeness_centrality, orient='index', columns=['Closeness centrality'])\n",
    "print(df_closeness)"
   ]
  }
 ],
 "metadata": {
  "kernelspec": {
   "display_name": "Python 3",
   "language": "python",
   "name": "python3"
  },
  "language_info": {
   "codemirror_mode": {
    "name": "ipython",
    "version": 3
   },
   "file_extension": ".py",
   "mimetype": "text/x-python",
   "name": "python",
   "nbconvert_exporter": "python",
   "pygments_lexer": "ipython3",
   "version": "3.9.12"
  },
  "vscode": {
   "interpreter": {
    "hash": "7ad5f07e47999a310a3dbc65802d3b3fe2a48b9a4836e8b2abc370029f0364e6"
   }
  }
 },
 "nbformat": 4,
 "nbformat_minor": 5
}
