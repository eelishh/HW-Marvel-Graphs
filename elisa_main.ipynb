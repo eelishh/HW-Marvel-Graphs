{
 "cells": [
  {
   "cell_type": "code",
   "execution_count": 1,
   "id": "524f2d4a",
   "metadata": {},
   "outputs": [],
   "source": [
    "import pandas as pd\n",
    "import matplotlib.pyplot as plt\n",
    "import networkx as nx\n",
    "import numpy as np\n",
    "from collections import deque\n",
    "from collections import defaultdict\n",
    "import random\n",
    "from collections import Counter\n",
    "from networkx import to_numpy_array"
   ]
  },
  {
   "cell_type": "markdown",
   "id": "0c075550",
   "metadata": {},
   "source": [
    "# 1. Data"
   ]
  },
  {
   "cell_type": "code",
   "execution_count": 2,
   "id": "c3d5b2ed",
   "metadata": {},
   "outputs": [],
   "source": [
    "df_hero_net = pd.read_csv(r\"hero-network.csv\")\n",
    "df_edges = pd.read_csv(r\"edges.csv\")\n",
    "df_nodes = pd.read_csv(r\"nodes.csv\")"
   ]
  },
  {
   "cell_type": "code",
   "execution_count": 3,
   "id": "b96987eb",
   "metadata": {},
   "outputs": [
    {
     "data": {
      "text/html": [
       "<div>\n",
       "<style scoped>\n",
       "    .dataframe tbody tr th:only-of-type {\n",
       "        vertical-align: middle;\n",
       "    }\n",
       "\n",
       "    .dataframe tbody tr th {\n",
       "        vertical-align: top;\n",
       "    }\n",
       "\n",
       "    .dataframe thead th {\n",
       "        text-align: right;\n",
       "    }\n",
       "</style>\n",
       "<table border=\"1\" class=\"dataframe\">\n",
       "  <thead>\n",
       "    <tr style=\"text-align: right;\">\n",
       "      <th></th>\n",
       "      <th>hero1</th>\n",
       "      <th>hero2</th>\n",
       "    </tr>\n",
       "  </thead>\n",
       "  <tbody>\n",
       "    <tr>\n",
       "      <th>0</th>\n",
       "      <td>LITTLE, ABNER</td>\n",
       "      <td>PRINCESS ZANDA</td>\n",
       "    </tr>\n",
       "    <tr>\n",
       "      <th>1</th>\n",
       "      <td>LITTLE, ABNER</td>\n",
       "      <td>BLACK PANTHER/T'CHAL</td>\n",
       "    </tr>\n",
       "    <tr>\n",
       "      <th>2</th>\n",
       "      <td>BLACK PANTHER/T'CHAL</td>\n",
       "      <td>PRINCESS ZANDA</td>\n",
       "    </tr>\n",
       "    <tr>\n",
       "      <th>3</th>\n",
       "      <td>LITTLE, ABNER</td>\n",
       "      <td>PRINCESS ZANDA</td>\n",
       "    </tr>\n",
       "    <tr>\n",
       "      <th>4</th>\n",
       "      <td>LITTLE, ABNER</td>\n",
       "      <td>BLACK PANTHER/T'CHAL</td>\n",
       "    </tr>\n",
       "    <tr>\n",
       "      <th>...</th>\n",
       "      <td>...</td>\n",
       "      <td>...</td>\n",
       "    </tr>\n",
       "    <tr>\n",
       "      <th>574462</th>\n",
       "      <td>COLOSSUS II/PETER RA</td>\n",
       "      <td>CALLISTO</td>\n",
       "    </tr>\n",
       "    <tr>\n",
       "      <th>574463</th>\n",
       "      <td>CALLISTO</td>\n",
       "      <td>ROGUE /</td>\n",
       "    </tr>\n",
       "    <tr>\n",
       "      <th>574464</th>\n",
       "      <td>CALLISTO</td>\n",
       "      <td>CALIBAN/</td>\n",
       "    </tr>\n",
       "    <tr>\n",
       "      <th>574465</th>\n",
       "      <td>CALIBAN/</td>\n",
       "      <td>ROGUE /</td>\n",
       "    </tr>\n",
       "    <tr>\n",
       "      <th>574466</th>\n",
       "      <td>HULK/DR. ROBERT BRUC</td>\n",
       "      <td>MARKS, DR. SHIELA</td>\n",
       "    </tr>\n",
       "  </tbody>\n",
       "</table>\n",
       "<p>574467 rows × 2 columns</p>\n",
       "</div>"
      ],
      "text/plain": [
       "                       hero1                 hero2\n",
       "0              LITTLE, ABNER        PRINCESS ZANDA\n",
       "1              LITTLE, ABNER  BLACK PANTHER/T'CHAL\n",
       "2       BLACK PANTHER/T'CHAL        PRINCESS ZANDA\n",
       "3              LITTLE, ABNER        PRINCESS ZANDA\n",
       "4              LITTLE, ABNER  BLACK PANTHER/T'CHAL\n",
       "...                      ...                   ...\n",
       "574462  COLOSSUS II/PETER RA              CALLISTO\n",
       "574463              CALLISTO               ROGUE /\n",
       "574464              CALLISTO              CALIBAN/\n",
       "574465              CALIBAN/               ROGUE /\n",
       "574466  HULK/DR. ROBERT BRUC     MARKS, DR. SHIELA\n",
       "\n",
       "[574467 rows x 2 columns]"
      ]
     },
     "execution_count": 3,
     "metadata": {},
     "output_type": "execute_result"
    }
   ],
   "source": [
    "df_hero_net"
   ]
  },
  {
   "cell_type": "code",
   "execution_count": 4,
   "id": "469d9a4f",
   "metadata": {},
   "outputs": [
    {
     "data": {
      "text/html": [
       "<div>\n",
       "<style scoped>\n",
       "    .dataframe tbody tr th:only-of-type {\n",
       "        vertical-align: middle;\n",
       "    }\n",
       "\n",
       "    .dataframe tbody tr th {\n",
       "        vertical-align: top;\n",
       "    }\n",
       "\n",
       "    .dataframe thead th {\n",
       "        text-align: right;\n",
       "    }\n",
       "</style>\n",
       "<table border=\"1\" class=\"dataframe\">\n",
       "  <thead>\n",
       "    <tr style=\"text-align: right;\">\n",
       "      <th></th>\n",
       "      <th>hero</th>\n",
       "      <th>comic</th>\n",
       "    </tr>\n",
       "  </thead>\n",
       "  <tbody>\n",
       "    <tr>\n",
       "      <th>0</th>\n",
       "      <td>24-HOUR MAN/EMMANUEL</td>\n",
       "      <td>AA2 35</td>\n",
       "    </tr>\n",
       "    <tr>\n",
       "      <th>1</th>\n",
       "      <td>3-D MAN/CHARLES CHAN</td>\n",
       "      <td>AVF 4</td>\n",
       "    </tr>\n",
       "    <tr>\n",
       "      <th>2</th>\n",
       "      <td>3-D MAN/CHARLES CHAN</td>\n",
       "      <td>AVF 5</td>\n",
       "    </tr>\n",
       "    <tr>\n",
       "      <th>3</th>\n",
       "      <td>3-D MAN/CHARLES CHAN</td>\n",
       "      <td>COC 1</td>\n",
       "    </tr>\n",
       "    <tr>\n",
       "      <th>4</th>\n",
       "      <td>3-D MAN/CHARLES CHAN</td>\n",
       "      <td>H2 251</td>\n",
       "    </tr>\n",
       "    <tr>\n",
       "      <th>...</th>\n",
       "      <td>...</td>\n",
       "      <td>...</td>\n",
       "    </tr>\n",
       "    <tr>\n",
       "      <th>96099</th>\n",
       "      <td>ZZZAX</td>\n",
       "      <td>H2 326</td>\n",
       "    </tr>\n",
       "    <tr>\n",
       "      <th>96100</th>\n",
       "      <td>ZZZAX</td>\n",
       "      <td>H2 327</td>\n",
       "    </tr>\n",
       "    <tr>\n",
       "      <th>96101</th>\n",
       "      <td>ZZZAX</td>\n",
       "      <td>M/CP 8/4</td>\n",
       "    </tr>\n",
       "    <tr>\n",
       "      <th>96102</th>\n",
       "      <td>ZZZAX</td>\n",
       "      <td>PM 47</td>\n",
       "    </tr>\n",
       "    <tr>\n",
       "      <th>96103</th>\n",
       "      <td>ZZZAX</td>\n",
       "      <td>WCA2 12</td>\n",
       "    </tr>\n",
       "  </tbody>\n",
       "</table>\n",
       "<p>96104 rows × 2 columns</p>\n",
       "</div>"
      ],
      "text/plain": [
       "                       hero     comic\n",
       "0      24-HOUR MAN/EMMANUEL    AA2 35\n",
       "1      3-D MAN/CHARLES CHAN     AVF 4\n",
       "2      3-D MAN/CHARLES CHAN     AVF 5\n",
       "3      3-D MAN/CHARLES CHAN     COC 1\n",
       "4      3-D MAN/CHARLES CHAN    H2 251\n",
       "...                     ...       ...\n",
       "96099                 ZZZAX    H2 326\n",
       "96100                 ZZZAX    H2 327\n",
       "96101                 ZZZAX  M/CP 8/4\n",
       "96102                 ZZZAX     PM 47\n",
       "96103                 ZZZAX   WCA2 12\n",
       "\n",
       "[96104 rows x 2 columns]"
      ]
     },
     "execution_count": 4,
     "metadata": {},
     "output_type": "execute_result"
    }
   ],
   "source": [
    "df_edges"
   ]
  },
  {
   "cell_type": "code",
   "execution_count": 5,
   "id": "b952a4aa",
   "metadata": {},
   "outputs": [
    {
     "data": {
      "text/html": [
       "<div>\n",
       "<style scoped>\n",
       "    .dataframe tbody tr th:only-of-type {\n",
       "        vertical-align: middle;\n",
       "    }\n",
       "\n",
       "    .dataframe tbody tr th {\n",
       "        vertical-align: top;\n",
       "    }\n",
       "\n",
       "    .dataframe thead th {\n",
       "        text-align: right;\n",
       "    }\n",
       "</style>\n",
       "<table border=\"1\" class=\"dataframe\">\n",
       "  <thead>\n",
       "    <tr style=\"text-align: right;\">\n",
       "      <th></th>\n",
       "      <th>node</th>\n",
       "      <th>type</th>\n",
       "    </tr>\n",
       "  </thead>\n",
       "  <tbody>\n",
       "    <tr>\n",
       "      <th>0</th>\n",
       "      <td>2001 10</td>\n",
       "      <td>comic</td>\n",
       "    </tr>\n",
       "    <tr>\n",
       "      <th>1</th>\n",
       "      <td>2001 8</td>\n",
       "      <td>comic</td>\n",
       "    </tr>\n",
       "    <tr>\n",
       "      <th>2</th>\n",
       "      <td>2001 9</td>\n",
       "      <td>comic</td>\n",
       "    </tr>\n",
       "    <tr>\n",
       "      <th>3</th>\n",
       "      <td>24-HOUR MAN/EMMANUEL</td>\n",
       "      <td>hero</td>\n",
       "    </tr>\n",
       "    <tr>\n",
       "      <th>4</th>\n",
       "      <td>3-D MAN/CHARLES CHAN</td>\n",
       "      <td>hero</td>\n",
       "    </tr>\n",
       "    <tr>\n",
       "      <th>...</th>\n",
       "      <td>...</td>\n",
       "      <td>...</td>\n",
       "    </tr>\n",
       "    <tr>\n",
       "      <th>19085</th>\n",
       "      <td>ZOTA, CARLO</td>\n",
       "      <td>hero</td>\n",
       "    </tr>\n",
       "    <tr>\n",
       "      <th>19086</th>\n",
       "      <td>ZOTA</td>\n",
       "      <td>hero</td>\n",
       "    </tr>\n",
       "    <tr>\n",
       "      <th>19087</th>\n",
       "      <td>ZURAS</td>\n",
       "      <td>hero</td>\n",
       "    </tr>\n",
       "    <tr>\n",
       "      <th>19088</th>\n",
       "      <td>ZURI</td>\n",
       "      <td>hero</td>\n",
       "    </tr>\n",
       "    <tr>\n",
       "      <th>19089</th>\n",
       "      <td>ZZZAX</td>\n",
       "      <td>hero</td>\n",
       "    </tr>\n",
       "  </tbody>\n",
       "</table>\n",
       "<p>19090 rows × 2 columns</p>\n",
       "</div>"
      ],
      "text/plain": [
       "                       node   type\n",
       "0                   2001 10  comic\n",
       "1                    2001 8  comic\n",
       "2                    2001 9  comic\n",
       "3      24-HOUR MAN/EMMANUEL   hero\n",
       "4      3-D MAN/CHARLES CHAN   hero\n",
       "...                     ...    ...\n",
       "19085           ZOTA, CARLO   hero\n",
       "19086                  ZOTA   hero\n",
       "19087                 ZURAS   hero\n",
       "19088                  ZURI   hero\n",
       "19089                 ZZZAX   hero\n",
       "\n",
       "[19090 rows x 2 columns]"
      ]
     },
     "execution_count": 5,
     "metadata": {},
     "output_type": "execute_result"
    }
   ],
   "source": [
    "df_nodes"
   ]
  },
  {
   "cell_type": "code",
   "execution_count": 6,
   "id": "4df0bd4f",
   "metadata": {},
   "outputs": [
    {
     "data": {
      "text/plain": [
       "(19090, 2)"
      ]
     },
     "execution_count": 6,
     "metadata": {},
     "output_type": "execute_result"
    }
   ],
   "source": [
    "df_nodes.shape"
   ]
  },
  {
   "cell_type": "code",
   "execution_count": 7,
   "id": "878b715f",
   "metadata": {},
   "outputs": [
    {
     "name": "stdout",
     "output_type": "stream",
     "text": [
      "node    12651\n",
      "type    12651\n",
      "dtype: int64 node    6439\n",
      "type    6439\n",
      "dtype: int64\n"
     ]
    }
   ],
   "source": [
    "n_comics = df_nodes[df_nodes.type == 'comic'].count()\n",
    "n_heros = df_nodes[df_nodes.type == 'hero'].count()\n",
    "print(n_comics, n_heros)"
   ]
  },
  {
   "cell_type": "markdown",
   "id": "386da114",
   "metadata": {},
   "source": [
    "## 1.1 Pre-processing "
   ]
  },
  {
   "cell_type": "code",
   "execution_count": 8,
   "id": "c6ef36d5",
   "metadata": {},
   "outputs": [],
   "source": [
    "#We remove extra spaces and '/' at the end of the names in the datasets. "
   ]
  },
  {
   "cell_type": "code",
   "execution_count": 8,
   "id": "bb37581f",
   "metadata": {},
   "outputs": [],
   "source": [
    "df_hero_net[\"hero1\"] = df_hero_net[\"hero1\"].apply(lambda x: x[0:-1] if list(x)[-1] in [' ', '/'] else x)\n",
    "df_hero_net[\"hero2\"] = df_hero_net[\"hero2\"].apply(lambda x: x[0:-1] if list(x)[-1] in [' ', '/'] else x)"
   ]
  },
  {
   "cell_type": "code",
   "execution_count": 9,
   "id": "81fd9bc7",
   "metadata": {},
   "outputs": [
    {
     "data": {
      "text/html": [
       "<div>\n",
       "<style scoped>\n",
       "    .dataframe tbody tr th:only-of-type {\n",
       "        vertical-align: middle;\n",
       "    }\n",
       "\n",
       "    .dataframe tbody tr th {\n",
       "        vertical-align: top;\n",
       "    }\n",
       "\n",
       "    .dataframe thead th {\n",
       "        text-align: right;\n",
       "    }\n",
       "</style>\n",
       "<table border=\"1\" class=\"dataframe\">\n",
       "  <thead>\n",
       "    <tr style=\"text-align: right;\">\n",
       "      <th></th>\n",
       "      <th>hero1</th>\n",
       "      <th>hero2</th>\n",
       "    </tr>\n",
       "  </thead>\n",
       "  <tbody>\n",
       "    <tr>\n",
       "      <th>0</th>\n",
       "      <td>LITTLE, ABNER</td>\n",
       "      <td>PRINCESS ZANDA</td>\n",
       "    </tr>\n",
       "    <tr>\n",
       "      <th>1</th>\n",
       "      <td>LITTLE, ABNER</td>\n",
       "      <td>BLACK PANTHER/T'CHAL</td>\n",
       "    </tr>\n",
       "    <tr>\n",
       "      <th>2</th>\n",
       "      <td>BLACK PANTHER/T'CHAL</td>\n",
       "      <td>PRINCESS ZANDA</td>\n",
       "    </tr>\n",
       "    <tr>\n",
       "      <th>3</th>\n",
       "      <td>LITTLE, ABNER</td>\n",
       "      <td>PRINCESS ZANDA</td>\n",
       "    </tr>\n",
       "    <tr>\n",
       "      <th>4</th>\n",
       "      <td>LITTLE, ABNER</td>\n",
       "      <td>BLACK PANTHER/T'CHAL</td>\n",
       "    </tr>\n",
       "    <tr>\n",
       "      <th>...</th>\n",
       "      <td>...</td>\n",
       "      <td>...</td>\n",
       "    </tr>\n",
       "    <tr>\n",
       "      <th>574462</th>\n",
       "      <td>COLOSSUS II/PETER RA</td>\n",
       "      <td>CALLISTO</td>\n",
       "    </tr>\n",
       "    <tr>\n",
       "      <th>574463</th>\n",
       "      <td>CALLISTO</td>\n",
       "      <td>ROGUE</td>\n",
       "    </tr>\n",
       "    <tr>\n",
       "      <th>574464</th>\n",
       "      <td>CALLISTO</td>\n",
       "      <td>CALIBAN</td>\n",
       "    </tr>\n",
       "    <tr>\n",
       "      <th>574465</th>\n",
       "      <td>CALIBAN</td>\n",
       "      <td>ROGUE</td>\n",
       "    </tr>\n",
       "    <tr>\n",
       "      <th>574466</th>\n",
       "      <td>HULK/DR. ROBERT BRUC</td>\n",
       "      <td>MARKS, DR. SHIELA</td>\n",
       "    </tr>\n",
       "  </tbody>\n",
       "</table>\n",
       "<p>574467 rows × 2 columns</p>\n",
       "</div>"
      ],
      "text/plain": [
       "                       hero1                 hero2\n",
       "0              LITTLE, ABNER        PRINCESS ZANDA\n",
       "1              LITTLE, ABNER  BLACK PANTHER/T'CHAL\n",
       "2       BLACK PANTHER/T'CHAL        PRINCESS ZANDA\n",
       "3              LITTLE, ABNER        PRINCESS ZANDA\n",
       "4              LITTLE, ABNER  BLACK PANTHER/T'CHAL\n",
       "...                      ...                   ...\n",
       "574462  COLOSSUS II/PETER RA              CALLISTO\n",
       "574463              CALLISTO                ROGUE \n",
       "574464              CALLISTO               CALIBAN\n",
       "574465               CALIBAN                ROGUE \n",
       "574466  HULK/DR. ROBERT BRUC     MARKS, DR. SHIELA\n",
       "\n",
       "[574467 rows x 2 columns]"
      ]
     },
     "execution_count": 9,
     "metadata": {},
     "output_type": "execute_result"
    }
   ],
   "source": [
    "df_hero_net"
   ]
  },
  {
   "cell_type": "code",
   "execution_count": 10,
   "id": "b753b8c8",
   "metadata": {},
   "outputs": [],
   "source": [
    "df_edges[\"hero\"] = df_edges[\"hero\"].apply(lambda x: x[0:-1] if list(x)[-1] in [' ', '/'] else x)\n",
    "df_edges[\"comic\"] = df_edges[\"comic\"].apply(lambda x: x[0:-1] if list(x)[-1] in [' ', '/'] else x)"
   ]
  },
  {
   "cell_type": "code",
   "execution_count": 13,
   "id": "32a85048",
   "metadata": {},
   "outputs": [
    {
     "data": {
      "text/html": [
       "<div>\n",
       "<style scoped>\n",
       "    .dataframe tbody tr th:only-of-type {\n",
       "        vertical-align: middle;\n",
       "    }\n",
       "\n",
       "    .dataframe tbody tr th {\n",
       "        vertical-align: top;\n",
       "    }\n",
       "\n",
       "    .dataframe thead th {\n",
       "        text-align: right;\n",
       "    }\n",
       "</style>\n",
       "<table border=\"1\" class=\"dataframe\">\n",
       "  <thead>\n",
       "    <tr style=\"text-align: right;\">\n",
       "      <th></th>\n",
       "      <th>hero</th>\n",
       "      <th>comic</th>\n",
       "    </tr>\n",
       "  </thead>\n",
       "  <tbody>\n",
       "    <tr>\n",
       "      <th>0</th>\n",
       "      <td>24-HOUR MAN/EMMANUEL</td>\n",
       "      <td>AA2 35</td>\n",
       "    </tr>\n",
       "    <tr>\n",
       "      <th>1</th>\n",
       "      <td>3-D MAN/CHARLES CHAN</td>\n",
       "      <td>AVF 4</td>\n",
       "    </tr>\n",
       "    <tr>\n",
       "      <th>2</th>\n",
       "      <td>3-D MAN/CHARLES CHAN</td>\n",
       "      <td>AVF 5</td>\n",
       "    </tr>\n",
       "    <tr>\n",
       "      <th>3</th>\n",
       "      <td>3-D MAN/CHARLES CHAN</td>\n",
       "      <td>COC 1</td>\n",
       "    </tr>\n",
       "    <tr>\n",
       "      <th>4</th>\n",
       "      <td>3-D MAN/CHARLES CHAN</td>\n",
       "      <td>H2 251</td>\n",
       "    </tr>\n",
       "    <tr>\n",
       "      <th>...</th>\n",
       "      <td>...</td>\n",
       "      <td>...</td>\n",
       "    </tr>\n",
       "    <tr>\n",
       "      <th>96099</th>\n",
       "      <td>ZZZAX</td>\n",
       "      <td>H2 326</td>\n",
       "    </tr>\n",
       "    <tr>\n",
       "      <th>96100</th>\n",
       "      <td>ZZZAX</td>\n",
       "      <td>H2 327</td>\n",
       "    </tr>\n",
       "    <tr>\n",
       "      <th>96101</th>\n",
       "      <td>ZZZAX</td>\n",
       "      <td>M/CP 8/4</td>\n",
       "    </tr>\n",
       "    <tr>\n",
       "      <th>96102</th>\n",
       "      <td>ZZZAX</td>\n",
       "      <td>PM 47</td>\n",
       "    </tr>\n",
       "    <tr>\n",
       "      <th>96103</th>\n",
       "      <td>ZZZAX</td>\n",
       "      <td>WCA2 12</td>\n",
       "    </tr>\n",
       "  </tbody>\n",
       "</table>\n",
       "<p>96104 rows × 2 columns</p>\n",
       "</div>"
      ],
      "text/plain": [
       "                       hero     comic\n",
       "0      24-HOUR MAN/EMMANUEL    AA2 35\n",
       "1      3-D MAN/CHARLES CHAN     AVF 4\n",
       "2      3-D MAN/CHARLES CHAN     AVF 5\n",
       "3      3-D MAN/CHARLES CHAN     COC 1\n",
       "4      3-D MAN/CHARLES CHAN    H2 251\n",
       "...                     ...       ...\n",
       "96099                 ZZZAX    H2 326\n",
       "96100                 ZZZAX    H2 327\n",
       "96101                 ZZZAX  M/CP 8/4\n",
       "96102                 ZZZAX     PM 47\n",
       "96103                 ZZZAX   WCA2 12\n",
       "\n",
       "[96104 rows x 2 columns]"
      ]
     },
     "execution_count": 13,
     "metadata": {},
     "output_type": "execute_result"
    }
   ],
   "source": [
    "df_edges"
   ]
  },
  {
   "cell_type": "code",
   "execution_count": 14,
   "id": "7443e079",
   "metadata": {},
   "outputs": [],
   "source": [
    "df_nodes[\"node\"] = df_nodes[\"node\"].apply(lambda x: x[0:-1] if list(x)[-1] in [' ', '/'] else x)"
   ]
  },
  {
   "cell_type": "code",
   "execution_count": 15,
   "id": "83bdffd1",
   "metadata": {},
   "outputs": [
    {
     "data": {
      "text/html": [
       "<div>\n",
       "<style scoped>\n",
       "    .dataframe tbody tr th:only-of-type {\n",
       "        vertical-align: middle;\n",
       "    }\n",
       "\n",
       "    .dataframe tbody tr th {\n",
       "        vertical-align: top;\n",
       "    }\n",
       "\n",
       "    .dataframe thead th {\n",
       "        text-align: right;\n",
       "    }\n",
       "</style>\n",
       "<table border=\"1\" class=\"dataframe\">\n",
       "  <thead>\n",
       "    <tr style=\"text-align: right;\">\n",
       "      <th></th>\n",
       "      <th>node</th>\n",
       "      <th>type</th>\n",
       "    </tr>\n",
       "  </thead>\n",
       "  <tbody>\n",
       "    <tr>\n",
       "      <th>0</th>\n",
       "      <td>2001 10</td>\n",
       "      <td>comic</td>\n",
       "    </tr>\n",
       "    <tr>\n",
       "      <th>1</th>\n",
       "      <td>2001 8</td>\n",
       "      <td>comic</td>\n",
       "    </tr>\n",
       "    <tr>\n",
       "      <th>2</th>\n",
       "      <td>2001 9</td>\n",
       "      <td>comic</td>\n",
       "    </tr>\n",
       "    <tr>\n",
       "      <th>3</th>\n",
       "      <td>24-HOUR MAN/EMMANUEL</td>\n",
       "      <td>hero</td>\n",
       "    </tr>\n",
       "    <tr>\n",
       "      <th>4</th>\n",
       "      <td>3-D MAN/CHARLES CHAN</td>\n",
       "      <td>hero</td>\n",
       "    </tr>\n",
       "    <tr>\n",
       "      <th>...</th>\n",
       "      <td>...</td>\n",
       "      <td>...</td>\n",
       "    </tr>\n",
       "    <tr>\n",
       "      <th>19085</th>\n",
       "      <td>ZOTA, CARLO</td>\n",
       "      <td>hero</td>\n",
       "    </tr>\n",
       "    <tr>\n",
       "      <th>19086</th>\n",
       "      <td>ZOTA</td>\n",
       "      <td>hero</td>\n",
       "    </tr>\n",
       "    <tr>\n",
       "      <th>19087</th>\n",
       "      <td>ZURAS</td>\n",
       "      <td>hero</td>\n",
       "    </tr>\n",
       "    <tr>\n",
       "      <th>19088</th>\n",
       "      <td>ZURI</td>\n",
       "      <td>hero</td>\n",
       "    </tr>\n",
       "    <tr>\n",
       "      <th>19089</th>\n",
       "      <td>ZZZAX</td>\n",
       "      <td>hero</td>\n",
       "    </tr>\n",
       "  </tbody>\n",
       "</table>\n",
       "<p>19090 rows × 2 columns</p>\n",
       "</div>"
      ],
      "text/plain": [
       "                       node   type\n",
       "0                   2001 10  comic\n",
       "1                    2001 8  comic\n",
       "2                    2001 9  comic\n",
       "3      24-HOUR MAN/EMMANUEL   hero\n",
       "4      3-D MAN/CHARLES CHAN   hero\n",
       "...                     ...    ...\n",
       "19085           ZOTA, CARLO   hero\n",
       "19086                  ZOTA   hero\n",
       "19087                 ZURAS   hero\n",
       "19088                  ZURI   hero\n",
       "19089                 ZZZAX   hero\n",
       "\n",
       "[19090 rows x 2 columns]"
      ]
     },
     "execution_count": 15,
     "metadata": {},
     "output_type": "execute_result"
    }
   ],
   "source": [
    "df_nodes"
   ]
  },
  {
   "cell_type": "markdown",
   "id": "b13042df",
   "metadata": {},
   "source": [
    " We fix the 'spider-man/peter parker' error in the datasets."
   ]
  },
  {
   "cell_type": "code",
   "execution_count": 16,
   "id": "0eea43e2",
   "metadata": {},
   "outputs": [],
   "source": [
    "df_hero_net = df_hero_net.replace('SPIDER-MAN/PETER PAR','SPIDER-MAN/PETER PARKER', regex=True)"
   ]
  },
  {
   "cell_type": "code",
   "execution_count": 17,
   "id": "ca33b04f",
   "metadata": {},
   "outputs": [],
   "source": [
    "df_nodes.node = df_nodes.node.replace('SPIDER-MAN/PETER PARKERKER','SPIDER-MAN/PETER PARKER', regex=True)"
   ]
  },
  {
   "cell_type": "markdown",
   "id": "90ede62e",
   "metadata": {},
   "source": [
    "We check if the error is fixed and if there are other similar errors in the datasets."
   ]
  },
  {
   "cell_type": "markdown",
   "id": "17bb6233",
   "metadata": {},
   "source": [
    "At first, we check the hero names."
   ]
  },
  {
   "cell_type": "code",
   "execution_count": 18,
   "id": "50cfc50f",
   "metadata": {},
   "outputs": [
    {
     "name": "stdout",
     "output_type": "stream",
     "text": [
      "{'RED WOLF II', 'SEA LEOPARD', 'CALLAHAN, DANNY', 'FENRIS', 'DEATHCHARGE', 'KULL', 'SHARKSKIN', 'BERSERKER II', 'GIURESCU, RADU', 'BLARE', 'LUNATIK II', 'RANDAK', 'CLUMSY FOULUP', 'MARVEL BOY II/MARTIN', 'RUNE', 'ZANTOR', 'JOHNSON, LYNDON BAIN', 'GERVASE, LADY ALYSSA'}\n",
      "set()\n"
     ]
    }
   ],
   "source": [
    "hero_edges = set(df_edges.hero)\n",
    "hero_heronet = set(df_hero_net.hero1).union(set(df_hero_net.hero2))\n",
    "hero_nodes = set(df_nodes.loc[df_nodes.type=='hero']['node'])\n",
    "\n",
    "print(hero_edges - hero_heronet)\n",
    "print(hero_heronet - hero_edges)"
   ]
  },
  {
   "cell_type": "code",
   "execution_count": 20,
   "id": "18203495",
   "metadata": {},
   "outputs": [
    {
     "name": "stdout",
     "output_type": "stream",
     "text": [
      "{'BISHOP ', 'ROGUE '}\n",
      "{'ROGUE', 'BISHOP'}\n"
     ]
    }
   ],
   "source": [
    "print(hero_edges - hero_nodes)\n",
    "print(hero_nodes - hero_edges)"
   ]
  },
  {
   "cell_type": "code",
   "execution_count": 21,
   "id": "c1db648e",
   "metadata": {},
   "outputs": [
    {
     "name": "stdout",
     "output_type": "stream",
     "text": [
      "{'SEA LEOPARD', 'KULL', 'BISHOP', 'LUNATIK II', 'CLUMSY FOULUP', 'ZANTOR', 'RUNE', 'BLARE', 'CALLAHAN, DANNY', 'DEATHCHARGE', 'RANDAK', 'MARVEL BOY II/MARTIN', 'JOHNSON, LYNDON BAIN', 'GERVASE, LADY ALYSSA', 'FENRIS', 'GIURESCU, RADU', 'SHARKSKIN', 'RED WOLF II', 'BERSERKER II', 'ROGUE'}\n",
      "{'BISHOP ', 'ROGUE '}\n"
     ]
    }
   ],
   "source": [
    "print(hero_nodes - hero_heronet)\n",
    "print(hero_heronet - hero_nodes)"
   ]
  },
  {
   "cell_type": "markdown",
   "id": "06ff25cb",
   "metadata": {},
   "source": [
    "Then, we check the comic names."
   ]
  },
  {
   "cell_type": "code",
   "execution_count": 22,
   "id": "1384fbab",
   "metadata": {},
   "outputs": [],
   "source": [
    "comic_edges = set(df_edges.comic)\n",
    "comic_nodes = set(df_nodes.loc[df_nodes.type=='comic']['node'])"
   ]
  },
  {
   "cell_type": "code",
   "execution_count": 23,
   "id": "4974f576",
   "metadata": {},
   "outputs": [
    {
     "name": "stdout",
     "output_type": "stream",
     "text": [
      "set()\n",
      "set()\n"
     ]
    }
   ],
   "source": [
    "print(comic_edges-comic_nodes)\n",
    "print(comic_nodes-comic_edges)"
   ]
  },
  {
   "cell_type": "markdown",
   "id": "19069835",
   "metadata": {},
   "source": [
    "We notice that some hero names are the same as comic names. We therefore decide to add word 'comic' at the end to the comic names equal to those of the heroes, in order to avoid problems in the creation and management of graphs."
   ]
  },
  {
   "cell_type": "code",
   "execution_count": 24,
   "id": "10ecf63a",
   "metadata": {},
   "outputs": [
    {
     "data": {
      "text/plain": [
       "{'BLADE', 'REBEL', 'SABRE'}"
      ]
     },
     "execution_count": 24,
     "metadata": {},
     "output_type": "execute_result"
    }
   ],
   "source": [
    "equals = hero_edges.intersection(comic_edges)\n",
    "equals"
   ]
  },
  {
   "cell_type": "code",
   "execution_count": 25,
   "id": "159fbd5e",
   "metadata": {},
   "outputs": [
    {
     "data": {
      "text/plain": [
       "{'BLADE', 'REBEL', 'SABRE'}"
      ]
     },
     "execution_count": 25,
     "metadata": {},
     "output_type": "execute_result"
    }
   ],
   "source": [
    "hero_nodes.intersection(comic_nodes)"
   ]
  },
  {
   "cell_type": "code",
   "execution_count": 26,
   "id": "1d9f9db2",
   "metadata": {},
   "outputs": [],
   "source": [
    "for i in equals:\n",
    "    df_edges.comic = df_edges.comic.replace(i, i+' comic', regex=True)"
   ]
  },
  {
   "cell_type": "markdown",
   "id": "18000b76",
   "metadata": {},
   "source": [
    "\n",
    "## 1.2 First graph"
   ]
  },
  {
   "cell_type": "code",
   "execution_count": 27,
   "id": "b81c7e23",
   "metadata": {},
   "outputs": [],
   "source": [
    "G1 = nx.MultiGraph()"
   ]
  },
  {
   "cell_type": "code",
   "execution_count": 28,
   "id": "57e4f964",
   "metadata": {},
   "outputs": [
    {
     "data": {
      "text/plain": [
       "0          0\n",
       "1          0\n",
       "2          0\n",
       "3          1\n",
       "4          1\n",
       "          ..\n",
       "574462    27\n",
       "574463    22\n",
       "574464     8\n",
       "574465    11\n",
       "574466     1\n",
       "Length: 574467, dtype: int64"
      ]
     },
     "execution_count": 28,
     "metadata": {},
     "output_type": "execute_result"
    }
   ],
   "source": [
    "df_hero_net.apply(lambda row: G1.add_edge(row['hero1'], row['hero2']), axis=1)"
   ]
  },
  {
   "cell_type": "code",
   "execution_count": 29,
   "id": "b371dbbb",
   "metadata": {},
   "outputs": [],
   "source": [
    "#drop sefl-loops\n",
    "G1.remove_edges_from(nx.selfloop_edges(G1))"
   ]
  },
  {
   "cell_type": "code",
   "execution_count": 30,
   "id": "fc913d89",
   "metadata": {},
   "outputs": [
    {
     "data": {
      "text/plain": [
       "[('LITTLE, ABNER', 'PRINCESS ZANDA'),\n",
       " ('LITTLE, ABNER', 'PRINCESS ZANDA'),\n",
       " ('LITTLE, ABNER', 'PRINCESS ZANDA'),\n",
       " ('LITTLE, ABNER', 'PRINCESS ZANDA'),\n",
       " ('LITTLE, ABNER', 'PRINCESS ZANDA'),\n",
       " ('LITTLE, ABNER', 'PRINCESS ZANDA'),\n",
       " ('LITTLE, ABNER', 'PRINCESS ZANDA'),\n",
       " ('LITTLE, ABNER', 'PRINCESS ZANDA'),\n",
       " ('LITTLE, ABNER', \"BLACK PANTHER/T'CHAL\"),\n",
       " ('LITTLE, ABNER', \"BLACK PANTHER/T'CHAL\")]"
      ]
     },
     "execution_count": 30,
     "metadata": {},
     "output_type": "execute_result"
    }
   ],
   "source": [
    "list(G1.edges())[:10]"
   ]
  },
  {
   "cell_type": "code",
   "execution_count": 31,
   "id": "95912a8a",
   "metadata": {},
   "outputs": [],
   "source": [
    "dicOfOccurances = {}\n",
    "for h1,h2 in df_hero_net.to_numpy():\n",
    "    if h1 != h2:\n",
    "        if (h1,h2) in dicOfOccurances:\n",
    "            dicOfOccurances[(h1,h2)] += 1\n",
    "        else:\n",
    "            dicOfOccurances[(h1,h2)] = 1\n"
   ]
  },
  {
   "cell_type": "code",
   "execution_count": 32,
   "id": "fafc71ef",
   "metadata": {},
   "outputs": [],
   "source": [
    "G1_weighted = nx.MultiGraph()"
   ]
  },
  {
   "cell_type": "code",
   "execution_count": 33,
   "id": "3532df95",
   "metadata": {},
   "outputs": [],
   "source": [
    "i = 0\n",
    "for edge in list(G1.edges()):\n",
    "    try:\n",
    "        G1_weighted.add_edge(edge[0], edge[1], weight = round(1/dicOfOccurances[edge], 3))\n",
    "    except:\n",
    "        G1_weighted.add_edge(edge[0], edge[1], weight = round(1/dicOfOccurances[(edge[1], edge[0])],3))\n"
   ]
  },
  {
   "cell_type": "code",
   "execution_count": 34,
   "id": "cf23d161",
   "metadata": {},
   "outputs": [
    {
     "name": "stdout",
     "output_type": "stream",
     "text": [
      "(('LITTLE, ABNER', 'PRINCESS ZANDA', 0), 0.2)\n",
      "(('LITTLE, ABNER', 'PRINCESS ZANDA', 1), 0.2)\n",
      "(('LITTLE, ABNER', 'PRINCESS ZANDA', 2), 0.2)\n",
      "(('LITTLE, ABNER', 'PRINCESS ZANDA', 3), 0.2)\n",
      "(('LITTLE, ABNER', 'PRINCESS ZANDA', 4), 0.2)\n",
      "(('LITTLE, ABNER', 'PRINCESS ZANDA', 5), 0.2)\n",
      "(('LITTLE, ABNER', 'PRINCESS ZANDA', 6), 0.2)\n",
      "(('LITTLE, ABNER', 'PRINCESS ZANDA', 7), 0.2)\n",
      "(('LITTLE, ABNER', \"BLACK PANTHER/T'CHAL\", 0), 0.25)\n",
      "(('LITTLE, ABNER', \"BLACK PANTHER/T'CHAL\", 1), 0.25)\n",
      "(('LITTLE, ABNER', \"BLACK PANTHER/T'CHAL\", 2), 0.25)\n",
      "(('LITTLE, ABNER', \"BLACK PANTHER/T'CHAL\", 3), 0.25)\n",
      "(('LITTLE, ABNER', \"BLACK PANTHER/T'CHAL\", 4), 0.25)\n",
      "(('LITTLE, ABNER', \"BLACK PANTHER/T'CHAL\", 5), 0.25)\n",
      "(('LITTLE, ABNER', \"BLACK PANTHER/T'CHAL\", 6), 0.25)\n",
      "(('LITTLE, ABNER', 'CARNIVORE/COUNT ANDR', 0), 0.333)\n",
      "(('LITTLE, ABNER', 'CARNIVORE/COUNT ANDR', 1), 0.333)\n",
      "(('LITTLE, ABNER', 'CARNIVORE/COUNT ANDR', 2), 0.333)\n",
      "(('LITTLE, ABNER', 'CARNIVORE/COUNT ANDR', 3), 0.333)\n",
      "(('LITTLE, ABNER', 'CARNIVORE/COUNT ANDR', 4), 0.333)\n"
     ]
    }
   ],
   "source": [
    "edges, weights = zip(*nx.get_edge_attributes(G1_weighted, 'weight').items())\n",
    "for i in range(20):\n",
    "    print((edges[i], weights[i]))"
   ]
  },
  {
   "cell_type": "code",
   "execution_count": 35,
   "id": "b6859812",
   "metadata": {},
   "outputs": [
    {
     "data": {
      "text/plain": [
       "AtlasView({0: {'weight': 0.2}, 1: {'weight': 0.2}, 2: {'weight': 0.2}, 3: {'weight': 0.2}, 4: {'weight': 0.2}, 5: {'weight': 0.2}, 6: {'weight': 0.2}, 7: {'weight': 0.2}})"
      ]
     },
     "execution_count": 35,
     "metadata": {},
     "output_type": "execute_result"
    }
   ],
   "source": [
    "G1_weighted['LITTLE, ABNER']['PRINCESS ZANDA']"
   ]
  },
  {
   "cell_type": "code",
   "execution_count": 36,
   "id": "a0752594",
   "metadata": {},
   "outputs": [
    {
     "data": {
      "text/plain": [
       "{'weight': 0.2}"
      ]
     },
     "execution_count": 36,
     "metadata": {},
     "output_type": "execute_result"
    }
   ],
   "source": [
    "G1_weighted_graph = nx.Graph(G1_weighted)\n",
    "G1_weighted_graph['LITTLE, ABNER']['PRINCESS ZANDA']"
   ]
  },
  {
   "cell_type": "code",
   "execution_count": 37,
   "id": "b24642c6",
   "metadata": {},
   "outputs": [
    {
     "name": "stdout",
     "output_type": "stream",
     "text": [
      "(('LITTLE, ABNER', 'PRINCESS ZANDA'), 0.2)\n",
      "(('LITTLE, ABNER', \"BLACK PANTHER/T'CHAL\"), 0.25)\n",
      "(('LITTLE, ABNER', 'CARNIVORE/COUNT ANDR'), 0.333)\n",
      "(('LITTLE, ABNER', 'IRON MAN/TONY STARK'), 1.0)\n",
      "(('LITTLE, ABNER', 'GOLDEN-BLADE'), 1.0)\n",
      "(('LITTLE, ABNER', 'DIXON, GENERAL'), 1.0)\n",
      "(('LITTLE, ABNER', 'IRON MAN IV/JAMES R.'), 1.0)\n",
      "(('LITTLE, ABNER', 'JOCASTA'), 1.0)\n",
      "(('LITTLE, ABNER', 'FUJIKAWA, RUMIKO'), 1.0)\n",
      "(('LITTLE, ABNER', 'MADAME MENACE/SUNSET'), 1.0)\n",
      "(('LITTLE, ABNER', 'JACOBS, GLENDA'), 1.0)\n",
      "(('LITTLE, ABNER', 'WAR MACHINE II/PARNE'), 1.0)\n",
      "(('LITTLE, ABNER', 'SAPPER'), 1.0)\n",
      "(('LITTLE, ABNER', 'HOGAN, VIRGINIA PEPP'), 1.0)\n",
      "(('LITTLE, ABNER', 'BINARY/CAROL DANVERS'), 1.0)\n",
      "(('LITTLE, ABNER', 'FIN FANG FOOM/MIDGAR'), 1.0)\n",
      "(('LITTLE, ABNER', 'MANN, DR. J. VERNON'), 0.5)\n",
      "(('LITTLE, ABNER', 'THOR/DR. DONALD BLAK'), 1.0)\n",
      "(('LITTLE, ABNER', 'TEMPEST II/NICOLETTE'), 1.0)\n",
      "(('LITTLE, ABNER', 'JARVIS, EDWIN'), 1.0)\n"
     ]
    }
   ],
   "source": [
    "edges, weights = zip(*nx.get_edge_attributes(G1_weighted_graph, 'weight').items())\n",
    "for i in range(20):\n",
    "    print((edges[i], weights[i]))"
   ]
  },
  {
   "cell_type": "code",
   "execution_count": 38,
   "id": "3b2513e3",
   "metadata": {},
   "outputs": [],
   "source": [
    "dicOfWeights = {}\n",
    "for edge in G1_weighted_graph.edges():\n",
    "    dicOfWeights[edge] = G1_weighted_graph.get_edge_data(edge[0], edge[1])['weight']\n"
   ]
  },
  {
   "cell_type": "code",
   "execution_count": 39,
   "id": "9b1211cb",
   "metadata": {},
   "outputs": [
    {
     "name": "stdout",
     "output_type": "stream",
     "text": [
      "Number of nodes of the first graph: 6421\n",
      "Number of edges of the first graph: 167100\n"
     ]
    }
   ],
   "source": [
    "print('Number of nodes of the first graph: ' + str(len(G1_weighted_graph.nodes())))\n",
    "print('Number of edges of the first graph: ' +  str(len(G1_weighted_graph.edges())))"
   ]
  },
  {
   "cell_type": "markdown",
   "id": "d1ce247e",
   "metadata": {},
   "source": [
    "## 1.3 Second graph"
   ]
  },
  {
   "cell_type": "code",
   "execution_count": 40,
   "id": "5aa117b5",
   "metadata": {},
   "outputs": [
    {
     "name": "stdout",
     "output_type": "stream",
     "text": [
      "Number of elements in attributes list: 19090\n"
     ]
    }
   ],
   "source": [
    "attributes = {}\n",
    "for elem in df_edges['hero']:\n",
    "    attributes[elem] = {'type' : 'hero' } \n",
    "for elem in df_edges['comic']:\n",
    "    attributes[elem] = {'type' : 'comic' } \n",
    "\n",
    "print('Number of elements in attributes list: ' + str(len(attributes)))"
   ]
  },
  {
   "cell_type": "code",
   "execution_count": 41,
   "id": "f88db8a6",
   "metadata": {},
   "outputs": [
    {
     "name": "stdout",
     "output_type": "stream",
     "text": [
      "Number of nodes of the second graph: 19090\n",
      "Number of edges of the second graph: 96104\n"
     ]
    }
   ],
   "source": [
    "G2 = nx.from_pandas_edgelist(df_edges, 'hero', 'comic')\n",
    "nx.set_node_attributes(G2, attributes)\n",
    "print('Number of nodes of the second graph: ' + str(len(G2.nodes())))\n",
    "print('Number of edges of the second graph: ' +  str(len(G2.edges())))"
   ]
  },
  {
   "cell_type": "code",
   "execution_count": 81,
   "id": "7b2626cf",
   "metadata": {},
   "outputs": [
    {
     "name": "stdout",
     "output_type": "stream",
     "text": [
      "A 140 comic\n",
      "C&D3 12 comic\n",
      "IMSVS 1/3 comic\n",
      "M/SHSW 11 comic\n",
      "M/SHSW 8 comic\n",
      "TTA 82/2 comic\n",
      "ASM 270 comic\n",
      "S-M 60 comic\n",
      "A 78 comic\n",
      "XF 41 comic\n"
     ]
    }
   ],
   "source": [
    "nodes, types = zip(*nx.get_node_attributes(G2_topN, 'type').items())\n",
    "for i in range(10):\n",
    "    print(nodes[i], types[i])"
   ]
  },
  {
   "cell_type": "code",
   "execution_count": 43,
   "id": "748fba30",
   "metadata": {},
   "outputs": [],
   "source": [
    "def top_N(df,N):\n",
    "    return df.groupby(\"hero\", group_keys=False).count().sort_values(by='comic', ascending = False).head(N)"
   ]
  },
  {
   "cell_type": "code",
   "execution_count": 49,
   "id": "c9c7b660",
   "metadata": {},
   "outputs": [],
   "source": [
    "def create_G1_topN(N, df):\n",
    "    G_topN = G1_weighted_graph.copy()\n",
    "    most_popular_heros = df.groupby(\"hero\", group_keys=False).count().sort_values(by='comic', ascending = False).head(N)\n",
    "    notInTopN = set(G1_weighted_graph.nodes()) - set(most_popular_heros.index)\n",
    "    G_topN.remove_nodes_from(notInTopN)\n",
    "    return G_topN"
   ]
  },
  {
   "cell_type": "code",
   "execution_count": 45,
   "id": "6a51969a",
   "metadata": {},
   "outputs": [],
   "source": [
    "def create_G2_topN(N, df):\n",
    "    df_new = df.groupby(['hero'])['hero'].count().reset_index(name=\"count\").sort_values(by = 'count',ascending=False).head(N)\n",
    "    nodes=[df_new['hero'][i] for i in df_new.index]\n",
    "    \n",
    "    new_nodes = set(nodes)\n",
    "    for i in nodes:\n",
    "        app = list(df_edges.loc[df_edges['hero']==i]['comic'])\n",
    "        new_nodes.update(app)\n",
    "        \n",
    "    G_top_N = G2.subgraph(new_nodes)\n",
    "    return G_top_N"
   ]
  },
  {
   "cell_type": "code",
   "execution_count": 48,
   "id": "3ab75f58",
   "metadata": {},
   "outputs": [
    {
     "data": {
      "text/plain": [
       "1194"
      ]
     },
     "execution_count": 48,
     "metadata": {},
     "output_type": "execute_result"
    }
   ],
   "source": [
    "G1_topN = create_G1_topN(50, df_edges)\n",
    "len(G1_topN.edges())"
   ]
  },
  {
   "cell_type": "code",
   "execution_count": 46,
   "id": "d854f615",
   "metadata": {},
   "outputs": [
    {
     "data": {
      "text/plain": [
       "9286"
      ]
     },
     "execution_count": 46,
     "metadata": {},
     "output_type": "execute_result"
    }
   ],
   "source": [
    "G2_topN = create_G2_topN(50, df_edges)\n",
    "# check if the number of nodes is 50\n",
    "len(G2_topN.nodes())\n",
    "# change the number of nodes of create_G2_topN(50, df_edges) to 50\n"
   ]
  },
  {
   "cell_type": "markdown",
   "id": "b27b63ac",
   "metadata": {},
   "source": [
    "# Functionality 1"
   ]
  },
  {
   "cell_type": "code",
   "execution_count": 50,
   "id": "2e2e9c21",
   "metadata": {},
   "outputs": [],
   "source": [
    "from collections import Counter\n"
   ]
  },
  {
   "cell_type": "code",
   "execution_count": 51,
   "id": "848f9066",
   "metadata": {},
   "outputs": [],
   "source": [
    "def degree_distG(G):\n",
    "    degree_G = [G.degree(n) for n in G.nodes()]\n",
    "    degree_counts = Counter(degree_G)\n",
    "    return degree_counts\n"
   ]
  },
  {
   "cell_type": "code",
   "execution_count": 70,
   "id": "b46d4a01",
   "metadata": {},
   "outputs": [],
   "source": [
    "def hubsG(G):\n",
    "    degreeG1 = [G.degree(n) for n in G.nodes()]\n",
    "    ex_nodes = [n for n in G.nodes() if G.degree(n) > np.percentile(degreeG1,95)]\n",
    "    return(ex_nodes)"
   ]
  },
  {
   "cell_type": "code",
   "execution_count": 71,
   "id": "bbb678ab",
   "metadata": {},
   "outputs": [],
   "source": [
    "def hubs(G):\n",
    "    degreeG2 = [G.degree(n) for n in G.nodes()]\n",
    "    ex_nodes = [n for n in G.nodes() if G.degree(n) > np.percentile(degreeG2,95) and G.nodes[n].get('type', '') == 'comic']\n",
    "    return(ex_nodes)"
   ]
  },
  {
   "cell_type": "code",
   "execution_count": 54,
   "id": "34aa0434",
   "metadata": {},
   "outputs": [],
   "source": [
    "def density_G(G):\n",
    "    n = G.number_of_nodes()\n",
    "    m = G.number_of_edges()\n",
    "    return 2*m/(n*(n-1))"
   ]
  },
  {
   "cell_type": "code",
   "execution_count": 55,
   "id": "b7863ef4",
   "metadata": {},
   "outputs": [],
   "source": [
    "def functionality_1(G,G_type,N):\n",
    "    G = G.copy()\n",
    "    if G_type == 1:\n",
    "        G = create_G1_topN(N,df_edges)\n",
    "        \n",
    "        n_nodesG1 = int(G.number_of_nodes())\n",
    "        degree_G1 = G.degree()\n",
    "        \n",
    "        sorted_degree_G1 = sorted(degree_G1, key=lambda x: x[1], reverse=True)\n",
    "    \n",
    "        densityG1 = len(G.edges())/(n_nodesG1*(n_nodesG1-1)/2)\n",
    "        \n",
    "        degree_sequence = [deg for i, deg in G.degree()]\n",
    "        avg_degreeG1 = sum(degree_sequence) / len(degree_sequence)\n",
    "        \n",
    "        type_graphG1 = \"\"    \n",
    "        if density_G(G) >= 0.5:\n",
    "            type_graphG1 = \"DENSE\"\n",
    "        else:\n",
    "            type_graphG1 = \"SPARSE\"\n",
    "            \n",
    "    \n",
    "        print(\"Number of nodes of G1: \", n_nodesG1)\n",
    "        print(\"sorted collaborations of each node:\", sorted_degree_G1)\n",
    "        print(\"The density of G1 is:\", densityG1)\n",
    "        print(\"the degree distribution of G1 is\", degree_distG(G))\n",
    "        print(\"Average degree of G1: \", avg_degreeG1)\n",
    "        print(\"Nodes with degrees more extensive than the 95th percentile of the degree distribution: \", len(hubs(G)), \n",
    "        \"\\n\", sorted(hubsG(G), key=lambda x: G.degree(x), reverse=True))\n",
    "        print(\"The type of G1 is: \", type_graphG1)\n",
    "    G = G.copy()\n",
    "    if G_type == 2:\n",
    "        G = create_G2_topN(N,df_edges)\n",
    "        nodes, types = zip(*nx.get_node_attributes(G, 'type').items())\n",
    "        count_hero = 0\n",
    "        count_comic = 0\n",
    "        for elements in types:\n",
    "            if elements == 'hero':\n",
    "                count_hero += 1\n",
    "            elif elements == 'comic':\n",
    "                count_comic += 1\n",
    "        degree_G = G.degree()\n",
    "        \n",
    "        hero_appeard = df_edges.groupby('comic').count().sort_values(by='hero', ascending=False)\n",
    "    \n",
    "        densityG2 = len(G.edges())/(count_hero*(count_hero-1)/2)\n",
    "        \n",
    "        degree_sequence = [deg for i, deg in G.degree()]\n",
    "        avg_degreeG2 = sum(degree_sequence) / len(degree_sequence)\n",
    "        \n",
    "        type_graphG2 = \"\"    \n",
    "        if density_G(G) >= 0.5:\n",
    "            type_graphG2 = \"DENSE\"\n",
    "        else:\n",
    "            type_graphG2 = \"SPARSE\"\n",
    "    \n",
    "    \n",
    "        print(\"Number of nodes of G2: \", count_hero, count_comic)\n",
    "        print( \"the number of heroes that have appeared in each comic of G2:\" , \"\\n\", hero_appeard)\n",
    "        print(\"The density of G2 is:\", densityG2)\n",
    "        print(\"the distribution of G2 is\", degree_distG(G))\n",
    "        print(\"Average degree of G2: \", avg_degreeG2)\n",
    "        print(\"Nodes with degrees more extensive than the 95th percentile of the degree distribution: \", len(hubs(G)),\n",
    "         \"\\n\", sorted(hubs(G), key=lambda x: G.degree(x), reverse=True))    \n",
    "        print(\"The type of G2 is: \", type_graphG2)\n",
    "    return\n"
   ]
  },
  {
   "cell_type": "code",
   "execution_count": 76,
   "id": "7b75bc18",
   "metadata": {},
   "outputs": [
    {
     "name": "stdout",
     "output_type": "stream",
     "text": [
      "Number of nodes of G1:  50\n",
      "sorted collaborations of each node: [('IRON MAN/TONY STARK', 49), ('THOR/DR. DONALD BLAK', 49), ('CYCLOPS/SCOTT SUMMER', 49), ('BEAST/HENRY &HANK& P', 49), ('HULK/DR. ROBERT BRUC', 49), ('INVISIBLE WOMAN/SUE', 49), ('THING/BENJAMIN J. GR', 49), ('SCARLET WITCH/WANDA', 49), ('CAPTAIN AMERICA', 49), ('WONDER MAN/SIMON WIL', 49), ('WOLVERINE/LOGAN', 49), ('SHE-HULK/JENNIFER WA', 49), ('SILVER SURFER/NORRIN', 49), ('VISION', 49), ('MARVEL GIRL/JEAN GRE', 49), ('STORM/ORORO MUNROE S', 49), ('MR. FANTASTIC/REED R', 49), ('ANGEL/WARREN KENNETH', 49), ('ICEMAN/ROBERT BOBBY', 49), ('WASP/JANET VAN DYNE', 49), ('ANT-MAN/DR. HENRY J.', 49), ('BLACK WIDOW/NATASHA', 49), ('SPIDER-MAN/PETER PARKER', 49), ('SUB-MARINER/NAMOR MA', 49), ('HUMAN TORCH/JOHNNY S', 49), ('COLOSSUS II/PETER RA', 49), ('DR. STRANGE/STEPHEN', 49), (\"BLACK PANTHER/T'CHAL\", 48), ('JARVIS, EDWIN', 48), ('HAWK', 48), ('HERCULES [GREEK GOD]', 48), ('FURY, COL. NICHOLAS', 48), ('JONES, RICHARD MILHO', 48), ('DAREDEVIL/MATT MURDO', 48), ('RICHARDS, FRANKLIN B', 48), ('DR. DOOM/VICTOR VON', 48), ('JAMESON, J. JONAH', 48), ('NIGHTCRAWLER/KURT WA', 47), ('QUICKSILVER/PIETRO M', 47), ('PROFESSOR X/CHARLES', 47), ('ROGUE ', 47), ('CAPTAIN BRITAIN/BRIA', 46), ('WATSON-PARKER, MARY', 46), ('NELSON, FRANKLIN FOG', 46), ('ROBERTSON, JOE', 46), ('PARKER, MAY', 44), ('ODIN [ASGARDIAN]', 43), ('CANNONBALL II/SAM GU', 43), ('SHADOWCAT/KATHERINE', 42), ('PUNISHER II/FRANK CA', 41)]\n",
      "The density of G1 is: 0.9746938775510204\n",
      "the degree distribution of G1 is Counter({49: 27, 48: 10, 46: 4, 47: 4, 43: 2, 41: 1, 42: 1, 44: 1})\n",
      "Average degree of G1:  47.76\n",
      "Nodes with degrees more extensive than the 95th percentile of the degree distribution:  0 \n",
      " []\n",
      "The type of G1 is:  DENSE\n"
     ]
    }
   ],
   "source": [
    "functionality_1(G1_topN,1,50)\n",
    "# considering the top 50 nodes of G1:\n",
    "# the density is 0.97, the value si high, so the graph is dense\n",
    "# the average degree is 47.76, that means generally a node has 47.76 connections with other nodes\n",
    "# in this case we don't have hubs, because don't have nodes with a degree more extensive than the 95th percentile of the degree distribution\n",
    "# the type of graph is dense, so we have a lot of connections between nodes, otherwirs if that was \"SPARSE\" we would have a lot of nodes with a lower degree"
   ]
  },
  {
   "cell_type": "code",
   "execution_count": 56,
   "id": "bf272c97",
   "metadata": {},
   "outputs": [
    {
     "name": "stdout",
     "output_type": "stream",
     "text": [
      "Number of nodes of G2:  50 9236\n",
      "the number of heroes that have appeared in each comic of G2: \n",
      "                   hero\n",
      "comic                 \n",
      "COC 1              111\n",
      "IW 3                91\n",
      "IW 1                90\n",
      "H2 279              87\n",
      "IW 4                80\n",
      "...                ...\n",
      "MYSTIC COMICS 10     1\n",
      "N 2/4                1\n",
      "N 37                 1\n",
      "N 4/2                1\n",
      "rse powers.          1\n",
      "\n",
      "[12651 rows x 1 columns]\n",
      "The density of G2 is: 22.623673469387754\n",
      "the distribution of G2 is Counter({1: 3598, 2: 2022, 3: 984, 4: 751, 5: 632, 6: 385, 7: 243, 8: 172, 9: 125, 10: 75, 11: 70, 12: 40, 13: 25, 18: 21, 14: 20, 15: 14, 21: 10, 17: 9, 16: 9, 19: 7, 24: 6, 20: 3, 22: 3, 25: 3, 30: 2, 33: 2, 29: 2, 270: 2, 444: 2, 605: 1, 585: 1, 631: 1, 622: 1, 603: 1, 384: 1, 854: 1, 1577: 1, 320: 1, 32: 1, 27: 1, 1150: 1, 342: 1, 452: 1, 523: 1, 318: 1, 581: 1, 390: 1, 956: 1, 635: 1, 329: 1, 762: 1, 835: 1, 427: 1, 380: 1, 577: 1, 23: 1, 530: 1, 279: 1, 819: 1, 307: 1, 471: 1, 399: 1, 619: 1, 377: 1, 322: 1, 963: 1, 466: 1, 886: 1, 299: 1, 278: 1, 496: 1, 353: 1, 415: 1, 310: 1, 561: 1, 643: 1, 321: 1, 1334: 1})\n",
      "Average degree of G2:  5.968985569674779\n",
      "Nodes with degrees more extensive than the 95th percentile of the degree distribution:  324 \n",
      " ['COC 1', 'H2 279', 'M/GN 1', 'IW 2', 'IW 3', 'O:MU', 'H2 278', 'IW 4', 'M/TIO 96', 'FF 370', 'FF 368', 'M/TIO 7', 'FF 367', 'IW 6', 'MAXSEC 3', 'SWII 9', 'MK3 41', 'A 332', 'A3 10', 'A3 1', 'IW 1', 'A 18', 'A 60', 'FF 369', 'FF 3', 'WM2 13', 'FF 22', \"UTSM '97\", 'X 55', 'A 333', 'ST 156', 'HR:R 4', 'MARVELS 2', 'IW 5', 'FF3 27', 'COC 3', 'WIW 8', 'DAMCON3 4', 'M/SHSW 9', 'Q 38', 'A 10', 'M/SHSW 11', 'ASM 1', 'SWII 5', 'M/SHSW 7', 'A 3', 'H2 277', 'A 329', 'O:X', 'ROM 65', 'UX 7', 'M/SHSW 3', 'M/SHSW 12', 'WM2 14', 'M/SHSW 1', 'M/SHSW 4', 'Q 39', 'UX 9', 'UX 5', 'M/SHSW 10', 'M/SHSW 2', 'A 1', 'M/SHSW 8', 'FF 36', 'NW 27', 'M/SHSW 6', 'M/SHSW 5', 'A 118', 'M/SS 1', 'A 305', 'WCA 1', 'A3 4', 'DAZZ 21', 'A3 2', 'A 211', 'H 11', 'ASM2 1', 'M/TE 13', 'A3 3', 'A 400', 'A 111', 'A 151', 'A 168', 'UX 335', 'UX 336', 'IG 2', 'IM2 12', 'A 8', 'IG 3', 'DAZZ 2', 'A3 11', 'UX 14', 'A 181', 'A 16', 'COH 3', 'ASM 18', 'H2 153', 'FF 416', 'A 13', 'FF 333', 'MAXSEC 2', 'SVTU 14', 'SS3 14', 'A 175', 'A 157', 'H2 321', 'A 173', 'UX 6', 'FF2 12', 'A 82', 'UX 4', 'UX 108', 'A 12', 'A 137', 'A 174', 'ASM 16', 'T 233', 'GAL 2', 'SUB-M 14', 'FF 25', 'H2 323', 'UX 8', 'UX 135', 'UX 10', \"A '99\", 'ROM 66', 'A 172', 'A 176', 'GAL 3', 'FF 243', 'AWC 4', 'HR:R 3', 'WM2 15', 'KS', 'A 308', 'A 100', 'T 14', 'A2 12', 'A 177', 'AOI', 'FF 400/2', 'FFV.X 4', 'TB 11', 'X 3', 'DD2 8', 'TB 44', 'DAZZ 1', 'UX 379', 'UX 13', 'AF 111', 'A 159', 'FFV.X 2', 'UX 368', 'A 170', 'X 71', 'X 96', 'MAXSEC 1', 'FFV.X 3', 'A 280', 'XFOR 17', 'X:PRIME', 'A 110', 'A 199', 'X 88', 'TB 12', 'CA 401', 'CA 250', 'X 14', 'X 15', 'ASM 3', 'A 306', 'UX 11', 'A 99', 'UX 191', 'H2 445', 'UX 167', 'UX 377', 'DEF 11', 'IG 4', 'X 1', 'A 19', 'XF 70', 'A 200', 'CA 383', 'UX 337', 'A 1.5', 'PM&IF 125', 'A 182', 'GAL 5', 'UX 295', 'A 162', 'SENSM 28', 'FF 415', 'FF 26', 'N 1/3', 'UX 210', 'MK 35', 'DF 3.6', 'UX 45', 'UX 375', 'A 161', 'A3 25', 'UX 272', 'A 6', 'XF 5', 'A 88', 'A 179', 'A 53', 'X 2', 'A 399', 'A:C', 'X:HY 20', 'TOS 49', 'DD 164', 'A 233', 'A 127', 'AWC 69', 'XFOR 16', 'UX 138', 'A 116', 'IFW 2', 'T 271', 'A 9', 'FF 14', 'CA2 12', 'UX 190', 'A 15', 'A 94', 'FW 10/2', 'A 201', 'M/TU 4', 'DEF 10', 'M/GN 27', 'A 231', 'FF 230', 'FF 242', 'FF 256', 'IG 6', 'SUB-M 35', 'FF3 23', 'M/TIO 75', 'M/TIO 69', 'FFV.X 1', 'A 14', 'A 345', 'A 401', 'GAL 6', 'Q 28', 'H2 152', 'A3 34', \"M/H&L '97\", 'PPSM2 4', 'XU 25', 'A3 23', 'CA3 3', 'FF 28', 'UX 3', 'DEF2 1', 'A 21', 'UX 338', 'MARVELS 3', 'A 234', 'A3 20', 'UX 325', 'A 166', 'A 155', 'X 56', 'A 221', 'GAL 1', 'A 167', 'X 98', 'XF 84', 'FF 150', 'SUB-M2 3', 'A 171', 'UX 12', 'A 7', 'X 57', 'A3 39', 'FF 244', 'ROM 23', 'TB 10', 'GAL 4', 'X 5', 'X&CD 1', 'UX 94', 'UX 280', 'A 144', 'A 156', 'M/GN 17', 'X 95', 'A3 22', 'A 59', 'UX 145', 'A 165', 'A 227', 'A 38', 'SMTU 4', 'SWII 8', 'A 198', 'AWC 5', 'A3 38', 'A 45', 'A3 21', 'A 160', 'HR:R 2', 'M/TIO 2', 'SS 6', 'W2 145', 'A3 43', 'SVTU 9', 'UX 376', 'UX 294', 'M/CP 89/4', 'A 42', 'DEF 107', 'A 189', 'A 242', 'A 395', 'A 108', 'S-M 23', 'WOSM 5', 'H2 434', 'X:HY 9']\n",
      "The type of G2 is:  SPARSE\n"
     ]
    }
   ],
   "source": [
    "functionality_1(G2_topN,2,50)"
   ]
  },
  {
   "cell_type": "markdown",
   "id": "2584b12f",
   "metadata": {},
   "source": [
    "# Functionality 2 - Find top superheroes!"
   ]
  },
  {
   "cell_type": "code",
   "execution_count": 57,
   "id": "bd6f2e60",
   "metadata": {},
   "outputs": [],
   "source": [
    "def fun_betweenness_centrality(G, normalized=True):\n",
    "    betweenness = {}\n",
    "    for s in G:\n",
    "        for t in G:\n",
    "            if s != t:\n",
    "                # Calcolo i percorsi minimi tra s e t utilizzando l'algoritmo BFS\n",
    "                path = nx.shortest_path(G, s, t)\n",
    "                if path is not None:\n",
    "                    for v in path:\n",
    "                        betweenness.setdefault(v, 0)\n",
    "                        betweenness[v] += 1\n",
    "    # Normalizza i valori della betweenness\n",
    "    n = len(G)\n",
    "    for v in betweenness:\n",
    "        betweenness[v] /= (n-1)*(n-2)\n",
    "    return betweenness"
   ]
  },
  {
   "cell_type": "code",
   "execution_count": 139,
   "id": "886b0b87",
   "metadata": {},
   "outputs": [],
   "source": [
    "def fun_betweenness_centrality(G, normalized=True):\n",
    "    betweenness = defaultdict(float)\n",
    "    for s in G:\n",
    "        for t in G:\n",
    "            if s != t:\n",
    "                # Calcolo i percorsi minimi tra s e t utilizzando l'algoritmo di NetworkX shortest_path\n",
    "                path = nx.shortest_path(G, s, t)\n",
    "                if path is not None:\n",
    "                    for v in path:\n",
    "                        betweenness[v] += 1\n",
    "    # Normalizza i valori della betweenness\n",
    "    n = len(G)\n",
    "    for v in betweenness:\n",
    "        betweenness[v] /= (n-1)*(n-2)\n",
    "    return betweenness\n"
   ]
  },
  {
   "cell_type": "code",
   "execution_count": 173,
   "id": "4e877e74",
   "metadata": {},
   "outputs": [],
   "source": [
    "def fun_degree_centrality(G, nodo):\n",
    "    if G.has_node(nodo):\n",
    "        num_neighbors = len(list(G.neighbors(nodo)))\n",
    "        fun_degree_centrality = num_neighbors / (len(G) - 1)\n",
    "        return fun_degree_centrality\n",
    "    else:\n",
    "        return 0"
   ]
  },
  {
   "cell_type": "code",
   "execution_count": 215,
   "id": "ca808f0d",
   "metadata": {},
   "outputs": [],
   "source": [
    "def fun_pagerank(G, d=0.85, eps=1e-8):\n",
    "  # Inizializza il vettore di PageRank\n",
    "  N = len(G)\n",
    "  pagerank = {page: 1/N for page in G}\n",
    "  \n",
    "  # Itera fino a quando il vettore di PageRank non convergerà\n",
    "  while True:\n",
    "    new_pagerank = {page: (1 - d) / N for page in G}\n",
    "    \n",
    "    # Aggiungi la contribuzione di ogni pagina\n",
    "    for page in G.nodes():\n",
    "      for link in G[page]:\n",
    "        new_pagerank[link] += d * pagerank[page] / len(G[page])\n",
    "    \n",
    "    # Verifica se il vettore di PageRank è cambiato di molto\n",
    "    max_diff = max(abs(pagerank[page] - new_pagerank[page]) for page in G)\n",
    "    if max_diff < eps:\n",
    "      break\n",
    "    \n",
    "    pagerank = new_pagerank\n",
    "  \n",
    "  return pagerank\n",
    "\n",
    "\n"
   ]
  },
  {
   "cell_type": "code",
   "execution_count": 237,
   "id": "48a0c1cc",
   "metadata": {},
   "outputs": [],
   "source": [
    "def fun_closeness_centrality(G, node):\n",
    "  # Inizializza una coda e un dizionario per tenere traccia della distanza di ogni nodo dal nodo in questione\n",
    "  queue = deque([node])\n",
    "  distances = {node: 0}\n",
    "\n",
    "  # Esegue la ricerca in larghezza a partire dal nodo in questione\n",
    "  while queue:\n",
    "    current_node = queue.popleft()\n",
    "    for neighbor in G[current_node]:\n",
    "      if neighbor not in distances:\n",
    "        distances[neighbor] = distances[current_node] + 1\n",
    "        queue.append(neighbor)\n",
    "\n",
    "  # Calcola la somma delle distanze di tutti i nodi dal nodo in questione\n",
    "  total_distance = sum(distances.values())\n",
    "  # Calcola la centralità di prossimità come il numero di nodi del grafo diviso dalla somma delle distanze\n",
    "  closeness_centrality = len(G) / total_distance\n",
    "  return closeness_centrality"
   ]
  },
  {
   "cell_type": "code",
   "execution_count": null,
   "id": "bc04058c",
   "metadata": {},
   "outputs": [],
   "source": [
    "def functionality_2(G,node,metric,N):\n",
    "    for nodo in G.nodes() and N:\n",
    "        print(\"the node is: \", nodo)\n",
    "        if G == G1_topN:\n",
    "        #if metric == \"betweenness\":\n",
    "            #print(\" the betweenness centrality of G1: \", fun_betweenness_centrality(G, nodo))\n",
    "            if metric == \"degree\":\n",
    "                print(\" the degree centrality of G1: \", fun_degree_centrality(G, nodo))\n",
    "            elif metric == \"pagerank\":\n",
    "                print(\" the pagerank centrality of G1: \", fun_pagerank_centrality(G))\n",
    "            elif metric == \"closeness\":\n",
    "            #print(\" the closeness centrality of G1: \", fun_closeness_centrality(G, top_N))\n",
    "        else:\n",
    "            #print(\" the betweenness centrality of G2: \", fun_betweenness_centrality(G))\n",
    "            if metric == \"degree\":\n",
    "                print(\" the degree centrality of G2: \", fun_degree_centrality(G, nodo))\n",
    "            elif metric == \"pagerank\":\n",
    "                print(\" the pagerank centrality of G2: \", fun_pagerank_centrality(G))\n",
    "            elif metric == \"closeness\":\n",
    "            #print(\" the closeness centrality of G2: \", fun_closeness_centrality(G, topN_heroes))\n",
    "    return\n"
   ]
  },
  {
   "cell_type": "code",
   "execution_count": 59,
   "id": "e8805e92",
   "metadata": {},
   "outputs": [],
   "source": [
    "def functionality_2(G, node, metric, N):\n",
    "    if G == G1_topN:\n",
    "        graph_name = \"G1_topN\"\n",
    "    elif G == G2_topN:\n",
    "        graph_name = \"G2_topN\"\n",
    "    else:\n",
    "        pass\n",
    "\n",
    "    for nodo, n in zip(G.nodes(), range(N)):\n",
    "        print(\"the node is: \", nodo)\n",
    "        pagerank = nx.pagerank(G)\n",
    "        betweenness = nx.betweenness_centrality(G)\n",
    "        closeness = nx.closeness_centrality(G)\n",
    "        degree = nx.degree_centrality(G)\n",
    "        if metric == \"betweenness\":\n",
    "            print(\" the betweenness centrality of {}: \".format(graph_name), betweenness)\n",
    "        elif metric == \"degree\":\n",
    "            print(\" the degree centrality of {}: \".format(graph_name), degree)\n",
    "        elif metric == \"pagerank\":\n",
    "            print(\" the pagerank centrality of {}: \".format(graph_name), pagerank)\n",
    "        elif metric == \"closeness\":\n",
    "            print(\" the closeness centrality of {}: \".format(graph_name), closeness)\n",
    "    return\n"
   ]
  },
  {
   "cell_type": "code",
   "execution_count": 60,
   "id": "f953c3ea",
   "metadata": {},
   "outputs": [
    {
     "name": "stdout",
     "output_type": "stream",
     "text": [
      "the node is:  BLACK PANTHER/T'CHAL\n",
      " the betweenness centrality of G1_topN:  {\"BLACK PANTHER/T'CHAL\": 0.0005128357462588104, 'IRON MAN/TONY STARK': 0.0006354454021315732, 'THOR/DR. DONALD BLAK': 0.0006354454021315732, 'JARVIS, EDWIN': 0.0005749099600522091, 'CYCLOPS/SCOTT SUMMER': 0.0006354454021315732, 'BEAST/HENRY &HANK& P': 0.0006354454021315732, 'HULK/DR. ROBERT BRUC': 0.0006354454021315732, 'PUNISHER II/FRANK CA': 0.00019864358283836657, 'INVISIBLE WOMAN/SUE': 0.0006354454021315732, 'THING/BENJAMIN J. GR': 0.0006354454021315732, 'SCARLET WITCH/WANDA': 0.0006354454021315732, 'CAPTAIN AMERICA': 0.0006354454021315732, 'WONDER MAN/SIMON WIL': 0.0006354454021315732, 'WOLVERINE/LOGAN': 0.0006354454021315732, 'SHE-HULK/JENNIFER WA': 0.0006354454021315732, 'SILVER SURFER/NORRIN': 0.0006354454021315732, 'VISION': 0.0006354454021315732, 'MARVEL GIRL/JEAN GRE': 0.0006354454021315732, 'STORM/ORORO MUNROE S': 0.0006354454021315732, 'MR. FANTASTIC/REED R': 0.0006354454021315732, 'ANGEL/WARREN KENNETH': 0.0006354454021315732, 'ICEMAN/ROBERT BOBBY': 0.0006354454021315732, 'HAWK': 0.0004639991396574361, 'WASP/JANET VAN DYNE': 0.0006354454021315732, 'ANT-MAN/DR. HENRY J.': 0.0006354454021315732, 'BLACK WIDOW/NATASHA': 0.0006354454021315732, 'HERCULES [GREEK GOD]': 0.0005323664188162848, 'SHADOWCAT/KATHERINE': 7.781171113541473e-05, 'CAPTAIN BRITAIN/BRIA': 0.0003424345012105297, 'NIGHTCRAWLER/KURT WA': 0.0004509001700459124, 'QUICKSILVER/PIETRO M': 0.000403104185469799, 'FURY, COL. NICHOLAS': 0.0005323664188162848, 'ODIN [ASGARDIAN]': 0.00021888977655394801, 'WATSON-PARKER, MARY': 0.0003213760669844289, 'SPIDER-MAN/PETER PARKER': 0.0006354454021315732, 'SUB-MARINER/NAMOR MA': 0.0006354454021315732, 'JONES, RICHARD MILHO': 0.0005759735499659733, 'PARKER, MAY': 0.0002623437514081914, 'DAREDEVIL/MATT MURDO': 0.0005128357462588104, 'HUMAN TORCH/JOHNNY S': 0.0006354454021315732, 'PROFESSOR X/CHARLES': 0.00036215245499157715, 'RICHARDS, FRANKLIN B': 0.0004639991396574361, 'COLOSSUS II/PETER RA': 0.0006354454021315732, 'DR. STRANGE/STEPHEN': 0.0006354454021315732, 'DR. DOOM/VICTOR VON': 0.0005128357462588104, 'JAMESON, J. JONAH': 0.00048414067372642804, 'NELSON, FRANKLIN FOG': 0.00032238837667020794, 'ROGUE ': 0.00036215245499157715, 'ROBERTSON, JOE': 0.00036380833392895135, 'CANNONBALL II/SAM GU': 0.00035125045443721355}\n",
      "the node is:  IRON MAN/TONY STARK\n",
      " the betweenness centrality of G1_topN:  {\"BLACK PANTHER/T'CHAL\": 0.0005128357462588104, 'IRON MAN/TONY STARK': 0.0006354454021315732, 'THOR/DR. DONALD BLAK': 0.0006354454021315732, 'JARVIS, EDWIN': 0.0005749099600522091, 'CYCLOPS/SCOTT SUMMER': 0.0006354454021315732, 'BEAST/HENRY &HANK& P': 0.0006354454021315732, 'HULK/DR. ROBERT BRUC': 0.0006354454021315732, 'PUNISHER II/FRANK CA': 0.00019864358283836657, 'INVISIBLE WOMAN/SUE': 0.0006354454021315732, 'THING/BENJAMIN J. GR': 0.0006354454021315732, 'SCARLET WITCH/WANDA': 0.0006354454021315732, 'CAPTAIN AMERICA': 0.0006354454021315732, 'WONDER MAN/SIMON WIL': 0.0006354454021315732, 'WOLVERINE/LOGAN': 0.0006354454021315732, 'SHE-HULK/JENNIFER WA': 0.0006354454021315732, 'SILVER SURFER/NORRIN': 0.0006354454021315732, 'VISION': 0.0006354454021315732, 'MARVEL GIRL/JEAN GRE': 0.0006354454021315732, 'STORM/ORORO MUNROE S': 0.0006354454021315732, 'MR. FANTASTIC/REED R': 0.0006354454021315732, 'ANGEL/WARREN KENNETH': 0.0006354454021315732, 'ICEMAN/ROBERT BOBBY': 0.0006354454021315732, 'HAWK': 0.0004639991396574361, 'WASP/JANET VAN DYNE': 0.0006354454021315732, 'ANT-MAN/DR. HENRY J.': 0.0006354454021315732, 'BLACK WIDOW/NATASHA': 0.0006354454021315732, 'HERCULES [GREEK GOD]': 0.0005323664188162848, 'SHADOWCAT/KATHERINE': 7.781171113541473e-05, 'CAPTAIN BRITAIN/BRIA': 0.0003424345012105297, 'NIGHTCRAWLER/KURT WA': 0.0004509001700459124, 'QUICKSILVER/PIETRO M': 0.000403104185469799, 'FURY, COL. NICHOLAS': 0.0005323664188162848, 'ODIN [ASGARDIAN]': 0.00021888977655394801, 'WATSON-PARKER, MARY': 0.0003213760669844289, 'SPIDER-MAN/PETER PARKER': 0.0006354454021315732, 'SUB-MARINER/NAMOR MA': 0.0006354454021315732, 'JONES, RICHARD MILHO': 0.0005759735499659733, 'PARKER, MAY': 0.0002623437514081914, 'DAREDEVIL/MATT MURDO': 0.0005128357462588104, 'HUMAN TORCH/JOHNNY S': 0.0006354454021315732, 'PROFESSOR X/CHARLES': 0.00036215245499157715, 'RICHARDS, FRANKLIN B': 0.0004639991396574361, 'COLOSSUS II/PETER RA': 0.0006354454021315732, 'DR. STRANGE/STEPHEN': 0.0006354454021315732, 'DR. DOOM/VICTOR VON': 0.0005128357462588104, 'JAMESON, J. JONAH': 0.00048414067372642804, 'NELSON, FRANKLIN FOG': 0.00032238837667020794, 'ROGUE ': 0.00036215245499157715, 'ROBERTSON, JOE': 0.00036380833392895135, 'CANNONBALL II/SAM GU': 0.00035125045443721355}\n",
      "the node is:  THOR/DR. DONALD BLAK\n",
      " the betweenness centrality of G1_topN:  {\"BLACK PANTHER/T'CHAL\": 0.0005128357462588104, 'IRON MAN/TONY STARK': 0.0006354454021315732, 'THOR/DR. DONALD BLAK': 0.0006354454021315732, 'JARVIS, EDWIN': 0.0005749099600522091, 'CYCLOPS/SCOTT SUMMER': 0.0006354454021315732, 'BEAST/HENRY &HANK& P': 0.0006354454021315732, 'HULK/DR. ROBERT BRUC': 0.0006354454021315732, 'PUNISHER II/FRANK CA': 0.00019864358283836657, 'INVISIBLE WOMAN/SUE': 0.0006354454021315732, 'THING/BENJAMIN J. GR': 0.0006354454021315732, 'SCARLET WITCH/WANDA': 0.0006354454021315732, 'CAPTAIN AMERICA': 0.0006354454021315732, 'WONDER MAN/SIMON WIL': 0.0006354454021315732, 'WOLVERINE/LOGAN': 0.0006354454021315732, 'SHE-HULK/JENNIFER WA': 0.0006354454021315732, 'SILVER SURFER/NORRIN': 0.0006354454021315732, 'VISION': 0.0006354454021315732, 'MARVEL GIRL/JEAN GRE': 0.0006354454021315732, 'STORM/ORORO MUNROE S': 0.0006354454021315732, 'MR. FANTASTIC/REED R': 0.0006354454021315732, 'ANGEL/WARREN KENNETH': 0.0006354454021315732, 'ICEMAN/ROBERT BOBBY': 0.0006354454021315732, 'HAWK': 0.0004639991396574361, 'WASP/JANET VAN DYNE': 0.0006354454021315732, 'ANT-MAN/DR. HENRY J.': 0.0006354454021315732, 'BLACK WIDOW/NATASHA': 0.0006354454021315732, 'HERCULES [GREEK GOD]': 0.0005323664188162848, 'SHADOWCAT/KATHERINE': 7.781171113541473e-05, 'CAPTAIN BRITAIN/BRIA': 0.0003424345012105297, 'NIGHTCRAWLER/KURT WA': 0.0004509001700459124, 'QUICKSILVER/PIETRO M': 0.000403104185469799, 'FURY, COL. NICHOLAS': 0.0005323664188162848, 'ODIN [ASGARDIAN]': 0.00021888977655394801, 'WATSON-PARKER, MARY': 0.0003213760669844289, 'SPIDER-MAN/PETER PARKER': 0.0006354454021315732, 'SUB-MARINER/NAMOR MA': 0.0006354454021315732, 'JONES, RICHARD MILHO': 0.0005759735499659733, 'PARKER, MAY': 0.0002623437514081914, 'DAREDEVIL/MATT MURDO': 0.0005128357462588104, 'HUMAN TORCH/JOHNNY S': 0.0006354454021315732, 'PROFESSOR X/CHARLES': 0.00036215245499157715, 'RICHARDS, FRANKLIN B': 0.0004639991396574361, 'COLOSSUS II/PETER RA': 0.0006354454021315732, 'DR. STRANGE/STEPHEN': 0.0006354454021315732, 'DR. DOOM/VICTOR VON': 0.0005128357462588104, 'JAMESON, J. JONAH': 0.00048414067372642804, 'NELSON, FRANKLIN FOG': 0.00032238837667020794, 'ROGUE ': 0.00036215245499157715, 'ROBERTSON, JOE': 0.00036380833392895135, 'CANNONBALL II/SAM GU': 0.00035125045443721355}\n",
      "the node is:  JARVIS, EDWIN\n",
      " the betweenness centrality of G1_topN:  {\"BLACK PANTHER/T'CHAL\": 0.0005128357462588104, 'IRON MAN/TONY STARK': 0.0006354454021315732, 'THOR/DR. DONALD BLAK': 0.0006354454021315732, 'JARVIS, EDWIN': 0.0005749099600522091, 'CYCLOPS/SCOTT SUMMER': 0.0006354454021315732, 'BEAST/HENRY &HANK& P': 0.0006354454021315732, 'HULK/DR. ROBERT BRUC': 0.0006354454021315732, 'PUNISHER II/FRANK CA': 0.00019864358283836657, 'INVISIBLE WOMAN/SUE': 0.0006354454021315732, 'THING/BENJAMIN J. GR': 0.0006354454021315732, 'SCARLET WITCH/WANDA': 0.0006354454021315732, 'CAPTAIN AMERICA': 0.0006354454021315732, 'WONDER MAN/SIMON WIL': 0.0006354454021315732, 'WOLVERINE/LOGAN': 0.0006354454021315732, 'SHE-HULK/JENNIFER WA': 0.0006354454021315732, 'SILVER SURFER/NORRIN': 0.0006354454021315732, 'VISION': 0.0006354454021315732, 'MARVEL GIRL/JEAN GRE': 0.0006354454021315732, 'STORM/ORORO MUNROE S': 0.0006354454021315732, 'MR. FANTASTIC/REED R': 0.0006354454021315732, 'ANGEL/WARREN KENNETH': 0.0006354454021315732, 'ICEMAN/ROBERT BOBBY': 0.0006354454021315732, 'HAWK': 0.0004639991396574361, 'WASP/JANET VAN DYNE': 0.0006354454021315732, 'ANT-MAN/DR. HENRY J.': 0.0006354454021315732, 'BLACK WIDOW/NATASHA': 0.0006354454021315732, 'HERCULES [GREEK GOD]': 0.0005323664188162848, 'SHADOWCAT/KATHERINE': 7.781171113541473e-05, 'CAPTAIN BRITAIN/BRIA': 0.0003424345012105297, 'NIGHTCRAWLER/KURT WA': 0.0004509001700459124, 'QUICKSILVER/PIETRO M': 0.000403104185469799, 'FURY, COL. NICHOLAS': 0.0005323664188162848, 'ODIN [ASGARDIAN]': 0.00021888977655394801, 'WATSON-PARKER, MARY': 0.0003213760669844289, 'SPIDER-MAN/PETER PARKER': 0.0006354454021315732, 'SUB-MARINER/NAMOR MA': 0.0006354454021315732, 'JONES, RICHARD MILHO': 0.0005759735499659733, 'PARKER, MAY': 0.0002623437514081914, 'DAREDEVIL/MATT MURDO': 0.0005128357462588104, 'HUMAN TORCH/JOHNNY S': 0.0006354454021315732, 'PROFESSOR X/CHARLES': 0.00036215245499157715, 'RICHARDS, FRANKLIN B': 0.0004639991396574361, 'COLOSSUS II/PETER RA': 0.0006354454021315732, 'DR. STRANGE/STEPHEN': 0.0006354454021315732, 'DR. DOOM/VICTOR VON': 0.0005128357462588104, 'JAMESON, J. JONAH': 0.00048414067372642804, 'NELSON, FRANKLIN FOG': 0.00032238837667020794, 'ROGUE ': 0.00036215245499157715, 'ROBERTSON, JOE': 0.00036380833392895135, 'CANNONBALL II/SAM GU': 0.00035125045443721355}\n",
      "the node is:  CYCLOPS/SCOTT SUMMER\n",
      " the betweenness centrality of G1_topN:  {\"BLACK PANTHER/T'CHAL\": 0.0005128357462588104, 'IRON MAN/TONY STARK': 0.0006354454021315732, 'THOR/DR. DONALD BLAK': 0.0006354454021315732, 'JARVIS, EDWIN': 0.0005749099600522091, 'CYCLOPS/SCOTT SUMMER': 0.0006354454021315732, 'BEAST/HENRY &HANK& P': 0.0006354454021315732, 'HULK/DR. ROBERT BRUC': 0.0006354454021315732, 'PUNISHER II/FRANK CA': 0.00019864358283836657, 'INVISIBLE WOMAN/SUE': 0.0006354454021315732, 'THING/BENJAMIN J. GR': 0.0006354454021315732, 'SCARLET WITCH/WANDA': 0.0006354454021315732, 'CAPTAIN AMERICA': 0.0006354454021315732, 'WONDER MAN/SIMON WIL': 0.0006354454021315732, 'WOLVERINE/LOGAN': 0.0006354454021315732, 'SHE-HULK/JENNIFER WA': 0.0006354454021315732, 'SILVER SURFER/NORRIN': 0.0006354454021315732, 'VISION': 0.0006354454021315732, 'MARVEL GIRL/JEAN GRE': 0.0006354454021315732, 'STORM/ORORO MUNROE S': 0.0006354454021315732, 'MR. FANTASTIC/REED R': 0.0006354454021315732, 'ANGEL/WARREN KENNETH': 0.0006354454021315732, 'ICEMAN/ROBERT BOBBY': 0.0006354454021315732, 'HAWK': 0.0004639991396574361, 'WASP/JANET VAN DYNE': 0.0006354454021315732, 'ANT-MAN/DR. HENRY J.': 0.0006354454021315732, 'BLACK WIDOW/NATASHA': 0.0006354454021315732, 'HERCULES [GREEK GOD]': 0.0005323664188162848, 'SHADOWCAT/KATHERINE': 7.781171113541473e-05, 'CAPTAIN BRITAIN/BRIA': 0.0003424345012105297, 'NIGHTCRAWLER/KURT WA': 0.0004509001700459124, 'QUICKSILVER/PIETRO M': 0.000403104185469799, 'FURY, COL. NICHOLAS': 0.0005323664188162848, 'ODIN [ASGARDIAN]': 0.00021888977655394801, 'WATSON-PARKER, MARY': 0.0003213760669844289, 'SPIDER-MAN/PETER PARKER': 0.0006354454021315732, 'SUB-MARINER/NAMOR MA': 0.0006354454021315732, 'JONES, RICHARD MILHO': 0.0005759735499659733, 'PARKER, MAY': 0.0002623437514081914, 'DAREDEVIL/MATT MURDO': 0.0005128357462588104, 'HUMAN TORCH/JOHNNY S': 0.0006354454021315732, 'PROFESSOR X/CHARLES': 0.00036215245499157715, 'RICHARDS, FRANKLIN B': 0.0004639991396574361, 'COLOSSUS II/PETER RA': 0.0006354454021315732, 'DR. STRANGE/STEPHEN': 0.0006354454021315732, 'DR. DOOM/VICTOR VON': 0.0005128357462588104, 'JAMESON, J. JONAH': 0.00048414067372642804, 'NELSON, FRANKLIN FOG': 0.00032238837667020794, 'ROGUE ': 0.00036215245499157715, 'ROBERTSON, JOE': 0.00036380833392895135, 'CANNONBALL II/SAM GU': 0.00035125045443721355}\n",
      "the node is:  BEAST/HENRY &HANK& P\n",
      " the betweenness centrality of G1_topN:  {\"BLACK PANTHER/T'CHAL\": 0.0005128357462588104, 'IRON MAN/TONY STARK': 0.0006354454021315732, 'THOR/DR. DONALD BLAK': 0.0006354454021315732, 'JARVIS, EDWIN': 0.0005749099600522091, 'CYCLOPS/SCOTT SUMMER': 0.0006354454021315732, 'BEAST/HENRY &HANK& P': 0.0006354454021315732, 'HULK/DR. ROBERT BRUC': 0.0006354454021315732, 'PUNISHER II/FRANK CA': 0.00019864358283836657, 'INVISIBLE WOMAN/SUE': 0.0006354454021315732, 'THING/BENJAMIN J. GR': 0.0006354454021315732, 'SCARLET WITCH/WANDA': 0.0006354454021315732, 'CAPTAIN AMERICA': 0.0006354454021315732, 'WONDER MAN/SIMON WIL': 0.0006354454021315732, 'WOLVERINE/LOGAN': 0.0006354454021315732, 'SHE-HULK/JENNIFER WA': 0.0006354454021315732, 'SILVER SURFER/NORRIN': 0.0006354454021315732, 'VISION': 0.0006354454021315732, 'MARVEL GIRL/JEAN GRE': 0.0006354454021315732, 'STORM/ORORO MUNROE S': 0.0006354454021315732, 'MR. FANTASTIC/REED R': 0.0006354454021315732, 'ANGEL/WARREN KENNETH': 0.0006354454021315732, 'ICEMAN/ROBERT BOBBY': 0.0006354454021315732, 'HAWK': 0.0004639991396574361, 'WASP/JANET VAN DYNE': 0.0006354454021315732, 'ANT-MAN/DR. HENRY J.': 0.0006354454021315732, 'BLACK WIDOW/NATASHA': 0.0006354454021315732, 'HERCULES [GREEK GOD]': 0.0005323664188162848, 'SHADOWCAT/KATHERINE': 7.781171113541473e-05, 'CAPTAIN BRITAIN/BRIA': 0.0003424345012105297, 'NIGHTCRAWLER/KURT WA': 0.0004509001700459124, 'QUICKSILVER/PIETRO M': 0.000403104185469799, 'FURY, COL. NICHOLAS': 0.0005323664188162848, 'ODIN [ASGARDIAN]': 0.00021888977655394801, 'WATSON-PARKER, MARY': 0.0003213760669844289, 'SPIDER-MAN/PETER PARKER': 0.0006354454021315732, 'SUB-MARINER/NAMOR MA': 0.0006354454021315732, 'JONES, RICHARD MILHO': 0.0005759735499659733, 'PARKER, MAY': 0.0002623437514081914, 'DAREDEVIL/MATT MURDO': 0.0005128357462588104, 'HUMAN TORCH/JOHNNY S': 0.0006354454021315732, 'PROFESSOR X/CHARLES': 0.00036215245499157715, 'RICHARDS, FRANKLIN B': 0.0004639991396574361, 'COLOSSUS II/PETER RA': 0.0006354454021315732, 'DR. STRANGE/STEPHEN': 0.0006354454021315732, 'DR. DOOM/VICTOR VON': 0.0005128357462588104, 'JAMESON, J. JONAH': 0.00048414067372642804, 'NELSON, FRANKLIN FOG': 0.00032238837667020794, 'ROGUE ': 0.00036215245499157715, 'ROBERTSON, JOE': 0.00036380833392895135, 'CANNONBALL II/SAM GU': 0.00035125045443721355}\n",
      "the node is:  HULK/DR. ROBERT BRUC\n",
      " the betweenness centrality of G1_topN:  {\"BLACK PANTHER/T'CHAL\": 0.0005128357462588104, 'IRON MAN/TONY STARK': 0.0006354454021315732, 'THOR/DR. DONALD BLAK': 0.0006354454021315732, 'JARVIS, EDWIN': 0.0005749099600522091, 'CYCLOPS/SCOTT SUMMER': 0.0006354454021315732, 'BEAST/HENRY &HANK& P': 0.0006354454021315732, 'HULK/DR. ROBERT BRUC': 0.0006354454021315732, 'PUNISHER II/FRANK CA': 0.00019864358283836657, 'INVISIBLE WOMAN/SUE': 0.0006354454021315732, 'THING/BENJAMIN J. GR': 0.0006354454021315732, 'SCARLET WITCH/WANDA': 0.0006354454021315732, 'CAPTAIN AMERICA': 0.0006354454021315732, 'WONDER MAN/SIMON WIL': 0.0006354454021315732, 'WOLVERINE/LOGAN': 0.0006354454021315732, 'SHE-HULK/JENNIFER WA': 0.0006354454021315732, 'SILVER SURFER/NORRIN': 0.0006354454021315732, 'VISION': 0.0006354454021315732, 'MARVEL GIRL/JEAN GRE': 0.0006354454021315732, 'STORM/ORORO MUNROE S': 0.0006354454021315732, 'MR. FANTASTIC/REED R': 0.0006354454021315732, 'ANGEL/WARREN KENNETH': 0.0006354454021315732, 'ICEMAN/ROBERT BOBBY': 0.0006354454021315732, 'HAWK': 0.0004639991396574361, 'WASP/JANET VAN DYNE': 0.0006354454021315732, 'ANT-MAN/DR. HENRY J.': 0.0006354454021315732, 'BLACK WIDOW/NATASHA': 0.0006354454021315732, 'HERCULES [GREEK GOD]': 0.0005323664188162848, 'SHADOWCAT/KATHERINE': 7.781171113541473e-05, 'CAPTAIN BRITAIN/BRIA': 0.0003424345012105297, 'NIGHTCRAWLER/KURT WA': 0.0004509001700459124, 'QUICKSILVER/PIETRO M': 0.000403104185469799, 'FURY, COL. NICHOLAS': 0.0005323664188162848, 'ODIN [ASGARDIAN]': 0.00021888977655394801, 'WATSON-PARKER, MARY': 0.0003213760669844289, 'SPIDER-MAN/PETER PARKER': 0.0006354454021315732, 'SUB-MARINER/NAMOR MA': 0.0006354454021315732, 'JONES, RICHARD MILHO': 0.0005759735499659733, 'PARKER, MAY': 0.0002623437514081914, 'DAREDEVIL/MATT MURDO': 0.0005128357462588104, 'HUMAN TORCH/JOHNNY S': 0.0006354454021315732, 'PROFESSOR X/CHARLES': 0.00036215245499157715, 'RICHARDS, FRANKLIN B': 0.0004639991396574361, 'COLOSSUS II/PETER RA': 0.0006354454021315732, 'DR. STRANGE/STEPHEN': 0.0006354454021315732, 'DR. DOOM/VICTOR VON': 0.0005128357462588104, 'JAMESON, J. JONAH': 0.00048414067372642804, 'NELSON, FRANKLIN FOG': 0.00032238837667020794, 'ROGUE ': 0.00036215245499157715, 'ROBERTSON, JOE': 0.00036380833392895135, 'CANNONBALL II/SAM GU': 0.00035125045443721355}\n",
      "the node is:  PUNISHER II/FRANK CA\n",
      " the betweenness centrality of G1_topN:  {\"BLACK PANTHER/T'CHAL\": 0.0005128357462588104, 'IRON MAN/TONY STARK': 0.0006354454021315732, 'THOR/DR. DONALD BLAK': 0.0006354454021315732, 'JARVIS, EDWIN': 0.0005749099600522091, 'CYCLOPS/SCOTT SUMMER': 0.0006354454021315732, 'BEAST/HENRY &HANK& P': 0.0006354454021315732, 'HULK/DR. ROBERT BRUC': 0.0006354454021315732, 'PUNISHER II/FRANK CA': 0.00019864358283836657, 'INVISIBLE WOMAN/SUE': 0.0006354454021315732, 'THING/BENJAMIN J. GR': 0.0006354454021315732, 'SCARLET WITCH/WANDA': 0.0006354454021315732, 'CAPTAIN AMERICA': 0.0006354454021315732, 'WONDER MAN/SIMON WIL': 0.0006354454021315732, 'WOLVERINE/LOGAN': 0.0006354454021315732, 'SHE-HULK/JENNIFER WA': 0.0006354454021315732, 'SILVER SURFER/NORRIN': 0.0006354454021315732, 'VISION': 0.0006354454021315732, 'MARVEL GIRL/JEAN GRE': 0.0006354454021315732, 'STORM/ORORO MUNROE S': 0.0006354454021315732, 'MR. FANTASTIC/REED R': 0.0006354454021315732, 'ANGEL/WARREN KENNETH': 0.0006354454021315732, 'ICEMAN/ROBERT BOBBY': 0.0006354454021315732, 'HAWK': 0.0004639991396574361, 'WASP/JANET VAN DYNE': 0.0006354454021315732, 'ANT-MAN/DR. HENRY J.': 0.0006354454021315732, 'BLACK WIDOW/NATASHA': 0.0006354454021315732, 'HERCULES [GREEK GOD]': 0.0005323664188162848, 'SHADOWCAT/KATHERINE': 7.781171113541473e-05, 'CAPTAIN BRITAIN/BRIA': 0.0003424345012105297, 'NIGHTCRAWLER/KURT WA': 0.0004509001700459124, 'QUICKSILVER/PIETRO M': 0.000403104185469799, 'FURY, COL. NICHOLAS': 0.0005323664188162848, 'ODIN [ASGARDIAN]': 0.00021888977655394801, 'WATSON-PARKER, MARY': 0.0003213760669844289, 'SPIDER-MAN/PETER PARKER': 0.0006354454021315732, 'SUB-MARINER/NAMOR MA': 0.0006354454021315732, 'JONES, RICHARD MILHO': 0.0005759735499659733, 'PARKER, MAY': 0.0002623437514081914, 'DAREDEVIL/MATT MURDO': 0.0005128357462588104, 'HUMAN TORCH/JOHNNY S': 0.0006354454021315732, 'PROFESSOR X/CHARLES': 0.00036215245499157715, 'RICHARDS, FRANKLIN B': 0.0004639991396574361, 'COLOSSUS II/PETER RA': 0.0006354454021315732, 'DR. STRANGE/STEPHEN': 0.0006354454021315732, 'DR. DOOM/VICTOR VON': 0.0005128357462588104, 'JAMESON, J. JONAH': 0.00048414067372642804, 'NELSON, FRANKLIN FOG': 0.00032238837667020794, 'ROGUE ': 0.00036215245499157715, 'ROBERTSON, JOE': 0.00036380833392895135, 'CANNONBALL II/SAM GU': 0.00035125045443721355}\n",
      "the node is:  INVISIBLE WOMAN/SUE\n",
      " the betweenness centrality of G1_topN:  {\"BLACK PANTHER/T'CHAL\": 0.0005128357462588104, 'IRON MAN/TONY STARK': 0.0006354454021315732, 'THOR/DR. DONALD BLAK': 0.0006354454021315732, 'JARVIS, EDWIN': 0.0005749099600522091, 'CYCLOPS/SCOTT SUMMER': 0.0006354454021315732, 'BEAST/HENRY &HANK& P': 0.0006354454021315732, 'HULK/DR. ROBERT BRUC': 0.0006354454021315732, 'PUNISHER II/FRANK CA': 0.00019864358283836657, 'INVISIBLE WOMAN/SUE': 0.0006354454021315732, 'THING/BENJAMIN J. GR': 0.0006354454021315732, 'SCARLET WITCH/WANDA': 0.0006354454021315732, 'CAPTAIN AMERICA': 0.0006354454021315732, 'WONDER MAN/SIMON WIL': 0.0006354454021315732, 'WOLVERINE/LOGAN': 0.0006354454021315732, 'SHE-HULK/JENNIFER WA': 0.0006354454021315732, 'SILVER SURFER/NORRIN': 0.0006354454021315732, 'VISION': 0.0006354454021315732, 'MARVEL GIRL/JEAN GRE': 0.0006354454021315732, 'STORM/ORORO MUNROE S': 0.0006354454021315732, 'MR. FANTASTIC/REED R': 0.0006354454021315732, 'ANGEL/WARREN KENNETH': 0.0006354454021315732, 'ICEMAN/ROBERT BOBBY': 0.0006354454021315732, 'HAWK': 0.0004639991396574361, 'WASP/JANET VAN DYNE': 0.0006354454021315732, 'ANT-MAN/DR. HENRY J.': 0.0006354454021315732, 'BLACK WIDOW/NATASHA': 0.0006354454021315732, 'HERCULES [GREEK GOD]': 0.0005323664188162848, 'SHADOWCAT/KATHERINE': 7.781171113541473e-05, 'CAPTAIN BRITAIN/BRIA': 0.0003424345012105297, 'NIGHTCRAWLER/KURT WA': 0.0004509001700459124, 'QUICKSILVER/PIETRO M': 0.000403104185469799, 'FURY, COL. NICHOLAS': 0.0005323664188162848, 'ODIN [ASGARDIAN]': 0.00021888977655394801, 'WATSON-PARKER, MARY': 0.0003213760669844289, 'SPIDER-MAN/PETER PARKER': 0.0006354454021315732, 'SUB-MARINER/NAMOR MA': 0.0006354454021315732, 'JONES, RICHARD MILHO': 0.0005759735499659733, 'PARKER, MAY': 0.0002623437514081914, 'DAREDEVIL/MATT MURDO': 0.0005128357462588104, 'HUMAN TORCH/JOHNNY S': 0.0006354454021315732, 'PROFESSOR X/CHARLES': 0.00036215245499157715, 'RICHARDS, FRANKLIN B': 0.0004639991396574361, 'COLOSSUS II/PETER RA': 0.0006354454021315732, 'DR. STRANGE/STEPHEN': 0.0006354454021315732, 'DR. DOOM/VICTOR VON': 0.0005128357462588104, 'JAMESON, J. JONAH': 0.00048414067372642804, 'NELSON, FRANKLIN FOG': 0.00032238837667020794, 'ROGUE ': 0.00036215245499157715, 'ROBERTSON, JOE': 0.00036380833392895135, 'CANNONBALL II/SAM GU': 0.00035125045443721355}\n",
      "the node is:  THING/BENJAMIN J. GR\n",
      " the betweenness centrality of G1_topN:  {\"BLACK PANTHER/T'CHAL\": 0.0005128357462588104, 'IRON MAN/TONY STARK': 0.0006354454021315732, 'THOR/DR. DONALD BLAK': 0.0006354454021315732, 'JARVIS, EDWIN': 0.0005749099600522091, 'CYCLOPS/SCOTT SUMMER': 0.0006354454021315732, 'BEAST/HENRY &HANK& P': 0.0006354454021315732, 'HULK/DR. ROBERT BRUC': 0.0006354454021315732, 'PUNISHER II/FRANK CA': 0.00019864358283836657, 'INVISIBLE WOMAN/SUE': 0.0006354454021315732, 'THING/BENJAMIN J. GR': 0.0006354454021315732, 'SCARLET WITCH/WANDA': 0.0006354454021315732, 'CAPTAIN AMERICA': 0.0006354454021315732, 'WONDER MAN/SIMON WIL': 0.0006354454021315732, 'WOLVERINE/LOGAN': 0.0006354454021315732, 'SHE-HULK/JENNIFER WA': 0.0006354454021315732, 'SILVER SURFER/NORRIN': 0.0006354454021315732, 'VISION': 0.0006354454021315732, 'MARVEL GIRL/JEAN GRE': 0.0006354454021315732, 'STORM/ORORO MUNROE S': 0.0006354454021315732, 'MR. FANTASTIC/REED R': 0.0006354454021315732, 'ANGEL/WARREN KENNETH': 0.0006354454021315732, 'ICEMAN/ROBERT BOBBY': 0.0006354454021315732, 'HAWK': 0.0004639991396574361, 'WASP/JANET VAN DYNE': 0.0006354454021315732, 'ANT-MAN/DR. HENRY J.': 0.0006354454021315732, 'BLACK WIDOW/NATASHA': 0.0006354454021315732, 'HERCULES [GREEK GOD]': 0.0005323664188162848, 'SHADOWCAT/KATHERINE': 7.781171113541473e-05, 'CAPTAIN BRITAIN/BRIA': 0.0003424345012105297, 'NIGHTCRAWLER/KURT WA': 0.0004509001700459124, 'QUICKSILVER/PIETRO M': 0.000403104185469799, 'FURY, COL. NICHOLAS': 0.0005323664188162848, 'ODIN [ASGARDIAN]': 0.00021888977655394801, 'WATSON-PARKER, MARY': 0.0003213760669844289, 'SPIDER-MAN/PETER PARKER': 0.0006354454021315732, 'SUB-MARINER/NAMOR MA': 0.0006354454021315732, 'JONES, RICHARD MILHO': 0.0005759735499659733, 'PARKER, MAY': 0.0002623437514081914, 'DAREDEVIL/MATT MURDO': 0.0005128357462588104, 'HUMAN TORCH/JOHNNY S': 0.0006354454021315732, 'PROFESSOR X/CHARLES': 0.00036215245499157715, 'RICHARDS, FRANKLIN B': 0.0004639991396574361, 'COLOSSUS II/PETER RA': 0.0006354454021315732, 'DR. STRANGE/STEPHEN': 0.0006354454021315732, 'DR. DOOM/VICTOR VON': 0.0005128357462588104, 'JAMESON, J. JONAH': 0.00048414067372642804, 'NELSON, FRANKLIN FOG': 0.00032238837667020794, 'ROGUE ': 0.00036215245499157715, 'ROBERTSON, JOE': 0.00036380833392895135, 'CANNONBALL II/SAM GU': 0.00035125045443721355}\n"
     ]
    }
   ],
   "source": [
    "functionality_2(G1_topN, 1,\"betweenness\", 10)"
   ]
  },
  {
   "cell_type": "code",
   "execution_count": 61,
   "id": "eb2b9432",
   "metadata": {},
   "outputs": [
    {
     "name": "stdout",
     "output_type": "stream",
     "text": [
      "the node is:  BLACK PANTHER/T'CHAL\n",
      " the degree centrality of G1_topN:  {\"BLACK PANTHER/T'CHAL\": 0.9795918367346939, 'IRON MAN/TONY STARK': 0.9999999999999999, 'THOR/DR. DONALD BLAK': 0.9999999999999999, 'JARVIS, EDWIN': 0.9795918367346939, 'CYCLOPS/SCOTT SUMMER': 0.9999999999999999, 'BEAST/HENRY &HANK& P': 0.9999999999999999, 'HULK/DR. ROBERT BRUC': 0.9999999999999999, 'PUNISHER II/FRANK CA': 0.836734693877551, 'INVISIBLE WOMAN/SUE': 0.9999999999999999, 'THING/BENJAMIN J. GR': 0.9999999999999999, 'SCARLET WITCH/WANDA': 0.9999999999999999, 'CAPTAIN AMERICA': 0.9999999999999999, 'WONDER MAN/SIMON WIL': 0.9999999999999999, 'WOLVERINE/LOGAN': 0.9999999999999999, 'SHE-HULK/JENNIFER WA': 0.9999999999999999, 'SILVER SURFER/NORRIN': 0.9999999999999999, 'VISION': 0.9999999999999999, 'MARVEL GIRL/JEAN GRE': 0.9999999999999999, 'STORM/ORORO MUNROE S': 0.9999999999999999, 'MR. FANTASTIC/REED R': 0.9999999999999999, 'ANGEL/WARREN KENNETH': 0.9999999999999999, 'ICEMAN/ROBERT BOBBY': 0.9999999999999999, 'HAWK': 0.9795918367346939, 'WASP/JANET VAN DYNE': 0.9999999999999999, 'ANT-MAN/DR. HENRY J.': 0.9999999999999999, 'BLACK WIDOW/NATASHA': 0.9999999999999999, 'HERCULES [GREEK GOD]': 0.9795918367346939, 'SHADOWCAT/KATHERINE': 0.8571428571428571, 'CAPTAIN BRITAIN/BRIA': 0.9387755102040816, 'NIGHTCRAWLER/KURT WA': 0.9591836734693877, 'QUICKSILVER/PIETRO M': 0.9591836734693877, 'FURY, COL. NICHOLAS': 0.9795918367346939, 'ODIN [ASGARDIAN]': 0.8775510204081632, 'WATSON-PARKER, MARY': 0.9387755102040816, 'SPIDER-MAN/PETER PARKER': 0.9999999999999999, 'SUB-MARINER/NAMOR MA': 0.9999999999999999, 'JONES, RICHARD MILHO': 0.9795918367346939, 'PARKER, MAY': 0.8979591836734693, 'DAREDEVIL/MATT MURDO': 0.9795918367346939, 'HUMAN TORCH/JOHNNY S': 0.9999999999999999, 'PROFESSOR X/CHARLES': 0.9591836734693877, 'RICHARDS, FRANKLIN B': 0.9795918367346939, 'COLOSSUS II/PETER RA': 0.9999999999999999, 'DR. STRANGE/STEPHEN': 0.9999999999999999, 'DR. DOOM/VICTOR VON': 0.9795918367346939, 'JAMESON, J. JONAH': 0.9795918367346939, 'NELSON, FRANKLIN FOG': 0.9387755102040816, 'ROGUE ': 0.9591836734693877, 'ROBERTSON, JOE': 0.9387755102040816, 'CANNONBALL II/SAM GU': 0.8775510204081632}\n",
      "the node is:  IRON MAN/TONY STARK\n",
      " the degree centrality of G1_topN:  {\"BLACK PANTHER/T'CHAL\": 0.9795918367346939, 'IRON MAN/TONY STARK': 0.9999999999999999, 'THOR/DR. DONALD BLAK': 0.9999999999999999, 'JARVIS, EDWIN': 0.9795918367346939, 'CYCLOPS/SCOTT SUMMER': 0.9999999999999999, 'BEAST/HENRY &HANK& P': 0.9999999999999999, 'HULK/DR. ROBERT BRUC': 0.9999999999999999, 'PUNISHER II/FRANK CA': 0.836734693877551, 'INVISIBLE WOMAN/SUE': 0.9999999999999999, 'THING/BENJAMIN J. GR': 0.9999999999999999, 'SCARLET WITCH/WANDA': 0.9999999999999999, 'CAPTAIN AMERICA': 0.9999999999999999, 'WONDER MAN/SIMON WIL': 0.9999999999999999, 'WOLVERINE/LOGAN': 0.9999999999999999, 'SHE-HULK/JENNIFER WA': 0.9999999999999999, 'SILVER SURFER/NORRIN': 0.9999999999999999, 'VISION': 0.9999999999999999, 'MARVEL GIRL/JEAN GRE': 0.9999999999999999, 'STORM/ORORO MUNROE S': 0.9999999999999999, 'MR. FANTASTIC/REED R': 0.9999999999999999, 'ANGEL/WARREN KENNETH': 0.9999999999999999, 'ICEMAN/ROBERT BOBBY': 0.9999999999999999, 'HAWK': 0.9795918367346939, 'WASP/JANET VAN DYNE': 0.9999999999999999, 'ANT-MAN/DR. HENRY J.': 0.9999999999999999, 'BLACK WIDOW/NATASHA': 0.9999999999999999, 'HERCULES [GREEK GOD]': 0.9795918367346939, 'SHADOWCAT/KATHERINE': 0.8571428571428571, 'CAPTAIN BRITAIN/BRIA': 0.9387755102040816, 'NIGHTCRAWLER/KURT WA': 0.9591836734693877, 'QUICKSILVER/PIETRO M': 0.9591836734693877, 'FURY, COL. NICHOLAS': 0.9795918367346939, 'ODIN [ASGARDIAN]': 0.8775510204081632, 'WATSON-PARKER, MARY': 0.9387755102040816, 'SPIDER-MAN/PETER PARKER': 0.9999999999999999, 'SUB-MARINER/NAMOR MA': 0.9999999999999999, 'JONES, RICHARD MILHO': 0.9795918367346939, 'PARKER, MAY': 0.8979591836734693, 'DAREDEVIL/MATT MURDO': 0.9795918367346939, 'HUMAN TORCH/JOHNNY S': 0.9999999999999999, 'PROFESSOR X/CHARLES': 0.9591836734693877, 'RICHARDS, FRANKLIN B': 0.9795918367346939, 'COLOSSUS II/PETER RA': 0.9999999999999999, 'DR. STRANGE/STEPHEN': 0.9999999999999999, 'DR. DOOM/VICTOR VON': 0.9795918367346939, 'JAMESON, J. JONAH': 0.9795918367346939, 'NELSON, FRANKLIN FOG': 0.9387755102040816, 'ROGUE ': 0.9591836734693877, 'ROBERTSON, JOE': 0.9387755102040816, 'CANNONBALL II/SAM GU': 0.8775510204081632}\n",
      "the node is:  THOR/DR. DONALD BLAK\n",
      " the degree centrality of G1_topN:  {\"BLACK PANTHER/T'CHAL\": 0.9795918367346939, 'IRON MAN/TONY STARK': 0.9999999999999999, 'THOR/DR. DONALD BLAK': 0.9999999999999999, 'JARVIS, EDWIN': 0.9795918367346939, 'CYCLOPS/SCOTT SUMMER': 0.9999999999999999, 'BEAST/HENRY &HANK& P': 0.9999999999999999, 'HULK/DR. ROBERT BRUC': 0.9999999999999999, 'PUNISHER II/FRANK CA': 0.836734693877551, 'INVISIBLE WOMAN/SUE': 0.9999999999999999, 'THING/BENJAMIN J. GR': 0.9999999999999999, 'SCARLET WITCH/WANDA': 0.9999999999999999, 'CAPTAIN AMERICA': 0.9999999999999999, 'WONDER MAN/SIMON WIL': 0.9999999999999999, 'WOLVERINE/LOGAN': 0.9999999999999999, 'SHE-HULK/JENNIFER WA': 0.9999999999999999, 'SILVER SURFER/NORRIN': 0.9999999999999999, 'VISION': 0.9999999999999999, 'MARVEL GIRL/JEAN GRE': 0.9999999999999999, 'STORM/ORORO MUNROE S': 0.9999999999999999, 'MR. FANTASTIC/REED R': 0.9999999999999999, 'ANGEL/WARREN KENNETH': 0.9999999999999999, 'ICEMAN/ROBERT BOBBY': 0.9999999999999999, 'HAWK': 0.9795918367346939, 'WASP/JANET VAN DYNE': 0.9999999999999999, 'ANT-MAN/DR. HENRY J.': 0.9999999999999999, 'BLACK WIDOW/NATASHA': 0.9999999999999999, 'HERCULES [GREEK GOD]': 0.9795918367346939, 'SHADOWCAT/KATHERINE': 0.8571428571428571, 'CAPTAIN BRITAIN/BRIA': 0.9387755102040816, 'NIGHTCRAWLER/KURT WA': 0.9591836734693877, 'QUICKSILVER/PIETRO M': 0.9591836734693877, 'FURY, COL. NICHOLAS': 0.9795918367346939, 'ODIN [ASGARDIAN]': 0.8775510204081632, 'WATSON-PARKER, MARY': 0.9387755102040816, 'SPIDER-MAN/PETER PARKER': 0.9999999999999999, 'SUB-MARINER/NAMOR MA': 0.9999999999999999, 'JONES, RICHARD MILHO': 0.9795918367346939, 'PARKER, MAY': 0.8979591836734693, 'DAREDEVIL/MATT MURDO': 0.9795918367346939, 'HUMAN TORCH/JOHNNY S': 0.9999999999999999, 'PROFESSOR X/CHARLES': 0.9591836734693877, 'RICHARDS, FRANKLIN B': 0.9795918367346939, 'COLOSSUS II/PETER RA': 0.9999999999999999, 'DR. STRANGE/STEPHEN': 0.9999999999999999, 'DR. DOOM/VICTOR VON': 0.9795918367346939, 'JAMESON, J. JONAH': 0.9795918367346939, 'NELSON, FRANKLIN FOG': 0.9387755102040816, 'ROGUE ': 0.9591836734693877, 'ROBERTSON, JOE': 0.9387755102040816, 'CANNONBALL II/SAM GU': 0.8775510204081632}\n",
      "the node is:  JARVIS, EDWIN\n",
      " the degree centrality of G1_topN:  {\"BLACK PANTHER/T'CHAL\": 0.9795918367346939, 'IRON MAN/TONY STARK': 0.9999999999999999, 'THOR/DR. DONALD BLAK': 0.9999999999999999, 'JARVIS, EDWIN': 0.9795918367346939, 'CYCLOPS/SCOTT SUMMER': 0.9999999999999999, 'BEAST/HENRY &HANK& P': 0.9999999999999999, 'HULK/DR. ROBERT BRUC': 0.9999999999999999, 'PUNISHER II/FRANK CA': 0.836734693877551, 'INVISIBLE WOMAN/SUE': 0.9999999999999999, 'THING/BENJAMIN J. GR': 0.9999999999999999, 'SCARLET WITCH/WANDA': 0.9999999999999999, 'CAPTAIN AMERICA': 0.9999999999999999, 'WONDER MAN/SIMON WIL': 0.9999999999999999, 'WOLVERINE/LOGAN': 0.9999999999999999, 'SHE-HULK/JENNIFER WA': 0.9999999999999999, 'SILVER SURFER/NORRIN': 0.9999999999999999, 'VISION': 0.9999999999999999, 'MARVEL GIRL/JEAN GRE': 0.9999999999999999, 'STORM/ORORO MUNROE S': 0.9999999999999999, 'MR. FANTASTIC/REED R': 0.9999999999999999, 'ANGEL/WARREN KENNETH': 0.9999999999999999, 'ICEMAN/ROBERT BOBBY': 0.9999999999999999, 'HAWK': 0.9795918367346939, 'WASP/JANET VAN DYNE': 0.9999999999999999, 'ANT-MAN/DR. HENRY J.': 0.9999999999999999, 'BLACK WIDOW/NATASHA': 0.9999999999999999, 'HERCULES [GREEK GOD]': 0.9795918367346939, 'SHADOWCAT/KATHERINE': 0.8571428571428571, 'CAPTAIN BRITAIN/BRIA': 0.9387755102040816, 'NIGHTCRAWLER/KURT WA': 0.9591836734693877, 'QUICKSILVER/PIETRO M': 0.9591836734693877, 'FURY, COL. NICHOLAS': 0.9795918367346939, 'ODIN [ASGARDIAN]': 0.8775510204081632, 'WATSON-PARKER, MARY': 0.9387755102040816, 'SPIDER-MAN/PETER PARKER': 0.9999999999999999, 'SUB-MARINER/NAMOR MA': 0.9999999999999999, 'JONES, RICHARD MILHO': 0.9795918367346939, 'PARKER, MAY': 0.8979591836734693, 'DAREDEVIL/MATT MURDO': 0.9795918367346939, 'HUMAN TORCH/JOHNNY S': 0.9999999999999999, 'PROFESSOR X/CHARLES': 0.9591836734693877, 'RICHARDS, FRANKLIN B': 0.9795918367346939, 'COLOSSUS II/PETER RA': 0.9999999999999999, 'DR. STRANGE/STEPHEN': 0.9999999999999999, 'DR. DOOM/VICTOR VON': 0.9795918367346939, 'JAMESON, J. JONAH': 0.9795918367346939, 'NELSON, FRANKLIN FOG': 0.9387755102040816, 'ROGUE ': 0.9591836734693877, 'ROBERTSON, JOE': 0.9387755102040816, 'CANNONBALL II/SAM GU': 0.8775510204081632}\n",
      "the node is:  CYCLOPS/SCOTT SUMMER\n",
      " the degree centrality of G1_topN:  {\"BLACK PANTHER/T'CHAL\": 0.9795918367346939, 'IRON MAN/TONY STARK': 0.9999999999999999, 'THOR/DR. DONALD BLAK': 0.9999999999999999, 'JARVIS, EDWIN': 0.9795918367346939, 'CYCLOPS/SCOTT SUMMER': 0.9999999999999999, 'BEAST/HENRY &HANK& P': 0.9999999999999999, 'HULK/DR. ROBERT BRUC': 0.9999999999999999, 'PUNISHER II/FRANK CA': 0.836734693877551, 'INVISIBLE WOMAN/SUE': 0.9999999999999999, 'THING/BENJAMIN J. GR': 0.9999999999999999, 'SCARLET WITCH/WANDA': 0.9999999999999999, 'CAPTAIN AMERICA': 0.9999999999999999, 'WONDER MAN/SIMON WIL': 0.9999999999999999, 'WOLVERINE/LOGAN': 0.9999999999999999, 'SHE-HULK/JENNIFER WA': 0.9999999999999999, 'SILVER SURFER/NORRIN': 0.9999999999999999, 'VISION': 0.9999999999999999, 'MARVEL GIRL/JEAN GRE': 0.9999999999999999, 'STORM/ORORO MUNROE S': 0.9999999999999999, 'MR. FANTASTIC/REED R': 0.9999999999999999, 'ANGEL/WARREN KENNETH': 0.9999999999999999, 'ICEMAN/ROBERT BOBBY': 0.9999999999999999, 'HAWK': 0.9795918367346939, 'WASP/JANET VAN DYNE': 0.9999999999999999, 'ANT-MAN/DR. HENRY J.': 0.9999999999999999, 'BLACK WIDOW/NATASHA': 0.9999999999999999, 'HERCULES [GREEK GOD]': 0.9795918367346939, 'SHADOWCAT/KATHERINE': 0.8571428571428571, 'CAPTAIN BRITAIN/BRIA': 0.9387755102040816, 'NIGHTCRAWLER/KURT WA': 0.9591836734693877, 'QUICKSILVER/PIETRO M': 0.9591836734693877, 'FURY, COL. NICHOLAS': 0.9795918367346939, 'ODIN [ASGARDIAN]': 0.8775510204081632, 'WATSON-PARKER, MARY': 0.9387755102040816, 'SPIDER-MAN/PETER PARKER': 0.9999999999999999, 'SUB-MARINER/NAMOR MA': 0.9999999999999999, 'JONES, RICHARD MILHO': 0.9795918367346939, 'PARKER, MAY': 0.8979591836734693, 'DAREDEVIL/MATT MURDO': 0.9795918367346939, 'HUMAN TORCH/JOHNNY S': 0.9999999999999999, 'PROFESSOR X/CHARLES': 0.9591836734693877, 'RICHARDS, FRANKLIN B': 0.9795918367346939, 'COLOSSUS II/PETER RA': 0.9999999999999999, 'DR. STRANGE/STEPHEN': 0.9999999999999999, 'DR. DOOM/VICTOR VON': 0.9795918367346939, 'JAMESON, J. JONAH': 0.9795918367346939, 'NELSON, FRANKLIN FOG': 0.9387755102040816, 'ROGUE ': 0.9591836734693877, 'ROBERTSON, JOE': 0.9387755102040816, 'CANNONBALL II/SAM GU': 0.8775510204081632}\n",
      "the node is:  BEAST/HENRY &HANK& P\n",
      " the degree centrality of G1_topN:  {\"BLACK PANTHER/T'CHAL\": 0.9795918367346939, 'IRON MAN/TONY STARK': 0.9999999999999999, 'THOR/DR. DONALD BLAK': 0.9999999999999999, 'JARVIS, EDWIN': 0.9795918367346939, 'CYCLOPS/SCOTT SUMMER': 0.9999999999999999, 'BEAST/HENRY &HANK& P': 0.9999999999999999, 'HULK/DR. ROBERT BRUC': 0.9999999999999999, 'PUNISHER II/FRANK CA': 0.836734693877551, 'INVISIBLE WOMAN/SUE': 0.9999999999999999, 'THING/BENJAMIN J. GR': 0.9999999999999999, 'SCARLET WITCH/WANDA': 0.9999999999999999, 'CAPTAIN AMERICA': 0.9999999999999999, 'WONDER MAN/SIMON WIL': 0.9999999999999999, 'WOLVERINE/LOGAN': 0.9999999999999999, 'SHE-HULK/JENNIFER WA': 0.9999999999999999, 'SILVER SURFER/NORRIN': 0.9999999999999999, 'VISION': 0.9999999999999999, 'MARVEL GIRL/JEAN GRE': 0.9999999999999999, 'STORM/ORORO MUNROE S': 0.9999999999999999, 'MR. FANTASTIC/REED R': 0.9999999999999999, 'ANGEL/WARREN KENNETH': 0.9999999999999999, 'ICEMAN/ROBERT BOBBY': 0.9999999999999999, 'HAWK': 0.9795918367346939, 'WASP/JANET VAN DYNE': 0.9999999999999999, 'ANT-MAN/DR. HENRY J.': 0.9999999999999999, 'BLACK WIDOW/NATASHA': 0.9999999999999999, 'HERCULES [GREEK GOD]': 0.9795918367346939, 'SHADOWCAT/KATHERINE': 0.8571428571428571, 'CAPTAIN BRITAIN/BRIA': 0.9387755102040816, 'NIGHTCRAWLER/KURT WA': 0.9591836734693877, 'QUICKSILVER/PIETRO M': 0.9591836734693877, 'FURY, COL. NICHOLAS': 0.9795918367346939, 'ODIN [ASGARDIAN]': 0.8775510204081632, 'WATSON-PARKER, MARY': 0.9387755102040816, 'SPIDER-MAN/PETER PARKER': 0.9999999999999999, 'SUB-MARINER/NAMOR MA': 0.9999999999999999, 'JONES, RICHARD MILHO': 0.9795918367346939, 'PARKER, MAY': 0.8979591836734693, 'DAREDEVIL/MATT MURDO': 0.9795918367346939, 'HUMAN TORCH/JOHNNY S': 0.9999999999999999, 'PROFESSOR X/CHARLES': 0.9591836734693877, 'RICHARDS, FRANKLIN B': 0.9795918367346939, 'COLOSSUS II/PETER RA': 0.9999999999999999, 'DR. STRANGE/STEPHEN': 0.9999999999999999, 'DR. DOOM/VICTOR VON': 0.9795918367346939, 'JAMESON, J. JONAH': 0.9795918367346939, 'NELSON, FRANKLIN FOG': 0.9387755102040816, 'ROGUE ': 0.9591836734693877, 'ROBERTSON, JOE': 0.9387755102040816, 'CANNONBALL II/SAM GU': 0.8775510204081632}\n",
      "the node is:  HULK/DR. ROBERT BRUC\n",
      " the degree centrality of G1_topN:  {\"BLACK PANTHER/T'CHAL\": 0.9795918367346939, 'IRON MAN/TONY STARK': 0.9999999999999999, 'THOR/DR. DONALD BLAK': 0.9999999999999999, 'JARVIS, EDWIN': 0.9795918367346939, 'CYCLOPS/SCOTT SUMMER': 0.9999999999999999, 'BEAST/HENRY &HANK& P': 0.9999999999999999, 'HULK/DR. ROBERT BRUC': 0.9999999999999999, 'PUNISHER II/FRANK CA': 0.836734693877551, 'INVISIBLE WOMAN/SUE': 0.9999999999999999, 'THING/BENJAMIN J. GR': 0.9999999999999999, 'SCARLET WITCH/WANDA': 0.9999999999999999, 'CAPTAIN AMERICA': 0.9999999999999999, 'WONDER MAN/SIMON WIL': 0.9999999999999999, 'WOLVERINE/LOGAN': 0.9999999999999999, 'SHE-HULK/JENNIFER WA': 0.9999999999999999, 'SILVER SURFER/NORRIN': 0.9999999999999999, 'VISION': 0.9999999999999999, 'MARVEL GIRL/JEAN GRE': 0.9999999999999999, 'STORM/ORORO MUNROE S': 0.9999999999999999, 'MR. FANTASTIC/REED R': 0.9999999999999999, 'ANGEL/WARREN KENNETH': 0.9999999999999999, 'ICEMAN/ROBERT BOBBY': 0.9999999999999999, 'HAWK': 0.9795918367346939, 'WASP/JANET VAN DYNE': 0.9999999999999999, 'ANT-MAN/DR. HENRY J.': 0.9999999999999999, 'BLACK WIDOW/NATASHA': 0.9999999999999999, 'HERCULES [GREEK GOD]': 0.9795918367346939, 'SHADOWCAT/KATHERINE': 0.8571428571428571, 'CAPTAIN BRITAIN/BRIA': 0.9387755102040816, 'NIGHTCRAWLER/KURT WA': 0.9591836734693877, 'QUICKSILVER/PIETRO M': 0.9591836734693877, 'FURY, COL. NICHOLAS': 0.9795918367346939, 'ODIN [ASGARDIAN]': 0.8775510204081632, 'WATSON-PARKER, MARY': 0.9387755102040816, 'SPIDER-MAN/PETER PARKER': 0.9999999999999999, 'SUB-MARINER/NAMOR MA': 0.9999999999999999, 'JONES, RICHARD MILHO': 0.9795918367346939, 'PARKER, MAY': 0.8979591836734693, 'DAREDEVIL/MATT MURDO': 0.9795918367346939, 'HUMAN TORCH/JOHNNY S': 0.9999999999999999, 'PROFESSOR X/CHARLES': 0.9591836734693877, 'RICHARDS, FRANKLIN B': 0.9795918367346939, 'COLOSSUS II/PETER RA': 0.9999999999999999, 'DR. STRANGE/STEPHEN': 0.9999999999999999, 'DR. DOOM/VICTOR VON': 0.9795918367346939, 'JAMESON, J. JONAH': 0.9795918367346939, 'NELSON, FRANKLIN FOG': 0.9387755102040816, 'ROGUE ': 0.9591836734693877, 'ROBERTSON, JOE': 0.9387755102040816, 'CANNONBALL II/SAM GU': 0.8775510204081632}\n",
      "the node is:  PUNISHER II/FRANK CA\n",
      " the degree centrality of G1_topN:  {\"BLACK PANTHER/T'CHAL\": 0.9795918367346939, 'IRON MAN/TONY STARK': 0.9999999999999999, 'THOR/DR. DONALD BLAK': 0.9999999999999999, 'JARVIS, EDWIN': 0.9795918367346939, 'CYCLOPS/SCOTT SUMMER': 0.9999999999999999, 'BEAST/HENRY &HANK& P': 0.9999999999999999, 'HULK/DR. ROBERT BRUC': 0.9999999999999999, 'PUNISHER II/FRANK CA': 0.836734693877551, 'INVISIBLE WOMAN/SUE': 0.9999999999999999, 'THING/BENJAMIN J. GR': 0.9999999999999999, 'SCARLET WITCH/WANDA': 0.9999999999999999, 'CAPTAIN AMERICA': 0.9999999999999999, 'WONDER MAN/SIMON WIL': 0.9999999999999999, 'WOLVERINE/LOGAN': 0.9999999999999999, 'SHE-HULK/JENNIFER WA': 0.9999999999999999, 'SILVER SURFER/NORRIN': 0.9999999999999999, 'VISION': 0.9999999999999999, 'MARVEL GIRL/JEAN GRE': 0.9999999999999999, 'STORM/ORORO MUNROE S': 0.9999999999999999, 'MR. FANTASTIC/REED R': 0.9999999999999999, 'ANGEL/WARREN KENNETH': 0.9999999999999999, 'ICEMAN/ROBERT BOBBY': 0.9999999999999999, 'HAWK': 0.9795918367346939, 'WASP/JANET VAN DYNE': 0.9999999999999999, 'ANT-MAN/DR. HENRY J.': 0.9999999999999999, 'BLACK WIDOW/NATASHA': 0.9999999999999999, 'HERCULES [GREEK GOD]': 0.9795918367346939, 'SHADOWCAT/KATHERINE': 0.8571428571428571, 'CAPTAIN BRITAIN/BRIA': 0.9387755102040816, 'NIGHTCRAWLER/KURT WA': 0.9591836734693877, 'QUICKSILVER/PIETRO M': 0.9591836734693877, 'FURY, COL. NICHOLAS': 0.9795918367346939, 'ODIN [ASGARDIAN]': 0.8775510204081632, 'WATSON-PARKER, MARY': 0.9387755102040816, 'SPIDER-MAN/PETER PARKER': 0.9999999999999999, 'SUB-MARINER/NAMOR MA': 0.9999999999999999, 'JONES, RICHARD MILHO': 0.9795918367346939, 'PARKER, MAY': 0.8979591836734693, 'DAREDEVIL/MATT MURDO': 0.9795918367346939, 'HUMAN TORCH/JOHNNY S': 0.9999999999999999, 'PROFESSOR X/CHARLES': 0.9591836734693877, 'RICHARDS, FRANKLIN B': 0.9795918367346939, 'COLOSSUS II/PETER RA': 0.9999999999999999, 'DR. STRANGE/STEPHEN': 0.9999999999999999, 'DR. DOOM/VICTOR VON': 0.9795918367346939, 'JAMESON, J. JONAH': 0.9795918367346939, 'NELSON, FRANKLIN FOG': 0.9387755102040816, 'ROGUE ': 0.9591836734693877, 'ROBERTSON, JOE': 0.9387755102040816, 'CANNONBALL II/SAM GU': 0.8775510204081632}\n",
      "the node is:  INVISIBLE WOMAN/SUE\n",
      " the degree centrality of G1_topN:  {\"BLACK PANTHER/T'CHAL\": 0.9795918367346939, 'IRON MAN/TONY STARK': 0.9999999999999999, 'THOR/DR. DONALD BLAK': 0.9999999999999999, 'JARVIS, EDWIN': 0.9795918367346939, 'CYCLOPS/SCOTT SUMMER': 0.9999999999999999, 'BEAST/HENRY &HANK& P': 0.9999999999999999, 'HULK/DR. ROBERT BRUC': 0.9999999999999999, 'PUNISHER II/FRANK CA': 0.836734693877551, 'INVISIBLE WOMAN/SUE': 0.9999999999999999, 'THING/BENJAMIN J. GR': 0.9999999999999999, 'SCARLET WITCH/WANDA': 0.9999999999999999, 'CAPTAIN AMERICA': 0.9999999999999999, 'WONDER MAN/SIMON WIL': 0.9999999999999999, 'WOLVERINE/LOGAN': 0.9999999999999999, 'SHE-HULK/JENNIFER WA': 0.9999999999999999, 'SILVER SURFER/NORRIN': 0.9999999999999999, 'VISION': 0.9999999999999999, 'MARVEL GIRL/JEAN GRE': 0.9999999999999999, 'STORM/ORORO MUNROE S': 0.9999999999999999, 'MR. FANTASTIC/REED R': 0.9999999999999999, 'ANGEL/WARREN KENNETH': 0.9999999999999999, 'ICEMAN/ROBERT BOBBY': 0.9999999999999999, 'HAWK': 0.9795918367346939, 'WASP/JANET VAN DYNE': 0.9999999999999999, 'ANT-MAN/DR. HENRY J.': 0.9999999999999999, 'BLACK WIDOW/NATASHA': 0.9999999999999999, 'HERCULES [GREEK GOD]': 0.9795918367346939, 'SHADOWCAT/KATHERINE': 0.8571428571428571, 'CAPTAIN BRITAIN/BRIA': 0.9387755102040816, 'NIGHTCRAWLER/KURT WA': 0.9591836734693877, 'QUICKSILVER/PIETRO M': 0.9591836734693877, 'FURY, COL. NICHOLAS': 0.9795918367346939, 'ODIN [ASGARDIAN]': 0.8775510204081632, 'WATSON-PARKER, MARY': 0.9387755102040816, 'SPIDER-MAN/PETER PARKER': 0.9999999999999999, 'SUB-MARINER/NAMOR MA': 0.9999999999999999, 'JONES, RICHARD MILHO': 0.9795918367346939, 'PARKER, MAY': 0.8979591836734693, 'DAREDEVIL/MATT MURDO': 0.9795918367346939, 'HUMAN TORCH/JOHNNY S': 0.9999999999999999, 'PROFESSOR X/CHARLES': 0.9591836734693877, 'RICHARDS, FRANKLIN B': 0.9795918367346939, 'COLOSSUS II/PETER RA': 0.9999999999999999, 'DR. STRANGE/STEPHEN': 0.9999999999999999, 'DR. DOOM/VICTOR VON': 0.9795918367346939, 'JAMESON, J. JONAH': 0.9795918367346939, 'NELSON, FRANKLIN FOG': 0.9387755102040816, 'ROGUE ': 0.9591836734693877, 'ROBERTSON, JOE': 0.9387755102040816, 'CANNONBALL II/SAM GU': 0.8775510204081632}\n",
      "the node is:  THING/BENJAMIN J. GR\n",
      " the degree centrality of G1_topN:  {\"BLACK PANTHER/T'CHAL\": 0.9795918367346939, 'IRON MAN/TONY STARK': 0.9999999999999999, 'THOR/DR. DONALD BLAK': 0.9999999999999999, 'JARVIS, EDWIN': 0.9795918367346939, 'CYCLOPS/SCOTT SUMMER': 0.9999999999999999, 'BEAST/HENRY &HANK& P': 0.9999999999999999, 'HULK/DR. ROBERT BRUC': 0.9999999999999999, 'PUNISHER II/FRANK CA': 0.836734693877551, 'INVISIBLE WOMAN/SUE': 0.9999999999999999, 'THING/BENJAMIN J. GR': 0.9999999999999999, 'SCARLET WITCH/WANDA': 0.9999999999999999, 'CAPTAIN AMERICA': 0.9999999999999999, 'WONDER MAN/SIMON WIL': 0.9999999999999999, 'WOLVERINE/LOGAN': 0.9999999999999999, 'SHE-HULK/JENNIFER WA': 0.9999999999999999, 'SILVER SURFER/NORRIN': 0.9999999999999999, 'VISION': 0.9999999999999999, 'MARVEL GIRL/JEAN GRE': 0.9999999999999999, 'STORM/ORORO MUNROE S': 0.9999999999999999, 'MR. FANTASTIC/REED R': 0.9999999999999999, 'ANGEL/WARREN KENNETH': 0.9999999999999999, 'ICEMAN/ROBERT BOBBY': 0.9999999999999999, 'HAWK': 0.9795918367346939, 'WASP/JANET VAN DYNE': 0.9999999999999999, 'ANT-MAN/DR. HENRY J.': 0.9999999999999999, 'BLACK WIDOW/NATASHA': 0.9999999999999999, 'HERCULES [GREEK GOD]': 0.9795918367346939, 'SHADOWCAT/KATHERINE': 0.8571428571428571, 'CAPTAIN BRITAIN/BRIA': 0.9387755102040816, 'NIGHTCRAWLER/KURT WA': 0.9591836734693877, 'QUICKSILVER/PIETRO M': 0.9591836734693877, 'FURY, COL. NICHOLAS': 0.9795918367346939, 'ODIN [ASGARDIAN]': 0.8775510204081632, 'WATSON-PARKER, MARY': 0.9387755102040816, 'SPIDER-MAN/PETER PARKER': 0.9999999999999999, 'SUB-MARINER/NAMOR MA': 0.9999999999999999, 'JONES, RICHARD MILHO': 0.9795918367346939, 'PARKER, MAY': 0.8979591836734693, 'DAREDEVIL/MATT MURDO': 0.9795918367346939, 'HUMAN TORCH/JOHNNY S': 0.9999999999999999, 'PROFESSOR X/CHARLES': 0.9591836734693877, 'RICHARDS, FRANKLIN B': 0.9795918367346939, 'COLOSSUS II/PETER RA': 0.9999999999999999, 'DR. STRANGE/STEPHEN': 0.9999999999999999, 'DR. DOOM/VICTOR VON': 0.9795918367346939, 'JAMESON, J. JONAH': 0.9795918367346939, 'NELSON, FRANKLIN FOG': 0.9387755102040816, 'ROGUE ': 0.9591836734693877, 'ROBERTSON, JOE': 0.9387755102040816, 'CANNONBALL II/SAM GU': 0.8775510204081632}\n"
     ]
    }
   ],
   "source": [
    "functionality_2(G1_topN, 1,\"degree\", 10)"
   ]
  },
  {
   "cell_type": "code",
   "execution_count": 62,
   "id": "c431b920",
   "metadata": {},
   "outputs": [
    {
     "name": "stdout",
     "output_type": "stream",
     "text": [
      "the node is:  A 140\n"
     ]
    },
    {
     "ename": "KeyboardInterrupt",
     "evalue": "",
     "output_type": "error",
     "traceback": [
      "\u001b[1;31m---------------------------------------------------------------------------\u001b[0m",
      "\u001b[1;31mKeyboardInterrupt\u001b[0m                         Traceback (most recent call last)",
      "\u001b[1;32mc:\\Users\\elisa\\Desktop\\ADM\\HW5\\elisa_main.ipynb Cell 74\u001b[0m in \u001b[0;36m<cell line: 1>\u001b[1;34m()\u001b[0m\n\u001b[1;32m----> <a href='vscode-notebook-cell:/c%3A/Users/elisa/Desktop/ADM/HW5/elisa_main.ipynb#Y133sZmlsZQ%3D%3D?line=0'>1</a>\u001b[0m functionality_2(G2_topN, \u001b[39m1\u001b[39;49m,\u001b[39m\"\u001b[39;49m\u001b[39mdegree\u001b[39;49m\u001b[39m\"\u001b[39;49m, \u001b[39m10\u001b[39;49m)\n",
      "\u001b[1;32mc:\\Users\\elisa\\Desktop\\ADM\\HW5\\elisa_main.ipynb Cell 74\u001b[0m in \u001b[0;36mfunctionality_2\u001b[1;34m(G, node, metric, N)\u001b[0m\n\u001b[0;32m     <a href='vscode-notebook-cell:/c%3A/Users/elisa/Desktop/ADM/HW5/elisa_main.ipynb#Y133sZmlsZQ%3D%3D?line=9'>10</a>\u001b[0m \u001b[39mprint\u001b[39m(\u001b[39m\"\u001b[39m\u001b[39mthe node is: \u001b[39m\u001b[39m\"\u001b[39m, nodo)\n\u001b[0;32m     <a href='vscode-notebook-cell:/c%3A/Users/elisa/Desktop/ADM/HW5/elisa_main.ipynb#Y133sZmlsZQ%3D%3D?line=10'>11</a>\u001b[0m pagerank \u001b[39m=\u001b[39m nx\u001b[39m.\u001b[39mpagerank(G)\n\u001b[1;32m---> <a href='vscode-notebook-cell:/c%3A/Users/elisa/Desktop/ADM/HW5/elisa_main.ipynb#Y133sZmlsZQ%3D%3D?line=11'>12</a>\u001b[0m betweenness \u001b[39m=\u001b[39m nx\u001b[39m.\u001b[39;49mbetweenness_centrality(G)\n\u001b[0;32m     <a href='vscode-notebook-cell:/c%3A/Users/elisa/Desktop/ADM/HW5/elisa_main.ipynb#Y133sZmlsZQ%3D%3D?line=12'>13</a>\u001b[0m closeness \u001b[39m=\u001b[39m nx\u001b[39m.\u001b[39mcloseness_centrality(G)\n\u001b[0;32m     <a href='vscode-notebook-cell:/c%3A/Users/elisa/Desktop/ADM/HW5/elisa_main.ipynb#Y133sZmlsZQ%3D%3D?line=13'>14</a>\u001b[0m degree \u001b[39m=\u001b[39m nx\u001b[39m.\u001b[39mdegree_centrality(G)\n",
      "File \u001b[1;32m<class 'networkx.utils.decorators.argmap'> compilation 8:4\u001b[0m, in \u001b[0;36margmap_betweenness_centrality_5\u001b[1;34m(G, k, normalized, weight, endpoints, seed)\u001b[0m\n\u001b[0;32m      2\u001b[0m \u001b[39mimport\u001b[39;00m \u001b[39mcollections\u001b[39;00m\n\u001b[0;32m      3\u001b[0m \u001b[39mimport\u001b[39;00m \u001b[39mgzip\u001b[39;00m\n\u001b[1;32m----> 4\u001b[0m \u001b[39mimport\u001b[39;00m \u001b[39minspect\u001b[39;00m\n\u001b[0;32m      5\u001b[0m \u001b[39mimport\u001b[39;00m \u001b[39mitertools\u001b[39;00m\n\u001b[0;32m      6\u001b[0m \u001b[39mimport\u001b[39;00m \u001b[39mre\u001b[39;00m\n",
      "File \u001b[1;32mc:\\Users\\elisa\\anaconda3\\lib\\site-packages\\networkx\\algorithms\\centrality\\betweenness.py:130\u001b[0m, in \u001b[0;36mbetweenness_centrality\u001b[1;34m(G, k, normalized, weight, endpoints, seed)\u001b[0m\n\u001b[0;32m    127\u001b[0m \u001b[39mfor\u001b[39;00m s \u001b[39min\u001b[39;00m nodes:\n\u001b[0;32m    128\u001b[0m     \u001b[39m# single source shortest paths\u001b[39;00m\n\u001b[0;32m    129\u001b[0m     \u001b[39mif\u001b[39;00m weight \u001b[39mis\u001b[39;00m \u001b[39mNone\u001b[39;00m:  \u001b[39m# use BFS\u001b[39;00m\n\u001b[1;32m--> 130\u001b[0m         S, P, sigma, _ \u001b[39m=\u001b[39m _single_source_shortest_path_basic(G, s)\n\u001b[0;32m    131\u001b[0m     \u001b[39melse\u001b[39;00m:  \u001b[39m# use Dijkstra's algorithm\u001b[39;00m\n\u001b[0;32m    132\u001b[0m         S, P, sigma, _ \u001b[39m=\u001b[39m _single_source_dijkstra_path_basic(G, s, weight)\n",
      "File \u001b[1;32mc:\\Users\\elisa\\anaconda3\\lib\\site-packages\\networkx\\algorithms\\centrality\\betweenness.py:277\u001b[0m, in \u001b[0;36m_single_source_shortest_path_basic\u001b[1;34m(G, s)\u001b[0m\n\u001b[0;32m    275\u001b[0m         \u001b[39mif\u001b[39;00m D[w] \u001b[39m==\u001b[39m Dv \u001b[39m+\u001b[39m \u001b[39m1\u001b[39m:  \u001b[39m# this is a shortest path, count paths\u001b[39;00m\n\u001b[0;32m    276\u001b[0m             sigma[w] \u001b[39m+\u001b[39m\u001b[39m=\u001b[39m sigmav\n\u001b[1;32m--> 277\u001b[0m             P[w]\u001b[39m.\u001b[39mappend(v)  \u001b[39m# predecessors\u001b[39;00m\n\u001b[0;32m    278\u001b[0m \u001b[39mreturn\u001b[39;00m S, P, sigma, D\n",
      "\u001b[1;31mKeyboardInterrupt\u001b[0m: "
     ]
    }
   ],
   "source": [
    "functionality_2(G2_topN, 1,\"degree\", 10)"
   ]
  },
  {
   "cell_type": "code",
   "execution_count": null,
   "id": "384478ee",
   "metadata": {},
   "outputs": [],
   "source": [
    "functionality_2(G1_topN, 1,\"closeness\", 10)"
   ]
  },
  {
   "cell_type": "code",
   "execution_count": null,
   "id": "6d863ad1",
   "metadata": {},
   "outputs": [],
   "source": [
    "functionality_2(G2_topN, 1,\"degree\", 10)"
   ]
  },
  {
   "cell_type": "code",
   "execution_count": null,
   "id": "35e91b90",
   "metadata": {},
   "outputs": [],
   "source": [
    "#comparing the results of the different centrality measures"
   ]
  },
  {
   "cell_type": "markdown",
   "id": "746ede44",
   "metadata": {},
   "source": [
    "## Functionality 3"
   ]
  },
  {
   "cell_type": "code",
   "execution_count": 54,
   "id": "269e16c4",
   "metadata": {},
   "outputs": [],
   "source": [
    "def top_N(df,N,G):\n",
    "    df_new = df.groupby(['hero'])['hero'].count().reset_index(name=\"count\")\n",
    "    df_new= df_new.sort_values(by = 'count',ascending=False)\n",
    "    df_new = df_new.head(N)\n",
    "    nodes=[df_new['hero'][i] for i in df_new.index]\n",
    "    \n",
    "    new_nodes = set(nodes)\n",
    "    for i in nodes:\n",
    "        app = list(df_edges.loc[df_edges['hero']==i]['comic'])\n",
    "        new_nodes.update(app)\n",
    "        \n",
    "    G_top_N = G.subgraph(new_nodes)\n",
    "    return G_top_N"
   ]
  },
  {
   "cell_type": "code",
   "execution_count": 55,
   "id": "e5442e34",
   "metadata": {},
   "outputs": [],
   "source": [
    "def shortest_path_two_nodes(node_1, node_2, G, list_nodes):\n",
    "    if not nx.has_path(G,node_1,node_2):\n",
    "        return []\n",
    "    new_list = set(list_nodes)\n",
    "    new_list.remove(node_1)\n",
    "    new_list.remove(node_2)\n",
    "    nodes = [i for i in G.nodes if i not in new_list]\n",
    "    return list(nx.shortest_path(G.subgraph(nodes), source=node_1, target=node_2, weight=None))"
   ]
  },
  {
   "cell_type": "code",
   "execution_count": 56,
   "id": "c5c7a046",
   "metadata": {},
   "outputs": [],
   "source": [
    "def functionality_3(G2, N, h_1, h_n, h):\n",
    "    if N:\n",
    "        N = int(N)\n",
    "        G2 = top_N(df_edges,N,G2)\n",
    "    att = nx.get_node_attributes(G2, \"type\")\n",
    "    if not nx.is_connected(G2):\n",
    "        result = 'There is not such path because the graph is not connected'\n",
    "        return result\n",
    "    if h_1  not in list(G2.nodes) or h_n not in list(G2.nodes):\n",
    "        result = 'There is not such path'\n",
    "        return result\n",
    "    shortest_path = np.array([h_1])\n",
    "    s = h_1\n",
    "    for t in h:\n",
    "        app = shortest_path_two_nodes(s,t,G2,[h_1]+h+[h_n])\n",
    "        if app == []:\n",
    "            return [], G2\n",
    "        #app = list(nx.shortest_path(G2, source=s, target=t, weight=None))\n",
    "        s = t\n",
    "        app = np.array(app)\n",
    "        shortest_path = np.concatenate((shortest_path,app[1:]),axis=None)\n",
    "    app = list(nx.shortest_path(G2, source=t, target=h_n, weight=None))\n",
    "    app = np.array(app)\n",
    "    shortest_path = np.concatenate((shortest_path,app[1:]),axis=None)\n",
    "    \n",
    "    return shortest_path, G2"
   ]
  },
  {
   "cell_type": "markdown",
   "id": "b14f584f",
   "metadata": {},
   "source": [
    "# Functionality 4"
   ]
  },
  {
   "cell_type": "code",
   "execution_count": 57,
   "id": "cc19d031",
   "metadata": {},
   "outputs": [],
   "source": [
    "def search_shortest_path(G, source, target):\n",
    "    try:\n",
    "        return nx.shortest_path(G, source, target, weight='weight', method='dijkstra')\n",
    "    except: \n",
    "        return 0"
   ]
  },
  {
   "cell_type": "code",
   "execution_count": 58,
   "id": "22f8f8e4",
   "metadata": {},
   "outputs": [],
   "source": [
    "def functionality_4(G, heroA, heroB, N, df):\n",
    "    count = 0\n",
    "    G_final = create_G_topN(G, N, df)\n",
    "\n",
    "    while search_shortest_path(G_final, heroA, heroB) != 0:\n",
    "        shortest_path = search_shortest_path(G_final, heroA, heroB)\n",
    "        dic = {}\n",
    "        for i in range(len(shortest_path)-1):\n",
    "            weight = G.get_edge_data(shortest_path[i], shortest_path[i+1])['weight']\n",
    "            dic[(shortest_path[i],shortest_path[i+1])] = weight\n",
    "        \n",
    "        dic = dict(sorted(dic.items(), key=lambda item: item[1], reverse = True))       \n",
    "        G_final.remove_edge(list(dic.keys())[0][0], list(dic.keys())[0][1])\n",
    "        count+=1\n",
    "    \n",
    "    colors = ['red' if node == heroA or node == heroB else 'blue' \n",
    "                for node in G_final.nodes()]\n",
    "                \n",
    "    return G_final, count, colors"
   ]
  },
  {
   "cell_type": "markdown",
   "id": "0e15f142",
   "metadata": {},
   "source": [
    "# Functionality 5"
   ]
  },
  {
   "cell_type": "code",
   "execution_count": 59,
   "id": "b1f006b7",
   "metadata": {},
   "outputs": [],
   "source": [
    "def top_N_1(df,N,G):\n",
    "    df_new = df.groupby(['hero'])['hero'].count().reset_index(name=\"count\")\n",
    "    df_new= df_new.sort_values(by = 'count',ascending=False)\n",
    "    df_new = df_new.head(N)\n",
    "    nodes=[df_new['hero'][i] for i in df_new.index]\n",
    "    G_top_N = G.subgraph(nodes)\n",
    "    return G_top_N"
   ]
  },
  {
   "cell_type": "code",
   "execution_count": 60,
   "id": "8ccb6782",
   "metadata": {},
   "outputs": [],
   "source": [
    "def edges_to_remove(G):\n",
    "    \n",
    "    num_components = nx.number_connected_components(G)\n",
    "    \n",
    "    edges_to_remove = 0\n",
    "    while True:\n",
    "        if num_components > 1:\n",
    "                break\n",
    "        G_dict = {}\n",
    "        G_dict = nx.edge_betweenness_centrality(G)\n",
    "        max_EBC = max(G_dict.values())\n",
    "        edges = []\n",
    "        for key, value in sorted(G_dict.items(), key=lambda item: item[1], reverse = True):\n",
    "            if value < max_EBC:\n",
    "                break\n",
    "            edges.append(key)\n",
    "        edges_to_remove += len(edge)\n",
    "        for e in edges:\n",
    "            G.remove_edge(e[0], e[1])\n",
    "        components = nx.connected_components(G)\n",
    "        num_components = nx.number_connected_components(G)\n",
    "    return edges_to_remove, G"
   ]
  },
  {
   "cell_type": "code",
   "execution_count": 61,
   "id": "10c3e4c4",
   "metadata": {},
   "outputs": [],
   "source": [
    "def functionality_5(G1,N, Hero_1, Hero_2):\n",
    "    G_top_N = top_N_1(df_edges,N,G1)\n",
    "    G = nx.Graph(G_top_N)\n",
    "    \n",
    "    hero_1_2_together = False\n",
    "    number_of_edges, G = edges_to_remove(G)\n",
    "    comunities = []\n",
    "    for comunity in nx.connected_components(G):\n",
    "        comunities.append(list(comunity))\n",
    "        if Hero_1 in comunity and Hero_2 in comunity:\n",
    "            hero_1_2_together = True\n",
    "    \n",
    "\n",
    "    return number_of_edges, G, comunities, hero_1_2_together, G_top_N"
   ]
  },
  {
   "cell_type": "markdown",
   "id": "52b4390c",
   "metadata": {},
   "source": [
    "# 3. Frontend Implementationc"
   ]
  },
  {
   "cell_type": "markdown",
   "id": "dafdcef6",
   "metadata": {},
   "source": [
    "## Visualization 1 - Visualize some features of the network"
   ]
  },
  {
   "cell_type": "code",
   "execution_count": 63,
   "id": "9dc42e6b",
   "metadata": {},
   "outputs": [
    {
     "name": "stdout",
     "output_type": "stream",
     "text": [
      "the number of heroes that have appeared in each comic of G2: \n",
      "                   hero\n",
      "comic                 \n",
      "COC 1              111\n",
      "IW 3                91\n",
      "IW 1                90\n",
      "H2 279              87\n",
      "IW 4                80\n",
      "...                ...\n",
      "MYSTIC COMICS 10     1\n",
      "N 2/4                1\n",
      "N 37                 1\n",
      "N 4/2                1\n",
      "rse powers.          1\n",
      "\n",
      "[12651 rows x 1 columns]\n"
     ]
    }
   ],
   "source": [
    "hero_appeard = df_edges.groupby('comic').count().sort_values(by='hero', ascending=False)\n",
    "print( \"the number of heroes that have appeared in each comic of G2:\" , \"\\n\", hero_appeard)"
   ]
  },
  {
   "cell_type": "code",
   "execution_count": 86,
   "id": "abafe5ce",
   "metadata": {},
   "outputs": [],
   "source": [
    "def visualization_1(G,G_type,N):\n",
    "    G = G.copy()\n",
    "    if G_type == 1:\n",
    "        G = create_G1_topN(N,df_edges)\n",
    "        \n",
    "        n_nodesG1 = int(G.number_of_nodes())\n",
    "        degree_G1 = G.degree()\n",
    "        \n",
    "        sorted_degree_G1 = sorted(degree_G1, key=lambda x: x[1], reverse=True)\n",
    "    \n",
    "        densityG1 = len(G.edges())/(n_nodesG1*(n_nodesG1-1)/2)\n",
    "        \n",
    "        degree_sequence = [deg for i, deg in G.degree()]\n",
    "        avg_degreeG1 = sum(degree_sequence) / len(degree_sequence)\n",
    "        \n",
    "        type_graphG1 = \"\"    \n",
    "        if density_G(G) >= 0.5:\n",
    "            type_graphG1 = \"DENSE\"\n",
    "        else:\n",
    "            type_graphG1 = \"SPARSE\"\n",
    "            \n",
    "    \n",
    "        print(\"Number of nodes of G1: \", n_nodesG1)\n",
    "        print(\"sorted collaborations of each node:\", sorted_degree_G1)\n",
    "        print(\"The density of G1 is:\", densityG1)\n",
    "        print(degree_distG(G))\n",
    "        print(\"Average degree of G1: \", avg_degreeG1)\n",
    "        print(\"Nodes with degrees more extensive than the 95th percentile of the degree distribution: \", len(hubsG(G)), \n",
    "        \"\\n\", sorted(hubsG(G), key=lambda x: G.degree(x), reverse=True))\n",
    "        print(\"The type of G1 is: \", type_graphG1)\n",
    "    \n",
    "\n",
    "        general_info_G1 = {\n",
    "                \"Number of nodes\": n_nodesG1,\n",
    "                \"Density\": densityG1,\n",
    "                \"Average degree\": avg_degreeG1,\n",
    "                \"netowrk type\" : type_graphG1,\n",
    "                }\n",
    "        # general info of G1\n",
    "        general_info_G1= pd.DataFrame(general_info_G1, index=[0])\n",
    "        print(\"General info of G1\",\"/n\", general_info_G1)\n",
    "        # hubs of G1\n",
    "        df_hubs = pd.DataFrame(hubsG(G), columns=['Hubs'])\n",
    "        df_hubs\n",
    "        print(\"hubs tabe of G1\", df_hubs)\n",
    "        # number of collaborations of each hero\n",
    "        plt.figure(figsize=(10,10))\n",
    "        plt.bar(*zip(*sorted_degree_G1))\n",
    "        plt.title(\"Number of collaborations of each hero in descending order of G1\")\n",
    "        plt.xlabel(\"Hero\")\n",
    "        plt.ylabel(\"Number of collaborations\")\n",
    "        plt.show()\n",
    "\n",
    "        # degree distribution of the network\n",
    "        plt.figure(figsize=(10,5))\n",
    "        plt.hist(degree_distG(G), bins=50)\n",
    "        plt.xlabel('degree')\n",
    "        plt.ylabel('number of nodes')\n",
    "        plt.show()\n",
    "\n",
    "    if G_type == 2:\n",
    "        \n",
    "        \n",
    "        count_hero = 0\n",
    "        count_comic = 0\n",
    "        for elements in types:\n",
    "            if elements == 'hero':\n",
    "                count_hero += 1\n",
    "            elif elements == 'comic':\n",
    "                count_comic += 1\n",
    "        degree_G = G.degree()\n",
    "        \n",
    "        hero_appeard = df_edges.groupby('comic').count().sort_values(by='hero', ascending=False)\n",
    "    \n",
    "        densityG2 = len(G.edges())/(count_hero*(count_hero-1)/2)\n",
    "        \n",
    "        degree_sequence = [deg for i, deg in G.degree()]\n",
    "        avg_degreeG2 = sum(degree_sequence) / len(degree_sequence)\n",
    "        \n",
    "        type_graphG2 = \"\"    \n",
    "        if density_G(G) >= 0.5:\n",
    "            type_graphG2 = \"DENSE\"\n",
    "        else:\n",
    "            type_graphG2 = \"SPARSE\"\n",
    "    \n",
    "    \n",
    "        print(\"Number of nodes of G2: \", count_hero, count_comic)\n",
    "        print( \"the number of heroes that have appeared in each comic of G2:\" , \"\\n\", hero_appeard)\n",
    "        print(\"The density of G2 is:\", densityG2)\n",
    "        print(degree_distG(G))\n",
    "        print(\"Average degree of G2: \", avg_degreeG2)\n",
    "        print(\"Nodes with degrees more extensive than the 95th percentile of the degree distribution: \", len(hubs(G)),\n",
    "         \"\\n\", sorted(hubs(G), key=lambda x: G.degree(x), reverse=True))    \n",
    "        print(\"The type of G2 is: \", type_graphG2)\n",
    "       \n",
    "        general_info_G2 = {\n",
    "                \"Number of nodes\": count_hero and count_comic,\n",
    "                \"Density\": densityG2,\n",
    "                \"Average degree\": avg_degreeG2,\n",
    "                \"netowrk type\" : type_graphG2,\n",
    "                }\n",
    "            # General info of G2 as a table with pandas\n",
    "        genaral_info_G2 = pd.DataFrame(general_info_G2, index=[0])\n",
    "        print(\"general info of G2\",general_info_G2)\n",
    "\n",
    "            # hubs table\n",
    "        df_hubs = pd.DataFrame(hubs(G), columns=['Hubs'])\n",
    "        df_hubs\n",
    "        print(\"hubs tabe of G2\", df_hubs)\n",
    "\n",
    "        #number of heroes who appeared in each comic\n",
    "        plt.figure(figsize=(10,5))\n",
    "        \n",
    "        plt.hist(hero_appeard['hero'], bins=100)\n",
    "        plt.xlabel('number of heroes')\n",
    "        plt.ylabel('number of comics')\n",
    "        plt.show()\n",
    "\n",
    "            # degree distribution of the network\n",
    "        plt.figure(figsize=(10,5))\n",
    "        plt.hist(degree_distG(G), bins=50)\n",
    "        plt.xlabel('degree')\n",
    "        plt.ylabel('number of nodes')\n",
    "        plt.show()\n",
    "           \n",
    "        return"
   ]
  },
  {
   "cell_type": "code",
   "execution_count": 87,
   "id": "67522a88",
   "metadata": {},
   "outputs": [
    {
     "name": "stdout",
     "output_type": "stream",
     "text": [
      "Number of nodes of G2:  50 9236\n",
      "the number of heroes that have appeared in each comic of G2: \n",
      "                   hero\n",
      "comic                 \n",
      "COC 1              111\n",
      "IW 3                91\n",
      "IW 1                90\n",
      "H2 279              87\n",
      "IW 4                80\n",
      "...                ...\n",
      "MYSTIC COMICS 10     1\n",
      "N 2/4                1\n",
      "N 37                 1\n",
      "N 4/2                1\n",
      "rse powers.          1\n",
      "\n",
      "[12651 rows x 1 columns]\n",
      "The density of G2 is: 22.623673469387754\n",
      "Counter({1: 3598, 2: 2022, 3: 984, 4: 751, 5: 632, 6: 385, 7: 243, 8: 172, 9: 125, 10: 75, 11: 70, 12: 40, 13: 25, 18: 21, 14: 20, 15: 14, 21: 10, 17: 9, 16: 9, 19: 7, 24: 6, 20: 3, 22: 3, 25: 3, 30: 2, 33: 2, 29: 2, 270: 2, 444: 2, 605: 1, 585: 1, 631: 1, 622: 1, 603: 1, 384: 1, 854: 1, 1577: 1, 320: 1, 32: 1, 27: 1, 1150: 1, 342: 1, 452: 1, 523: 1, 318: 1, 581: 1, 390: 1, 956: 1, 635: 1, 329: 1, 762: 1, 835: 1, 427: 1, 380: 1, 577: 1, 23: 1, 530: 1, 279: 1, 819: 1, 307: 1, 471: 1, 399: 1, 619: 1, 377: 1, 322: 1, 963: 1, 466: 1, 886: 1, 299: 1, 278: 1, 496: 1, 353: 1, 415: 1, 310: 1, 561: 1, 643: 1, 321: 1, 1334: 1})\n",
      "Average degree of G2:  5.968985569674779\n",
      "Nodes with degrees more extensive than the 95th percentile of the degree distribution:  324 \n",
      " ['COC 1', 'H2 279', 'M/GN 1', 'IW 2', 'IW 3', 'O:MU', 'H2 278', 'IW 4', 'M/TIO 96', 'FF 370', 'FF 368', 'M/TIO 7', 'FF 367', 'IW 6', 'MAXSEC 3', 'SWII 9', 'MK3 41', 'A 332', 'A3 10', 'A3 1', 'IW 1', 'A 18', 'A 60', 'FF 369', 'FF 3', 'WM2 13', 'FF 22', \"UTSM '97\", 'X 55', 'A 333', 'ST 156', 'HR:R 4', 'MARVELS 2', 'IW 5', 'FF3 27', 'COC 3', 'WIW 8', 'DAMCON3 4', 'M/SHSW 9', 'Q 38', 'A 10', 'M/SHSW 11', 'ASM 1', 'SWII 5', 'M/SHSW 7', 'A 3', 'H2 277', 'A 329', 'O:X', 'ROM 65', 'UX 7', 'M/SHSW 3', 'M/SHSW 12', 'WM2 14', 'M/SHSW 1', 'M/SHSW 4', 'Q 39', 'UX 9', 'UX 5', 'M/SHSW 10', 'M/SHSW 2', 'A 1', 'M/SHSW 8', 'FF 36', 'NW 27', 'M/SHSW 6', 'M/SHSW 5', 'A 118', 'M/SS 1', 'A 305', 'WCA 1', 'A3 4', 'DAZZ 21', 'A3 2', 'A 211', 'H 11', 'ASM2 1', 'M/TE 13', 'A3 3', 'A 400', 'A 111', 'A 151', 'A 168', 'UX 335', 'UX 336', 'IG 2', 'IM2 12', 'A 8', 'IG 3', 'DAZZ 2', 'A3 11', 'UX 14', 'A 181', 'A 16', 'COH 3', 'ASM 18', 'H2 153', 'FF 416', 'A 13', 'FF 333', 'MAXSEC 2', 'SVTU 14', 'SS3 14', 'A 175', 'A 157', 'H2 321', 'A 173', 'UX 6', 'FF2 12', 'A 82', 'UX 4', 'UX 108', 'A 12', 'A 137', 'A 174', 'ASM 16', 'T 233', 'GAL 2', 'SUB-M 14', 'FF 25', 'H2 323', 'UX 8', 'UX 135', 'UX 10', \"A '99\", 'ROM 66', 'A 172', 'A 176', 'GAL 3', 'FF 243', 'AWC 4', 'HR:R 3', 'WM2 15', 'KS', 'A 308', 'A 100', 'T 14', 'A2 12', 'A 177', 'AOI', 'FF 400/2', 'FFV.X 4', 'TB 11', 'X 3', 'DD2 8', 'TB 44', 'DAZZ 1', 'UX 379', 'UX 13', 'AF 111', 'A 159', 'FFV.X 2', 'UX 368', 'A 170', 'X 71', 'X 96', 'MAXSEC 1', 'FFV.X 3', 'A 280', 'XFOR 17', 'X:PRIME', 'A 110', 'A 199', 'X 88', 'TB 12', 'CA 401', 'CA 250', 'X 14', 'X 15', 'ASM 3', 'A 306', 'UX 11', 'A 99', 'UX 191', 'H2 445', 'UX 167', 'UX 377', 'DEF 11', 'IG 4', 'X 1', 'A 19', 'XF 70', 'A 200', 'CA 383', 'UX 337', 'A 1.5', 'PM&IF 125', 'A 182', 'GAL 5', 'UX 295', 'A 162', 'SENSM 28', 'FF 415', 'FF 26', 'N 1/3', 'UX 210', 'MK 35', 'DF 3.6', 'UX 45', 'UX 375', 'A 161', 'A3 25', 'UX 272', 'A 6', 'XF 5', 'A 88', 'A 179', 'A 53', 'X 2', 'A 399', 'A:C', 'X:HY 20', 'TOS 49', 'DD 164', 'A 233', 'A 127', 'AWC 69', 'XFOR 16', 'UX 138', 'A 116', 'IFW 2', 'T 271', 'A 9', 'FF 14', 'CA2 12', 'UX 190', 'A 15', 'A 94', 'FW 10/2', 'A 201', 'M/TU 4', 'DEF 10', 'M/GN 27', 'A 231', 'FF 230', 'FF 242', 'FF 256', 'IG 6', 'SUB-M 35', 'FF3 23', 'M/TIO 75', 'M/TIO 69', 'FFV.X 1', 'A 14', 'A 345', 'A 401', 'GAL 6', 'Q 28', 'H2 152', 'A3 34', \"M/H&L '97\", 'PPSM2 4', 'XU 25', 'A3 23', 'CA3 3', 'FF 28', 'UX 3', 'DEF2 1', 'A 21', 'UX 338', 'MARVELS 3', 'A 234', 'A3 20', 'UX 325', 'A 166', 'A 155', 'X 56', 'A 221', 'GAL 1', 'A 167', 'X 98', 'XF 84', 'FF 150', 'SUB-M2 3', 'A 171', 'UX 12', 'A 7', 'X 57', 'A3 39', 'FF 244', 'ROM 23', 'TB 10', 'GAL 4', 'X 5', 'X&CD 1', 'UX 94', 'UX 280', 'A 144', 'A 156', 'M/GN 17', 'X 95', 'A3 22', 'A 59', 'UX 145', 'A 165', 'A 227', 'A 38', 'SMTU 4', 'SWII 8', 'A 198', 'AWC 5', 'A3 38', 'A 45', 'A3 21', 'A 160', 'HR:R 2', 'M/TIO 2', 'SS 6', 'W2 145', 'A3 43', 'SVTU 9', 'UX 376', 'UX 294', 'M/CP 89/4', 'A 42', 'DEF 107', 'A 189', 'A 242', 'A 395', 'A 108', 'S-M 23', 'WOSM 5', 'H2 434', 'X:HY 9']\n",
      "The type of G2 is:  SPARSE\n",
      "general info of G2 {'Number of nodes': 9236, 'Density': 22.623673469387754, 'Average degree': 5.968985569674779, 'netowrk type': 'SPARSE'}\n",
      "hubs tabe of G2           Hubs\n",
      "0    M/SHSW 11\n",
      "1     M/SHSW 8\n",
      "2          X 1\n",
      "3         A 19\n",
      "4       HR:R 4\n",
      "..         ...\n",
      "319      A 400\n",
      "320     H2 152\n",
      "321      WCA 1\n",
      "322       A 16\n",
      "323     X:HY 9\n",
      "\n",
      "[324 rows x 1 columns]\n"
     ]
    },
    {
     "data": {
      "image/png": "[encoded data removed]",
      "text/plain": [
       "<Figure size 720x360 with 1 Axes>"
      ]
     },
     "metadata": {
      "needs_background": "light"
     },
     "output_type": "display_data"
    },
    {
     "data": {
      "image/png": "[encoded data removed]",
      "text/plain": [
       "<Figure size 720x360 with 1 Axes>"
      ]
     },
     "metadata": {
      "needs_background": "light"
     },
     "output_type": "display_data"
    }
   ],
   "source": [
    "visualization_1(G2_topN,2,50)\n",
    "# the density of the graph with the top 50 nodes is 22.62,\n",
    "# the degree distribution  there are 3598 nodes with degree 1, 2022 with degree2 etc...\n",
    "# the average degree is 5.97\n",
    "# we ahe 324 nodes with degree more extensive than the 95th percentile of the degree distribution\n",
    "# the type of the graph is SPARSE\n",
    "# from the plot we cane see the number of heres that appeared in each comic, we can see that the most comics have 1 hero, around 1000 comics have 2 heroes;\n",
    "# from the second plot we can see the degree distribution of the graph, we can see that the most nodes have degree 1;"
   ]
  },
  {
   "attachments": {},
   "cell_type": "markdown",
   "id": "63c7e643",
   "metadata": {},
   "source": [
    "### Visualization 2 - Visualize centrality measure"
   ]
  },
  {
   "attachments": {},
   "cell_type": "markdown",
   "id": "1ebaaf0c",
   "metadata": {},
   "source": [
    "A table containing the information related to the requested centrality measure for:\n",
    "- The average of the requested centrality measure for all of the network's nodes"
   ]
  },
  {
   "cell_type": "code",
   "execution_count": 112,
   "id": "5f803e43",
   "metadata": {},
   "outputs": [],
   "source": [
    "def visualization_2(G,G_type, metric, N, node):\n",
    "    G = G.copy()\n",
    "    if G_type == 1:\n",
    "        G = create_G1_topN(N,df_edges)\n",
    "    \n",
    "    def avg_centrality(G, metric):\n",
    "        if metric == \"betweenness\":\n",
    "            centrality = nx.betweenness_centrality(G)\n",
    "        elif metric == \"pagerank\":\n",
    "            centrality = nx.pagerank(G)\n",
    "        elif metric == \"closeness\":\n",
    "            centrality = nx.closeness_centrality(G)\n",
    "        elif metric == \"degree\":\n",
    "            centrality = nx.degree_centrality(G)\n",
    "        else:\n",
    "            print(\"Metric not recognized\")\n",
    "            return\n",
    "\n",
    "        centrality_values = list(centrality.values())\n",
    "        avg_centrality = sum(centrality_values) / len(centrality_values)\n",
    "        return avg_centrality\n",
    "\n",
    "    def functionality_2(G, node, metric, N):\n",
    "        if metric == \"betweenness\":\n",
    "            centrality = nx.betweenness_centrality(G)\n",
    "        elif metric == \"pagerank\":\n",
    "            centrality = nx.pagerank(G)\n",
    "        elif metric == \"closeness\":\n",
    "            centrality = nx.closeness_centrality(G)\n",
    "        elif metric == \"degree\":\n",
    "            centrality = nx.degree_centrality(G)\n",
    "        else:\n",
    "            print(\"Metric not recognized\")\n",
    "            return\n",
    "\n",
    "        centrality_values = list(centrality.values())\n",
    "        avg_centrality = sum(centrality_values) / len(centrality_values)\n",
    "\n",
    "        # Create a dataframe with the average centrality for the specified node\n",
    "        data = {node: avg_centrality}\n",
    "        df = pd.DataFrame.from_dict(data, orient='index', columns=['Average ' + metric + ' centrality'])\n",
    "\n",
    "        return df\n",
    "\n",
    "    avg_centrality = avg_centrality(G, metric)\n",
    "    print(\"Average \" + metric + \" centrality of the graph: \", avg_centrality)\n",
    "\n",
    "    df = functionality_2(G, node, metric, N)\n",
    "    return df\n",
    "\n",
    "\n",
    "\n",
    "\n"
   ]
  },
  {
   "cell_type": "code",
   "execution_count": 114,
   "id": "0deeeb5b",
   "metadata": {},
   "outputs": [
    {
     "name": "stdout",
     "output_type": "stream",
     "text": [
      "Average betweenness centrality of the graph:  0.0\n"
     ]
    }
   ],
   "source": [
    "G = G1_topN  # or any other type of graph\n",
    "G_type = 1\n",
    "metric = \"betweenness\"  # or \"pagerank\", \"closeness\", or \"degree\"\n",
    "N = 10  # number of nodes to consider\n",
    "node = \"node1\"  # the node for which to calculate the average centrality\n",
    "\n",
    "df = visualization_2(G, G_type, metric, N, node)"
   ]
  },
  {
   "cell_type": "code",
   "execution_count": 99,
   "id": "f53ad181",
   "metadata": {},
   "outputs": [],
   "source": [
    "def create_centrality_table(G, metric):\n",
    "    # Calcola la centralità richiesta per ogni nodo del grafo\n",
    "    if metric == \"betweenness\":\n",
    "        centrality = nx.betweenness_centrality(G)\n",
    "    elif metric == \"pagerank\":\n",
    "        centrality = nx.pagerank(G)\n",
    "    elif metric == \"closeness\":\n",
    "        centrality = nx.closeness_centrality(G)\n",
    "    elif metric == \"degree\":\n",
    "        centrality = nx.degree_centrality(G)\n",
    "    else:\n",
    "        print(\"Metric not recognized\")\n",
    "        return\n",
    "\n",
    "    # Calcola la media della centralità per tutti i nodi del grafo\n",
    "    centrality_values = list(centrality.values())\n",
    "    avg_centrality = sum(centrality_values) / len(centrality_values)\n",
    "\n",
    "    # Crea una tabella con la media della centralità per ogni nodo del grafo\n",
    "    data = {node: avg_centrality for node in G.nodes()}\n",
    "    df = pd.DataFrame.from_dict(data, orient='index', columns=['Average ' + metric + ' centrality'])\n",
    "\n",
    "    return df\n"
   ]
  },
  {
   "cell_type": "code",
   "execution_count": 100,
   "id": "d9ffd06c",
   "metadata": {},
   "outputs": [
    {
     "data": {
      "text/html": [
       "<div>\n",
       "<style scoped>\n",
       "    .dataframe tbody tr th:only-of-type {\n",
       "        vertical-align: middle;\n",
       "    }\n",
       "\n",
       "    .dataframe tbody tr th {\n",
       "        vertical-align: top;\n",
       "    }\n",
       "\n",
       "    .dataframe thead th {\n",
       "        text-align: right;\n",
       "    }\n",
       "</style>\n",
       "<table border=\"1\" class=\"dataframe\">\n",
       "  <thead>\n",
       "    <tr style=\"text-align: right;\">\n",
       "      <th></th>\n",
       "      <th>Average closeness centrality</th>\n",
       "    </tr>\n",
       "  </thead>\n",
       "  <tbody>\n",
       "    <tr>\n",
       "      <th>BLACK PANTHER/T'CHAL</th>\n",
       "      <td>0.976725</td>\n",
       "    </tr>\n",
       "    <tr>\n",
       "      <th>IRON MAN/TONY STARK</th>\n",
       "      <td>0.976725</td>\n",
       "    </tr>\n",
       "    <tr>\n",
       "      <th>THOR/DR. DONALD BLAK</th>\n",
       "      <td>0.976725</td>\n",
       "    </tr>\n",
       "    <tr>\n",
       "      <th>JARVIS, EDWIN</th>\n",
       "      <td>0.976725</td>\n",
       "    </tr>\n",
       "    <tr>\n",
       "      <th>CYCLOPS/SCOTT SUMMER</th>\n",
       "      <td>0.976725</td>\n",
       "    </tr>\n",
       "    <tr>\n",
       "      <th>BEAST/HENRY &amp;HANK&amp; P</th>\n",
       "      <td>0.976725</td>\n",
       "    </tr>\n",
       "    <tr>\n",
       "      <th>HULK/DR. ROBERT BRUC</th>\n",
       "      <td>0.976725</td>\n",
       "    </tr>\n",
       "    <tr>\n",
       "      <th>PUNISHER II/FRANK CA</th>\n",
       "      <td>0.976725</td>\n",
       "    </tr>\n",
       "    <tr>\n",
       "      <th>INVISIBLE WOMAN/SUE</th>\n",
       "      <td>0.976725</td>\n",
       "    </tr>\n",
       "    <tr>\n",
       "      <th>THING/BENJAMIN J. GR</th>\n",
       "      <td>0.976725</td>\n",
       "    </tr>\n",
       "    <tr>\n",
       "      <th>SCARLET WITCH/WANDA</th>\n",
       "      <td>0.976725</td>\n",
       "    </tr>\n",
       "    <tr>\n",
       "      <th>CAPTAIN AMERICA</th>\n",
       "      <td>0.976725</td>\n",
       "    </tr>\n",
       "    <tr>\n",
       "      <th>WONDER MAN/SIMON WIL</th>\n",
       "      <td>0.976725</td>\n",
       "    </tr>\n",
       "    <tr>\n",
       "      <th>WOLVERINE/LOGAN</th>\n",
       "      <td>0.976725</td>\n",
       "    </tr>\n",
       "    <tr>\n",
       "      <th>SHE-HULK/JENNIFER WA</th>\n",
       "      <td>0.976725</td>\n",
       "    </tr>\n",
       "    <tr>\n",
       "      <th>SILVER SURFER/NORRIN</th>\n",
       "      <td>0.976725</td>\n",
       "    </tr>\n",
       "    <tr>\n",
       "      <th>VISION</th>\n",
       "      <td>0.976725</td>\n",
       "    </tr>\n",
       "    <tr>\n",
       "      <th>MARVEL GIRL/JEAN GRE</th>\n",
       "      <td>0.976725</td>\n",
       "    </tr>\n",
       "    <tr>\n",
       "      <th>STORM/ORORO MUNROE S</th>\n",
       "      <td>0.976725</td>\n",
       "    </tr>\n",
       "    <tr>\n",
       "      <th>MR. FANTASTIC/REED R</th>\n",
       "      <td>0.976725</td>\n",
       "    </tr>\n",
       "    <tr>\n",
       "      <th>ANGEL/WARREN KENNETH</th>\n",
       "      <td>0.976725</td>\n",
       "    </tr>\n",
       "    <tr>\n",
       "      <th>ICEMAN/ROBERT BOBBY</th>\n",
       "      <td>0.976725</td>\n",
       "    </tr>\n",
       "    <tr>\n",
       "      <th>HAWK</th>\n",
       "      <td>0.976725</td>\n",
       "    </tr>\n",
       "    <tr>\n",
       "      <th>WASP/JANET VAN DYNE</th>\n",
       "      <td>0.976725</td>\n",
       "    </tr>\n",
       "    <tr>\n",
       "      <th>ANT-MAN/DR. HENRY J.</th>\n",
       "      <td>0.976725</td>\n",
       "    </tr>\n",
       "    <tr>\n",
       "      <th>BLACK WIDOW/NATASHA</th>\n",
       "      <td>0.976725</td>\n",
       "    </tr>\n",
       "    <tr>\n",
       "      <th>HERCULES [GREEK GOD]</th>\n",
       "      <td>0.976725</td>\n",
       "    </tr>\n",
       "    <tr>\n",
       "      <th>SHADOWCAT/KATHERINE</th>\n",
       "      <td>0.976725</td>\n",
       "    </tr>\n",
       "    <tr>\n",
       "      <th>CAPTAIN BRITAIN/BRIA</th>\n",
       "      <td>0.976725</td>\n",
       "    </tr>\n",
       "    <tr>\n",
       "      <th>NIGHTCRAWLER/KURT WA</th>\n",
       "      <td>0.976725</td>\n",
       "    </tr>\n",
       "    <tr>\n",
       "      <th>QUICKSILVER/PIETRO M</th>\n",
       "      <td>0.976725</td>\n",
       "    </tr>\n",
       "    <tr>\n",
       "      <th>FURY, COL. NICHOLAS</th>\n",
       "      <td>0.976725</td>\n",
       "    </tr>\n",
       "    <tr>\n",
       "      <th>ODIN [ASGARDIAN]</th>\n",
       "      <td>0.976725</td>\n",
       "    </tr>\n",
       "    <tr>\n",
       "      <th>WATSON-PARKER, MARY</th>\n",
       "      <td>0.976725</td>\n",
       "    </tr>\n",
       "    <tr>\n",
       "      <th>SPIDER-MAN/PETER PARKER</th>\n",
       "      <td>0.976725</td>\n",
       "    </tr>\n",
       "    <tr>\n",
       "      <th>SUB-MARINER/NAMOR MA</th>\n",
       "      <td>0.976725</td>\n",
       "    </tr>\n",
       "    <tr>\n",
       "      <th>JONES, RICHARD MILHO</th>\n",
       "      <td>0.976725</td>\n",
       "    </tr>\n",
       "    <tr>\n",
       "      <th>PARKER, MAY</th>\n",
       "      <td>0.976725</td>\n",
       "    </tr>\n",
       "    <tr>\n",
       "      <th>DAREDEVIL/MATT MURDO</th>\n",
       "      <td>0.976725</td>\n",
       "    </tr>\n",
       "    <tr>\n",
       "      <th>HUMAN TORCH/JOHNNY S</th>\n",
       "      <td>0.976725</td>\n",
       "    </tr>\n",
       "    <tr>\n",
       "      <th>PROFESSOR X/CHARLES</th>\n",
       "      <td>0.976725</td>\n",
       "    </tr>\n",
       "    <tr>\n",
       "      <th>RICHARDS, FRANKLIN B</th>\n",
       "      <td>0.976725</td>\n",
       "    </tr>\n",
       "    <tr>\n",
       "      <th>COLOSSUS II/PETER RA</th>\n",
       "      <td>0.976725</td>\n",
       "    </tr>\n",
       "    <tr>\n",
       "      <th>DR. STRANGE/STEPHEN</th>\n",
       "      <td>0.976725</td>\n",
       "    </tr>\n",
       "    <tr>\n",
       "      <th>DR. DOOM/VICTOR VON</th>\n",
       "      <td>0.976725</td>\n",
       "    </tr>\n",
       "    <tr>\n",
       "      <th>JAMESON, J. JONAH</th>\n",
       "      <td>0.976725</td>\n",
       "    </tr>\n",
       "    <tr>\n",
       "      <th>NELSON, FRANKLIN FOG</th>\n",
       "      <td>0.976725</td>\n",
       "    </tr>\n",
       "    <tr>\n",
       "      <th>ROGUE</th>\n",
       "      <td>0.976725</td>\n",
       "    </tr>\n",
       "    <tr>\n",
       "      <th>ROBERTSON, JOE</th>\n",
       "      <td>0.976725</td>\n",
       "    </tr>\n",
       "    <tr>\n",
       "      <th>CANNONBALL II/SAM GU</th>\n",
       "      <td>0.976725</td>\n",
       "    </tr>\n",
       "  </tbody>\n",
       "</table>\n",
       "</div>"
      ],
      "text/plain": [
       "                         Average closeness centrality\n",
       "BLACK PANTHER/T'CHAL                         0.976725\n",
       "IRON MAN/TONY STARK                          0.976725\n",
       "THOR/DR. DONALD BLAK                         0.976725\n",
       "JARVIS, EDWIN                                0.976725\n",
       "CYCLOPS/SCOTT SUMMER                         0.976725\n",
       "BEAST/HENRY &HANK& P                         0.976725\n",
       "HULK/DR. ROBERT BRUC                         0.976725\n",
       "PUNISHER II/FRANK CA                         0.976725\n",
       "INVISIBLE WOMAN/SUE                          0.976725\n",
       "THING/BENJAMIN J. GR                         0.976725\n",
       "SCARLET WITCH/WANDA                          0.976725\n",
       "CAPTAIN AMERICA                              0.976725\n",
       "WONDER MAN/SIMON WIL                         0.976725\n",
       "WOLVERINE/LOGAN                              0.976725\n",
       "SHE-HULK/JENNIFER WA                         0.976725\n",
       "SILVER SURFER/NORRIN                         0.976725\n",
       "VISION                                       0.976725\n",
       "MARVEL GIRL/JEAN GRE                         0.976725\n",
       "STORM/ORORO MUNROE S                         0.976725\n",
       "MR. FANTASTIC/REED R                         0.976725\n",
       "ANGEL/WARREN KENNETH                         0.976725\n",
       "ICEMAN/ROBERT BOBBY                          0.976725\n",
       "HAWK                                         0.976725\n",
       "WASP/JANET VAN DYNE                          0.976725\n",
       "ANT-MAN/DR. HENRY J.                         0.976725\n",
       "BLACK WIDOW/NATASHA                          0.976725\n",
       "HERCULES [GREEK GOD]                         0.976725\n",
       "SHADOWCAT/KATHERINE                          0.976725\n",
       "CAPTAIN BRITAIN/BRIA                         0.976725\n",
       "NIGHTCRAWLER/KURT WA                         0.976725\n",
       "QUICKSILVER/PIETRO M                         0.976725\n",
       "FURY, COL. NICHOLAS                          0.976725\n",
       "ODIN [ASGARDIAN]                             0.976725\n",
       "WATSON-PARKER, MARY                          0.976725\n",
       "SPIDER-MAN/PETER PARKER                      0.976725\n",
       "SUB-MARINER/NAMOR MA                         0.976725\n",
       "JONES, RICHARD MILHO                         0.976725\n",
       "PARKER, MAY                                  0.976725\n",
       "DAREDEVIL/MATT MURDO                         0.976725\n",
       "HUMAN TORCH/JOHNNY S                         0.976725\n",
       "PROFESSOR X/CHARLES                          0.976725\n",
       "RICHARDS, FRANKLIN B                         0.976725\n",
       "COLOSSUS II/PETER RA                         0.976725\n",
       "DR. STRANGE/STEPHEN                          0.976725\n",
       "DR. DOOM/VICTOR VON                          0.976725\n",
       "JAMESON, J. JONAH                            0.976725\n",
       "NELSON, FRANKLIN FOG                         0.976725\n",
       "ROGUE                                        0.976725\n",
       "ROBERTSON, JOE                               0.976725\n",
       "CANNONBALL II/SAM GU                         0.976725"
      ]
     },
     "execution_count": 100,
     "metadata": {},
     "output_type": "execute_result"
    }
   ],
   "source": [
    "create_centrality_table(G1_topN, \"closeness\")"
   ]
  },
  {
   "cell_type": "code",
   "execution_count": 259,
   "id": "455ffcf2",
   "metadata": {},
   "outputs": [],
   "source": [
    "def create_centrality_table(G, metric):\n",
    "    # Calcola la centralità richiesta per ogni nodo del grafo\n",
    "    if metric == \"betweenness\":\n",
    "        centrality = nx.betweenness_centrality(G)\n",
    "    elif metric == \"pagerank\":\n",
    "        centrality = nx.pagerank(G)\n",
    "    elif metric == \"closeness\":\n",
    "        centrality = nx.closeness_centrality(G)\n",
    "    elif metric == \"degree\":\n",
    "        centrality = nx.degree_centrality(G)\n",
    "    else:\n",
    "        print(\"Metric not recognized\")\n",
    "        return\n",
    "\n",
    "    # Print out the centrality values for each node\n",
    "    print(centrality)\n",
    "\n",
    "    # Calcola la media della centralità per tutti i nodi del grafo\n",
    "    centrality_values = list(centrality.values())\n",
    "    avg_centrality = sum(centrality_values) / len(centrality_values)\n",
    "\n",
    "    # Crea una tabella con la media della centralità per ogni nodo del grafo\n",
    "    data = {node: centrality[node] for node in G.nodes()}\n",
    "    df = pd.DataFrame.from_dict(data, orient='index', columns=['Average ' + metric + ' centrality'])\n",
    "\n",
    "    return df\n"
   ]
  },
  {
   "cell_type": "code",
   "execution_count": 262,
   "id": "6deb8bff",
   "metadata": {},
   "outputs": [
    {
     "name": "stdout",
     "output_type": "stream",
     "text": [
      "{\"BLACK PANTHER/T'CHAL\": 0.020324003993078894, 'IRON MAN/TONY STARK': 0.011146991922261292, 'THOR/DR. DONALD BLAK': 0.009110313806244672, 'JARVIS, EDWIN': 0.01823586370410428, 'CYCLOPS/SCOTT SUMMER': 0.015518177705807525, 'BEAST/HENRY &HANK& P': 0.013159800102602896, 'HULK/DR. ROBERT BRUC': 0.012731423488367208, 'PUNISHER II/FRANK CA': 0.04404272681676919, 'INVISIBLE WOMAN/SUE': 0.010171165616320591, 'THING/BENJAMIN J. GR': 0.009649778403277031, 'SCARLET WITCH/WANDA': 0.011478957213191903, 'CAPTAIN AMERICA': 0.006939357202261385, 'WONDER MAN/SIMON WIL': 0.01938977663775758, 'WOLVERINE/LOGAN': 0.011978270326485466, 'SHE-HULK/JENNIFER WA': 0.01491251309981846, 'SILVER SURFER/NORRIN': 0.02486435588897175, 'VISION': 0.012166986273948122, 'MARVEL GIRL/JEAN GRE': 0.01732956692015042, 'STORM/ORORO MUNROE S': 0.016666787462100808, 'MR. FANTASTIC/REED R': 0.00925518502060519, 'ANGEL/WARREN KENNETH': 0.014220668427409888, 'ICEMAN/ROBERT BOBBY': 0.017418557078143458, 'HAWK': 0.015580698916741822, 'WASP/JANET VAN DYNE': 0.012174642218631545, 'ANT-MAN/DR. HENRY J.': 0.017278177928888135, 'BLACK WIDOW/NATASHA': 0.017014555226120213, 'HERCULES [GREEK GOD]': 0.01793185814081136, 'SHADOWCAT/KATHERINE': 0.017600940584100028, 'CAPTAIN BRITAIN/BRIA': 0.04437549499489157, 'NIGHTCRAWLER/KURT WA': 0.023499350827813303, 'QUICKSILVER/PIETRO M': 0.014943241452239022, 'FURY, COL. NICHOLAS': 0.017700287961308604, 'ODIN [ASGARDIAN]': 0.04378238774162876, 'WATSON-PARKER, MARY': 0.043297083900938775, 'SPIDER-MAN/PETER PARKER': 0.007636626543696439, 'SUB-MARINER/NAMOR MA': 0.01796858752302776, 'JONES, RICHARD MILHO': 0.03189601447164335, 'PARKER, MAY': 0.04188913692063131, 'DAREDEVIL/MATT MURDO': 0.012245547647901934, 'HUMAN TORCH/JOHNNY S': 0.009847064153518938, 'PROFESSOR X/CHARLES': 0.015928332439043656, 'RICHARDS, FRANKLIN B': 0.023526267900938466, 'COLOSSUS II/PETER RA': 0.01801007127172005, 'DR. STRANGE/STEPHEN': 0.013877873522969111, 'DR. DOOM/VICTOR VON': 0.019298909422269275, 'JAMESON, J. JONAH': 0.025172430864802493, 'NELSON, FRANKLIN FOG': 0.04596437364383125, 'ROGUE ': 0.02049767875756819, 'ROBERTSON, JOE': 0.038685926996814925, 'CANNONBALL II/SAM GU': 0.031665210915832125}\n"
     ]
    },
    {
     "data": {
      "text/html": [
       "<div>\n",
       "<style scoped>\n",
       "    .dataframe tbody tr th:only-of-type {\n",
       "        vertical-align: middle;\n",
       "    }\n",
       "\n",
       "    .dataframe tbody tr th {\n",
       "        vertical-align: top;\n",
       "    }\n",
       "\n",
       "    .dataframe thead th {\n",
       "        text-align: right;\n",
       "    }\n",
       "</style>\n",
       "<table border=\"1\" class=\"dataframe\">\n",
       "  <thead>\n",
       "    <tr style=\"text-align: right;\">\n",
       "      <th></th>\n",
       "      <th>Average pagerank centrality</th>\n",
       "    </tr>\n",
       "  </thead>\n",
       "  <tbody>\n",
       "    <tr>\n",
       "      <th>BLACK PANTHER/T'CHAL</th>\n",
       "      <td>0.020324</td>\n",
       "    </tr>\n",
       "    <tr>\n",
       "      <th>IRON MAN/TONY STARK</th>\n",
       "      <td>0.011147</td>\n",
       "    </tr>\n",
       "    <tr>\n",
       "      <th>THOR/DR. DONALD BLAK</th>\n",
       "      <td>0.009110</td>\n",
       "    </tr>\n",
       "    <tr>\n",
       "      <th>JARVIS, EDWIN</th>\n",
       "      <td>0.018236</td>\n",
       "    </tr>\n",
       "    <tr>\n",
       "      <th>CYCLOPS/SCOTT SUMMER</th>\n",
       "      <td>0.015518</td>\n",
       "    </tr>\n",
       "    <tr>\n",
       "      <th>BEAST/HENRY &amp;HANK&amp; P</th>\n",
       "      <td>0.013160</td>\n",
       "    </tr>\n",
       "    <tr>\n",
       "      <th>HULK/DR. ROBERT BRUC</th>\n",
       "      <td>0.012731</td>\n",
       "    </tr>\n",
       "    <tr>\n",
       "      <th>PUNISHER II/FRANK CA</th>\n",
       "      <td>0.044043</td>\n",
       "    </tr>\n",
       "    <tr>\n",
       "      <th>INVISIBLE WOMAN/SUE</th>\n",
       "      <td>0.010171</td>\n",
       "    </tr>\n",
       "    <tr>\n",
       "      <th>THING/BENJAMIN J. GR</th>\n",
       "      <td>0.009650</td>\n",
       "    </tr>\n",
       "    <tr>\n",
       "      <th>SCARLET WITCH/WANDA</th>\n",
       "      <td>0.011479</td>\n",
       "    </tr>\n",
       "    <tr>\n",
       "      <th>CAPTAIN AMERICA</th>\n",
       "      <td>0.006939</td>\n",
       "    </tr>\n",
       "    <tr>\n",
       "      <th>WONDER MAN/SIMON WIL</th>\n",
       "      <td>0.019390</td>\n",
       "    </tr>\n",
       "    <tr>\n",
       "      <th>WOLVERINE/LOGAN</th>\n",
       "      <td>0.011978</td>\n",
       "    </tr>\n",
       "    <tr>\n",
       "      <th>SHE-HULK/JENNIFER WA</th>\n",
       "      <td>0.014913</td>\n",
       "    </tr>\n",
       "    <tr>\n",
       "      <th>SILVER SURFER/NORRIN</th>\n",
       "      <td>0.024864</td>\n",
       "    </tr>\n",
       "    <tr>\n",
       "      <th>VISION</th>\n",
       "      <td>0.012167</td>\n",
       "    </tr>\n",
       "    <tr>\n",
       "      <th>MARVEL GIRL/JEAN GRE</th>\n",
       "      <td>0.017330</td>\n",
       "    </tr>\n",
       "    <tr>\n",
       "      <th>STORM/ORORO MUNROE S</th>\n",
       "      <td>0.016667</td>\n",
       "    </tr>\n",
       "    <tr>\n",
       "      <th>MR. FANTASTIC/REED R</th>\n",
       "      <td>0.009255</td>\n",
       "    </tr>\n",
       "    <tr>\n",
       "      <th>ANGEL/WARREN KENNETH</th>\n",
       "      <td>0.014221</td>\n",
       "    </tr>\n",
       "    <tr>\n",
       "      <th>ICEMAN/ROBERT BOBBY</th>\n",
       "      <td>0.017419</td>\n",
       "    </tr>\n",
       "    <tr>\n",
       "      <th>HAWK</th>\n",
       "      <td>0.015581</td>\n",
       "    </tr>\n",
       "    <tr>\n",
       "      <th>WASP/JANET VAN DYNE</th>\n",
       "      <td>0.012175</td>\n",
       "    </tr>\n",
       "    <tr>\n",
       "      <th>ANT-MAN/DR. HENRY J.</th>\n",
       "      <td>0.017278</td>\n",
       "    </tr>\n",
       "    <tr>\n",
       "      <th>BLACK WIDOW/NATASHA</th>\n",
       "      <td>0.017015</td>\n",
       "    </tr>\n",
       "    <tr>\n",
       "      <th>HERCULES [GREEK GOD]</th>\n",
       "      <td>0.017932</td>\n",
       "    </tr>\n",
       "    <tr>\n",
       "      <th>SHADOWCAT/KATHERINE</th>\n",
       "      <td>0.017601</td>\n",
       "    </tr>\n",
       "    <tr>\n",
       "      <th>CAPTAIN BRITAIN/BRIA</th>\n",
       "      <td>0.044375</td>\n",
       "    </tr>\n",
       "    <tr>\n",
       "      <th>NIGHTCRAWLER/KURT WA</th>\n",
       "      <td>0.023499</td>\n",
       "    </tr>\n",
       "    <tr>\n",
       "      <th>QUICKSILVER/PIETRO M</th>\n",
       "      <td>0.014943</td>\n",
       "    </tr>\n",
       "    <tr>\n",
       "      <th>FURY, COL. NICHOLAS</th>\n",
       "      <td>0.017700</td>\n",
       "    </tr>\n",
       "    <tr>\n",
       "      <th>ODIN [ASGARDIAN]</th>\n",
       "      <td>0.043782</td>\n",
       "    </tr>\n",
       "    <tr>\n",
       "      <th>WATSON-PARKER, MARY</th>\n",
       "      <td>0.043297</td>\n",
       "    </tr>\n",
       "    <tr>\n",
       "      <th>SPIDER-MAN/PETER PARKER</th>\n",
       "      <td>0.007637</td>\n",
       "    </tr>\n",
       "    <tr>\n",
       "      <th>SUB-MARINER/NAMOR MA</th>\n",
       "      <td>0.017969</td>\n",
       "    </tr>\n",
       "    <tr>\n",
       "      <th>JONES, RICHARD MILHO</th>\n",
       "      <td>0.031896</td>\n",
       "    </tr>\n",
       "    <tr>\n",
       "      <th>PARKER, MAY</th>\n",
       "      <td>0.041889</td>\n",
       "    </tr>\n",
       "    <tr>\n",
       "      <th>DAREDEVIL/MATT MURDO</th>\n",
       "      <td>0.012246</td>\n",
       "    </tr>\n",
       "    <tr>\n",
       "      <th>HUMAN TORCH/JOHNNY S</th>\n",
       "      <td>0.009847</td>\n",
       "    </tr>\n",
       "    <tr>\n",
       "      <th>PROFESSOR X/CHARLES</th>\n",
       "      <td>0.015928</td>\n",
       "    </tr>\n",
       "    <tr>\n",
       "      <th>RICHARDS, FRANKLIN B</th>\n",
       "      <td>0.023526</td>\n",
       "    </tr>\n",
       "    <tr>\n",
       "      <th>COLOSSUS II/PETER RA</th>\n",
       "      <td>0.018010</td>\n",
       "    </tr>\n",
       "    <tr>\n",
       "      <th>DR. STRANGE/STEPHEN</th>\n",
       "      <td>0.013878</td>\n",
       "    </tr>\n",
       "    <tr>\n",
       "      <th>DR. DOOM/VICTOR VON</th>\n",
       "      <td>0.019299</td>\n",
       "    </tr>\n",
       "    <tr>\n",
       "      <th>JAMESON, J. JONAH</th>\n",
       "      <td>0.025172</td>\n",
       "    </tr>\n",
       "    <tr>\n",
       "      <th>NELSON, FRANKLIN FOG</th>\n",
       "      <td>0.045964</td>\n",
       "    </tr>\n",
       "    <tr>\n",
       "      <th>ROGUE</th>\n",
       "      <td>0.020498</td>\n",
       "    </tr>\n",
       "    <tr>\n",
       "      <th>ROBERTSON, JOE</th>\n",
       "      <td>0.038686</td>\n",
       "    </tr>\n",
       "    <tr>\n",
       "      <th>CANNONBALL II/SAM GU</th>\n",
       "      <td>0.031665</td>\n",
       "    </tr>\n",
       "  </tbody>\n",
       "</table>\n",
       "</div>"
      ],
      "text/plain": [
       "                         Average pagerank centrality\n",
       "BLACK PANTHER/T'CHAL                        0.020324\n",
       "IRON MAN/TONY STARK                         0.011147\n",
       "THOR/DR. DONALD BLAK                        0.009110\n",
       "JARVIS, EDWIN                               0.018236\n",
       "CYCLOPS/SCOTT SUMMER                        0.015518\n",
       "BEAST/HENRY &HANK& P                        0.013160\n",
       "HULK/DR. ROBERT BRUC                        0.012731\n",
       "PUNISHER II/FRANK CA                        0.044043\n",
       "INVISIBLE WOMAN/SUE                         0.010171\n",
       "THING/BENJAMIN J. GR                        0.009650\n",
       "SCARLET WITCH/WANDA                         0.011479\n",
       "CAPTAIN AMERICA                             0.006939\n",
       "WONDER MAN/SIMON WIL                        0.019390\n",
       "WOLVERINE/LOGAN                             0.011978\n",
       "SHE-HULK/JENNIFER WA                        0.014913\n",
       "SILVER SURFER/NORRIN                        0.024864\n",
       "VISION                                      0.012167\n",
       "MARVEL GIRL/JEAN GRE                        0.017330\n",
       "STORM/ORORO MUNROE S                        0.016667\n",
       "MR. FANTASTIC/REED R                        0.009255\n",
       "ANGEL/WARREN KENNETH                        0.014221\n",
       "ICEMAN/ROBERT BOBBY                         0.017419\n",
       "HAWK                                        0.015581\n",
       "WASP/JANET VAN DYNE                         0.012175\n",
       "ANT-MAN/DR. HENRY J.                        0.017278\n",
       "BLACK WIDOW/NATASHA                         0.017015\n",
       "HERCULES [GREEK GOD]                        0.017932\n",
       "SHADOWCAT/KATHERINE                         0.017601\n",
       "CAPTAIN BRITAIN/BRIA                        0.044375\n",
       "NIGHTCRAWLER/KURT WA                        0.023499\n",
       "QUICKSILVER/PIETRO M                        0.014943\n",
       "FURY, COL. NICHOLAS                         0.017700\n",
       "ODIN [ASGARDIAN]                            0.043782\n",
       "WATSON-PARKER, MARY                         0.043297\n",
       "SPIDER-MAN/PETER PARKER                     0.007637\n",
       "SUB-MARINER/NAMOR MA                        0.017969\n",
       "JONES, RICHARD MILHO                        0.031896\n",
       "PARKER, MAY                                 0.041889\n",
       "DAREDEVIL/MATT MURDO                        0.012246\n",
       "HUMAN TORCH/JOHNNY S                        0.009847\n",
       "PROFESSOR X/CHARLES                         0.015928\n",
       "RICHARDS, FRANKLIN B                        0.023526\n",
       "COLOSSUS II/PETER RA                        0.018010\n",
       "DR. STRANGE/STEPHEN                         0.013878\n",
       "DR. DOOM/VICTOR VON                         0.019299\n",
       "JAMESON, J. JONAH                           0.025172\n",
       "NELSON, FRANKLIN FOG                        0.045964\n",
       "ROGUE                                       0.020498\n",
       "ROBERTSON, JOE                              0.038686\n",
       "CANNONBALL II/SAM GU                        0.031665"
      ]
     },
     "execution_count": 262,
     "metadata": {},
     "output_type": "execute_result"
    }
   ],
   "source": [
    "create_centrality_table(G1_topN, \"pagerank\")"
   ]
  }
 ],
 "metadata": {
  "kernelspec": {
   "display_name": "Python 3",
   "language": "python",
   "name": "python3"
  },
  "language_info": {
   "codemirror_mode": {
    "name": "ipython",
    "version": 3
   },
   "file_extension": ".py",
   "mimetype": "text/x-python",
   "name": "python",
   "nbconvert_exporter": "python",
   "pygments_lexer": "ipython3",
   "version": "3.9.12"
  },
  "vscode": {
   "interpreter": {
    "hash": "7ad5f07e47999a310a3dbc65802d3b3fe2a48b9a4836e8b2abc370029f0364e6"
   }
  }
 },
 "nbformat": 4,
 "nbformat_minor": 5
}
