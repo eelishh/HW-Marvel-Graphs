{
 "cells": [
  {
   "cell_type": "code",
   "execution_count": 1,
   "id": "f9753d1d",
   "metadata": {},
   "outputs": [],
   "source": [
    "import pandas as pd\n",
    "import matplotlib.pyplot as plt\n",
    "import networkx as nx"
   ]
  },
  {
   "cell_type": "code",
   "execution_count": 17,
   "id": "9923f12d",
   "metadata": {},
   "outputs": [],
   "source": [
    "#  pip install --upgrade scipy networkx"
   ]
  },
  {
   "cell_type": "code",
   "execution_count": 2,
   "id": "210259fd",
   "metadata": {},
   "outputs": [],
   "source": [
    "hero_net = pd.read_csv(r\"C:\\Users\\Marina\\OneDrive\\Desktop\\archive\\hero-network.csv\")\n",
    "edges = pd.read_csv(r\"C:\\Users\\Marina\\OneDrive\\Desktop\\archive\\edges.csv\")\n",
    "nodes = pd.read_csv(r\"C:\\Users\\Marina\\OneDrive\\Desktop\\archive\\nodes.csv\")"
   ]
  },
  {
   "cell_type": "code",
   "execution_count": 3,
   "id": "9544a60e",
   "metadata": {},
   "outputs": [
    {
     "data": {
      "text/html": [
       "<div>\n",
       "<style scoped>\n",
       "    .dataframe tbody tr th:only-of-type {\n",
       "        vertical-align: middle;\n",
       "    }\n",
       "\n",
       "    .dataframe tbody tr th {\n",
       "        vertical-align: top;\n",
       "    }\n",
       "\n",
       "    .dataframe thead th {\n",
       "        text-align: right;\n",
       "    }\n",
       "</style>\n",
       "<table border=\"1\" class=\"dataframe\">\n",
       "  <thead>\n",
       "    <tr style=\"text-align: right;\">\n",
       "      <th></th>\n",
       "      <th>node</th>\n",
       "      <th>type</th>\n",
       "    </tr>\n",
       "  </thead>\n",
       "  <tbody>\n",
       "    <tr>\n",
       "      <th>0</th>\n",
       "      <td>2001 10</td>\n",
       "      <td>comic</td>\n",
       "    </tr>\n",
       "    <tr>\n",
       "      <th>1</th>\n",
       "      <td>2001 8</td>\n",
       "      <td>comic</td>\n",
       "    </tr>\n",
       "    <tr>\n",
       "      <th>2</th>\n",
       "      <td>2001 9</td>\n",
       "      <td>comic</td>\n",
       "    </tr>\n",
       "    <tr>\n",
       "      <th>3</th>\n",
       "      <td>24-HOUR MAN/EMMANUEL</td>\n",
       "      <td>hero</td>\n",
       "    </tr>\n",
       "    <tr>\n",
       "      <th>4</th>\n",
       "      <td>3-D MAN/CHARLES CHAN</td>\n",
       "      <td>hero</td>\n",
       "    </tr>\n",
       "    <tr>\n",
       "      <th>...</th>\n",
       "      <td>...</td>\n",
       "      <td>...</td>\n",
       "    </tr>\n",
       "    <tr>\n",
       "      <th>19085</th>\n",
       "      <td>ZOTA, CARLO</td>\n",
       "      <td>hero</td>\n",
       "    </tr>\n",
       "    <tr>\n",
       "      <th>19086</th>\n",
       "      <td>ZOTA</td>\n",
       "      <td>hero</td>\n",
       "    </tr>\n",
       "    <tr>\n",
       "      <th>19087</th>\n",
       "      <td>ZURAS</td>\n",
       "      <td>hero</td>\n",
       "    </tr>\n",
       "    <tr>\n",
       "      <th>19088</th>\n",
       "      <td>ZURI</td>\n",
       "      <td>hero</td>\n",
       "    </tr>\n",
       "    <tr>\n",
       "      <th>19089</th>\n",
       "      <td>ZZZAX</td>\n",
       "      <td>hero</td>\n",
       "    </tr>\n",
       "  </tbody>\n",
       "</table>\n",
       "<p>19090 rows × 2 columns</p>\n",
       "</div>"
      ],
      "text/plain": [
       "                       node   type\n",
       "0                   2001 10  comic\n",
       "1                    2001 8  comic\n",
       "2                    2001 9  comic\n",
       "3      24-HOUR MAN/EMMANUEL   hero\n",
       "4      3-D MAN/CHARLES CHAN   hero\n",
       "...                     ...    ...\n",
       "19085           ZOTA, CARLO   hero\n",
       "19086                  ZOTA   hero\n",
       "19087                 ZURAS   hero\n",
       "19088                  ZURI   hero\n",
       "19089                 ZZZAX   hero\n",
       "\n",
       "[19090 rows x 2 columns]"
      ]
     },
     "execution_count": 3,
     "metadata": {},
     "output_type": "execute_result"
    }
   ],
   "source": [
    "nodes"
   ]
  },
  {
   "cell_type": "code",
   "execution_count": 4,
   "id": "3196972b",
   "metadata": {},
   "outputs": [],
   "source": [
    "comic = nodes[(nodes['type'] == 'comic')]\n",
    "hero = nodes[(nodes['type'] == 'hero')]"
   ]
  },
  {
   "cell_type": "code",
   "execution_count": 5,
   "id": "a57217cb",
   "metadata": {},
   "outputs": [
    {
     "data": {
      "text/html": [
       "<div>\n",
       "<style scoped>\n",
       "    .dataframe tbody tr th:only-of-type {\n",
       "        vertical-align: middle;\n",
       "    }\n",
       "\n",
       "    .dataframe tbody tr th {\n",
       "        vertical-align: top;\n",
       "    }\n",
       "\n",
       "    .dataframe thead th {\n",
       "        text-align: right;\n",
       "    }\n",
       "</style>\n",
       "<table border=\"1\" class=\"dataframe\">\n",
       "  <thead>\n",
       "    <tr style=\"text-align: right;\">\n",
       "      <th></th>\n",
       "      <th>hero1</th>\n",
       "      <th>hero2</th>\n",
       "    </tr>\n",
       "  </thead>\n",
       "  <tbody>\n",
       "    <tr>\n",
       "      <th>0</th>\n",
       "      <td>LITTLE, ABNER</td>\n",
       "      <td>PRINCESS ZANDA</td>\n",
       "    </tr>\n",
       "    <tr>\n",
       "      <th>1</th>\n",
       "      <td>LITTLE, ABNER</td>\n",
       "      <td>BLACK PANTHER/T'CHAL</td>\n",
       "    </tr>\n",
       "    <tr>\n",
       "      <th>2</th>\n",
       "      <td>BLACK PANTHER/T'CHAL</td>\n",
       "      <td>PRINCESS ZANDA</td>\n",
       "    </tr>\n",
       "    <tr>\n",
       "      <th>3</th>\n",
       "      <td>LITTLE, ABNER</td>\n",
       "      <td>PRINCESS ZANDA</td>\n",
       "    </tr>\n",
       "    <tr>\n",
       "      <th>4</th>\n",
       "      <td>LITTLE, ABNER</td>\n",
       "      <td>BLACK PANTHER/T'CHAL</td>\n",
       "    </tr>\n",
       "    <tr>\n",
       "      <th>...</th>\n",
       "      <td>...</td>\n",
       "      <td>...</td>\n",
       "    </tr>\n",
       "    <tr>\n",
       "      <th>574462</th>\n",
       "      <td>COLOSSUS II/PETER RA</td>\n",
       "      <td>CALLISTO</td>\n",
       "    </tr>\n",
       "    <tr>\n",
       "      <th>574463</th>\n",
       "      <td>CALLISTO</td>\n",
       "      <td>ROGUE /</td>\n",
       "    </tr>\n",
       "    <tr>\n",
       "      <th>574464</th>\n",
       "      <td>CALLISTO</td>\n",
       "      <td>CALIBAN/</td>\n",
       "    </tr>\n",
       "    <tr>\n",
       "      <th>574465</th>\n",
       "      <td>CALIBAN/</td>\n",
       "      <td>ROGUE /</td>\n",
       "    </tr>\n",
       "    <tr>\n",
       "      <th>574466</th>\n",
       "      <td>HULK/DR. ROBERT BRUC</td>\n",
       "      <td>MARKS, DR. SHIELA</td>\n",
       "    </tr>\n",
       "  </tbody>\n",
       "</table>\n",
       "<p>574467 rows × 2 columns</p>\n",
       "</div>"
      ],
      "text/plain": [
       "                       hero1                 hero2\n",
       "0              LITTLE, ABNER        PRINCESS ZANDA\n",
       "1              LITTLE, ABNER  BLACK PANTHER/T'CHAL\n",
       "2       BLACK PANTHER/T'CHAL        PRINCESS ZANDA\n",
       "3              LITTLE, ABNER        PRINCESS ZANDA\n",
       "4              LITTLE, ABNER  BLACK PANTHER/T'CHAL\n",
       "...                      ...                   ...\n",
       "574462  COLOSSUS II/PETER RA              CALLISTO\n",
       "574463              CALLISTO               ROGUE /\n",
       "574464              CALLISTO              CALIBAN/\n",
       "574465              CALIBAN/               ROGUE /\n",
       "574466  HULK/DR. ROBERT BRUC     MARKS, DR. SHIELA\n",
       "\n",
       "[574467 rows x 2 columns]"
      ]
     },
     "execution_count": 5,
     "metadata": {},
     "output_type": "execute_result"
    }
   ],
   "source": [
    "hero_net"
   ]
  },
  {
   "cell_type": "code",
   "execution_count": 6,
   "id": "de9b3b43",
   "metadata": {},
   "outputs": [],
   "source": [
    "hero_net[\"hero1\"] = hero_net[\"hero1\"].apply(lambda x: x[0:-1] if list(x)[-1] in [' ', '/'] else x)\n",
    "hero_net[\"hero2\"] = hero_net[\"hero2\"].apply(lambda x: x[0:-1] if list(x)[-1] in [' ', '/'] else x)"
   ]
  },
  {
   "cell_type": "code",
   "execution_count": 7,
   "id": "d1356100",
   "metadata": {},
   "outputs": [
    {
     "data": {
      "text/html": [
       "<div>\n",
       "<style scoped>\n",
       "    .dataframe tbody tr th:only-of-type {\n",
       "        vertical-align: middle;\n",
       "    }\n",
       "\n",
       "    .dataframe tbody tr th {\n",
       "        vertical-align: top;\n",
       "    }\n",
       "\n",
       "    .dataframe thead th {\n",
       "        text-align: right;\n",
       "    }\n",
       "</style>\n",
       "<table border=\"1\" class=\"dataframe\">\n",
       "  <thead>\n",
       "    <tr style=\"text-align: right;\">\n",
       "      <th></th>\n",
       "      <th>hero1</th>\n",
       "      <th>hero2</th>\n",
       "    </tr>\n",
       "  </thead>\n",
       "  <tbody>\n",
       "    <tr>\n",
       "      <th>0</th>\n",
       "      <td>LITTLE, ABNER</td>\n",
       "      <td>PRINCESS ZANDA</td>\n",
       "    </tr>\n",
       "    <tr>\n",
       "      <th>1</th>\n",
       "      <td>LITTLE, ABNER</td>\n",
       "      <td>BLACK PANTHER/T'CHAL</td>\n",
       "    </tr>\n",
       "    <tr>\n",
       "      <th>2</th>\n",
       "      <td>BLACK PANTHER/T'CHAL</td>\n",
       "      <td>PRINCESS ZANDA</td>\n",
       "    </tr>\n",
       "    <tr>\n",
       "      <th>3</th>\n",
       "      <td>LITTLE, ABNER</td>\n",
       "      <td>PRINCESS ZANDA</td>\n",
       "    </tr>\n",
       "    <tr>\n",
       "      <th>4</th>\n",
       "      <td>LITTLE, ABNER</td>\n",
       "      <td>BLACK PANTHER/T'CHAL</td>\n",
       "    </tr>\n",
       "    <tr>\n",
       "      <th>...</th>\n",
       "      <td>...</td>\n",
       "      <td>...</td>\n",
       "    </tr>\n",
       "    <tr>\n",
       "      <th>574462</th>\n",
       "      <td>COLOSSUS II/PETER RA</td>\n",
       "      <td>CALLISTO</td>\n",
       "    </tr>\n",
       "    <tr>\n",
       "      <th>574463</th>\n",
       "      <td>CALLISTO</td>\n",
       "      <td>ROGUE</td>\n",
       "    </tr>\n",
       "    <tr>\n",
       "      <th>574464</th>\n",
       "      <td>CALLISTO</td>\n",
       "      <td>CALIBAN</td>\n",
       "    </tr>\n",
       "    <tr>\n",
       "      <th>574465</th>\n",
       "      <td>CALIBAN</td>\n",
       "      <td>ROGUE</td>\n",
       "    </tr>\n",
       "    <tr>\n",
       "      <th>574466</th>\n",
       "      <td>HULK/DR. ROBERT BRUC</td>\n",
       "      <td>MARKS, DR. SHIELA</td>\n",
       "    </tr>\n",
       "  </tbody>\n",
       "</table>\n",
       "<p>574467 rows × 2 columns</p>\n",
       "</div>"
      ],
      "text/plain": [
       "                       hero1                 hero2\n",
       "0              LITTLE, ABNER        PRINCESS ZANDA\n",
       "1              LITTLE, ABNER  BLACK PANTHER/T'CHAL\n",
       "2       BLACK PANTHER/T'CHAL        PRINCESS ZANDA\n",
       "3              LITTLE, ABNER        PRINCESS ZANDA\n",
       "4              LITTLE, ABNER  BLACK PANTHER/T'CHAL\n",
       "...                      ...                   ...\n",
       "574462  COLOSSUS II/PETER RA              CALLISTO\n",
       "574463              CALLISTO                ROGUE \n",
       "574464              CALLISTO               CALIBAN\n",
       "574465               CALIBAN                ROGUE \n",
       "574466  HULK/DR. ROBERT BRUC     MARKS, DR. SHIELA\n",
       "\n",
       "[574467 rows x 2 columns]"
      ]
     },
     "execution_count": 7,
     "metadata": {},
     "output_type": "execute_result"
    }
   ],
   "source": [
    "hero_net"
   ]
  },
  {
   "cell_type": "code",
   "execution_count": 8,
   "id": "f477ab67",
   "metadata": {},
   "outputs": [
    {
     "data": {
      "text/html": [
       "<div>\n",
       "<style scoped>\n",
       "    .dataframe tbody tr th:only-of-type {\n",
       "        vertical-align: middle;\n",
       "    }\n",
       "\n",
       "    .dataframe tbody tr th {\n",
       "        vertical-align: top;\n",
       "    }\n",
       "\n",
       "    .dataframe thead th {\n",
       "        text-align: right;\n",
       "    }\n",
       "</style>\n",
       "<table border=\"1\" class=\"dataframe\">\n",
       "  <thead>\n",
       "    <tr style=\"text-align: right;\">\n",
       "      <th></th>\n",
       "      <th>hero</th>\n",
       "      <th>comic</th>\n",
       "    </tr>\n",
       "  </thead>\n",
       "  <tbody>\n",
       "    <tr>\n",
       "      <th>0</th>\n",
       "      <td>24-HOUR MAN/EMMANUEL</td>\n",
       "      <td>AA2 35</td>\n",
       "    </tr>\n",
       "    <tr>\n",
       "      <th>1</th>\n",
       "      <td>3-D MAN/CHARLES CHAN</td>\n",
       "      <td>AVF 4</td>\n",
       "    </tr>\n",
       "    <tr>\n",
       "      <th>2</th>\n",
       "      <td>3-D MAN/CHARLES CHAN</td>\n",
       "      <td>AVF 5</td>\n",
       "    </tr>\n",
       "    <tr>\n",
       "      <th>3</th>\n",
       "      <td>3-D MAN/CHARLES CHAN</td>\n",
       "      <td>COC 1</td>\n",
       "    </tr>\n",
       "    <tr>\n",
       "      <th>4</th>\n",
       "      <td>3-D MAN/CHARLES CHAN</td>\n",
       "      <td>H2 251</td>\n",
       "    </tr>\n",
       "    <tr>\n",
       "      <th>...</th>\n",
       "      <td>...</td>\n",
       "      <td>...</td>\n",
       "    </tr>\n",
       "    <tr>\n",
       "      <th>96099</th>\n",
       "      <td>ZZZAX</td>\n",
       "      <td>H2 326</td>\n",
       "    </tr>\n",
       "    <tr>\n",
       "      <th>96100</th>\n",
       "      <td>ZZZAX</td>\n",
       "      <td>H2 327</td>\n",
       "    </tr>\n",
       "    <tr>\n",
       "      <th>96101</th>\n",
       "      <td>ZZZAX</td>\n",
       "      <td>M/CP 8/4</td>\n",
       "    </tr>\n",
       "    <tr>\n",
       "      <th>96102</th>\n",
       "      <td>ZZZAX</td>\n",
       "      <td>PM 47</td>\n",
       "    </tr>\n",
       "    <tr>\n",
       "      <th>96103</th>\n",
       "      <td>ZZZAX</td>\n",
       "      <td>WCA2 12</td>\n",
       "    </tr>\n",
       "  </tbody>\n",
       "</table>\n",
       "<p>96104 rows × 2 columns</p>\n",
       "</div>"
      ],
      "text/plain": [
       "                       hero     comic\n",
       "0      24-HOUR MAN/EMMANUEL    AA2 35\n",
       "1      3-D MAN/CHARLES CHAN     AVF 4\n",
       "2      3-D MAN/CHARLES CHAN     AVF 5\n",
       "3      3-D MAN/CHARLES CHAN     COC 1\n",
       "4      3-D MAN/CHARLES CHAN    H2 251\n",
       "...                     ...       ...\n",
       "96099                 ZZZAX    H2 326\n",
       "96100                 ZZZAX    H2 327\n",
       "96101                 ZZZAX  M/CP 8/4\n",
       "96102                 ZZZAX     PM 47\n",
       "96103                 ZZZAX   WCA2 12\n",
       "\n",
       "[96104 rows x 2 columns]"
      ]
     },
     "execution_count": 8,
     "metadata": {},
     "output_type": "execute_result"
    }
   ],
   "source": [
    "edges"
   ]
  },
  {
   "cell_type": "code",
   "execution_count": 9,
   "id": "ff17380a",
   "metadata": {},
   "outputs": [],
   "source": [
    "edges[\"hero\"] = edges[\"hero\"].apply(lambda x: x[0:-1] if list(x)[-1] in [' ', '/'] else x)"
   ]
  },
  {
   "cell_type": "code",
   "execution_count": 10,
   "id": "2d0534c2",
   "metadata": {},
   "outputs": [
    {
     "data": {
      "text/html": [
       "<div>\n",
       "<style scoped>\n",
       "    .dataframe tbody tr th:only-of-type {\n",
       "        vertical-align: middle;\n",
       "    }\n",
       "\n",
       "    .dataframe tbody tr th {\n",
       "        vertical-align: top;\n",
       "    }\n",
       "\n",
       "    .dataframe thead th {\n",
       "        text-align: right;\n",
       "    }\n",
       "</style>\n",
       "<table border=\"1\" class=\"dataframe\">\n",
       "  <thead>\n",
       "    <tr style=\"text-align: right;\">\n",
       "      <th></th>\n",
       "      <th>hero</th>\n",
       "      <th>comic</th>\n",
       "    </tr>\n",
       "  </thead>\n",
       "  <tbody>\n",
       "    <tr>\n",
       "      <th>0</th>\n",
       "      <td>24-HOUR MAN/EMMANUEL</td>\n",
       "      <td>AA2 35</td>\n",
       "    </tr>\n",
       "    <tr>\n",
       "      <th>1</th>\n",
       "      <td>3-D MAN/CHARLES CHAN</td>\n",
       "      <td>AVF 4</td>\n",
       "    </tr>\n",
       "    <tr>\n",
       "      <th>2</th>\n",
       "      <td>3-D MAN/CHARLES CHAN</td>\n",
       "      <td>AVF 5</td>\n",
       "    </tr>\n",
       "    <tr>\n",
       "      <th>3</th>\n",
       "      <td>3-D MAN/CHARLES CHAN</td>\n",
       "      <td>COC 1</td>\n",
       "    </tr>\n",
       "    <tr>\n",
       "      <th>4</th>\n",
       "      <td>3-D MAN/CHARLES CHAN</td>\n",
       "      <td>H2 251</td>\n",
       "    </tr>\n",
       "    <tr>\n",
       "      <th>...</th>\n",
       "      <td>...</td>\n",
       "      <td>...</td>\n",
       "    </tr>\n",
       "    <tr>\n",
       "      <th>96099</th>\n",
       "      <td>ZZZAX</td>\n",
       "      <td>H2 326</td>\n",
       "    </tr>\n",
       "    <tr>\n",
       "      <th>96100</th>\n",
       "      <td>ZZZAX</td>\n",
       "      <td>H2 327</td>\n",
       "    </tr>\n",
       "    <tr>\n",
       "      <th>96101</th>\n",
       "      <td>ZZZAX</td>\n",
       "      <td>M/CP 8/4</td>\n",
       "    </tr>\n",
       "    <tr>\n",
       "      <th>96102</th>\n",
       "      <td>ZZZAX</td>\n",
       "      <td>PM 47</td>\n",
       "    </tr>\n",
       "    <tr>\n",
       "      <th>96103</th>\n",
       "      <td>ZZZAX</td>\n",
       "      <td>WCA2 12</td>\n",
       "    </tr>\n",
       "  </tbody>\n",
       "</table>\n",
       "<p>96104 rows × 2 columns</p>\n",
       "</div>"
      ],
      "text/plain": [
       "                       hero     comic\n",
       "0      24-HOUR MAN/EMMANUEL    AA2 35\n",
       "1      3-D MAN/CHARLES CHAN     AVF 4\n",
       "2      3-D MAN/CHARLES CHAN     AVF 5\n",
       "3      3-D MAN/CHARLES CHAN     COC 1\n",
       "4      3-D MAN/CHARLES CHAN    H2 251\n",
       "...                     ...       ...\n",
       "96099                 ZZZAX    H2 326\n",
       "96100                 ZZZAX    H2 327\n",
       "96101                 ZZZAX  M/CP 8/4\n",
       "96102                 ZZZAX     PM 47\n",
       "96103                 ZZZAX   WCA2 12\n",
       "\n",
       "[96104 rows x 2 columns]"
      ]
     },
     "execution_count": 10,
     "metadata": {},
     "output_type": "execute_result"
    }
   ],
   "source": [
    "edges"
   ]
  },
  {
   "cell_type": "code",
   "execution_count": 11,
   "id": "654655c5",
   "metadata": {},
   "outputs": [
    {
     "data": {
      "text/plain": [
       "{'SPIDER-MAN/PETER PAR'}"
      ]
     },
     "execution_count": 11,
     "metadata": {},
     "output_type": "execute_result"
    }
   ],
   "source": [
    "hero = set(edges.hero)\n",
    "hero_union = set(hero_net.hero1).union(set(hero_net.hero2))\n",
    "\n",
    "diff = hero_union - hero.intersection(hero_union)\n",
    "diff"
   ]
  },
  {
   "cell_type": "code",
   "execution_count": 12,
   "id": "885ca78c",
   "metadata": {},
   "outputs": [],
   "source": [
    "def jaccard_similarity(setA, setB):\n",
    "    ''' \n",
    "    This function simply computes the Jaccard similarity from its definition.\n",
    "    '''\n",
    "    return len(set(setA).intersection(setB))/len(set(setA).union(setB))"
   ]
  },
  {
   "cell_type": "code",
   "execution_count": 13,
   "id": "1f6c246a",
   "metadata": {},
   "outputs": [
    {
     "data": {
      "text/html": [
       "<div>\n",
       "<style scoped>\n",
       "    .dataframe tbody tr th:only-of-type {\n",
       "        vertical-align: middle;\n",
       "    }\n",
       "\n",
       "    .dataframe tbody tr th {\n",
       "        vertical-align: top;\n",
       "    }\n",
       "\n",
       "    .dataframe thead th {\n",
       "        text-align: right;\n",
       "    }\n",
       "</style>\n",
       "<table border=\"1\" class=\"dataframe\">\n",
       "  <thead>\n",
       "    <tr style=\"text-align: right;\">\n",
       "      <th></th>\n",
       "      <th>hero1</th>\n",
       "      <th>hero2</th>\n",
       "    </tr>\n",
       "  </thead>\n",
       "  <tbody>\n",
       "    <tr>\n",
       "      <th>0</th>\n",
       "      <td>LITTLE, ABNER</td>\n",
       "      <td>PRINCESS ZANDA</td>\n",
       "    </tr>\n",
       "    <tr>\n",
       "      <th>1</th>\n",
       "      <td>LITTLE, ABNER</td>\n",
       "      <td>BLACK PANTHER/T'CHAL</td>\n",
       "    </tr>\n",
       "    <tr>\n",
       "      <th>2</th>\n",
       "      <td>BLACK PANTHER/T'CHAL</td>\n",
       "      <td>PRINCESS ZANDA</td>\n",
       "    </tr>\n",
       "    <tr>\n",
       "      <th>3</th>\n",
       "      <td>LITTLE, ABNER</td>\n",
       "      <td>PRINCESS ZANDA</td>\n",
       "    </tr>\n",
       "    <tr>\n",
       "      <th>4</th>\n",
       "      <td>LITTLE, ABNER</td>\n",
       "      <td>BLACK PANTHER/T'CHAL</td>\n",
       "    </tr>\n",
       "    <tr>\n",
       "      <th>...</th>\n",
       "      <td>...</td>\n",
       "      <td>...</td>\n",
       "    </tr>\n",
       "    <tr>\n",
       "      <th>574462</th>\n",
       "      <td>COLOSSUS II/PETER RA</td>\n",
       "      <td>CALLISTO</td>\n",
       "    </tr>\n",
       "    <tr>\n",
       "      <th>574463</th>\n",
       "      <td>CALLISTO</td>\n",
       "      <td>ROGUE</td>\n",
       "    </tr>\n",
       "    <tr>\n",
       "      <th>574464</th>\n",
       "      <td>CALLISTO</td>\n",
       "      <td>CALIBAN</td>\n",
       "    </tr>\n",
       "    <tr>\n",
       "      <th>574465</th>\n",
       "      <td>CALIBAN</td>\n",
       "      <td>ROGUE</td>\n",
       "    </tr>\n",
       "    <tr>\n",
       "      <th>574466</th>\n",
       "      <td>HULK/DR. ROBERT BRUC</td>\n",
       "      <td>MARKS, DR. SHIELA</td>\n",
       "    </tr>\n",
       "  </tbody>\n",
       "</table>\n",
       "<p>574467 rows × 2 columns</p>\n",
       "</div>"
      ],
      "text/plain": [
       "                       hero1                 hero2\n",
       "0              LITTLE, ABNER        PRINCESS ZANDA\n",
       "1              LITTLE, ABNER  BLACK PANTHER/T'CHAL\n",
       "2       BLACK PANTHER/T'CHAL        PRINCESS ZANDA\n",
       "3              LITTLE, ABNER        PRINCESS ZANDA\n",
       "4              LITTLE, ABNER  BLACK PANTHER/T'CHAL\n",
       "...                      ...                   ...\n",
       "574462  COLOSSUS II/PETER RA              CALLISTO\n",
       "574463              CALLISTO                ROGUE \n",
       "574464              CALLISTO               CALIBAN\n",
       "574465               CALIBAN                ROGUE \n",
       "574466  HULK/DR. ROBERT BRUC     MARKS, DR. SHIELA\n",
       "\n",
       "[574467 rows x 2 columns]"
      ]
     },
     "execution_count": 13,
     "metadata": {},
     "output_type": "execute_result"
    }
   ],
   "source": [
    "for hero in set(edges.hero):\n",
    "    for elem in diff:\n",
    "        sim = jaccard_similarity(set(elem), set(hero))\n",
    "        if sim >= 0.5:\n",
    "            hero_net = hero_net.replace(elem, hero)\n",
    "\n",
    "hero_net"
   ]
  },
  {
   "cell_type": "code",
   "execution_count": 14,
   "id": "f4eef9e3",
   "metadata": {},
   "outputs": [
    {
     "data": {
      "text/plain": [
       "set()"
      ]
     },
     "execution_count": 14,
     "metadata": {},
     "output_type": "execute_result"
    }
   ],
   "source": [
    "# validation\n",
    "hero = set(edges.hero)\n",
    "hero_union = set(hero_net.hero1).union(set(hero_net.hero2))\n",
    "\n",
    "diff = hero_union - hero.intersection(hero_union)\n",
    "diff"
   ]
  },
  {
   "cell_type": "code",
   "execution_count": 15,
   "id": "596f8716",
   "metadata": {},
   "outputs": [
    {
     "name": "stdout",
     "output_type": "stream",
     "text": [
      "6420 6420\n"
     ]
    }
   ],
   "source": [
    "print(len(hero_union), len(hero.intersection(hero_union))) # all heroes' names in 'hero-network.csv' are now found in 'edges.csv'"
   ]
  },
  {
   "cell_type": "code",
   "execution_count": 16,
   "id": "469f1d53",
   "metadata": {},
   "outputs": [],
   "source": [
    "G_hero_net = nx.MultiGraph()"
   ]
  },
  {
   "cell_type": "code",
   "execution_count": 17,
   "id": "9a6546a3",
   "metadata": {
    "scrolled": true
   },
   "outputs": [
    {
     "data": {
      "text/plain": [
       "0          0\n",
       "1          0\n",
       "2          0\n",
       "3          1\n",
       "4          1\n",
       "          ..\n",
       "574462    27\n",
       "574463    22\n",
       "574464     8\n",
       "574465    11\n",
       "574466     1\n",
       "Length: 574467, dtype: int64"
      ]
     },
     "execution_count": 17,
     "metadata": {},
     "output_type": "execute_result"
    }
   ],
   "source": [
    "hero_net.apply(lambda row: G_hero_net.add_edge(row['hero1'], row['hero2']), axis=1)"
   ]
  },
  {
   "cell_type": "code",
   "execution_count": 18,
   "id": "f5e939b2",
   "metadata": {},
   "outputs": [
    {
     "data": {
      "image/png": "[encoded data removed]",
      "text/plain": [
       "<Figure size 1296x1296 with 1 Axes>"
      ]
     },
     "metadata": {},
     "output_type": "display_data"
    }
   ],
   "source": [
    "fig = plt.figure(figsize=(18,18))\n",
    "nx.draw(G_hero_net, with_labels=True,node_size=300)\n",
    "plt.show()"
   ]
  },
  {
   "cell_type": "code",
   "execution_count": 19,
   "id": "93171c3e",
   "metadata": {},
   "outputs": [
    {
     "name": "stdout",
     "output_type": "stream",
     "text": [
      "Total number of nodes:  6298\n",
      "Total number of edges:  574467\n"
     ]
    }
   ],
   "source": [
    "print(\"Total number of nodes: \", int(G_hero_net.number_of_nodes()))\n",
    "print(\"Total number of edges: \", int(G_hero_net.number_of_edges()))"
   ]
  },
  {
   "cell_type": "code",
   "execution_count": 22,
   "id": "8c48a8e8",
   "metadata": {},
   "outputs": [
    {
     "name": "stdout",
     "output_type": "stream",
     "text": [
      "Degree for all nodes:  [('LITTLE, ABNER', 44), ('PRINCESS ZANDA', 30), (\"BLACK PANTHER/T'CHAL\", 3677), ('STEELE, SIMON/WOLFGA', 21), ('FORTUNE, DOMINIC', 47), ('ERWIN, CLYTEMNESTRA', 186), ('IRON MAN/TONY STARK', 11817), ('IRON MAN IV/JAMES R.', 2182), ('RAVEN, SABBATH II/EL', 26), ('CARNIVORE/COUNT ANDR', 121), ('GHOST', 66), ('ZIMMER, ABE', 232), ('FU MANCHU', 217), ('TARR, BLACK JACK', 436), ('SMITH, SIR DENIS NAY', 377), ('SHANG-CHI', 741), ('STARSHINE II/BRANDY', 550), ('ROM, SPACEKNIGHT', 676), ('MAN-THING/THEODORE T', 401), ('WU, LEIKO', 406)]\n"
     ]
    }
   ],
   "source": [
    "print(\"Degree for all nodes: \", list(G_hero_net.degree())[:20])"
   ]
  },
  {
   "cell_type": "code",
   "execution_count": 23,
   "id": "f190d09b",
   "metadata": {},
   "outputs": [
    {
     "name": "stdout",
     "output_type": "stream",
     "text": [
      "Total number of self-loops:  2234\n",
      "List of all nodes with self-loops:  ['SUB-MARINER/NAMOR MA', 'CAPTAIN AMERICA', 'GORGON [INHUMAN]', 'BUCKY/BUCKY BARNES', 'WHIZZER/ROBERT L. FR', 'MISS AMERICA/MADELIN', 'PATRIOT/JEFF MACE', 'BLUE DIAMOND/PROFESS', 'VINDICATOR II DOPPEL', 'SILVER SCORPION/ELIS', 'RAVONNA LEXUS RENSLA', 'FIN/PETER NOBLE', 'MISTY/VINCENTE', 'DR. STRANGE DOPPELGA']\n"
     ]
    }
   ],
   "source": [
    "print(\"Total number of self-loops: \", int(nx.number_of_selfloops(G_hero_net)))\n",
    "print(\"List of all nodes with self-loops: \",\n",
    "             list(nx.nodes_with_selfloops(G_hero_net)))"
   ]
  },
  {
   "cell_type": "code",
   "execution_count": 24,
   "id": "ba552e43",
   "metadata": {},
   "outputs": [
    {
     "name": "stdout",
     "output_type": "stream",
     "text": [
      "List of all nodes we can go to in a single step from some node:  ['PRINCESS ZANDA', \"BLACK PANTHER/T'CHAL\", 'CARNIVORE/COUNT ANDR', 'IRON MAN/TONY STARK', 'GOLDEN-BLADE', 'DIXON, GENERAL', 'IRON MAN IV/JAMES R.', 'JOCASTA', 'FUJIKAWA, RUMIKO', 'MADAME MENACE/SUNSET', 'JACOBS, GLENDA', 'WAR MACHINE II/PARNE', 'SAPPER', 'HOGAN, VIRGINIA PEPP', 'BINARY/CAROL DANVERS', 'FIN FANG FOOM/MIDGAR', 'MANN, DR. J. VERNON', 'THOR/DR. DONALD BLAK', 'TEMPEST II/NICOLETTE', 'JARVIS, EDWIN', 'INFERNO III/SAMANTHA', 'DECAY II/YOSHIRO HAC']\n"
     ]
    }
   ],
   "source": [
    "print(\"List of all nodes we can go to in a single step from some node: \",\n",
    "                                                 list(G_hero_net.neighbors('LITTLE, ABNER')))"
   ]
  },
  {
   "cell_type": "code",
   "execution_count": 25,
   "id": "b1a2953f",
   "metadata": {},
   "outputs": [
    {
     "data": {
      "text/html": [
       "<div>\n",
       "<style scoped>\n",
       "    .dataframe tbody tr th:only-of-type {\n",
       "        vertical-align: middle;\n",
       "    }\n",
       "\n",
       "    .dataframe tbody tr th {\n",
       "        vertical-align: top;\n",
       "    }\n",
       "\n",
       "    .dataframe thead th {\n",
       "        text-align: right;\n",
       "    }\n",
       "</style>\n",
       "<table border=\"1\" class=\"dataframe\">\n",
       "  <thead>\n",
       "    <tr style=\"text-align: right;\">\n",
       "      <th></th>\n",
       "      <th>betweenness</th>\n",
       "    </tr>\n",
       "  </thead>\n",
       "  <tbody>\n",
       "    <tr>\n",
       "      <th>HELLSTORM/DAIMON HEL</th>\n",
       "      <td>0.101753</td>\n",
       "    </tr>\n",
       "    <tr>\n",
       "      <th>RAWHIDE KID</th>\n",
       "      <td>0.100111</td>\n",
       "    </tr>\n",
       "    <tr>\n",
       "      <th>HAVOK/ALEX SUMMERS</th>\n",
       "      <td>0.058082</td>\n",
       "    </tr>\n",
       "    <tr>\n",
       "      <th>ROGUE | MUTANT X-VER</th>\n",
       "      <td>0.056879</td>\n",
       "    </tr>\n",
       "    <tr>\n",
       "      <th>DR. STRANGE/STEPHEN</th>\n",
       "      <td>0.054597</td>\n",
       "    </tr>\n",
       "    <tr>\n",
       "      <th>FURY, COL. NICHOLAS</th>\n",
       "      <td>0.050295</td>\n",
       "    </tr>\n",
       "    <tr>\n",
       "      <th>SPIDER-MAN/PETER PARKER</th>\n",
       "      <td>0.046697</td>\n",
       "    </tr>\n",
       "    <tr>\n",
       "      <th>CAPTAIN AMERICA</th>\n",
       "      <td>0.043772</td>\n",
       "    </tr>\n",
       "    <tr>\n",
       "      <th>SUNFIRE/SHIRO YOSHID</th>\n",
       "      <td>0.040555</td>\n",
       "    </tr>\n",
       "    <tr>\n",
       "      <th>CAGE, LUKE/CARL LUCA</th>\n",
       "      <td>0.040100</td>\n",
       "    </tr>\n",
       "  </tbody>\n",
       "</table>\n",
       "</div>"
      ],
      "text/plain": [
       "                         betweenness\n",
       "HELLSTORM/DAIMON HEL        0.101753\n",
       "RAWHIDE KID                 0.100111\n",
       "HAVOK/ALEX SUMMERS          0.058082\n",
       "ROGUE | MUTANT X-VER        0.056879\n",
       "DR. STRANGE/STEPHEN         0.054597\n",
       "FURY, COL. NICHOLAS         0.050295\n",
       "SPIDER-MAN/PETER PARKER     0.046697\n",
       "CAPTAIN AMERICA             0.043772\n",
       "SUNFIRE/SHIRO YOSHID        0.040555\n",
       "CAGE, LUKE/CARL LUCA        0.040100"
      ]
     },
     "execution_count": 25,
     "metadata": {},
     "output_type": "execute_result"
    }
   ],
   "source": [
    "pd.DataFrame.from_dict(nx.betweenness_centrality(G_hero_net,k= 10), orient='index', columns=['betweenness']).sort_values(by='betweenness', ascending=False).head(10)"
   ]
  },
  {
   "cell_type": "code",
   "execution_count": 26,
   "id": "3edd8783",
   "metadata": {},
   "outputs": [
    {
     "data": {
      "text/plain": [
       "CAPTAIN AMERICA            8149\n",
       "SPIDER-MAN/PETER PARKER    6652\n",
       "IRON MAN/TONY STARK        5850\n",
       "THOR/DR. DONALD BLAK       5712\n",
       "THING/BENJAMIN J. GR       5369\n",
       "                           ... \n",
       "ANGEL II/THOMAS HALL          1\n",
       "DRAX | MUTANT X-VERS          1\n",
       "SYLPH                         1\n",
       "FISHMAN, DR. JONATHA          1\n",
       "SUNSET                        1\n",
       "Name: hero1, Length: 6090, dtype: int64"
      ]
     },
     "execution_count": 26,
     "metadata": {},
     "output_type": "execute_result"
    }
   ],
   "source": [
    "hero_net['hero1'].value_counts()"
   ]
  },
  {
   "cell_type": "code",
   "execution_count": 27,
   "id": "dbfde780",
   "metadata": {},
   "outputs": [
    {
     "data": {
      "text/plain": [
       "CAPTAIN AMERICA            8350\n",
       "SPIDER-MAN/PETER PARKER    7065\n",
       "IRON MAN/TONY STARK        5967\n",
       "THOR/DR. DONALD BLAK       5715\n",
       "THING/BENJAMIN J. GR       5312\n",
       "                           ... \n",
       "SHADOWCASTER/                 1\n",
       "MAGOG                         1\n",
       "SANDERS, MAC                  1\n",
       "QUENTIN, RALPH                1\n",
       "MARKS, DR. SHIELA             1\n",
       "Name: hero2, Length: 6056, dtype: int64"
      ]
     },
     "execution_count": 27,
     "metadata": {},
     "output_type": "execute_result"
    }
   ],
   "source": [
    "hero_net['hero2'].value_counts()"
   ]
  },
  {
   "cell_type": "code",
   "execution_count": null,
   "id": "1d90c78a",
   "metadata": {},
   "outputs": [],
   "source": []
  }
 ],
 "metadata": {
  "kernelspec": {
   "display_name": "base",
   "language": "python",
   "name": "python3"
  },
  "language_info": {
   "codemirror_mode": {
    "name": "ipython",
    "version": 3
   },
   "file_extension": ".py",
   "mimetype": "text/x-python",
   "name": "python",
   "nbconvert_exporter": "python",
   "pygments_lexer": "ipython3",
   "version": "3.9.12"
  },
  "vscode": {
   "interpreter": {
    "hash": "979bf14ea64443ff3ffb738d52926696eb30c1bf62b3b549289c26deae58448a"
   }
  }
 },
 "nbformat": 4,
 "nbformat_minor": 5
}
